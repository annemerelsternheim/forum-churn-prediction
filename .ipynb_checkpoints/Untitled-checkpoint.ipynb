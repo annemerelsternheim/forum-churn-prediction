{
 "cells": [
  {
   "cell_type": "code",
   "execution_count": 1,
   "metadata": {
    "collapsed": true
   },
   "outputs": [],
   "source": [
    "import re, math, tqdm\n",
    "import matplotlib.pyplot as plt\n",
    "from nltk.tokenize import sent_tokenize\n",
    "from datetime import date, datetime, timedelta\n",
    "import numpy as np\n",
    "import seaborn as sbn\n",
    "import pandas as pd\n",
    "from scipy.stats.mstats import normaltest\n",
    "from scipy.stats import spearmanr\n",
    "from collections import defaultdict"
   ]
  },
  {
   "cell_type": "code",
   "execution_count": 2,
   "metadata": {},
   "outputs": [
    {
     "data": {
      "image/png": "[encoded data removed]",
      "text/plain": [
       "<matplotlib.figure.Figure at 0xb8a9390>"
      ]
     },
     "metadata": {},
     "output_type": "display_data"
    }
   ],
   "source": [
    "plt.close()\n",
    "plt.plot([1,2,5,6],'r.')\n",
    "plt.plot([4,5,8,6],'b-')\n",
    "plt.show()"
   ]
  },
  {
   "cell_type": "code",
   "execution_count": 5,
   "metadata": {},
   "outputs": [
    {
     "data": {
      "image/png": "[encoded data removed]",
      "text/plain": [
       "<matplotlib.figure.Figure at 0xbe686d8>"
      ]
     },
     "metadata": {},
     "output_type": "display_data"
    }
   ],
   "source": [
    "plt.close()\n",
    "fig, ax1 = plt.subplots()\n",
    "ax2 = ax1.twinx()\n",
    "ax1.plot([1,2,5,6],'r.') #s, -- and ^, give squares stripes and triangles\n",
    "ax2.plot([4,5,8,6],'b-')\n",
    "ax3 = ax2.twinx()\n",
    "ax3.plot([7,7,5,7],'go')\n",
    "plt.show()"
   ]
  },
  {
   "cell_type": "code",
   "execution_count": 29,
   "metadata": {},
   "outputs": [
    {
     "name": "stdout",
     "output_type": "stream",
     "text": [
      "0.333333333333\n"
     ]
    }
   ],
   "source": [
    "text = \"\"\"Dit is een tekst. Deze bevat meerdere zinnen, en die zinnen hebben allemaal woorden. Ik wil weten of dit werkt zoals ik verwacht dat het werkt...\"\"\"\n",
    "Q = 0\n",
    "\n",
    "for sentence in sent_tokenize(text):\n",
    "    if re.search('zin',sentence):\n",
    "        Q+=1\n",
    "print float(Q)/float(len(sent_tokenize(text)))"
   ]
  },
  {
   "cell_type": "code",
   "execution_count": 30,
   "metadata": {
    "collapsed": true
   },
   "outputs": [],
   "source": [
    "def make_binlist(D,timetick=1): #timetick in days\n",
    "    lower = min(D)\n",
    "    upper = max(D)\n",
    "\n",
    "    if lower.time()>=datetime.strptime('4:00','%H:%M').time():\n",
    "        lower = lower.replace(hour = 4, minute = 0)\n",
    "    else:\n",
    "        lower = (lower+timedelta(days = -1)).replace(hour=4,minute=0)\n",
    "\n",
    "    if upper.time()<datetime.strptime('12:00','%H:%M').time():\n",
    "        upper = upper.replace(hour = 4, minute = 0)\n",
    "    else:\n",
    "        upper = (upper+timedelta(days=1)).replace(hour=4,minute=0)\n",
    "\n",
    "    return([lower + timedelta(days=x) for x in range(0, (upper-lower).days)])"
   ]
  },
  {
   "cell_type": "code",
   "execution_count": 34,
   "metadata": {
    "scrolled": false
   },
   "outputs": [
    {
     "ename": "AttributeError",
     "evalue": "'str' object has no attribute 'time'",
     "output_type": "error",
     "traceback": [
      "\u001b[1;31m---------------------------------------------------------------------------\u001b[0m",
      "\u001b[1;31mAttributeError\u001b[0m                            Traceback (most recent call last)",
      "\u001b[1;32m<ipython-input-34-d974d26324c8>\u001b[0m in \u001b[0;36m<module>\u001b[1;34m()\u001b[0m\n\u001b[0;32m      1\u001b[0m \u001b[0mtimelist\u001b[0m \u001b[1;33m=\u001b[0m \u001b[1;33m[\u001b[0m\u001b[1;34m'2004-09-01 11:26:00'\u001b[0m\u001b[1;33m,\u001b[0m\u001b[1;34m'2004-10-01 12:26:00'\u001b[0m\u001b[1;33m,\u001b[0m\u001b[1;34m'2004-10-03 12:25:00'\u001b[0m\u001b[1;33m]\u001b[0m\u001b[1;33m\u001b[0m\u001b[0m\n\u001b[1;32m----> 2\u001b[1;33m \u001b[0mmake_binlist\u001b[0m\u001b[1;33m(\u001b[0m\u001b[0mtimelist\u001b[0m\u001b[1;33m)\u001b[0m\u001b[1;33m\u001b[0m\u001b[0m\n\u001b[0m",
      "\u001b[1;32m<ipython-input-30-392b1cbd361f>\u001b[0m in \u001b[0;36mmake_binlist\u001b[1;34m(D, timetick)\u001b[0m\n\u001b[0;32m      3\u001b[0m     \u001b[0mupper\u001b[0m \u001b[1;33m=\u001b[0m \u001b[0mmax\u001b[0m\u001b[1;33m(\u001b[0m\u001b[0mD\u001b[0m\u001b[1;33m)\u001b[0m\u001b[1;33m\u001b[0m\u001b[0m\n\u001b[0;32m      4\u001b[0m \u001b[1;33m\u001b[0m\u001b[0m\n\u001b[1;32m----> 5\u001b[1;33m     \u001b[1;32mif\u001b[0m \u001b[0mlower\u001b[0m\u001b[1;33m.\u001b[0m\u001b[0mtime\u001b[0m\u001b[1;33m(\u001b[0m\u001b[1;33m)\u001b[0m\u001b[1;33m>=\u001b[0m\u001b[0mdatetime\u001b[0m\u001b[1;33m.\u001b[0m\u001b[0mstrptime\u001b[0m\u001b[1;33m(\u001b[0m\u001b[1;34m'4:00'\u001b[0m\u001b[1;33m,\u001b[0m\u001b[1;34m'%H:%M'\u001b[0m\u001b[1;33m)\u001b[0m\u001b[1;33m.\u001b[0m\u001b[0mtime\u001b[0m\u001b[1;33m(\u001b[0m\u001b[1;33m)\u001b[0m\u001b[1;33m:\u001b[0m\u001b[1;33m\u001b[0m\u001b[0m\n\u001b[0m\u001b[0;32m      6\u001b[0m         \u001b[0mlower\u001b[0m \u001b[1;33m=\u001b[0m \u001b[0mlower\u001b[0m\u001b[1;33m.\u001b[0m\u001b[0mreplace\u001b[0m\u001b[1;33m(\u001b[0m\u001b[0mhour\u001b[0m \u001b[1;33m=\u001b[0m \u001b[1;36m4\u001b[0m\u001b[1;33m,\u001b[0m \u001b[0mminute\u001b[0m \u001b[1;33m=\u001b[0m \u001b[1;36m0\u001b[0m\u001b[1;33m)\u001b[0m\u001b[1;33m\u001b[0m\u001b[0m\n\u001b[0;32m      7\u001b[0m     \u001b[1;32melse\u001b[0m\u001b[1;33m:\u001b[0m\u001b[1;33m\u001b[0m\u001b[0m\n",
      "\u001b[1;31mAttributeError\u001b[0m: 'str' object has no attribute 'time'"
     ]
    }
   ],
   "source": [
    "timelist = ['2004-09-01 11:26:00','2004-10-01 12:26:00','2004-10-03 12:25:00']\n",
    "make_binlist(timelist)"
   ]
  },
  {
   "cell_type": "code",
   "execution_count": 148,
   "metadata": {},
   "outputs": [
    {
     "name": "stdout",
     "output_type": "stream",
     "text": [
      "[5, nan, 1, 2, nan, 6, 8, 5, nan, 4, 5, 7, 9, nan, 2, 3, 6, 5, nan, 4, nan, 1, 5, nan, 2, nan, nan, nan, 7]\n"
     ]
    }
   ],
   "source": [
    "xlist = [5,0,1,2,0,6,8,5,0,4,5,7,9,0,2,3,6,5,0,4,0,1,5,0,2,0,0,0,7]\n",
    "xlist2 = [float('nan') if x==0 else x for x in xlist]\n",
    "\n",
    "print xlist2"
   ]
  },
  {
   "cell_type": "code",
   "execution_count": 170,
   "metadata": {},
   "outputs": [
    {
     "data": {
      "text/plain": [
       "19"
      ]
     },
     "execution_count": 170,
     "metadata": {},
     "output_type": "execute_result"
    }
   ],
   "source": [
    "# tel alle niet-nan in een lijst\n",
    "len([x for x in xlist2 if not math.isnan(x)])"
   ]
  },
  {
   "cell_type": "code",
   "execution_count": 51,
   "metadata": {},
   "outputs": [
    {
     "data": {
      "image/png": "[encoded data removed]",
      "text/plain": [
       "<matplotlib.figure.Figure at 0xd7884a8>"
      ]
     },
     "metadata": {},
     "output_type": "display_data"
    }
   ],
   "source": [
    "plt.close()\n",
    "fig,ax1 = plt.subplots()\n",
    "ax2 = ax1.twinx()\n",
    "    \n",
    "line1, = ax1.plot([6,2,3],'r-', label = 'line 1')\n",
    "line2, = ax2.plot([3,5,1],'g--', label = 'line 2')\n",
    "axx = plt.subplot(111)\n",
    "\n",
    "#line1, = plt.plot([1,2,3], label=\"Line 1\", linestyle='--')\n",
    "#line2, = plt.plot([3,2,1], label=\"Line 2\", linewidth=4)\n",
    "\n",
    "box = ax1.get_position()\n",
    "axx.set_position([box.x0, box.y0, box.width * 0.8, box.height])\n",
    "\n",
    "# Create a legend for the first line.\n",
    "first_legend = plt.legend(handles=[line1], bbox_to_anchor=(1.05, 1), loc=2, borderaxespad=0.)\n",
    "\n",
    "# Add the legend manually to the current Axes.\n",
    "ax = plt.gca().add_artist(first_legend)\n",
    "\n",
    "# Create another legend for the second line.\n",
    "plt.legend(handles=[line2], loc=1)\n",
    "\n",
    "\n",
    "plt.show()"
   ]
  },
  {
   "cell_type": "code",
   "execution_count": 71,
   "metadata": {
    "scrolled": true
   },
   "outputs": [
    {
     "data": {
      "image/png": "[encoded data removed]",
      "text/plain": [
       "<matplotlib.figure.Figure at 0xd798908>"
      ]
     },
     "metadata": {},
     "output_type": "display_data"
    }
   ],
   "source": [
    "x = np.arange(10)\n",
    "\n",
    "fig = plt.figure()\n",
    "ax = plt.subplot(111)\n",
    "\n",
    "for i in xrange(5):\n",
    "    ax.plot(x, i * x, label='$y = %ix$'%i)\n",
    "\n",
    "# Shrink current axis by 20%\n",
    "box = ax.get_position()\n",
    "ax.set_position([box.x0, box.y0, box.width * 0.8, box.height])\n",
    "\n",
    "# Put a legend to the right of the current axis\n",
    "ax.legend(loc='center left', bbox_to_anchor=(1, 0.5))\n",
    "\n",
    "\n",
    "plt.show()"
   ]
  },
  {
   "cell_type": "code",
   "execution_count": 193,
   "metadata": {},
   "outputs": [
    {
     "data": {
      "image/png": "[encoded data removed]",
      "text/plain": [
       "<matplotlib.figure.Figure at 0xd089f98>"
      ]
     },
     "metadata": {},
     "output_type": "display_data"
    }
   ],
   "source": [
    "plt.close()\n",
    "def f(t):\n",
    "    return np.exp(-t) * np.cos(2*np.pi*t)\n",
    "\n",
    "t1 = np.arange(0.0, 5.0, 0.1)\n",
    "t2 = np.arange(0.0, 5.0, 0.02)\n",
    "\n",
    "fig = plt.figure(1)\n",
    "ax = plt.subplot(111)\n",
    "een, = ax.plot(t1, f(t1), 'b', label = 't1')\n",
    "\n",
    "ax1 = ax.twinx()\n",
    "twee, = ax1.plot(t2, np.cos(2*np.pi*t2), 'r-', label = 't2')\n",
    "\n",
    "box = ax.get_position()\n",
    "ax.set_position([box.x0, box.y0 + box.height,box.width, box.height-0.2])\n",
    "box = ax1.get_position()\n",
    "ax1.set_position([box.x0, box.y0 + box.height,box.width, box.height-0.2])\n",
    "\n",
    "plt.legend(handles = [een,twee], loc='upper center', bbox_to_anchor=(0.5, -0.1),ncol=2)\n",
    "\n",
    "plt.show()"
   ]
  },
  {
   "cell_type": "code",
   "execution_count": 75,
   "metadata": {
    "collapsed": true
   },
   "outputs": [],
   "source": [
    "mask = np.zeros_like(data, dtype=np.bool) # maak df met alleen maar falses, ter grootte van 'data' dataframe"
   ]
  },
  {
   "cell_type": "code",
   "execution_count": 50,
   "metadata": {},
   "outputs": [
    {
     "name": "stdout",
     "output_type": "stream",
     "text": [
      "[[False False False False False]\n",
      " [False False False False False]\n",
      " [False False False False False]\n",
      " [False False False False False]\n",
      " [False False False False False]\n",
      " [False False False False False]\n",
      " [False False False False False]\n",
      " [False False False False False]\n",
      " [False False False False False]\n",
      " [False False False False False]\n",
      " [False False False False False]]\n"
     ]
    }
   ],
   "source": [
    "print mask"
   ]
  },
  {
   "cell_type": "code",
   "execution_count": 47,
   "metadata": {
    "collapsed": true
   },
   "outputs": [],
   "source": [
    "# maak bepaalde waarden True\n",
    "mask[1]=True # rij 1\n",
    "mask[1::2]=True # rij 1, tot het einde, iedere tweede\n",
    "mask[1:5]=True # rij 1 tm rij 5\n",
    "mask[1:6:2]=True # rij 1 tm 6, iedere tweede\n",
    "mask[1,1]=True # rij 1, positie/kolom 1\n",
    "mask[0::1,1::3]=True # rij 0 tm het einde met stappen van 1 (Allemaal dus), en in iedere rij kolom 1 tm eind, met stappen van 3. in essentie dus kolom 1 en 3."
   ]
  },
  {
   "cell_type": "code",
   "execution_count": 124,
   "metadata": {},
   "outputs": [
    {
     "name": "stdout",
     "output_type": "stream",
     "text": [
      "[[False  True False  True  True]\n",
      " [ True  True  True  True  True]\n",
      " [False  True False  True  True]\n",
      " [ True  True  True  True  True]\n",
      " [ True  True  True  True  True]]\n"
     ]
    },
    {
     "data": {
      "image/png": "[encoded data removed]",
      "text/plain": [
       "<matplotlib.figure.Figure at 0xf323b00>"
      ]
     },
     "metadata": {},
     "output_type": "display_data"
    }
   ],
   "source": [
    "plt.close()\n",
    "var_a = [6,5,7,4,8,6,5,7,3,9,5,6,7]\n",
    "var_b = [5,4,19,6,5,1,5,2,5,3,6,6,9]\n",
    "var_c = [1,3,5,2,0,9,8,7,8,7,8,7,9]\n",
    "var_d = [5,4,19,6,5,1,50,1,2,3,6,5,4]\n",
    "var_e = [1,6,6,6,4,8,8,7,8,7,8,7,9]\n",
    "\n",
    "data = pd.DataFrame({'A': var_a, 'B': var_b, 'C': var_c, 'D': var_d, 'E': var_e})\n",
    "#print data\n",
    "data_rho = data.corr()\n",
    "mask = np.zeros_like(data_rho, dtype=np.bool)\n",
    "\n",
    "for column in data:\n",
    "    index = data.columns.get_loc(column)\n",
    "    z,p = normaltest(data[column].tolist())\n",
    "    if p<0.05:\n",
    "        #maskeer alle correlaties waarbij een van beide variabelen niet-normaal is\n",
    "        mask[index]=True #rijen blokkeren\n",
    "        mask[0::1,index]=True #kolommen blokkeren\n",
    "        #mask[np.triu_indices_from(mask)] = True\n",
    "    else:\n",
    "        pass\n",
    "print mask\n",
    "# ~mask geeft het 'omgekeerde' frame: true = false en false = true! handig voor de andere test i guess\n",
    "\n",
    "sbn.heatmap(data_rho,annot=True,mask=mask)\n",
    "plt.show()"
   ]
  },
  {
   "cell_type": "code",
   "execution_count": 2,
   "metadata": {},
   "outputs": [
    {
     "data": {
      "image/png": "[encoded data removed]",
      "text/plain": [
       "<matplotlib.figure.Figure at 0xdafc240>"
      ]
     },
     "metadata": {},
     "output_type": "display_data"
    }
   ],
   "source": [
    "\n",
    "# create some random data; replace that by your actual dataset\n",
    "data = pd.DataFrame(np.random.rand(11, 5), columns=['A', 'B', 'C', 'D', 'E'], index = range(2000, 2011, 1))\n",
    "\n",
    "# plot heatmap\n",
    "ax = sbn.heatmap(data) #.T turns it all\n",
    "\n",
    "# turn the axis label\n",
    "for item in ax.get_yticklabels():\n",
    "    item.set_rotation(0)\n",
    "\n",
    "for item in ax.get_xticklabels():\n",
    "    item.set_rotation(0)\n",
    "\n",
    "# save figure\n",
    "plt.savefig('seabornPandas.png', dpi=100)\n",
    "plt.show()"
   ]
  },
  {
   "cell_type": "code",
   "execution_count": 5,
   "metadata": {
    "collapsed": true
   },
   "outputs": [],
   "source": [
    "mask = np.zeros_like(corr, dtype=np.bool)\n",
    "mask[np.triu_indices_from(mask)] = True\n",
    "\n",
    "# Set up the matplotlib figure\n",
    "f, ax = plt.subplots(figsize=(11, 9))\n",
    "\n",
    "# Generate a custom diverging colormap\n",
    "cmap = sns.diverging_palette(220, 10, as_cmap=True)\n",
    "\n",
    "# Draw the heatmap with the mask and correct aspect ratio\n",
    "sns.heatmap(corr, mask=mask, cmap=cmap, vmax=.3, center=0,\n",
    "            square=True, linewidths=.5, cbar_kws={\"shrink\": .5})\n"
   ]
  },
  {
   "cell_type": "code",
   "execution_count": 85,
   "metadata": {},
   "outputs": [
    {
     "data": {
      "text/plain": [
       "-0.33903175181040524"
      ]
     },
     "execution_count": 85,
     "metadata": {},
     "output_type": "execute_result"
    }
   ],
   "source": [
    "r,p = spearmanr([1,2,3,4,5,1,2,3,4],[9,8,7,6,5,4,3,2,1])\n",
    "r"
   ]
  },
  {
   "cell_type": "code",
   "execution_count": 188,
   "metadata": {
    "scrolled": true
   },
   "outputs": [
    {
     "data": {
      "image/png": "[encoded data removed]",
      "text/plain": [
       "<matplotlib.figure.Figure at 0x10849cf8>"
      ]
     },
     "metadata": {},
     "output_type": "display_data"
    },
    {
     "data": {
      "image/png": "[encoded data removed]",
      "text/plain": [
       "<matplotlib.figure.Figure at 0x11c7ecf8>"
      ]
     },
     "metadata": {},
     "output_type": "display_data"
    }
   ],
   "source": [
    "plt.close()\n",
    "sns.palplot(sns.diverging_palette(120, 260, n=21, s=80))\n",
    "sns.palplot(sns.diverging_palette(10, 30, n=21, s=99, l=65))\n",
    "plt.show()"
   ]
  },
  {
   "cell_type": "code",
   "execution_count": 203,
   "metadata": {},
   "outputs": [
    {
     "name": "stdout",
     "output_type": "stream",
     "text": [
      "defaultdict(<type 'list'>, {(0, 1): [2], (2, 0): [6], (1, 0): [3], (0, 2): [3], (2, 2): [8]})\n"
     ]
    }
   ],
   "source": [
    "matrix = [[1,2,3],[3,4,5],[6,7,8]]\n",
    "mask = [[True,False,False],[False,True,True],[False,True,False]]\n",
    "indexlists = defaultdict(list)\n",
    "\n",
    "for i,row in enumerate(mask):\n",
    "    for j,position in enumerate(row):\n",
    "        if position == False:\n",
    "            #misschien beter een dictionary maken, met i en j als key\n",
    "            indexlists[i,j].append(matrix[i][j])\n",
    "            \n",
    "print indexlists"
   ]
  },
  {
   "cell_type": "code",
   "execution_count": 86,
   "metadata": {
    "scrolled": true
   },
   "outputs": [
    {
     "data": {
      "image/png": "[encoded data removed]",
      "text/plain": [
       "<matplotlib.figure.Figure at 0xef8e6a0>"
      ]
     },
     "metadata": {},
     "output_type": "display_data"
    }
   ],
   "source": [
    "plt.close()\n",
    "import numpy as np\n",
    "import seaborn as sns\n",
    "x = np.random.randn(10, 10)\n",
    "\n",
    "# toon alles dat minder dan 0 is\n",
    "sns.heatmap(x, mask=x > 0,annot=True, cmap=sbn.color_palette(\"coolwarm\", 21))\n",
    "# toon alles dat meer dan 1 is (alles tussen 0 en 1 blijft dus gemaskeerd)\n",
    "sns.heatmap(x, mask=x<1,cbar_kws = dict(use_gridspec=False,location=\"right\"), annot=True, cmap=sbn.color_palette(\"BrBG_r\", 21))\n",
    "\n",
    "plt.show()"
   ]
  },
  {
   "cell_type": "code",
   "execution_count": 68,
   "metadata": {},
   "outputs": [
    {
     "data": {
      "image/png": "[encoded data removed]",
      "text/plain": [
       "<matplotlib.figure.Figure at 0x11543128>"
      ]
     },
     "metadata": {},
     "output_type": "display_data"
    }
   ],
   "source": [
    "import matplotlib.pyplot as plt\n",
    "import matplotlib as mpl\n",
    "\n",
    "# Make a figure and axes with dimensions as desired.\n",
    "fig = plt.figure(figsize=(8, 3))\n",
    "ax1 = fig.add_axes([0.05, 0.80, 0.9, 0.15])\n",
    "\n",
    "# Set the colormap and norm to correspond to the data for which\n",
    "# the colorbar will be used.\n",
    "cmap = mpl.cm.cool\n",
    "norm = mpl.colors.Normalize(vmin=5, vmax=10)\n",
    "\n",
    "# ColorbarBase derives from ScalarMappable and puts a colorbar\n",
    "# in a specified axes, so it has everything needed for a\n",
    "# standalone colorbar.  There are many more kwargs, but the\n",
    "# following gives a basic continuous colorbar with ticks\n",
    "# and labels.\n",
    "cb1 = mpl.colorbar.ColorbarBase(ax1, cmap=cmap,\n",
    "                                norm=norm,\n",
    "                                orientation='horizontal')\n",
    "cb1.set_label('Some Units')\n",
    "\n",
    "\n",
    "plt.show()\n"
   ]
  },
  {
   "cell_type": "code",
   "execution_count": 25,
   "metadata": {},
   "outputs": [
    {
     "data": {
      "image/png": "[encoded data removed]",
      "text/plain": [
       "<matplotlib.figure.Figure at 0x11201320>"
      ]
     },
     "metadata": {},
     "output_type": "display_data"
    }
   ],
   "source": [
    "# Create data\n",
    "df = pd.DataFrame(np.random.random((5,5)), columns=[\"a\",\"b\",\"c\",\"d\",\"e\"])\n",
    "\n",
    "# Define two rows for subplots\n",
    "fig, (cax, ax) = plt.subplots(nrows=2, figsize=(5,5.025),  gridspec_kw={\"height_ratios\":[0.025, 1]})\n",
    "\n",
    "# Draw heatmap\n",
    "sns.heatmap(df, ax=ax, cbar=False)\n",
    "\n",
    "# colorbar\n",
    "fig.colorbar(ax.get_children()[0], cax=cax, orientation=\"horizontal\")\n",
    "\n",
    "plt.show()"
   ]
  },
  {
   "cell_type": "code",
   "execution_count": 29,
   "metadata": {
    "scrolled": true
   },
   "outputs": [
    {
     "name": "stdout",
     "output_type": "stream",
     "text": [
      "Z\n",
      "   A  B  C\n",
      "0  1  4  8\n",
      "1  2  5  7\n",
      "2  3  6  6\n",
      "3  2  5  7\n",
      "4  1  4  5\n",
      "5  2  5  6\n",
      "6  3  6  9\n",
      "Y\n",
      "   A  B  C\n",
      "0  1  4  8\n",
      "1  2  5  7\n",
      "2  3  6  6\n",
      "3  2  5  7\n",
      "4  1  4  5\n",
      "5  2  5  6\n",
      "6  3  6  9\n",
      "X\n",
      "   A  B  C\n",
      "0  1  4  8\n",
      "1  2  5  7\n",
      "2  3  6  6\n",
      "3  2  5  7\n",
      "4  1  4  5\n",
      "5  2  5  6\n",
      "6  3  6  9\n"
     ]
    }
   ],
   "source": [
    "a = [1,2,3,2,1,2,3]\n",
    "b = [4,5,6,5,4,5,6]\n",
    "c = [8,7,6,7,5,6,9]\n",
    "\n",
    "for user in [\"Z\", \"Y\", \"X\"]:\n",
    "    # making a dataframe from lists\n",
    "    df = pd.DataFrame({\"A\": a, \"B\": b, \"C\":c})\n",
    "    print user\n",
    "    print df\n",
    "    #df.to_csv(\"user_\"+str(user)+\".csv\",index=False)"
   ]
  },
  {
   "cell_type": "code",
   "execution_count": null,
   "metadata": {
    "collapsed": true
   },
   "outputs": [],
   "source": [
    "[lower + timedelta(days=x) for x in range(0, (upper-lower).days, timetick)]"
   ]
  },
  {
   "cell_type": "code",
   "execution_count": 20,
   "metadata": {},
   "outputs": [
    {
     "name": "stdout",
     "output_type": "stream",
     "text": [
      "1900-01-01 04:00:00\n",
      "1900-01-09 04:00:00\n",
      "192\n"
     ]
    },
    {
     "data": {
      "text/plain": [
       "[datetime.datetime(1900, 1, 1, 4, 0),\n",
       " datetime.datetime(1900, 1, 1, 5, 0),\n",
       " datetime.datetime(1900, 1, 1, 6, 0),\n",
       " datetime.datetime(1900, 1, 1, 7, 0),\n",
       " datetime.datetime(1900, 1, 1, 8, 0),\n",
       " datetime.datetime(1900, 1, 1, 9, 0),\n",
       " datetime.datetime(1900, 1, 1, 10, 0),\n",
       " datetime.datetime(1900, 1, 1, 11, 0),\n",
       " datetime.datetime(1900, 1, 1, 12, 0),\n",
       " datetime.datetime(1900, 1, 1, 13, 0),\n",
       " datetime.datetime(1900, 1, 1, 14, 0),\n",
       " datetime.datetime(1900, 1, 1, 15, 0),\n",
       " datetime.datetime(1900, 1, 1, 16, 0),\n",
       " datetime.datetime(1900, 1, 1, 17, 0),\n",
       " datetime.datetime(1900, 1, 1, 18, 0),\n",
       " datetime.datetime(1900, 1, 1, 19, 0),\n",
       " datetime.datetime(1900, 1, 1, 20, 0),\n",
       " datetime.datetime(1900, 1, 1, 21, 0),\n",
       " datetime.datetime(1900, 1, 1, 22, 0),\n",
       " datetime.datetime(1900, 1, 1, 23, 0),\n",
       " datetime.datetime(1900, 1, 2, 0, 0),\n",
       " datetime.datetime(1900, 1, 2, 1, 0),\n",
       " datetime.datetime(1900, 1, 2, 2, 0),\n",
       " datetime.datetime(1900, 1, 2, 3, 0),\n",
       " datetime.datetime(1900, 1, 2, 4, 0),\n",
       " datetime.datetime(1900, 1, 2, 5, 0),\n",
       " datetime.datetime(1900, 1, 2, 6, 0),\n",
       " datetime.datetime(1900, 1, 2, 7, 0),\n",
       " datetime.datetime(1900, 1, 2, 8, 0),\n",
       " datetime.datetime(1900, 1, 2, 9, 0),\n",
       " datetime.datetime(1900, 1, 2, 10, 0),\n",
       " datetime.datetime(1900, 1, 2, 11, 0),\n",
       " datetime.datetime(1900, 1, 2, 12, 0),\n",
       " datetime.datetime(1900, 1, 2, 13, 0),\n",
       " datetime.datetime(1900, 1, 2, 14, 0),\n",
       " datetime.datetime(1900, 1, 2, 15, 0),\n",
       " datetime.datetime(1900, 1, 2, 16, 0),\n",
       " datetime.datetime(1900, 1, 2, 17, 0),\n",
       " datetime.datetime(1900, 1, 2, 18, 0),\n",
       " datetime.datetime(1900, 1, 2, 19, 0),\n",
       " datetime.datetime(1900, 1, 2, 20, 0),\n",
       " datetime.datetime(1900, 1, 2, 21, 0),\n",
       " datetime.datetime(1900, 1, 2, 22, 0),\n",
       " datetime.datetime(1900, 1, 2, 23, 0),\n",
       " datetime.datetime(1900, 1, 3, 0, 0),\n",
       " datetime.datetime(1900, 1, 3, 1, 0),\n",
       " datetime.datetime(1900, 1, 3, 2, 0),\n",
       " datetime.datetime(1900, 1, 3, 3, 0),\n",
       " datetime.datetime(1900, 1, 3, 4, 0),\n",
       " datetime.datetime(1900, 1, 3, 5, 0),\n",
       " datetime.datetime(1900, 1, 3, 6, 0),\n",
       " datetime.datetime(1900, 1, 3, 7, 0),\n",
       " datetime.datetime(1900, 1, 3, 8, 0),\n",
       " datetime.datetime(1900, 1, 3, 9, 0),\n",
       " datetime.datetime(1900, 1, 3, 10, 0),\n",
       " datetime.datetime(1900, 1, 3, 11, 0),\n",
       " datetime.datetime(1900, 1, 3, 12, 0),\n",
       " datetime.datetime(1900, 1, 3, 13, 0),\n",
       " datetime.datetime(1900, 1, 3, 14, 0),\n",
       " datetime.datetime(1900, 1, 3, 15, 0),\n",
       " datetime.datetime(1900, 1, 3, 16, 0),\n",
       " datetime.datetime(1900, 1, 3, 17, 0),\n",
       " datetime.datetime(1900, 1, 3, 18, 0),\n",
       " datetime.datetime(1900, 1, 3, 19, 0),\n",
       " datetime.datetime(1900, 1, 3, 20, 0),\n",
       " datetime.datetime(1900, 1, 3, 21, 0),\n",
       " datetime.datetime(1900, 1, 3, 22, 0),\n",
       " datetime.datetime(1900, 1, 3, 23, 0),\n",
       " datetime.datetime(1900, 1, 4, 0, 0),\n",
       " datetime.datetime(1900, 1, 4, 1, 0),\n",
       " datetime.datetime(1900, 1, 4, 2, 0),\n",
       " datetime.datetime(1900, 1, 4, 3, 0),\n",
       " datetime.datetime(1900, 1, 4, 4, 0),\n",
       " datetime.datetime(1900, 1, 4, 5, 0),\n",
       " datetime.datetime(1900, 1, 4, 6, 0),\n",
       " datetime.datetime(1900, 1, 4, 7, 0),\n",
       " datetime.datetime(1900, 1, 4, 8, 0),\n",
       " datetime.datetime(1900, 1, 4, 9, 0),\n",
       " datetime.datetime(1900, 1, 4, 10, 0),\n",
       " datetime.datetime(1900, 1, 4, 11, 0),\n",
       " datetime.datetime(1900, 1, 4, 12, 0),\n",
       " datetime.datetime(1900, 1, 4, 13, 0),\n",
       " datetime.datetime(1900, 1, 4, 14, 0),\n",
       " datetime.datetime(1900, 1, 4, 15, 0),\n",
       " datetime.datetime(1900, 1, 4, 16, 0),\n",
       " datetime.datetime(1900, 1, 4, 17, 0),\n",
       " datetime.datetime(1900, 1, 4, 18, 0),\n",
       " datetime.datetime(1900, 1, 4, 19, 0),\n",
       " datetime.datetime(1900, 1, 4, 20, 0),\n",
       " datetime.datetime(1900, 1, 4, 21, 0),\n",
       " datetime.datetime(1900, 1, 4, 22, 0),\n",
       " datetime.datetime(1900, 1, 4, 23, 0),\n",
       " datetime.datetime(1900, 1, 5, 0, 0),\n",
       " datetime.datetime(1900, 1, 5, 1, 0),\n",
       " datetime.datetime(1900, 1, 5, 2, 0),\n",
       " datetime.datetime(1900, 1, 5, 3, 0),\n",
       " datetime.datetime(1900, 1, 5, 4, 0),\n",
       " datetime.datetime(1900, 1, 5, 5, 0),\n",
       " datetime.datetime(1900, 1, 5, 6, 0),\n",
       " datetime.datetime(1900, 1, 5, 7, 0),\n",
       " datetime.datetime(1900, 1, 5, 8, 0),\n",
       " datetime.datetime(1900, 1, 5, 9, 0),\n",
       " datetime.datetime(1900, 1, 5, 10, 0),\n",
       " datetime.datetime(1900, 1, 5, 11, 0),\n",
       " datetime.datetime(1900, 1, 5, 12, 0),\n",
       " datetime.datetime(1900, 1, 5, 13, 0),\n",
       " datetime.datetime(1900, 1, 5, 14, 0),\n",
       " datetime.datetime(1900, 1, 5, 15, 0),\n",
       " datetime.datetime(1900, 1, 5, 16, 0),\n",
       " datetime.datetime(1900, 1, 5, 17, 0),\n",
       " datetime.datetime(1900, 1, 5, 18, 0),\n",
       " datetime.datetime(1900, 1, 5, 19, 0),\n",
       " datetime.datetime(1900, 1, 5, 20, 0),\n",
       " datetime.datetime(1900, 1, 5, 21, 0),\n",
       " datetime.datetime(1900, 1, 5, 22, 0),\n",
       " datetime.datetime(1900, 1, 5, 23, 0),\n",
       " datetime.datetime(1900, 1, 6, 0, 0),\n",
       " datetime.datetime(1900, 1, 6, 1, 0),\n",
       " datetime.datetime(1900, 1, 6, 2, 0),\n",
       " datetime.datetime(1900, 1, 6, 3, 0),\n",
       " datetime.datetime(1900, 1, 6, 4, 0),\n",
       " datetime.datetime(1900, 1, 6, 5, 0),\n",
       " datetime.datetime(1900, 1, 6, 6, 0),\n",
       " datetime.datetime(1900, 1, 6, 7, 0),\n",
       " datetime.datetime(1900, 1, 6, 8, 0),\n",
       " datetime.datetime(1900, 1, 6, 9, 0),\n",
       " datetime.datetime(1900, 1, 6, 10, 0),\n",
       " datetime.datetime(1900, 1, 6, 11, 0),\n",
       " datetime.datetime(1900, 1, 6, 12, 0),\n",
       " datetime.datetime(1900, 1, 6, 13, 0),\n",
       " datetime.datetime(1900, 1, 6, 14, 0),\n",
       " datetime.datetime(1900, 1, 6, 15, 0),\n",
       " datetime.datetime(1900, 1, 6, 16, 0),\n",
       " datetime.datetime(1900, 1, 6, 17, 0),\n",
       " datetime.datetime(1900, 1, 6, 18, 0),\n",
       " datetime.datetime(1900, 1, 6, 19, 0),\n",
       " datetime.datetime(1900, 1, 6, 20, 0),\n",
       " datetime.datetime(1900, 1, 6, 21, 0),\n",
       " datetime.datetime(1900, 1, 6, 22, 0),\n",
       " datetime.datetime(1900, 1, 6, 23, 0),\n",
       " datetime.datetime(1900, 1, 7, 0, 0),\n",
       " datetime.datetime(1900, 1, 7, 1, 0),\n",
       " datetime.datetime(1900, 1, 7, 2, 0),\n",
       " datetime.datetime(1900, 1, 7, 3, 0),\n",
       " datetime.datetime(1900, 1, 7, 4, 0),\n",
       " datetime.datetime(1900, 1, 7, 5, 0),\n",
       " datetime.datetime(1900, 1, 7, 6, 0),\n",
       " datetime.datetime(1900, 1, 7, 7, 0),\n",
       " datetime.datetime(1900, 1, 7, 8, 0),\n",
       " datetime.datetime(1900, 1, 7, 9, 0),\n",
       " datetime.datetime(1900, 1, 7, 10, 0),\n",
       " datetime.datetime(1900, 1, 7, 11, 0),\n",
       " datetime.datetime(1900, 1, 7, 12, 0),\n",
       " datetime.datetime(1900, 1, 7, 13, 0),\n",
       " datetime.datetime(1900, 1, 7, 14, 0),\n",
       " datetime.datetime(1900, 1, 7, 15, 0),\n",
       " datetime.datetime(1900, 1, 7, 16, 0),\n",
       " datetime.datetime(1900, 1, 7, 17, 0),\n",
       " datetime.datetime(1900, 1, 7, 18, 0),\n",
       " datetime.datetime(1900, 1, 7, 19, 0),\n",
       " datetime.datetime(1900, 1, 7, 20, 0),\n",
       " datetime.datetime(1900, 1, 7, 21, 0),\n",
       " datetime.datetime(1900, 1, 7, 22, 0),\n",
       " datetime.datetime(1900, 1, 7, 23, 0),\n",
       " datetime.datetime(1900, 1, 8, 0, 0),\n",
       " datetime.datetime(1900, 1, 8, 1, 0),\n",
       " datetime.datetime(1900, 1, 8, 2, 0),\n",
       " datetime.datetime(1900, 1, 8, 3, 0),\n",
       " datetime.datetime(1900, 1, 8, 4, 0),\n",
       " datetime.datetime(1900, 1, 8, 5, 0),\n",
       " datetime.datetime(1900, 1, 8, 6, 0),\n",
       " datetime.datetime(1900, 1, 8, 7, 0),\n",
       " datetime.datetime(1900, 1, 8, 8, 0),\n",
       " datetime.datetime(1900, 1, 8, 9, 0),\n",
       " datetime.datetime(1900, 1, 8, 10, 0),\n",
       " datetime.datetime(1900, 1, 8, 11, 0),\n",
       " datetime.datetime(1900, 1, 8, 12, 0),\n",
       " datetime.datetime(1900, 1, 8, 13, 0),\n",
       " datetime.datetime(1900, 1, 8, 14, 0),\n",
       " datetime.datetime(1900, 1, 8, 15, 0),\n",
       " datetime.datetime(1900, 1, 8, 16, 0),\n",
       " datetime.datetime(1900, 1, 8, 17, 0),\n",
       " datetime.datetime(1900, 1, 8, 18, 0),\n",
       " datetime.datetime(1900, 1, 8, 19, 0),\n",
       " datetime.datetime(1900, 1, 8, 20, 0),\n",
       " datetime.datetime(1900, 1, 8, 21, 0),\n",
       " datetime.datetime(1900, 1, 8, 22, 0),\n",
       " datetime.datetime(1900, 1, 8, 23, 0),\n",
       " datetime.datetime(1900, 1, 9, 0, 0),\n",
       " datetime.datetime(1900, 1, 9, 1, 0),\n",
       " datetime.datetime(1900, 1, 9, 2, 0),\n",
       " datetime.datetime(1900, 1, 9, 3, 0)]"
      ]
     },
     "execution_count": 20,
     "metadata": {},
     "output_type": "execute_result"
    }
   ],
   "source": [
    "start = datetime.strptime('4:00','%H:%M')\n",
    "print start\n",
    "last = start +timedelta(days = 8)\n",
    "print last\n",
    "\n",
    "# er lijkt geen .hours -teller te bestaan.. Dus *24 maakt de range 24 maal zo groot: dus stappen voor ieder uur.\n",
    "[start + timedelta(hours=x) for x in range(0, 24*(last-start).days, 1)]\n",
    "\n",
    "# !!! semiwillekeurige gedachte: als de nan's er gewoon uit gegooid worden, dan heb je (/ heeft de ML) geen besef meer van dat een gebruiker niet-actief kan zijn. Ik denk zelf dat inactiviteit ook een goede voorspeller, of voorspelde, kan zijn, dus niet zomaar genegeerd moet worden. Misschien kan ik een variable construeren die weergeeft hoe veel uren/dagen van inactiviteit er geweest zijn sinds de vorige post; dat is dan een variabele die mee gaat spelen in het algoritme.\n"
   ]
  }
 ],
 "metadata": {
  "kernelspec": {
   "display_name": "Python 2",
   "language": "python",
   "name": "python2"
  },
  "language_info": {
   "codemirror_mode": {
    "name": "ipython",
    "version": 2
   },
   "file_extension": ".py",
   "mimetype": "text/x-python",
   "name": "python",
   "nbconvert_exporter": "python",
   "pygments_lexer": "ipython2",
   "version": "2.7.14"
  }
 },
 "nbformat": 4,
 "nbformat_minor": 2
}
