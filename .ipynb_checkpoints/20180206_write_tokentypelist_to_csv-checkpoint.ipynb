{
 "cells": [
  {
   "cell_type": "code",
   "execution_count": 21,
   "metadata": {},
   "outputs": [],
   "source": [
    "import csv\n",
    "\n",
    "data=[(u'PRP$',[(u'mijn', 1163),(u'zijn', 269),(u'haar', 117),(u'jouw', 99),(u'ons', 58),(u'hun', 41),(u'onze', 21),(u'uw', 5),(u'mijns', 5),(u'mijne', 1)]),(u'NNPS',[(u'zaken', 1)])]\n",
    "\n",
    "with open('tokentype.csv','wb') as out:\n",
    "    csv_out=csv.writer(out)\n",
    "    for row in data:\n",
    "        pos = row[0]\n",
    "        for tokens in row:\n",
    "            if tokens != pos:\n",
    "                for tup in tokens:\n",
    "                    csv_out.writerow((pos, tup))"
   ]
  }
 ],
 "metadata": {
  "kernelspec": {
   "display_name": "Python 2",
   "language": "python",
   "name": "python2"
  },
  "language_info": {
   "codemirror_mode": {
    "name": "ipython",
    "version": 2
   },
   "file_extension": ".py",
   "mimetype": "text/x-python",
   "name": "python",
   "nbconvert_exporter": "python",
   "pygments_lexer": "ipython2",
   "version": "2.7.14"
  }
 },
 "nbformat": 4,
 "nbformat_minor": 2
}
