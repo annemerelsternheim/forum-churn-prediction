{
 "cells": [
  {
   "cell_type": "code",
   "execution_count": 2,
   "metadata": {
    "collapsed": true
   },
   "outputs": [],
   "source": [
    "import numpy as np\n",
    "import matplotlib.pyplot as plt"
   ]
  },
  {
   "cell_type": "markdown",
   "metadata": {},
   "source": [
    "## set up a figure"
   ]
  },
  {
   "cell_type": "code",
   "execution_count": 15,
   "metadata": {
    "collapsed": true
   },
   "outputs": [],
   "source": [
    "#fig=plt.figure(figsize=plt.figaspect(2.0)) #figaspect makes it twice as tall as it is wide"
   ]
  },
  {
   "cell_type": "code",
   "execution_count": 25,
   "metadata": {
    "collapsed": true
   },
   "outputs": [],
   "source": [
    "#fig=plt.figure()"
   ]
  },
  {
   "cell_type": "code",
   "execution_count": 26,
   "metadata": {
    "collapsed": true
   },
   "outputs": [],
   "source": [
    "#plt.show() # this should show an empty figure but I don't see anything?"
   ]
  },
  {
   "cell_type": "markdown",
   "metadata": {},
   "source": [
    "## then add 'axes' to it."
   ]
  },
  {
   "cell_type": "code",
   "execution_count": 28,
   "metadata": {},
   "outputs": [
    {
     "data": {
      "image/png": "[encoded data removed]",
      "text/plain": [
       "<matplotlib.figure.Figure at 0x7f9a198>"
      ]
     },
     "metadata": {},
     "output_type": "display_data"
    }
   ],
   "source": [
    "fig=plt.figure()\n",
    "ax=fig.add_subplot(111) #add a subplot (an azes on a grid system) to the figure of one row and 1 column\n",
    "ax.set(xlim=[0.5,4.5], # x is from .5 to 4.5\n",
    "       ylim=[-2,8], # y is from -1 to 8\n",
    "       title='An example Axes',\n",
    "       ylabel= 'Y-axis',\n",
    "       xlabel = 'X-axis')\n",
    "plt.show()"
   ]
  },
  {
   "cell_type": "code",
   "execution_count": 4,
   "metadata": {},
   "outputs": [
    {
     "data": {
      "image/png": "[encoded data removed]",
      "text/plain": [
       "<matplotlib.figure.Figure at 0x8de2b38>"
      ]
     },
     "metadata": {},
     "output_type": "display_data"
    }
   ],
   "source": [
    "fig=plt.figure()\n",
    "ax=fig.add_subplot(111) #add a subplot (an azes on a grid system) to the figure of one row and 1 column\n",
    "ax.set(xlim=[0.5,4.5], # x is from .5 to 4.5\n",
    "       ylim=[-2,8], # y is from -1 to 8\n",
    "       title='An example Axes',\n",
    "       xlabel = 'X-axis')\n",
    "ax.set_ylabel('Y-axis',size=25)\n",
    "plt.show()"
   ]
  },
  {
   "cell_type": "code",
   "execution_count": 16,
   "metadata": {},
   "outputs": [
    {
     "data": {
      "image/png": "[encoded data removed]",
      "text/plain": [
       "<matplotlib.figure.Figure at 0x9e85128>"
      ]
     },
     "metadata": {},
     "output_type": "display_data"
    }
   ],
   "source": [
    "fig=plt.figure()\n",
    "ax=fig.add_subplot(111) #add a subplot (an azes on a grid system) to the figure of one row and 1 column\n",
    "\n",
    "ax.scatter([0.3,3.8,1.2,2.5],[11,25,9,26],marker='^')\n",
    "ax.set_xlim(0.5,4.5)\n",
    "ax.set_xticks([1,1.5,2.3,4])   # set_ticks sets the LOCATION of the ticks\n",
    "ax.set_xticklabels(['a','b','c','d'])    # set_ticklabels sets the NAME of the corresponding tick\n",
    "\n",
    "plt.show()"
   ]
  },
  {
   "cell_type": "code",
   "execution_count": null,
   "metadata": {
    "collapsed": true
   },
   "outputs": [],
   "source": []
  }
 ],
 "metadata": {
  "kernelspec": {
   "display_name": "Python 2",
   "language": "python",
   "name": "python2"
  },
  "language_info": {
   "codemirror_mode": {
    "name": "ipython",
    "version": 2
   },
   "file_extension": ".py",
   "mimetype": "text/x-python",
   "name": "python",
   "nbconvert_exporter": "python",
   "pygments_lexer": "ipython2",
   "version": "2.7.14"
  }
 },
 "nbformat": 4,
 "nbformat_minor": 2
}
