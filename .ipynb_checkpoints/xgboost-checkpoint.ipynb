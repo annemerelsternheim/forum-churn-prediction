{
 "cells": [
  {
   "cell_type": "markdown",
   "metadata": {},
   "source": [
    "Code from https://www.kaggle.com/dansbecker/learning-to-use-xgboost"
   ]
  },
  {
   "cell_type": "code",
   "execution_count": 789,
   "metadata": {},
   "outputs": [],
   "source": [
    "import os, operator\n",
    "import pandas as pd\n",
    "from sklearn.model_selection import train_test_split,  KFold, ShuffleSplit\n",
    "from sklearn.preprocessing import Imputer\n",
    "import xgboost as xgb\n",
    "from datetime import date, datetime, timedelta\n",
    "import matplotlib.pyplot as plt\n",
    "import numpy as np\n",
    "from sklearn import preprocessing, svm, datasets\n",
    "from sklearn.metrics import roc_curve, auc, recall_score, precision_score,mean_absolute_error,confusion_matrix\n",
    "from sklearn.model_selection import train_test_split\n",
    "from sklearn.multiclass import OneVsRestClassifier\n",
    "from collections import defaultdict\n",
    "from tqdm import tqdm_notebook as tqdm\n",
    "import warnings\n",
    "warnings.filterwarnings(\"ignore\", category=DeprecationWarning) "
   ]
  },
  {
   "cell_type": "code",
   "execution_count": null,
   "metadata": {
    "collapsed": true
   },
   "outputs": [],
   "source": [
    "wat je moet doen is het volgende:\n",
    "    maak een testset uit alle data (misschien niet eens 25%)\n",
    "    resample de overgebleven trainset zó, dat je er evenveel 0en als 1en uithaalt.\n",
    "    train het model op de geresamplede trainset.\n",
    "    test het model op de initieel gemaakte testset\n",
    "    \n",
    "hoe goed presteert het model nu? Doe een paar runs met verschillende splits"
   ]
  },
  {
   "cell_type": "markdown",
   "metadata": {},
   "source": [
    "### load data from files and scale"
   ]
  },
  {
   "cell_type": "code",
   "execution_count": 204,
   "metadata": {
    "collapsed": true
   },
   "outputs": [],
   "source": [
    "files = []\n",
    "path = \"C:\\Users\\sternheimam\\Desktop\\my-notebook\\user-csvs_predictions\"\n",
    "\n",
    "for filename in os.listdir(path):\n",
    "    files.append(pd.read_csv(os.path.join(path, filename)))\n",
    "    \n",
    "data = pd.concat(files)\n",
    "#data['Date & Time'] = [(datetime.strptime(d, '%Y-%m-%d %H:%M:%S')-datetime(1970,1,1)).total_seconds() for d in data[\"Date & Time\"]]\n",
    "data = data.drop('Date & Time',1)\n",
    "data = pd.DataFrame(preprocessing.MinMaxScaler().fit_transform(data))\n",
    "# is this the right scaler?"
   ]
  },
  {
   "cell_type": "code",
   "execution_count": 208,
   "metadata": {
    "scrolled": true
   },
   "outputs": [
    {
     "data": {
      "text/html": [
       "<div>\n",
       "<style>\n",
       "    .dataframe thead tr:only-child th {\n",
       "        text-align: right;\n",
       "    }\n",
       "\n",
       "    .dataframe thead th {\n",
       "        text-align: left;\n",
       "    }\n",
       "\n",
       "    .dataframe tbody tr th {\n",
       "        vertical-align: top;\n",
       "    }\n",
       "</style>\n",
       "<table border=\"1\" class=\"dataframe\">\n",
       "  <thead>\n",
       "    <tr style=\"text-align: right;\">\n",
       "      <th></th>\n",
       "      <th>0</th>\n",
       "      <th>1</th>\n",
       "      <th>2</th>\n",
       "      <th>3</th>\n",
       "      <th>4</th>\n",
       "      <th>5</th>\n",
       "      <th>6</th>\n",
       "      <th>7</th>\n",
       "      <th>8</th>\n",
       "      <th>9</th>\n",
       "      <th>10</th>\n",
       "      <th>11</th>\n",
       "      <th>12</th>\n",
       "    </tr>\n",
       "  </thead>\n",
       "  <tbody>\n",
       "    <tr>\n",
       "      <th>0</th>\n",
       "      <td>0.0</td>\n",
       "      <td>0.0</td>\n",
       "      <td>0.0</td>\n",
       "      <td>0.018534</td>\n",
       "      <td>0.0</td>\n",
       "      <td>0.010050</td>\n",
       "      <td>0.570833</td>\n",
       "      <td>0.380000</td>\n",
       "      <td>0.135135</td>\n",
       "      <td>0.018534</td>\n",
       "      <td>0.0</td>\n",
       "      <td>0.611111</td>\n",
       "      <td>0.400000</td>\n",
       "    </tr>\n",
       "    <tr>\n",
       "      <th>1</th>\n",
       "      <td>0.0</td>\n",
       "      <td>0.0</td>\n",
       "      <td>0.0</td>\n",
       "      <td>0.000000</td>\n",
       "      <td>0.0</td>\n",
       "      <td>0.011055</td>\n",
       "      <td>0.501207</td>\n",
       "      <td>0.437915</td>\n",
       "      <td>0.141892</td>\n",
       "      <td>0.009267</td>\n",
       "      <td>0.0</td>\n",
       "      <td>0.544800</td>\n",
       "      <td>0.430482</td>\n",
       "    </tr>\n",
       "    <tr>\n",
       "      <th>2</th>\n",
       "      <td>0.0</td>\n",
       "      <td>0.0</td>\n",
       "      <td>0.0</td>\n",
       "      <td>0.000000</td>\n",
       "      <td>0.0</td>\n",
       "      <td>0.000000</td>\n",
       "      <td>0.500000</td>\n",
       "      <td>0.000000</td>\n",
       "      <td>0.094595</td>\n",
       "      <td>0.006178</td>\n",
       "      <td>0.0</td>\n",
       "      <td>0.521930</td>\n",
       "      <td>0.286988</td>\n",
       "    </tr>\n",
       "    <tr>\n",
       "      <th>3</th>\n",
       "      <td>0.0</td>\n",
       "      <td>0.0</td>\n",
       "      <td>0.0</td>\n",
       "      <td>0.000204</td>\n",
       "      <td>0.0</td>\n",
       "      <td>0.019430</td>\n",
       "      <td>0.494747</td>\n",
       "      <td>0.421135</td>\n",
       "      <td>0.136261</td>\n",
       "      <td>0.004684</td>\n",
       "      <td>0.0</td>\n",
       "      <td>0.507994</td>\n",
       "      <td>0.326066</td>\n",
       "    </tr>\n",
       "    <tr>\n",
       "      <th>4</th>\n",
       "      <td>0.0</td>\n",
       "      <td>0.0</td>\n",
       "      <td>0.0</td>\n",
       "      <td>0.000000</td>\n",
       "      <td>0.0</td>\n",
       "      <td>0.010050</td>\n",
       "      <td>0.510387</td>\n",
       "      <td>0.340079</td>\n",
       "      <td>0.136036</td>\n",
       "      <td>0.003747</td>\n",
       "      <td>0.0</td>\n",
       "      <td>0.505590</td>\n",
       "      <td>0.332448</td>\n",
       "    </tr>\n",
       "  </tbody>\n",
       "</table>\n",
       "</div>"
      ],
      "text/plain": [
       "    0    1    2         3    4         5         6         7         8   \\\n",
       "0  0.0  0.0  0.0  0.018534  0.0  0.010050  0.570833  0.380000  0.135135   \n",
       "1  0.0  0.0  0.0  0.000000  0.0  0.011055  0.501207  0.437915  0.141892   \n",
       "2  0.0  0.0  0.0  0.000000  0.0  0.000000  0.500000  0.000000  0.094595   \n",
       "3  0.0  0.0  0.0  0.000204  0.0  0.019430  0.494747  0.421135  0.136261   \n",
       "4  0.0  0.0  0.0  0.000000  0.0  0.010050  0.510387  0.340079  0.136036   \n",
       "\n",
       "         9    10        11        12  \n",
       "0  0.018534  0.0  0.611111  0.400000  \n",
       "1  0.009267  0.0  0.544800  0.430482  \n",
       "2  0.006178  0.0  0.521930  0.286988  \n",
       "3  0.004684  0.0  0.507994  0.326066  \n",
       "4  0.003747  0.0  0.505590  0.332448  "
      ]
     },
     "execution_count": 208,
     "metadata": {},
     "output_type": "execute_result"
    }
   ],
   "source": [
    "# datetime, sentences in this bin, sum of sentences in last month\n",
    "#0: churn in 12,\n",
    "#1: churn in 3,\n",
    "#2: churn in 6,\n",
    "#(datetime`),\n",
    "#3: inactivity,\n",
    "#4: questions,\n",
    "#5: sentences,\n",
    "#6: sentiment,\n",
    "#7: subjectivity,\n",
    "#8: sentence mean 1 month back,\n",
    "#9: inactive mean 1 month back,\n",
    "#10: questions mean 1 month back\n",
    "#11: sentiment mean 1 month back\n",
    "#12: subjectivity mean 1 month back\n",
    "data.head()"
   ]
  },
  {
   "cell_type": "markdown",
   "metadata": {},
   "source": [
    "### Extract a test set and training set"
   ]
  },
  {
   "cell_type": "markdown",
   "metadata": {},
   "source": [
    "#### here: test and training set from original data (unbalanced)"
   ]
  },
  {
   "cell_type": "raw",
   "metadata": {},
   "source": [
    "  # the test set comes from the balanced data, the training set from the unbalanced data\n",
    "    if method == None:\n",
    "        # split the data in a testset and the rest\n",
    "        subset = data.sample(frac=0.988) # this fraction gives about the same ratio test:train as .25\n",
    "        testset = data.drop(subset.index)\n",
    "\n",
    "        # extract a test set from the original (imbalanced) data\n",
    "        y = testset[col]\n",
    "        X = testset.drop([0,1,2], axis = 1)\n",
    "        _, test_X, _, test_y = train_test_split(X, y, test_size=0.99999999) # test size is so big that test_x contains all entries\n",
    "\n",
    "        # balance the subset\n",
    "        sub_1 = subset[(subset[col]==1)]\n",
    "        sub_0 = subset.drop(sub_1.index).sample(n=len(sub_1))\n",
    "        subset = pd.concat([sub_1,sub_0])\n",
    "\n",
    "        # extract a training set from the subset (balanced)\n",
    "        y = subset[col]\n",
    "        X = subset.drop([0,1,2], axis = 1)\n",
    "        train_X, _, train_y, _ = train_test_split(X, y, test_size=0)\n",
    "    #print len(test_X),len(test_y)/float(len(train_X)),len(train_y)\n",
    "\n"
   ]
  },
  {
   "cell_type": "code",
   "execution_count": 600,
   "metadata": {},
   "outputs": [],
   "source": [
    "def Set_Xy(data, method = None, col = 1):\n",
    "    if method == \"unbalanced\":\n",
    "        y = data[col].reset_index(drop=True)\n",
    "        X = data.drop([0,1,2], axis = 1).reset_index(drop=True)\n",
    "\n",
    "    if method == \"balanced\":\n",
    "        # balance the data\n",
    "        all_1 = data[(data[col]==1)]\n",
    "        all_0 = data.drop(all_1.index).sample(n=len(all_3))\n",
    "        balanced = pd.concat([all_1,all_0])\n",
    "\n",
    "        # extract a test set and training set from the balanced data\n",
    "        y = balanced[col].reset_index(drop=True)\n",
    "        X = balanced.drop([0,1,2], axis = 1).reset_index(drop=True)\n",
    "    return (X,y)\n",
    "\n",
    "\n",
    "def Split_data(train_index,test_index):\n",
    "    train_X = X.drop(test_index)\n",
    "    test_X = X.drop(train_index)\n",
    "    train_y = y.drop(test_index)\n",
    "    test_y = y.drop(train_index)\n",
    "    \n",
    "    return(train_X,test_X,train_y,test_y)"
   ]
  },
  {
   "cell_type": "code",
   "execution_count": 608,
   "metadata": {},
   "outputs": [],
   "source": [
    "X, y = Set_Xy(data,\"balanced\")\n",
    "\n",
    "ss = ShuffleSplit(n_splits=2, test_size = .25)\n",
    "for train_index,test_index in ss.split(X):\n",
    "    train_X,test_X,train_y,test_y = Split_data(train_index,test_index)\n",
    "    # doe dingen"
   ]
  },
  {
   "cell_type": "markdown",
   "metadata": {},
   "source": [
    "# Confusion matrix"
   ]
  },
  {
   "cell_type": "markdown",
   "metadata": {},
   "source": [
    "## etcetera"
   ]
  },
  {
   "cell_type": "code",
   "execution_count": 841,
   "metadata": {
    "scrolled": false
   },
   "outputs": [
    {
     "data": {
      "application/vnd.jupyter.widget-view+json": {
       "model_id": "a6f9b390d88944b6be09a2079baae6ff",
       "version_major": 2,
       "version_minor": 0
      },
      "text/plain": [
       "A Jupyter Widget"
      ]
     },
     "metadata": {},
     "output_type": "display_data"
    },
    {
     "name": "stdout",
     "output_type": "stream",
     "text": [
      "Generating model. Please be patient... This will take about 30 seconds per fold.\n",
      "accuracy: 0.987197038671\n",
      "precision: 0.961738937562\n",
      "recall: 0.31429399826\n",
      "specificity: 0.999766440238\n",
      "f-score: 0.473763282253\n"
     ]
    },
    {
     "data": {
      "image/png": "[encoded data removed]",
      "text/plain": [
       "<matplotlib.figure.Figure object at 0x0000000036A259B0>"
      ]
     },
     "metadata": {},
     "output_type": "display_data"
    },
    {
     "data": {
      "image/png": "[encoded data removed]",
      "text/plain": [
       "<matplotlib.figure.Figure object at 0x0000000016475BE0>"
      ]
     },
     "metadata": {},
     "output_type": "display_data"
    },
    {
     "name": "stdout",
     "output_type": "stream",
     "text": [
      "\n"
     ]
    }
   ],
   "source": [
    "k = 10\n",
    "True_positives=[]\n",
    "True_negatives=[]\n",
    "False_positives=[]\n",
    "False_negatives=[]\n",
    "feature_importances = defaultdict(int)\n",
    "feature_names = [\"inactivity\",\"questions\",\"sentences\",\"sentiment\",\"subjectivity\",\n",
    "                 \"sentence mean\",\"inactive mean\",\"questions mean\",\"sentiment mean\",\"subjectivity mean\"]\n",
    "\n",
    "data_type = \"unbalanced\"\n",
    "X, y = Set_Xy(data,data_type)\n",
    "ETA = \"30 seconds\" if data_type == \"balanced\" else \"15 minutes\"  \n",
    "ss = ShuffleSplit(n_splits=k, test_size = .25)\n",
    "with tqdm(total = k) as pbar:\n",
    "    print \"Generating model. Please be patient... This will take about %s per fold.\" %ETA\n",
    "    for train_index,test_index in ss.split(X):\n",
    "        train_X,test_X,train_y,test_y = Split_data(train_index,test_index)\n",
    "\n",
    "        # with the information you have now, you can plot the area under the curve\n",
    "        plot_AUC(train_X,train_y,test_X,test_y)\n",
    "\n",
    "        dtrain = xgb.DMatrix(train_X.as_matrix(),label=train_y.as_matrix(),feature_names=feature_names)\n",
    "        dtest = xgb.DMatrix(test_X.as_matrix(),label=test_y.as_matrix(),feature_names=feature_names)\n",
    "        \n",
    "        # waarom deze parameters?\n",
    "        params = {\n",
    "        \"eta\": 0.2,\n",
    "        \"max_depth\": 4,\n",
    "        \"objective\": \"binary:logistic\",\n",
    "        \"silent\": 1,\n",
    "        \"base_score\": np.mean(train_y),\n",
    "        'n_estimators': 200,\n",
    "        \"eval_metric\": \"logloss\"}\n",
    "        model = xgb.train(params, dtrain, 2000, [(dtrain, \"train\"),(dtest, \"validation\")], verbose_eval=False)\n",
    "\n",
    "        # while you're here anyway... keep track of the feature importances\n",
    "        f_scores = model.get_fscore()\n",
    "        for fi in f_scores:\n",
    "            feature_importances[fi] += f_scores[fi]    \n",
    "\n",
    "        y_pred = model.predict(dtest)\n",
    "        cm = confusion_matrix(test_y, (y_pred>0.5))\n",
    "\n",
    "        TP = float(cm[1,1]) # 208 instanties zijn echt 1 en voorspeld 1 (true positive)\n",
    "        FP = float(cm[0,1]) # 92 instanties zijn echt 0 en voorspeld 1 (false positive)\n",
    "        FN = float(cm[1,0]) # 2523 instanties zijn echt 1 en voorspeld 0 (false negative)\n",
    "        TN = float(cm[0,0]) # 147650 instanties zijn echt 0 en voorspeld 0 (true negative)\n",
    "\n",
    "        True_positives.append(TP)\n",
    "        True_negatives.append(TN)\n",
    "        False_positives.append(FP)\n",
    "        False_negatives.append(FN)\n",
    "        \n",
    "        pbar.update(1)\n",
    "\n",
    "    plt.annotate('Mean AUC: %0.2f' % np.mean(AUROC), xy=(0.99, 0.02), ha = 'right')\n",
    "    TN=sum(True_negatives)\n",
    "    TP=sum(True_positives)\n",
    "    FN=sum(False_negatives)\n",
    "    FP=sum(False_positives)\n",
    "\n",
    "    accuracy = (TN+TP)/(TN+TP+FN+FP)\n",
    "    print \"accuracy: \"+ str(accuracy)\n",
    "\n",
    "    precision = TP/(TP+FP)\n",
    "    print \"precision: \"+str(precision)\n",
    "\n",
    "    recall = TP/(TP+FN) #=sensitivity\n",
    "    print \"recall: \"+str(recall)\n",
    "\n",
    "    specificity = TN/(TN+FP)\n",
    "    print \"specificity: \"+str(specificity)\n",
    "\n",
    "    F1 = (2*(precision*recall))/(precision+recall)\n",
    "    print \"f-score: \"+str(F1)\n",
    "\n",
    "    plt.show()\n",
    "    plot_feature_imporance(feature_importances)\n",
    "    plt.show()"
   ]
  },
  {
   "cell_type": "code",
   "execution_count": 851,
   "metadata": {},
   "outputs": [
    {
     "data": {
      "text/plain": [
       "matrix([['1476793', '345'],\n",
       "        ['18920', '8672']], dtype='|S7')"
      ]
     },
     "execution_count": 851,
     "metadata": {},
     "output_type": "execute_result"
    }
   ],
   "source": [
    "np.matrix([[\"%i\" %sum(True_negatives),\"%i\" %sum(False_positives)],[\"%i\" %sum(False_negatives),\"%i\" %sum(True_positives)]])"
   ]
  },
  {
   "cell_type": "markdown",
   "metadata": {},
   "source": [
    "### XGB regressor"
   ]
  },
  {
   "cell_type": "code",
   "execution_count": 109,
   "metadata": {
    "collapsed": true
   },
   "outputs": [
    {
     "name": "stdout",
     "output_type": "stream",
     "text": [
      "[0]\tvalidation_0-auc:0.591381\n",
      "Will train until validation_0-auc hasn't improved in 5 rounds.\n",
      "[1]\tvalidation_0-auc:0.592053\n",
      "[2]\tvalidation_0-auc:0.59315\n",
      "[3]\tvalidation_0-auc:0.595062\n",
      "[4]\tvalidation_0-auc:0.593247\n",
      "[5]\tvalidation_0-auc:0.59341\n",
      "[6]\tvalidation_0-auc:0.594228\n",
      "[7]\tvalidation_0-auc:0.595108\n",
      "[8]\tvalidation_0-auc:0.595134\n",
      "[9]\tvalidation_0-auc:0.598788\n",
      "[10]\tvalidation_0-auc:0.599023\n",
      "[11]\tvalidation_0-auc:0.608838\n",
      "[12]\tvalidation_0-auc:0.609497\n",
      "[13]\tvalidation_0-auc:0.609554\n",
      "[14]\tvalidation_0-auc:0.609696\n",
      "[15]\tvalidation_0-auc:0.610001\n",
      "[16]\tvalidation_0-auc:0.611782\n",
      "[17]\tvalidation_0-auc:0.611858\n",
      "[18]\tvalidation_0-auc:0.612281\n",
      "[19]\tvalidation_0-auc:0.612318\n",
      "[20]\tvalidation_0-auc:0.612811\n",
      "[21]\tvalidation_0-auc:0.613205\n",
      "[22]\tvalidation_0-auc:0.613836\n",
      "[23]\tvalidation_0-auc:0.614938\n",
      "[24]\tvalidation_0-auc:0.615042\n",
      "[25]\tvalidation_0-auc:0.614964\n",
      "[26]\tvalidation_0-auc:0.614994\n",
      "[27]\tvalidation_0-auc:0.623324\n",
      "[28]\tvalidation_0-auc:0.623565\n",
      "[29]\tvalidation_0-auc:0.623315\n",
      "[30]\tvalidation_0-auc:0.632985\n",
      "[31]\tvalidation_0-auc:0.633252\n",
      "[32]\tvalidation_0-auc:0.633867\n",
      "[33]\tvalidation_0-auc:0.63445\n",
      "[34]\tvalidation_0-auc:0.638056\n",
      "[35]\tvalidation_0-auc:0.638327\n",
      "[36]\tvalidation_0-auc:0.638576\n",
      "[37]\tvalidation_0-auc:0.638921\n",
      "[38]\tvalidation_0-auc:0.64159\n",
      "[39]\tvalidation_0-auc:0.641726\n",
      "[40]\tvalidation_0-auc:0.645559\n",
      "[41]\tvalidation_0-auc:0.645797\n",
      "[42]\tvalidation_0-auc:0.648494\n",
      "[43]\tvalidation_0-auc:0.648532\n",
      "[44]\tvalidation_0-auc:0.648801\n",
      "[45]\tvalidation_0-auc:0.650149\n",
      "[46]\tvalidation_0-auc:0.64998\n",
      "[47]\tvalidation_0-auc:0.65012\n",
      "[48]\tvalidation_0-auc:0.650171\n",
      "[49]\tvalidation_0-auc:0.651068\n",
      "[50]\tvalidation_0-auc:0.650898\n",
      "[51]\tvalidation_0-auc:0.65107\n",
      "[52]\tvalidation_0-auc:0.651825\n",
      "[53]\tvalidation_0-auc:0.651995\n",
      "[54]\tvalidation_0-auc:0.65637\n",
      "[55]\tvalidation_0-auc:0.656498\n",
      "[56]\tvalidation_0-auc:0.656686\n",
      "[57]\tvalidation_0-auc:0.6573\n",
      "[58]\tvalidation_0-auc:0.661734\n",
      "[59]\tvalidation_0-auc:0.662526\n",
      "[60]\tvalidation_0-auc:0.662891\n",
      "[61]\tvalidation_0-auc:0.661065\n",
      "[62]\tvalidation_0-auc:0.661359\n",
      "[63]\tvalidation_0-auc:0.662319\n",
      "[64]\tvalidation_0-auc:0.662117\n",
      "[65]\tvalidation_0-auc:0.664515\n",
      "[66]\tvalidation_0-auc:0.664979\n",
      "[67]\tvalidation_0-auc:0.665946\n",
      "[68]\tvalidation_0-auc:0.666787\n",
      "[69]\tvalidation_0-auc:0.666366\n",
      "[70]\tvalidation_0-auc:0.667033\n",
      "[71]\tvalidation_0-auc:0.667708\n",
      "[72]\tvalidation_0-auc:0.667845\n",
      "[73]\tvalidation_0-auc:0.668144\n",
      "[74]\tvalidation_0-auc:0.668342\n",
      "[75]\tvalidation_0-auc:0.668528\n",
      "[76]\tvalidation_0-auc:0.669214\n",
      "[77]\tvalidation_0-auc:0.66906\n",
      "[78]\tvalidation_0-auc:0.669638\n",
      "[79]\tvalidation_0-auc:0.66895\n",
      "[80]\tvalidation_0-auc:0.669545\n",
      "[81]\tvalidation_0-auc:0.66927\n",
      "[82]\tvalidation_0-auc:0.669589\n",
      "[83]\tvalidation_0-auc:0.669867\n",
      "[84]\tvalidation_0-auc:0.669995\n",
      "[85]\tvalidation_0-auc:0.670128\n",
      "[86]\tvalidation_0-auc:0.670606\n",
      "[87]\tvalidation_0-auc:0.670783\n",
      "[88]\tvalidation_0-auc:0.672118\n",
      "[89]\tvalidation_0-auc:0.672441\n",
      "[90]\tvalidation_0-auc:0.672664\n",
      "[91]\tvalidation_0-auc:0.672773\n",
      "[92]\tvalidation_0-auc:0.673441\n",
      "[93]\tvalidation_0-auc:0.6736\n",
      "[94]\tvalidation_0-auc:0.673527\n",
      "[95]\tvalidation_0-auc:0.673634\n",
      "[96]\tvalidation_0-auc:0.673938\n",
      "[97]\tvalidation_0-auc:0.674067\n",
      "[98]\tvalidation_0-auc:0.675355\n",
      "[99]\tvalidation_0-auc:0.675856\n",
      "[100]\tvalidation_0-auc:0.676565\n",
      "[101]\tvalidation_0-auc:0.677513\n",
      "[102]\tvalidation_0-auc:0.6776\n",
      "[103]\tvalidation_0-auc:0.678222\n",
      "[104]\tvalidation_0-auc:0.678212\n",
      "[105]\tvalidation_0-auc:0.67947\n",
      "[106]\tvalidation_0-auc:0.679967\n",
      "[107]\tvalidation_0-auc:0.679979\n",
      "[108]\tvalidation_0-auc:0.67998\n",
      "[109]\tvalidation_0-auc:0.680764\n",
      "[110]\tvalidation_0-auc:0.680885\n",
      "[111]\tvalidation_0-auc:0.681601\n",
      "[112]\tvalidation_0-auc:0.68151\n",
      "[113]\tvalidation_0-auc:0.681147\n",
      "[114]\tvalidation_0-auc:0.682017\n",
      "[115]\tvalidation_0-auc:0.682457\n",
      "[116]\tvalidation_0-auc:0.68253\n",
      "[117]\tvalidation_0-auc:0.682285\n",
      "[118]\tvalidation_0-auc:0.682115\n",
      "[119]\tvalidation_0-auc:0.682427\n",
      "[120]\tvalidation_0-auc:0.682952\n",
      "[121]\tvalidation_0-auc:0.683563\n",
      "[122]\tvalidation_0-auc:0.683792\n",
      "[123]\tvalidation_0-auc:0.684422\n",
      "[124]\tvalidation_0-auc:0.686395\n",
      "[125]\tvalidation_0-auc:0.686567\n",
      "[126]\tvalidation_0-auc:0.686504\n",
      "[127]\tvalidation_0-auc:0.686815\n",
      "[128]\tvalidation_0-auc:0.687419\n",
      "[129]\tvalidation_0-auc:0.688175\n",
      "[130]\tvalidation_0-auc:0.68833\n",
      "[131]\tvalidation_0-auc:0.688403\n",
      "[132]\tvalidation_0-auc:0.68856\n",
      "[133]\tvalidation_0-auc:0.688933\n",
      "[134]\tvalidation_0-auc:0.688849\n",
      "[135]\tvalidation_0-auc:0.688445\n",
      "[136]\tvalidation_0-auc:0.688776\n",
      "[137]\tvalidation_0-auc:0.689093\n",
      "[138]\tvalidation_0-auc:0.689149\n",
      "[139]\tvalidation_0-auc:0.689563\n",
      "[140]\tvalidation_0-auc:0.689618\n",
      "[141]\tvalidation_0-auc:0.689663\n",
      "[142]\tvalidation_0-auc:0.690381\n",
      "[143]\tvalidation_0-auc:0.690449\n",
      "[144]\tvalidation_0-auc:0.690866\n",
      "[145]\tvalidation_0-auc:0.693549\n",
      "[146]\tvalidation_0-auc:0.694243\n",
      "[147]\tvalidation_0-auc:0.695745\n",
      "[148]\tvalidation_0-auc:0.695799\n",
      "[149]\tvalidation_0-auc:0.69607\n",
      "[150]\tvalidation_0-auc:0.6966\n",
      "[151]\tvalidation_0-auc:0.697197\n",
      "[152]\tvalidation_0-auc:0.697813\n",
      "[153]\tvalidation_0-auc:0.697991\n",
      "[154]\tvalidation_0-auc:0.698208\n",
      "[155]\tvalidation_0-auc:0.698803\n",
      "[156]\tvalidation_0-auc:0.698871\n",
      "[157]\tvalidation_0-auc:0.699062\n",
      "[158]\tvalidation_0-auc:0.699706\n",
      "[159]\tvalidation_0-auc:0.700737\n",
      "[160]\tvalidation_0-auc:0.700696\n",
      "[161]\tvalidation_0-auc:0.701007\n",
      "[162]\tvalidation_0-auc:0.701445\n",
      "[163]\tvalidation_0-auc:0.701533\n",
      "[164]\tvalidation_0-auc:0.702097\n",
      "[165]\tvalidation_0-auc:0.702645\n",
      "[166]\tvalidation_0-auc:0.702684\n",
      "[167]\tvalidation_0-auc:0.702754\n",
      "[168]\tvalidation_0-auc:0.703068\n",
      "[169]\tvalidation_0-auc:0.703504\n",
      "[170]\tvalidation_0-auc:0.705392\n",
      "[171]\tvalidation_0-auc:0.705242\n",
      "[172]\tvalidation_0-auc:0.705121\n",
      "[173]\tvalidation_0-auc:0.705213\n",
      "[174]\tvalidation_0-auc:0.705162\n",
      "[175]\tvalidation_0-auc:0.70512\n",
      "Stopping. Best iteration:\n",
      "[170]\tvalidation_0-auc:0.705392\n",
      "\n"
     ]
    },
    {
     "data": {
      "text/plain": [
       "XGBRegressor(base_score=0.5, booster='gbtree', colsample_bylevel=1,\n",
       "       colsample_bytree=1, gamma=0, learning_rate=0.05, max_delta_step=0,\n",
       "       max_depth=3, min_child_weight=1, missing=None, n_estimators=400,\n",
       "       n_jobs=1, nthread=None, objective='reg:linear', random_state=0,\n",
       "       reg_alpha=0, reg_lambda=1, scale_pos_weight=1, seed=None,\n",
       "       silent=True, subsample=1)"
      ]
     },
     "execution_count": 109,
     "metadata": {},
     "output_type": "execute_result"
    }
   ],
   "source": [
    "train_X,test_X,train_y,test_Y = Divide_data(\"balanced\")\n",
    "model = xgb.XGBRegressor(n_estimators=400, learning_rate=0.05)\n",
    "model.fit(train_X, train_y, early_stopping_rounds=5,eval_set=[(test_X, test_y)], verbose=True,eval_metric = 'auc')"
   ]
  },
  {
   "cell_type": "markdown",
   "metadata": {},
   "source": [
    "build and fit a model"
   ]
  },
  {
   "cell_type": "markdown",
   "metadata": {},
   "source": [
    "It's smart to set a high value for n_estimators and then use early_stopping_rounds to find the optimal time to stop iterating."
   ]
  },
  {
   "cell_type": "markdown",
   "metadata": {},
   "source": [
    "In general, a small learning rate (and large number of estimators) will yield more accurate XGBoost models, though it will also take the model longer to train since it does more iterations through the cycle."
   ]
  },
  {
   "cell_type": "markdown",
   "metadata": {},
   "source": [
    "#### hoe staat dit tot die andere auc die ik heb berekend?"
   ]
  },
  {
   "cell_type": "markdown",
   "metadata": {},
   "source": [
    "# Feature importance"
   ]
  },
  {
   "cell_type": "code",
   "execution_count": 826,
   "metadata": {},
   "outputs": [],
   "source": [
    "# ha ha lekker precies nagemaakt van xgb puh\n",
    "\n",
    "def plot_feature_imporance(f):\n",
    "    sorted_f = sorted(f.items(), key=operator.itemgetter(1))\n",
    "    x_as = range(len(sorted_f))\n",
    "    values = [f for (_,f) in sorted_f]\n",
    "    keys = [k for (k,_) in sorted_f]\n",
    "\n",
    "    plt.close()\n",
    "    fig,ax=plt.subplots()\n",
    "\n",
    "    ax.barh(x_as, values ,0.2, align='center')\n",
    "    ax.yaxis.set_ticks(range(len(keys)))\n",
    "    ax.yaxis.set_ticklabels(keys)\n",
    "    ax.set_xlim(0,1.15*max(values))\n",
    "    ax.set_xlabel(\"F score\")\n",
    "    ax.set_ylabel(\"Features\")\n",
    "    ax.set_title(\"Feature importance\")\n",
    "    ax.grid(True)\n",
    "    for i,v in enumerate(values):\n",
    "        plt.text(v, i, str(v), va='center',ha='left')"
   ]
  },
  {
   "cell_type": "code",
   "execution_count": 827,
   "metadata": {},
   "outputs": [
    {
     "data": {
      "image/png": "[encoded data removed]",
      "text/plain": [
       "<matplotlib.figure.Figure object at 0x000000001C6DB470>"
      ]
     },
     "metadata": {},
     "output_type": "display_data"
    }
   ],
   "source": [
    "f = model.get_fscore()\n",
    "plt.close()\n",
    "plot_feature_imporance(f)\n",
    "plt.show()"
   ]
  },
  {
   "cell_type": "markdown",
   "metadata": {},
   "source": [
    "When using early_stopping_rounds, you need to set aside some of your data for checking the number of rounds to use. If you later want to fit a model with all of your data, set n_estimators to whatever value you found to be optimal when run with early stopping."
   ]
  },
  {
   "cell_type": "markdown",
   "metadata": {},
   "source": [
    "evaluate the model and make predictions"
   ]
  },
  {
   "cell_type": "markdown",
   "metadata": {},
   "source": [
    "# AUC"
   ]
  },
  {
   "cell_type": "code",
   "execution_count": 820,
   "metadata": {},
   "outputs": [],
   "source": [
    "def plot_AUC(train_X,train_y,test_X,test_y):\n",
    "    global AUROC\n",
    "    classifier = xgb.XGBClassifier(n_estimators=200,learning_rate=0.05)\n",
    "    y_score = classifier.fit(train_X, train_y).predict(test_X)\n",
    "    \n",
    "    fpr,tpr,_ = roc_curve(test_y,y_score)\n",
    "    roc_auc = auc(fpr, tpr)\n",
    "    AUROC.append(roc_auc)\n",
    "    \n",
    "    plt.plot(fpr, tpr, color='c')\n",
    "    plt.plot([0, 1], [0, 1], color='k', linestyle='--')\n",
    "    plt.xlim([0.0, 1.0])\n",
    "    plt.ylim([0.0, 1.05])\n",
    "    plt.xlabel('False Positive Rate')\n",
    "    plt.ylabel('True Positive Rate')\n",
    "    plt.title('AUC for predicting churn in 3 months')"
   ]
  },
  {
   "cell_type": "code",
   "execution_count": 821,
   "metadata": {
    "scrolled": false
   },
   "outputs": [
    {
     "data": {
      "image/png": "[encoded data removed]",
      "text/plain": [
       "<matplotlib.figure.Figure object at 0x000000002A906588>"
      ]
     },
     "metadata": {},
     "output_type": "display_data"
    }
   ],
   "source": [
    "AUROC = []\n",
    "X, y = Set_Xy(data,\"balanced\")\n",
    "ss = ShuffleSplit(n_splits=2, test_size = .25)\n",
    "for train_index,test_index in ss.split(X):\n",
    "    train_X,test_X,train_y,test_y = Split_data(train_index,test_index)\n",
    "    \n",
    "    plot_AUC(train_X,train_y,test_X,test_y)\n",
    "\n",
    "plt.annotate('Mean AUC: %0.2f' % np.mean(AUROC), xy=(0.99, 0.02), ha = 'right')\n",
    "plt.show()"
   ]
  },
  {
   "cell_type": "markdown",
   "metadata": {},
   "source": [
    "Use early stopping to find a good value for n_estimators. Then re-estimate the model with all of your training data, and that value of n_estimators."
   ]
  },
  {
   "cell_type": "markdown",
   "metadata": {},
   "source": [
    "# plot predictions vs real values"
   ]
  },
  {
   "cell_type": "markdown",
   "metadata": {},
   "source": [
    "first generate 'my model'"
   ]
  },
  {
   "cell_type": "code",
   "execution_count": 344,
   "metadata": {
    "collapsed": true
   },
   "outputs": [
    {
     "ename": "AttributeError",
     "evalue": "'DataFrame' object has no attribute 'feature_names'",
     "output_type": "error",
     "traceback": [
      "\u001b[1;31m---------------------------------------------------------------------------\u001b[0m",
      "\u001b[1;31mAttributeError\u001b[0m                            Traceback (most recent call last)",
      "\u001b[1;32m<ipython-input-344-95f95a891987>\u001b[0m in \u001b[0;36m<module>\u001b[1;34m()\u001b[0m\n\u001b[1;32m----> 1\u001b[1;33m \u001b[0mpredictions\u001b[0m \u001b[1;33m=\u001b[0m \u001b[0mmodel\u001b[0m\u001b[1;33m.\u001b[0m\u001b[0mpredict\u001b[0m\u001b[1;33m(\u001b[0m\u001b[0mtest_X\u001b[0m\u001b[1;33m)\u001b[0m\u001b[1;33m\u001b[0m\u001b[0m\n\u001b[0m\u001b[0;32m      2\u001b[0m \u001b[1;32mprint\u001b[0m\u001b[1;33m(\u001b[0m\u001b[1;34m\"Mean Absolute Error : \"\u001b[0m \u001b[1;33m+\u001b[0m \u001b[0mstr\u001b[0m\u001b[1;33m(\u001b[0m\u001b[0mmean_absolute_error\u001b[0m\u001b[1;33m(\u001b[0m\u001b[0mpredictions\u001b[0m\u001b[1;33m,\u001b[0m \u001b[0mtest_y\u001b[0m\u001b[1;33m)\u001b[0m\u001b[1;33m)\u001b[0m\u001b[1;33m)\u001b[0m\u001b[1;33m\u001b[0m\u001b[0m\n\u001b[0;32m      3\u001b[0m \u001b[1;31m# 0,0033 etc voor het voorspellen van 'activity' (tijd sinds laatste post)\u001b[0m\u001b[1;33m\u001b[0m\u001b[1;33m\u001b[0m\u001b[0m\n\u001b[0;32m      4\u001b[0m \u001b[1;31m# 0.0154 voor zinslengte\u001b[0m\u001b[1;33m\u001b[0m\u001b[1;33m\u001b[0m\u001b[0m\n",
      "\u001b[1;32mC:\\Users\\sternheimam\\AppData\\Local\\Continuum\\anaconda2\\lib\\site-packages\\xgboost\\core.pyc\u001b[0m in \u001b[0;36mpredict\u001b[1;34m(self, data, output_margin, ntree_limit, pred_leaf, pred_contribs, approx_contribs)\u001b[0m\n\u001b[0;32m   1042\u001b[0m             \u001b[0moption_mask\u001b[0m \u001b[1;33m|=\u001b[0m \u001b[1;36m0x08\u001b[0m\u001b[1;33m\u001b[0m\u001b[0m\n\u001b[0;32m   1043\u001b[0m \u001b[1;33m\u001b[0m\u001b[0m\n\u001b[1;32m-> 1044\u001b[1;33m         \u001b[0mself\u001b[0m\u001b[1;33m.\u001b[0m\u001b[0m_validate_features\u001b[0m\u001b[1;33m(\u001b[0m\u001b[0mdata\u001b[0m\u001b[1;33m)\u001b[0m\u001b[1;33m\u001b[0m\u001b[0m\n\u001b[0m\u001b[0;32m   1045\u001b[0m \u001b[1;33m\u001b[0m\u001b[0m\n\u001b[0;32m   1046\u001b[0m         \u001b[0mlength\u001b[0m \u001b[1;33m=\u001b[0m \u001b[0mc_bst_ulong\u001b[0m\u001b[1;33m(\u001b[0m\u001b[1;33m)\u001b[0m\u001b[1;33m\u001b[0m\u001b[0m\n",
      "\u001b[1;32mC:\\Users\\sternheimam\\AppData\\Local\\Continuum\\anaconda2\\lib\\site-packages\\xgboost\\core.pyc\u001b[0m in \u001b[0;36m_validate_features\u001b[1;34m(self, data)\u001b[0m\n\u001b[0;32m   1271\u001b[0m         \u001b[1;32melse\u001b[0m\u001b[1;33m:\u001b[0m\u001b[1;33m\u001b[0m\u001b[0m\n\u001b[0;32m   1272\u001b[0m             \u001b[1;31m# Booster can't accept data with different feature names\u001b[0m\u001b[1;33m\u001b[0m\u001b[1;33m\u001b[0m\u001b[0m\n\u001b[1;32m-> 1273\u001b[1;33m             \u001b[1;32mif\u001b[0m \u001b[0mself\u001b[0m\u001b[1;33m.\u001b[0m\u001b[0mfeature_names\u001b[0m \u001b[1;33m!=\u001b[0m \u001b[0mdata\u001b[0m\u001b[1;33m.\u001b[0m\u001b[0mfeature_names\u001b[0m\u001b[1;33m:\u001b[0m\u001b[1;33m\u001b[0m\u001b[0m\n\u001b[0m\u001b[0;32m   1274\u001b[0m                 \u001b[0mdat_missing\u001b[0m \u001b[1;33m=\u001b[0m \u001b[0mset\u001b[0m\u001b[1;33m(\u001b[0m\u001b[0mself\u001b[0m\u001b[1;33m.\u001b[0m\u001b[0mfeature_names\u001b[0m\u001b[1;33m)\u001b[0m \u001b[1;33m-\u001b[0m \u001b[0mset\u001b[0m\u001b[1;33m(\u001b[0m\u001b[0mdata\u001b[0m\u001b[1;33m.\u001b[0m\u001b[0mfeature_names\u001b[0m\u001b[1;33m)\u001b[0m\u001b[1;33m\u001b[0m\u001b[0m\n\u001b[0;32m   1275\u001b[0m                 \u001b[0mmy_missing\u001b[0m \u001b[1;33m=\u001b[0m \u001b[0mset\u001b[0m\u001b[1;33m(\u001b[0m\u001b[0mdata\u001b[0m\u001b[1;33m.\u001b[0m\u001b[0mfeature_names\u001b[0m\u001b[1;33m)\u001b[0m \u001b[1;33m-\u001b[0m \u001b[0mset\u001b[0m\u001b[1;33m(\u001b[0m\u001b[0mself\u001b[0m\u001b[1;33m.\u001b[0m\u001b[0mfeature_names\u001b[0m\u001b[1;33m)\u001b[0m\u001b[1;33m\u001b[0m\u001b[0m\n",
      "\u001b[1;32mC:\\Users\\sternheimam\\AppData\\Local\\Continuum\\anaconda2\\lib\\site-packages\\pandas\\core\\generic.pyc\u001b[0m in \u001b[0;36m__getattr__\u001b[1;34m(self, name)\u001b[0m\n\u001b[0;32m   3079\u001b[0m             \u001b[1;32mif\u001b[0m \u001b[0mname\u001b[0m \u001b[1;32min\u001b[0m \u001b[0mself\u001b[0m\u001b[1;33m.\u001b[0m\u001b[0m_info_axis\u001b[0m\u001b[1;33m:\u001b[0m\u001b[1;33m\u001b[0m\u001b[0m\n\u001b[0;32m   3080\u001b[0m                 \u001b[1;32mreturn\u001b[0m \u001b[0mself\u001b[0m\u001b[1;33m[\u001b[0m\u001b[0mname\u001b[0m\u001b[1;33m]\u001b[0m\u001b[1;33m\u001b[0m\u001b[0m\n\u001b[1;32m-> 3081\u001b[1;33m             \u001b[1;32mreturn\u001b[0m \u001b[0mobject\u001b[0m\u001b[1;33m.\u001b[0m\u001b[0m__getattribute__\u001b[0m\u001b[1;33m(\u001b[0m\u001b[0mself\u001b[0m\u001b[1;33m,\u001b[0m \u001b[0mname\u001b[0m\u001b[1;33m)\u001b[0m\u001b[1;33m\u001b[0m\u001b[0m\n\u001b[0m\u001b[0;32m   3082\u001b[0m \u001b[1;33m\u001b[0m\u001b[0m\n\u001b[0;32m   3083\u001b[0m     \u001b[1;32mdef\u001b[0m \u001b[0m__setattr__\u001b[0m\u001b[1;33m(\u001b[0m\u001b[0mself\u001b[0m\u001b[1;33m,\u001b[0m \u001b[0mname\u001b[0m\u001b[1;33m,\u001b[0m \u001b[0mvalue\u001b[0m\u001b[1;33m)\u001b[0m\u001b[1;33m:\u001b[0m\u001b[1;33m\u001b[0m\u001b[0m\n",
      "\u001b[1;31mAttributeError\u001b[0m: 'DataFrame' object has no attribute 'feature_names'"
     ]
    }
   ],
   "source": [
    "predictions = model.predict(test_X)\n",
    "print(\"Mean Absolute Error : \" + str(mean_absolute_error(predictions, test_y)))\n",
    "# 0,0033 etc voor het voorspellen van 'activity' (tijd sinds laatste post)\n",
    "# 0.0154 voor zinslengte"
   ]
  },
  {
   "cell_type": "code",
   "execution_count": 95,
   "metadata": {
    "collapsed": true
   },
   "outputs": [],
   "source": [
    "difference = [x-predictions[i] for i,x in enumerate(test_y)]"
   ]
  },
  {
   "cell_type": "code",
   "execution_count": 98,
   "metadata": {
    "scrolled": false
   },
   "outputs": [
    {
     "data": {
      "image/png": "[encoded data removed]",
      "text/plain": [
       "<matplotlib.figure.Figure at 0x19a7bc50>"
      ]
     },
     "metadata": {},
     "output_type": "display_data"
    }
   ],
   "source": [
    "plt.close()\n",
    "a = [i for i in range(len(test_y))]\n",
    "plt.plot(a,test_y,'go', alpha = 0.1)\n",
    "plt.plot(a,predictions,'mo', alpha = 0.1)\n",
    "plt.plot([np.sqrt(x**2) for x in difference], alpha = 0.5)\n",
    "plt.axhline(0, linewidth=1, color = 'black', alpha = 0.1)\n",
    "plt.ylim(-0.02,)\n",
    "plt.xlim(0,)\n",
    "plt.show()\n",
    "# maar heel korte piekjes bij dagen sinds vorige post\n",
    "# hele lange pieken tot bovenin bij zinslengte"
   ]
  },
  {
   "cell_type": "code",
   "execution_count": 42,
   "metadata": {},
   "outputs": [
    {
     "name": "stdout",
     "output_type": "stream",
     "text": [
      "-2.4671557129857766e-05\n",
      "0.012077691959899708\n",
      "0.0033124757870574115\n"
     ]
    }
   ],
   "source": [
    "print np.mean(difference)\n",
    "print np.std(difference)\n",
    "print np.mean([np.sqrt(x**2) for x in difference]) # mean absolute error"
   ]
  }
 ],
 "metadata": {
  "kernelspec": {
   "display_name": "Python 2",
   "language": "python",
   "name": "python2"
  },
  "language_info": {
   "codemirror_mode": {
    "name": "ipython",
    "version": 2
   },
   "file_extension": ".py",
   "mimetype": "text/x-python",
   "name": "python",
   "nbconvert_exporter": "python",
   "pygments_lexer": "ipython2",
   "version": "2.7.14"
  }
 },
 "nbformat": 4,
 "nbformat_minor": 2
}
