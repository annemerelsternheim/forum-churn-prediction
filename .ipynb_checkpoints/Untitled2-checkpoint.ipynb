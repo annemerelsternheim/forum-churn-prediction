{
 "cells": [
  {
   "cell_type": "code",
   "execution_count": 2,
   "metadata": {
    "collapsed": true
   },
   "outputs": [],
   "source": [
    "from pattern.nl import sentiment"
   ]
  },
  {
   "cell_type": "markdown",
   "metadata": {},
   "source": [
    "For opinion mining there is sentiment(), which returns a (polarity, subjectivity)-tuple, based on a lexicon of **adjectives**. Polarity is a value between -1.0 and +1.0, subjectivity between 0.0 and 1.0. The accuracy is around 82% (P 0.79, R 0.86) for ***book reviews***"
   ]
  },
  {
   "cell_type": "code",
   "execution_count": 23,
   "metadata": {},
   "outputs": [
    {
     "name": "stdout",
     "output_type": "stream",
     "text": [
      "(0.859375, 1.0)\n"
     ]
    }
   ],
   "source": [
    "print sentiment('een onwijs goed boek')"
   ]
  },
  {
   "cell_type": "code",
   "execution_count": 28,
   "metadata": {},
   "outputs": [
    {
     "name": "stdout",
     "output_type": "stream",
     "text": [
      "(0.0, 0.0)\n"
     ]
    }
   ],
   "source": [
    "zin = 'Ik ben Diana alias Meesje en 36 jaar samenwonend'\n",
    "print sentiment(zin)"
   ]
  },
  {
   "cell_type": "code",
   "execution_count": 27,
   "metadata": {},
   "outputs": [
    {
     "name": "stdout",
     "output_type": "stream",
     "text": [
      "(0.0, 0.0)\n"
     ]
    }
   ],
   "source": [
    "zin = 'Afgelopen Woensdag 23 feb. Kreeg ik een telefoontje, mijn moeder'\n",
    "print sentiment(zin)"
   ]
  },
  {
   "cell_type": "code",
   "execution_count": 29,
   "metadata": {},
   "outputs": [
    {
     "name": "stdout",
     "output_type": "stream",
     "text": [
      "(0.0, 0.3)\n"
     ]
    }
   ],
   "source": [
    "zin = 'Geluid stond nog uit en zag dat ze al 3x had gebeld in een korte tijd'\n",
    "print sentiment(zin)"
   ]
  },
  {
   "cell_type": "code",
   "execution_count": 30,
   "metadata": {},
   "outputs": [
    {
     "name": "stdout",
     "output_type": "stream",
     "text": [
      "(-0.3583333333333333, 0.6833333333333333)\n"
     ]
    }
   ],
   "source": [
    "zin = 'Ik was onderweg van werk naar huis en tijdens werk staat de telefoon altijd op stil'\n",
    "print sentiment(zin)"
   ]
  },
  {
   "cell_type": "code",
   "execution_count": 32,
   "metadata": {},
   "outputs": [
    {
     "name": "stdout",
     "output_type": "stream",
     "text": [
      "(-0.24999999999999997, 0.6)\n"
     ]
    }
   ],
   "source": [
    "zin = 'Ik bel haar terug en om een lang verhaal kort te maken. Ze is met \"galstenen\"voor onderzoek naar het ziekenhuis gegaan met Alvleesklierkanker er weer uit..'\n",
    "print sentiment(zin)"
   ]
  },
  {
   "cell_type": "code",
   "execution_count": 33,
   "metadata": {},
   "outputs": [
    {
     "name": "stdout",
     "output_type": "stream",
     "text": [
      "(-0.5, 0.75)\n"
     ]
    }
   ],
   "source": [
    "zin = 'Ik wist zelf wel iets al van deze agressieve vorm van kanker.'\n",
    "print sentiment(zin)"
   ]
  },
  {
   "cell_type": "code",
   "execution_count": 34,
   "metadata": {},
   "outputs": [
    {
     "name": "stdout",
     "output_type": "stream",
     "text": [
      "(0.2, 0.4)\n"
     ]
    }
   ],
   "source": [
    "zin = 'Maar dit was echt een bom inslag voor ons.'\n",
    "print sentiment(zin)"
   ]
  },
  {
   "cell_type": "code",
   "execution_count": 35,
   "metadata": {},
   "outputs": [
    {
     "name": "stdout",
     "output_type": "stream",
     "text": [
      "(0.3888888888888889, 0.9111111111111111)\n"
     ]
    }
   ],
   "source": [
    "zin = 'En tja, gek he nu weet ik niet zo goed of ik hier wel een bericht moet tikken, doe ik hier wel goed aan....? '\n",
    "print sentiment(zin)"
   ]
  },
  {
   "cell_type": "code",
   "execution_count": 3,
   "metadata": {
    "collapsed": true
   },
   "outputs": [],
   "source": [
    "from  pattern.nl import parse,pprint"
   ]
  },
  {
   "cell_type": "code",
   "execution_count": 4,
   "metadata": {},
   "outputs": [
    {
     "name": "stdout",
     "output_type": "stream",
     "text": [
      "de/DT/B-NP/O kat/NN/I-NP/O springt/VBZ/B-VP/O van/IN/B-PP/B-PNP de/DT/B-NP/I-PNP trap/NN/I-NP/I-PNP ././O/O\n"
     ]
    }
   ],
   "source": [
    "print parse('de kat springt van de trap.')"
   ]
  },
  {
   "cell_type": "code",
   "execution_count": 29,
   "metadata": {
    "collapsed": true
   },
   "outputs": [],
   "source": [
    "import nltk"
   ]
  },
  {
   "cell_type": "code",
   "execution_count": 48,
   "metadata": {
    "collapsed": true
   },
   "outputs": [],
   "source": [
    "#postst van 'meesje'\n",
    "Mtext=\"\"\"Hallo, Ik ben nieuw hier en tja... Ik zal maar gewoon beginnen en vraag maar wat je wilt vragen.\n",
    "Ik ben Diana alias Meesje en 36 jaar samenwonend.\n",
    "\n",
    "Afgelopen Woensdag 23 feb. Kreeg ik een telefoontje, mijn moeder. Geluid stond nog uit en zag dat ze al 3x had gebeld in een korte tijd. Ik was onderweg van werk naar huis en tijdens werk staat de telefoon altijd op stil. Ik bel haar terug en om een lang verhaal kort te maken. Ze is met \"galstenen\"voor onderzoek naar het ziekenhuis gegaan met Alvleesklierkanker er weer uit. Ik wist zelf wel iets al van deze agressieve vorm van kanker. Maar dit was echt een bom inslag voor ons. En tja, gek he nu weet ik niet zo goed of ik hier wel een bericht moet tikken, doe ik hier wel goed aan....? Maarja dit soort vraagstukken tollen door mijn hoofd sinds woensdagavond. Ze is donderdag voor de scan gegaan en as Vrijdag weten we hoe erg het echt is. Maar de artsen zeiden letterlijk: \"U heeft 10% kans dat u de 10 maanden haalt.\" Wat moet ik ermee?\n",
    "Wat kan ik ermee? Zoals je merkt ben ik nogal van slag en zoek een beetje steun zodat ik het een plaatsje kan geven en sterk kan zijn voor mijn moeder en ook mijn vader. Arme man, arme moeder! De schrik is wel weer een beetje afgezakt maar nu komt het verdriet en de woede. Ze is deze week ook jarig en ik weet gewoonweg niet hoe ik er mee om moet gaan. Dit heb ik wel gezegd dat ik er moeite mee heb maarja is dat wel eerlijk van mij om dat nu al te zeggen? Mijn ouders en vooral mijn moeder die moeten toch door een hel gaan. Helaas zie ik haar niet zo vaak als ik uberhaupt had gewild vanwege de afstand. Ik wordt wel erg goed gesteund door mijn vriend. Ik sprak mijn oudste broer net en die vroeg \"hoe is het?\" dus ik zeg: naar omstandigheden redelijk en hij \"hoezo dan\"? Ik denk dat hij er nog niet over wilt praten maar is dat erg dat ik verwacht dat anderen net zo reageren als ik? Ik weet het wel, heb helaas meer mensen moeten wegbrengen en iedereen gaat er op zijn eigen manier mee om, maar dit is zo bizar dichtbij!\n",
    "\n",
    "Afijn... mijn vraag is nu denk ik: hoe geef ik het een plaatsje, zodat ik er wat beter en rustiger mee om kan gaan?\n",
    "\n",
    "Sorry voor het vage bericht. Stel je vragen maar ik zal ze zeker beantwoorden.\n",
    "\n",
    "Dank je wel voor je lieve reactie.\n",
    "\n",
    "Ik merk dat ik nu wel wat rustiger ben. Vannacht voor het eerst goed doorgeslapen weer, sinds woensdag. Alleen hoofdpijn en dat zal de stress zijn. Ze is ook jarig van de week en uiteraard beetje hier wat rondgelezen en ja ik moet het nu eventjes beetje loslaten, althans proberen. We wonen ook niet om de hoek en gaan volgende week zaterdag gezellig langs voor dr verjaardag. We kunnen toch niet lang blijven want ze is erg snel moe, ze zit al aan de morfine. En zaterdag weten we ook meer betreft de uitslag van de scan. Ja het is heel dichtbij en de 8baan tja, ik denk dat ik de 8baan maar gewoon moeten laten rijden en go with the flow. Net wat je zegt, niet teveel zoeken op internet. Zag toch al veel nare verhalen over mensen die vanaf het moment dat ze het weten binnen een week of 8 al heen gegaan zijn. Ik hou zelf nu een soort van dagboek bij, ook om later terug te kunnen lezen wat er allemaal gebeurt is en vooral dan met mjn gevoelens.\n",
    "Erg fijn dat ik hier mijn hart kan en mag luchten. dank je wel!\n",
    "\n",
    "Hoi Sonjas,\n",
    "\n",
    "Volgens mij dringt het ook niet helemaal door bij mij, vanwege de emotionele 8baan waar ik in zit.\n",
    "Beter gezegd, ik weet het gewoon even niet. En ik merk nu ik besloten heb om gewoon met \"de flow\"mee te gaan dat dat mij iig op dit moment rust geeft.\n",
    "Dank je wel voor je berichtje\n",
    "\n",
    "Net telefoon gehad van mijn vader. Ma is vanmiddag opgenomen, ze had zoveel pijn en ligt nu aan infuus morfine.\n",
    "Het zou toch niet dat het zo snel gaat?????? Alsjeblieft niet!\"\"\"\n",
    "\n",
    "# oefentekst\n",
    "shorttext=\"\"\"Hallo, Ik ben nieuw hier en tja... Ik zal maar gewoon beginnen en vraag maar wat je wilt vragen.\n",
    "Ik ben Diana alias Meesje en 36 jaar samenwonend.\"\"\"\n",
    "\n",
    "# posts van 'stoffeltje'\n",
    "Stext=\"\"\" hoi diana,\n",
    "het is flink schrikken dit zo plots te horen.\n",
    "het komt als een stomp in je maag aan,en dan......\n",
    "het horen ervan is nog pril,en ja hoe ga je er mee om en wat voor een plaatsje!\n",
    "geef het even rust al is het moeilijk.\n",
    "niet teveel spitten op internet.\n",
    "en je bent hier welkom, er zijn veel mensen die dit ook doormaken of hebben doorgemaakt.\n",
    "iedereen gaat er anders mee om maar gaat door dezelfde 8baan van gevoelens.\n",
    "waar je nu ook al mee in de knoop ligt.\n",
    "het is dichtbij en het is je moeder,dus echt het een plaatsje geven is erg moeilijk.\n",
    "leef met de dag!\n",
    "praat en schrijf van je af,uit je gevoel.\n",
    "het is een rotziekte en grillig.\n",
    "wees er voor je moeder,\n",
    "en praat ook over jou gevoel,zo kan ze ook eerder over haar gevoel praten.\n",
    "veel sterkte stoffeltje.\n",
    "\n",
    "\n",
    "dat is schrikken,zo onverwachts.\n",
    "het is een erg grillige ziekte en het zit op 1 van de moeilijkste plaatsen.\n",
    "je moeder zal wat suffer zijn door de morfine en meer slapen,maar minder pijn hebben.\n",
    "hoop dat het goed aanslaat.\n",
    "je zal wel alle kanten opgaan met je gevoel.\n",
    "huil en praat/schrijf het er zoveel mogelijk uit.\n",
    "<klinkt gemakkelijk>\n",
    "kan je naar haar toe?\n",
    "laat merken dat je er voor haar bent.\n",
    "hou je haaks,en alle kracht toe gewenst.\n",
    "stoffeltje\n",
    "\n",
    "hoi,\n",
    "goed dat je je kan uiten,daar hebben sommige moeite mee.\n",
    "het is idd. goed dat ze op je werk ervan weten ivm. noodgevallen.\n",
    "het zou fijn zijn als je moeder naar huis zou mogen.\n",
    "nou die neut heb je verdiend hoor.\n",
    "goede nachtrust en sterkte :wink:\n",
    "stoffeltje\n",
    "\n",
    "hoi meesje,\n",
    "het is goed dat je hier een lotgenoot vindt,dat praat ook makkelijker.\n",
    "veel sterkte en hou je haaks!\n",
    "stoffeltje :wink:\n",
    "\n",
    "hoi meesje,\n",
    "allereerst nog gefeliciteerd met de verjaardag van je moeder!\n",
    "wat fijn dat de chemo nu door kan gaan.\n",
    "zolang niet kunnen plassen,daar wordt je ook beroerd van.\n",
    "iedereen verwerkt het anders,zo kunnen er idd. gespannen tijden zijn.\n",
    "jou emotie\"s zullen ook verward zijn.\n",
    "ik hoop dat jullie wat meer op 1 lijn kunnen komen.\n",
    "en jou ook wat meer op de hoogte houden.\n",
    "veel sterkte stoffeltje\n",
    "\n",
    "hoi meesje,\n",
    "lees net dat een bekende van je is overleden aan kanker,\n",
    "van harte gecondoleerd met het verlies.\n",
    "toch confronterend zo dichtbij.\n",
    "\n",
    "hoop dat een infuus idd. wat helpt!\n",
    "het is ook een slopende ziekte.\n",
    "veel sterkte,hou je haaks stoffeltje..\"\"\""
   ]
  },
  {
   "cell_type": "code",
   "execution_count": 49,
   "metadata": {},
   "outputs": [],
   "source": [
    "splitM=parse(Mtext,chunks=False).split()\n",
    "splitS=parse(Stext,chunks=False).split()\n",
    "splitshort=parse(shorttext,chunks=False).split()"
   ]
  },
  {
   "cell_type": "code",
   "execution_count": 50,
   "metadata": {},
   "outputs": [
    {
     "name": "stdout",
     "output_type": "stream",
     "text": [
      "9\n",
      "{u'MD': 1, u'CC': 2, u',': 1, u'.': 1, u'PRP': 1, u'JJ': 1, u'UH': 2}\n",
      "13\n",
      "{u'MD': 2, u'VB': 1, u'NN': 1, u'CC': 3, u'.': 1, u'VBP': 1, u'PRP': 3, u'JJ': 1}\n",
      "10\n",
      "{u'MD': 1, u'VBG': 1, u'NN': 2, u'CC': 1, u'CD': 1, u'PRP': 1, u'.': 1, u'NNP': 2}\n",
      "\n",
      "***THE TOTAL COUNTS***\n",
      "[(u'VB', 1),\n",
      " (u'VBG', 1),\n",
      " (u',', 1),\n",
      " (u'CD', 1),\n",
      " (u'VBP', 1),\n",
      " (u'JJ', 2),\n",
      " (u'NNP', 2),\n",
      " (u'UH', 2),\n",
      " (u'NN', 3),\n",
      " (u'.', 3),\n",
      " (u'MD', 4),\n",
      " (u'PRP', 5),\n",
      " (u'CC', 6)]\n"
     ]
    }
   ],
   "source": [
    "import pprint,operator\n",
    "totalcounts=dict()\n",
    "for sent in splitshort:\n",
    "    counts=dict()      # make new dictionary for every sentence\n",
    "    print len(sent)    #report length of sentence\n",
    "    for [word,token] in sent:\n",
    "        counts[token]=counts.get(token,0)+1\n",
    "        totalcounts[token]=totalcounts.get(token,0)+1\n",
    "    print(counts)\n",
    "sorted_total=sorted(totalcounts.items(),key=operator.itemgetter(1))\n",
    "print(\"\\n***THE TOTAL COUNTS***\")\n",
    "pprint.pprint(sorted_total)"
   ]
  },
  {
   "cell_type": "code",
   "execution_count": 88,
   "metadata": {},
   "outputs": [
    {
     "name": "stdout",
     "output_type": "stream",
     "text": [
      "\n",
      "***THE TOTAL COUNTS***\n",
      "{u',': 18,\n",
      " u'.': 71,\n",
      " u'CC': 74,\n",
      " u'CD': 9,\n",
      " u'DT': 35,\n",
      " u'FW': 2,\n",
      " u'IN': 42,\n",
      " u'JJ': 51,\n",
      " u'JJR': 7,\n",
      " u'JJS': 1,\n",
      " u'MD': 54,\n",
      " u'NN': 87,\n",
      " u'NNP': 12,\n",
      " u'NNS': 14,\n",
      " u'PRP': 115,\n",
      " u'PRP$': 11,\n",
      " u'RB': 99,\n",
      " u'RP': 11,\n",
      " u'TO': 4,\n",
      " u'UH': 13,\n",
      " u'VB': 23,\n",
      " u'VBD': 8,\n",
      " u'VBG': 2,\n",
      " u'VBN': 11,\n",
      " u'VBP': 24,\n",
      " u'VBZ': 14}\n",
      "[(u'PRP$', 11),\n",
      " (u'VBG', 2),\n",
      " (u'VBD', 8),\n",
      " (u'VBN', 11),\n",
      " (u'VBP', 24),\n",
      " (u'JJ', 51),\n",
      " (u'VBZ', 14),\n",
      " (u'DT', 35),\n",
      " (u'RP', 11),\n",
      " (u'NN', 87),\n",
      " (u'FW', 2),\n",
      " (u',', 18),\n",
      " (u'.', 71),\n",
      " (u'TO', 4),\n",
      " (u'PRP', 115),\n",
      " (u'RB', 99),\n",
      " (u'NNS', 14),\n",
      " (u'NNP', 12),\n",
      " (u'VB', 23),\n",
      " (u'CC', 74),\n",
      " (u'CD', 9),\n",
      " (u'IN', 42),\n",
      " (u'MD', 54),\n",
      " (u'JJS', 1),\n",
      " (u'JJR', 7),\n",
      " (u'UH', 13)]\n"
     ]
    }
   ],
   "source": [
    "import pprint,operator\n",
    "Mtotalcounts=dict()\n",
    "for sent in splitM:\n",
    "    counts=dict()      # make new dictionary for every sentence\n",
    "    #print len(sent)    #report length of sentence\n",
    "    for [word,token] in sent:\n",
    "        counts[token]=counts.get(token,0)+1\n",
    "        Mtotalcounts[token]=Mtotalcounts.get(token,0)+1\n",
    "    #print(counts)\n",
    "Msorted_total=sorted(Mtotalcounts.items(),key=operator.itemgetter(1))\n",
    "Mexperimental_total=Mtotalcounts.items()\n",
    "print(\"\\n***THE TOTAL COUNTS***\")\n",
    "#pprint.pprint(Msorted_total)\n",
    "pprint.pprint(Mtotalcounts)\n",
    "pprint.pprint(Mexperimental_total)"
   ]
  },
  {
   "cell_type": "code",
   "execution_count": 91,
   "metadata": {},
   "outputs": [
    {
     "name": "stdout",
     "output_type": "stream",
     "text": [
      "\n",
      "***THE TOTAL COUNTS***\n",
      "{u',': 8,\n",
      " u'.': 50,\n",
      " u'CC': 27,\n",
      " u'CD': 11,\n",
      " u'DT': 27,\n",
      " u'IN': 28,\n",
      " u'JJ': 24,\n",
      " u'JJR': 2,\n",
      " u'MD': 32,\n",
      " u'NN': 71,\n",
      " u'NNS': 16,\n",
      " u'PRP': 59,\n",
      " u'PRP$': 4,\n",
      " u'RB': 45,\n",
      " u'RP': 7,\n",
      " u'TO': 1,\n",
      " u'UH': 7,\n",
      " u'VB': 12,\n",
      " u'VBD': 2,\n",
      " u'VBG': 3,\n",
      " u'VBN': 8,\n",
      " u'VBP': 12,\n",
      " u'VBZ': 7}\n",
      "[(u'PRP$', 4),\n",
      " (u'VBG', 3),\n",
      " (u'VBD', 2),\n",
      " (u'VBN', 8),\n",
      " (u'VBP', 12),\n",
      " (u'JJ', 24),\n",
      " (u'VBZ', 7),\n",
      " (u'DT', 27),\n",
      " (u'RP', 7),\n",
      " (u'NN', 71),\n",
      " (u',', 8),\n",
      " (u'.', 50),\n",
      " (u'TO', 1),\n",
      " (u'PRP', 59),\n",
      " (u'RB', 45),\n",
      " (u'NNS', 16),\n",
      " (u'VB', 12),\n",
      " (u'CC', 27),\n",
      " (u'CD', 11),\n",
      " (u'IN', 28),\n",
      " (u'MD', 32),\n",
      " (u'JJR', 2),\n",
      " (u'UH', 7)]\n"
     ]
    }
   ],
   "source": [
    "import pprint,operator\n",
    "Stotalcounts=dict()\n",
    "for sent in splitS:\n",
    "    counts=dict()      # make new dictionary for every sentence\n",
    "    #print len(sent)    #report length of sentence\n",
    "    for [word,token] in sent:\n",
    "        counts[token]=counts.get(token,0)+1\n",
    "        Stotalcounts[token]=Stotalcounts.get(token,0)+1\n",
    "    #print(counts)\n",
    "Ssorted_total=sorted(Stotalcounts.items(),key=operator.itemgetter(1))\n",
    "Sexperimental_total=Stotalcounts.items()\n",
    "print(\"\\n***THE TOTAL COUNTS***\")\n",
    "#pprint.pprint(Ssorted_total)\n",
    "pprint.pprint(Stotalcounts)\n",
    "pprint.pprint(Sexperimental_total)"
   ]
  },
  {
   "cell_type": "markdown",
   "metadata": {},
   "source": [
    "# DE GEWELDIGE PLOTCODE"
   ]
  },
  {
   "cell_type": "code",
   "execution_count": 68,
   "metadata": {},
   "outputs": [
    {
     "data": {
      "image/png": "[encoded data removed]",
      "text/plain": [
       "<matplotlib.figure.Figure at 0x97658d0>"
      ]
     },
     "metadata": {},
     "output_type": "display_data"
    }
   ],
   "source": [
    "import matplotlib.pyplot as plt\n",
    "\n",
    "x_valM=[x[0] for x in Msorted_total]\n",
    "#print(x_valM)\n",
    "y_valM=[x[1] for x in Msorted_total]\n",
    "#print(y_valM)\n",
    "\n",
    "figM=plt.figure(figsize=plt.figaspect(1/4.0)) # makes the plot longer, hence more readable\n",
    "axM=figM.add_subplot(111)\n",
    "\n",
    "axM.plot(y_valM)\n",
    "axM.plot\n",
    "axM.set_xticks(range(0,len(x_valM)))\n",
    "axM.set_xticklabels(x_valM)\n",
    "\n",
    "plt.show()\n",
    "#fig.savefig(\"showoff.png\")"
   ]
  },
  {
   "cell_type": "code",
   "execution_count": 94,
   "metadata": {},
   "outputs": [
    {
     "data": {
      "image/png": "[encoded data removed]",
      "text/plain": [
       "<matplotlib.figure.Figure at 0xa25e7b8>"
      ]
     },
     "metadata": {},
     "output_type": "display_data"
    }
   ],
   "source": [
    "import matplotlib.pyplot as plt\n",
    "\n",
    "x_valS=[x[0] for x in Sexperimental_total]\n",
    "#print(x_valS)\n",
    "y_valS=[x[1] for x in Sexperimental_total]\n",
    "#print(y_valS)\n",
    "\n",
    "figS=plt.figure(figsize=plt.figaspect(1/4.0)) # makes the plot longer, hence more readable\n",
    "axS=figS.add_subplot(111)\n",
    "\n",
    "axS.plot(y_valS)\n",
    "axS.set_xticks(range(0,len(x_valS)))\n",
    "axS.set_xticklabels(x_valS)\n",
    "\n",
    "plt.show()\n",
    "#fig.savefig(\"showoff.png\")"
   ]
  },
  {
   "cell_type": "code",
   "execution_count": 117,
   "metadata": {},
   "outputs": [
    {
     "ename": "ValueError",
     "evalue": "x and y must be the same size",
     "output_type": "error",
     "traceback": [
      "\u001b[1;31m---------------------------------------------------------------------------\u001b[0m",
      "\u001b[1;31mValueError\u001b[0m                                Traceback (most recent call last)",
      "\u001b[1;32m<ipython-input-117-9a2c2451cee8>\u001b[0m in \u001b[0;36m<module>\u001b[1;34m()\u001b[0m\n\u001b[0;32m      3\u001b[0m \u001b[1;31m# you should define a general 'yval' list, to which you can map both.\u001b[0m\u001b[1;33m\u001b[0m\u001b[1;33m\u001b[0m\u001b[0m\n\u001b[0;32m      4\u001b[0m \u001b[0max\u001b[0m\u001b[1;33m.\u001b[0m\u001b[0mscatter\u001b[0m\u001b[1;33m(\u001b[0m\u001b[0mx_valS\u001b[0m\u001b[1;33m,\u001b[0m\u001b[0my_valS\u001b[0m\u001b[1;33m,\u001b[0m\u001b[0mcolor\u001b[0m\u001b[1;33m=\u001b[0m\u001b[1;34m'red'\u001b[0m\u001b[1;33m)\u001b[0m\u001b[1;33m\u001b[0m\u001b[0m\n\u001b[1;32m----> 5\u001b[1;33m \u001b[0max\u001b[0m\u001b[1;33m.\u001b[0m\u001b[0mscatter\u001b[0m\u001b[1;33m(\u001b[0m\u001b[0mx_valS\u001b[0m\u001b[1;33m,\u001b[0m\u001b[0my_valM\u001b[0m\u001b[1;33m,\u001b[0m\u001b[0mcolor\u001b[0m\u001b[1;33m=\u001b[0m\u001b[1;34m'blue'\u001b[0m\u001b[1;33m)\u001b[0m\u001b[1;33m\u001b[0m\u001b[0m\n\u001b[0m\u001b[0;32m      6\u001b[0m \u001b[1;33m\u001b[0m\u001b[0m\n\u001b[0;32m      7\u001b[0m \u001b[0mplt\u001b[0m\u001b[1;33m.\u001b[0m\u001b[0mshow\u001b[0m\u001b[1;33m(\u001b[0m\u001b[1;33m)\u001b[0m\u001b[1;33m\u001b[0m\u001b[0m\n",
      "\u001b[1;32mC:\\Users\\sternheimam\\AppData\\Local\\Continuum\\anaconda2\\lib\\site-packages\\matplotlib\\__init__.pyc\u001b[0m in \u001b[0;36minner\u001b[1;34m(ax, *args, **kwargs)\u001b[0m\n\u001b[0;32m   1708\u001b[0m                     warnings.warn(msg % (label_namer, func.__name__),\n\u001b[0;32m   1709\u001b[0m                                   RuntimeWarning, stacklevel=2)\n\u001b[1;32m-> 1710\u001b[1;33m             \u001b[1;32mreturn\u001b[0m \u001b[0mfunc\u001b[0m\u001b[1;33m(\u001b[0m\u001b[0max\u001b[0m\u001b[1;33m,\u001b[0m \u001b[1;33m*\u001b[0m\u001b[0margs\u001b[0m\u001b[1;33m,\u001b[0m \u001b[1;33m**\u001b[0m\u001b[0mkwargs\u001b[0m\u001b[1;33m)\u001b[0m\u001b[1;33m\u001b[0m\u001b[0m\n\u001b[0m\u001b[0;32m   1711\u001b[0m         \u001b[0mpre_doc\u001b[0m \u001b[1;33m=\u001b[0m \u001b[0minner\u001b[0m\u001b[1;33m.\u001b[0m\u001b[0m__doc__\u001b[0m\u001b[1;33m\u001b[0m\u001b[0m\n\u001b[0;32m   1712\u001b[0m         \u001b[1;32mif\u001b[0m \u001b[0mpre_doc\u001b[0m \u001b[1;32mis\u001b[0m \u001b[0mNone\u001b[0m\u001b[1;33m:\u001b[0m\u001b[1;33m\u001b[0m\u001b[0m\n",
      "\u001b[1;32mC:\\Users\\sternheimam\\AppData\\Local\\Continuum\\anaconda2\\lib\\site-packages\\matplotlib\\axes\\_axes.pyc\u001b[0m in \u001b[0;36mscatter\u001b[1;34m(self, x, y, s, c, marker, cmap, norm, vmin, vmax, alpha, linewidths, verts, edgecolors, **kwargs)\u001b[0m\n\u001b[0;32m   4017\u001b[0m         \u001b[0my\u001b[0m \u001b[1;33m=\u001b[0m \u001b[0mnp\u001b[0m\u001b[1;33m.\u001b[0m\u001b[0mma\u001b[0m\u001b[1;33m.\u001b[0m\u001b[0mravel\u001b[0m\u001b[1;33m(\u001b[0m\u001b[0my\u001b[0m\u001b[1;33m)\u001b[0m\u001b[1;33m\u001b[0m\u001b[0m\n\u001b[0;32m   4018\u001b[0m         \u001b[1;32mif\u001b[0m \u001b[0mx\u001b[0m\u001b[1;33m.\u001b[0m\u001b[0msize\u001b[0m \u001b[1;33m!=\u001b[0m \u001b[0my\u001b[0m\u001b[1;33m.\u001b[0m\u001b[0msize\u001b[0m\u001b[1;33m:\u001b[0m\u001b[1;33m\u001b[0m\u001b[0m\n\u001b[1;32m-> 4019\u001b[1;33m             \u001b[1;32mraise\u001b[0m \u001b[0mValueError\u001b[0m\u001b[1;33m(\u001b[0m\u001b[1;34m\"x and y must be the same size\"\u001b[0m\u001b[1;33m)\u001b[0m\u001b[1;33m\u001b[0m\u001b[0m\n\u001b[0m\u001b[0;32m   4020\u001b[0m \u001b[1;33m\u001b[0m\u001b[0m\n\u001b[0;32m   4021\u001b[0m         \u001b[1;32mif\u001b[0m \u001b[0ms\u001b[0m \u001b[1;32mis\u001b[0m \u001b[0mNone\u001b[0m\u001b[1;33m:\u001b[0m\u001b[1;33m\u001b[0m\u001b[0m\n",
      "\u001b[1;31mValueError\u001b[0m: x and y must be the same size"
     ]
    }
   ],
   "source": [
    "fig=plt.figure(figsize=plt.figaspect(1/4.0)) # makes the plot longer, hence more readable\n",
    "ax=fig.add_subplot(111)\n",
    "# you should define a general 'yval' list, to which you can map both.\n",
    "ax.scatter(x_valS,y_valS,color='red')\n",
    "ax.scatter(x_valS,y_valM,color='blue')\n",
    "\n",
    "plt.show()"
   ]
  },
  {
   "cell_type": "code",
   "execution_count": null,
   "metadata": {
    "collapsed": true
   },
   "outputs": [],
   "source": []
  }
 ],
 "metadata": {
  "kernelspec": {
   "display_name": "Python 2",
   "language": "python",
   "name": "python2"
  },
  "language_info": {
   "codemirror_mode": {
    "name": "ipython",
    "version": 2
   },
   "file_extension": ".py",
   "mimetype": "text/x-python",
   "name": "python",
   "nbconvert_exporter": "python",
   "pygments_lexer": "ipython2",
   "version": "2.7.14"
  }
 },
 "nbformat": 4,
 "nbformat_minor": 2
}
