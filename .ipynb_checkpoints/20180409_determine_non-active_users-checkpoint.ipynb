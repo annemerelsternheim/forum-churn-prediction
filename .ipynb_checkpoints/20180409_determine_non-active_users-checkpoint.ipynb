{
 "cells": [
  {
   "cell_type": "code",
   "execution_count": 62,
   "metadata": {
    "collapsed": true
   },
   "outputs": [],
   "source": [
    "# imports\n",
    "import json, re, time, unicodedata, unidecode, itertools, os,csv\n",
    "from collections import defaultdict\n",
    "from datetime import date, datetime, timedelta\n",
    "import numpy as np\n",
    "from nltk.tokenize import sent_tokenize, word_tokenize\n",
    "from pattern.nl import sentiment, parse, split\n",
    "import pandas as pd\n",
    "from tqdm import tqdm_notebook as tqdm\n",
    "from pprint import pprint\n",
    "import matplotlib.pyplot as plt\n",
    "import networkx as nx"
   ]
  },
  {
   "cell_type": "code",
   "execution_count": 2,
   "metadata": {
    "collapsed": true
   },
   "outputs": [],
   "source": [
    "# files\n",
    "topics = json.load(open('D:\\\\4. Data\\\\Amazones_Forum_Export_JSON\\\\2017-12-07T13-36-51_amazones_forum_topics_export.json'))\n",
    "posts = json.load(open('D:\\\\4. Data\\\\Amazones_Forum_Export_JSON\\\\2017-12-07T13-39-20_amazones_forum_posts_export.json'))\n",
    "users = json.load(open('D:\\\\4. Data\\\\Amazones_Forum_Export_JSON\\\\2017-12-07T13-39-20_amazones_users_export.json'))"
   ]
  },
  {
   "cell_type": "code",
   "execution_count": 38,
   "metadata": {
    "collapsed": true,
    "scrolled": false
   },
   "outputs": [],
   "source": [
    "userlist_u = set()\n",
    "for x in users:\n",
    "    userlist_u.add(x['Uid'])"
   ]
  },
  {
   "cell_type": "code",
   "execution_count": 43,
   "metadata": {},
   "outputs": [
    {
     "name": "stdout",
     "output_type": "stream",
     "text": [
      "9177\n"
     ]
    }
   ],
   "source": [
    "print len(userlist_u)"
   ]
  },
  {
   "cell_type": "code",
   "execution_count": 41,
   "metadata": {
    "collapsed": true
   },
   "outputs": [],
   "source": [
    "userlist_tp = set()\n",
    "for x in topics:\n",
    "    userlist_tp.add(x['Author uid'])\n",
    "for x in posts:\n",
    "    userlist_tp.add(x['Auteur-uid'])"
   ]
  },
  {
   "cell_type": "code",
   "execution_count": 44,
   "metadata": {},
   "outputs": [
    {
     "name": "stdout",
     "output_type": "stream",
     "text": [
      "2238\n"
     ]
    }
   ],
   "source": [
    "print len(userlist_tp)"
   ]
  },
  {
   "cell_type": "code",
   "execution_count": 55,
   "metadata": {
    "collapsed": true
   },
   "outputs": [
    {
     "name": "stdout",
     "output_type": "stream",
     "text": [
      "108[u'966',\n",
      " u'2103',\n",
      " u'3519',\n",
      " u'2830',\n",
      " u'1172',\n",
      " u'1179',\n",
      " u'4037',\n",
      " u'2333',\n",
      " u'6141',\n",
      " u'6147',\n",
      " u'6145',\n",
      " u'6144',\n",
      " u'2877',\n",
      " u'1143',\n",
      " u'1140',\n",
      " u'1146',\n",
      " u'1147',\n",
      " u'1786',\n",
      " u'2208',\n",
      " u'1814',\n",
      " u'1609',\n",
      " u'3224',\n",
      " u'1605',\n",
      " u'1774',\n",
      " u'2998',\n",
      " u'1552',\n",
      " u'1554',\n",
      " u'2184',\n",
      " u'1801',\n",
      " u'0',\n",
      " u'3808',\n",
      " u'2228',\n",
      " u'2089',\n",
      " u'2080',\n",
      " u'2717',\n",
      " u'933',\n",
      " u'3247',\n",
      " u'1711',\n",
      " u'1710',\n",
      " u'1131',\n",
      " u'1004',\n",
      " u'1923',\n",
      " u'2528',\n",
      " u'1825',\n",
      " u'1821',\n",
      " u'929',\n",
      " u'2413',\n",
      " u'926',\n",
      " u'1034',\n",
      " u'1215',\n",
      " u'1452',\n",
      " u'1101',\n",
      " u'3263',\n",
      " u'1204',\n",
      " u'3672',\n",
      " u'2389',\n",
      " u'902',\n",
      " u'904',\n",
      " u'905',\n",
      " u'1845',\n",
      " u'3458',\n",
      " u'1737',\n",
      " u'1479',\n",
      " u'3844',\n",
      " u'2287',\n",
      " u'1870',\n",
      " u'2114',\n",
      " u'1683',\n",
      " u'1911',\n",
      " u'1912',\n",
      " u'3124',\n",
      " u'1617',\n",
      " u'962',\n",
      " u'968',\n",
      " u'2636',\n",
      " u'3040',\n",
      " u'1090',\n",
      " u'1098',\n",
      " u'1527',\n",
      " u'987',\n",
      " u'1047',\n",
      " u'2777',\n",
      " u'4456',\n",
      " u'951',\n",
      " u'917',\n",
      " u'1069',\n",
      " u'1403',\n",
      " u'2345',\n",
      " u'2126',\n",
      " u'947',\n",
      " u'2655',\n",
      " u'4487',\n",
      " u'3211',\n",
      " u'940',\n",
      " u'4714',\n",
      " u'2332',\n",
      " u'6134',\n",
      " u'2464',\n",
      " u'4278',\n",
      " u'1354',\n",
      " u'1514',\n",
      " u'4800',\n",
      " u'2672',\n",
      " u'1986',\n",
      " u'1748',\n",
      " u'1161',\n",
      " u'1564',\n",
      " u'3199']\n",
      "\n"
     ]
    }
   ],
   "source": [
    "# if a user has been active, but is not in the active-users-list, then dead or something\n",
    "goners = []\n",
    "for user in userlist_tp:\n",
    "    if user in userlist_u:\n",
    "        pass\n",
    "    else:\n",
    "        goners.append(user)\n",
    "print len(goners),\n",
    "pprint(goners)"
   ]
  },
  {
   "cell_type": "code",
   "execution_count": 51,
   "metadata": {},
   "outputs": [
    {
     "data": {
      "application/vnd.jupyter.widget-view+json": {
       "model_id": "d59ce8975dd64eb1be90b004b28d9da1",
       "version_major": 2,
       "version_minor": 0
      },
      "text/plain": [
       "A Jupyter Widget"
      ]
     },
     "metadata": {},
     "output_type": "display_data"
    },
    {
     "name": "stdout",
     "output_type": "stream",
     "text": [
      "\n"
     ]
    },
    {
     "data": {
      "application/vnd.jupyter.widget-view+json": {
       "model_id": "357aeb844eaf439b8e2e5c04a27d050e",
       "version_major": 2,
       "version_minor": 0
      },
      "text/plain": [
       "A Jupyter Widget"
      ]
     },
     "metadata": {},
     "output_type": "display_data"
    },
    {
     "name": "stdout",
     "output_type": "stream",
     "text": [
      "\n"
     ]
    }
   ],
   "source": [
    "authortexts = defaultdict(list)\n",
    "\n",
    "for x in tqdm(topics):\n",
    "    if x['Author uid'] in goners:\n",
    "        authortexts[x['Author uid']].append(x['Body'])\n",
    "for x in tqdm(posts):\n",
    "    if x['Auteur-uid'] in goners:\n",
    "        authortexts[x['Auteur-uid']].append(x['Body'])"
   ]
  },
  {
   "cell_type": "code",
   "execution_count": 91,
   "metadata": {
    "scrolled": false
   },
   "outputs": [
    {
     "name": "stdout",
     "output_type": "stream",
     "text": [
      "(u'1143', u'<p>Vanochtend bij oncoloog geweest, tunmormarker was nog niet bekend, hoor ik morgen. Doe het op combi Herceptin en Perjeta al een jaar goed. Gaan voorlopig zo verder. Hartpompfunctie stabiel. Krijg begin feb weer scan. Wordt iedere 3 maanden gecheckt. Sporten is heel belangrijk merk ik. In de periode dat ik docetaxel kreeg, ging dat veel minder maar het afgelopen jaar is het sporten beter gegaan. Sporten / bewegen icm chemo is aan te raden. (moet het wel kunnen natuurlijk). Ik zelf doe cardio en spierkrachtoefeningen 1 x pw bij de fysio. Daarnaast 2 - 3 pw hardlopen. Op dit moment doe ik het hardlopen nu op de loopband bij de fysio omdat het nu te koud is en mijn fysio mij het aanbod deed om daar te komen lopen. Zodra het minder koud is, ga ik weer lekker buiten lopen. Daarnaast 1-2 pw yoga. Kortom veel bewegen.<br />\\nBijwerkingen heb ik  niet echt. Ge\\xefrriteerde neusslijmvliezen wat bij mij betekent buiten een loopneus en tranende ogen. Mijn darmen zijn ook sneller van slag maar of het echt van de perjeta komt durf ik niet te zeggen. Ik heb een prikkelbare dikke darm.<br />\\nOh ja en natuurlijk nog het vochtvasthouden. Daar heb ik vooral de eerste week na toediening last van maar daar staat Herceptin bekend om. Ik merk het vooral aan mijn oedeemarm.<br />\\nHoop dat je hiermee uit de voeten kunt. Mocht je nog meer vragen hebben Mammamuur stuur me een pb.</p>\\n')\n",
      "\n",
      "(u'1140', u'<p>zie bij we denken aan je!!!!</p>\\n<p>helaas is het niet goed</p>\\n')\n",
      "\n",
      "(u'1146', u\"<p>Da's nou een vraag waar ik mee bezig ben. Ik heb twee jaar geleden borstkanker gekregen. Het gaat nu eigenlijk best goed met me. Ik was/ben vrijgezel (raar woord). Mijn kop stond er ook niet naar. Maar nu kom ik zo nu en dan wel eens iemand tegen die ik leuk vind. Maar weet niet zo goed hoe ik daar mee om moet gaan. Aan de ene kant denk ik, vertel maar meteen, het is tenslotte een groot onderdeel van je leven. Maar ben dan ook bang dat ik mensen afschrik. Wat ik me dan ook wel kan voorstellen. Zie op om de eerste keer weer intiem met iemand te zijn, een verandert lijf,overgang enz. Vraag me af of meer mensen hier over nadenken en hoe zij er mee omgaan.</p>\\n\")\n",
      "\n",
      "(u'1147', u\"<p>De operatie van mijn linkerborst (amputatie+okseltoilet) staat gepland in week 41. Na 3 dagen gaat waarschijnlijk de eerste drain er uit en als ik het aandurf om het flesje(?) van de andere drain zelf te verwisselen mag ik naar huis. Ik weet alleen niet wat ik mij hierbij moet voorstellen. Hoe groot is bijvoorbeeld zo'n flesje?</p>\\n<p>Nu mijn kledingvraag.<br />\\nMag je je zelfstandig wassen, uit bed enz.? Hoe zit het dan met die drains? Is het dan verstandiger om van die leuke pyama's met gezellige gekleurde knoopjes te kopen? En ik wil niet de hele dag in pyama liggen, maar ik weet mij niet voor te stellen waar en of er slangetjes of zo zitten waardoor het aan- en uitkleden een puzzel wordt.  :roll:</p>\\n\")\n",
      "\n",
      "(u'2655', u\"<p>Dank voor alle reacties, alhoewel ik me niet in alles kan vinden, het doet me toch wel een beetje goed. Ik zou willen dat ik me goed genoeg voel om gewoon leuke dingen te doen. Maar ik vrees dat drie keer kanker (heb al twee keer eerder borstkanker incl alle fijne behandelingen gehad) gewoon te veel is om me daar nu op dit moment overheen te zetten. Drie keer chemo in 5 jaar is ook niet echt goed voor het dappere lijf, dat het ooit zo goed heeft gedaan. <br />\\nIk denk dat ik nog het meest teleurgesteld ben omdat ik 2x dacht dat ik echt 100% beter was, beide keren werd de chemo 'levensreddend' genoemd en ik was daar zelf ook van overtuigd. Dit bleek niet een klein beetje anders maar volledig. Want (en ik weet even niet meer wie dit naar me mailde)  artsen hebben mij wel degelijk uitbehandeld genoemd. Treurig maar waar.</p>\\n\")\n",
      "\n",
      "(u'3040', u'<p>Ik wens je veel sterkte toe, Gelukkig heb je een heel mooi afgestemd werkvolgorde die alle mogelijke missers proberen te voorkomen.<br />\\nEen heel goed opgezet programma waar geleerd is van missers een betrouwbare werkmethode te ontwikkelen, dit geeft mij en ik hoop ook jou: vertrouwen. <br />\\nlieve groet Lyra</p>\\n')\n",
      "\n",
      "(u'2717', u'<p>Hoi Radje64, ik doe met de studie die je beschrijft mee, de ATX-studie. Ik heb arm A gelood, dat wil zeggen zonder de Xeloda (capecitabine). Ik begin morgen met de 3de kuur. Eind februari wordt er een ct-scan gemaakt om te zien of het aanslaat. Ik kreeg de diagnose borstkanker eind september 2009 en kreeg 2 maanden later te horen dat er ook uitzaaiingen zijn in botten en lever.</p>\\n')\n",
      "\n",
      "(u'1774', u'<p>Ik ben op zoek naar ervaringsverhalen van vrouwen die hun prothese hebben laten verwijderen.Zelf wil ik dit laten doen omdat het helemaal ingekapseld zit en omdat de huid bestraald is kan er op dit moment niks aan gedaan worden.Behalve dan verwijderen als dat \\xfcberhaupt al kan.Ik heb 15 april een gesprek.De vorige PC durft het niet aan ,de chirurg wel en ik heb nu een gesprek met de nieuwe chirurg.Ik wilde een second opinion in een nader ziekenhuis maar ze willen me in het ziekenhuis houden waar ik al loop en me op deze manier een SO geven.Zijn er hier dames die de prothese hebben laten verwijderen?</p>\\n')\n",
      "\n",
      "(u'947', u'<p>Swissy, goed dat je het heb gedaan. Maar zoals ik lees laat jij ook je kopjes (zoals ik za altijd noem) ook tatoeren??? Ik heb mijn knopjes latenmaken en toen het geheel laten tatoeren. Je hebt dan iets meer vorm erin. <br />\\nIk ben zelf wel blij met het eind resultaat alleen het is wel even wennen als je al heel lang geen tepels heb gehad. Je moet ereens weer rekening meehouden. En de kleur is ook harder dus als je iets wits aanheb dan schijnt het (bij mij altijd) door.</p>\\n<p>Succes meid</p>\\n<p>groetjes Patries</p>\\n')\n",
      "\n",
      "(u'2528', u'<p>Zucht, de tandarts heeft een hele goede kerst door mij...<br />\\nIk durf het mijn oncoloog bijna niet te vertellen,  dit wordt denk ik stoppen met APD</p>\\n')\n",
      "\n",
      "(u'3124', u'<p>hoi, Mieke heeft ook hersenuitzaaiingen gekregen nadat ze perjeta en herceptin al een tijdje had.en ik dacht dat ik het nog gelezen had bij anderen. Ik denk dat de hersen barriere de chemo wel door laat ( bestraling maakt de hersen barriere stuk) operatie ws ook wel. als oncologen het protocol ook niet kunnen aankaarten, misschien als ze merken dat er toch veel patienten ermee te maken krijgen. bij mijn ziekenhuis ben ik de tweede die TMD-1 krijgt.</p>\\n')\n",
      "\n",
      "(u'0', u'<p>\\n</p><div class=\"bb-quote\"><b>Maisa schreef:</b><br /><blockquote class=\"bb-quote-body\">Erica, tamoxifen kost bijna niets, het patent is verlopen. <a href=\"http://www.medicijnkosten.nl\" rel=\"nofollow\">http://www.medicijnkosten.nl</a> geeft een prijs van 2,74 euro voor 15 stuks. Zoladex kost volgens dezelfde site 59 euro/drie maanden. Ik gebruikte in 2002 al Zoladex en heb toen wel eens gehoord over prijzen van 500-600 euro/injectie. Die 59 euro viel me eerlijk gezegd mee toen ik het net intypte.\\n<p>Het zou eigenlijk raar zijn als je een eierstokverwijdering zou \\'moeten\\' doen om financi\\xeble redenen.</p></blockquote>\\n</div>\\n\\n<p>@ Maisa<br />\\nZoladex kost volgens deze site inderdaad minder dan ik had gedacht, maar nog steeds rond de 1400 per jaar, geen \\u20ac59 per maand. Dat houd in dat ik volgend jaar in maart nog steeds \\u20ac 400 eigen bijdrage zal moeten betalen. Zou niet weten waar ik het vandaan moest halen, misschien nog een extra baan naast mijn fulltime baan. Gelukkig heb je gelijk met de Tamoxifen, die ga ik voortaan gewoon zelf betalen per drie maanden.</p>\\n')\n",
      "\n",
      "(u'933', u'<p>Hallo allemaal,</p>\\n<p>Het wordt weer eens tijd voor een ijscoupemeeting bij ijssalon Clevers in Overloon  8)!</p>\\n<p>We zouden dit evt. kunnen combineren met smiddags een bezoek aan het Zoo parc in Overloon en dit afsluiten met een ijsje.</p>\\n<p>Wie gaat er mee op donderdag 7 augustus?</p>\\n<p>Graag even doorgeven wat je voorkeur is, dierentuin met daarna ijsje eten of alleen een ijsje eten.</p>\\n<p>Groetjes Nana</p>\\n')\n",
      "\n",
      "(u'2464', u'<p>Ik had vanavond een oudergesprek op de basisschool van mijn oudste dochtertje. Ik zat me rot te haasten met het avondeten, en de keuken opruimen, zodat ik er op tijd kon zijn. Had nog wel ff tijd voor een kopje thee voordat ik moest gaan. Dus ik drink mijn thee op, de telefoon gaat, (mijn beste vriendin) en ik begin te kletsen [phone] , en vergeet dus die hele afspraak op school...... Tot een half uur later het belletje in mijn hoofd (hard) begint te rinkelen! :shock:  Vijftien minuten te laat, en vol excuses, mocht ik toch nog binnen komen hoor! En wat was het fijn om te horen hoe gaat mijn meissie het doet op school \\\\:D/ ! <br />\\nMaar waar mijn hersens af en toe zitten?????? :roll:</p>\\n')\n",
      "\n",
      "(u'2998', u\"<p>Ik zit even met een vraag: Ik zit nu na m'n tweede TAC kuur en zal a.s. vrijdag zo'n beetje op mijn minste weerstand qua gezondheid zitten. Ik heb uiteraard braaf de neulestaspuit gehad. Nu wil ik van jullie graag weten hoe erg dit allemaal is en hoe erg rekening je er mee moet houden. Het zit nl zo: mijn broer woont in Zweden en wil juist dit weekend voor me over komen. Maarrrrr hij is dus erg verkouden (nu, maandag) droge ogen, zere keel. Wat is wijsheid? Kan ie geoon komen? Want dat ticket moet geboekt worden... Normaal hou ik er wel rekening mee, zoek niet uitgebreid mensenmassa's op en ga verkouden mensen beetje uit de weg. Wat denken jullie ervan? Als ie nu niet kan komen, gaat het pas in april ofzo weer lukken.</p>\\n\")\n",
      "\n",
      "(u'1090', u'<p>\\n</p><div class=\"bb-quote\"><b>Marielle schreef:</b><br /><blockquote class=\"bb-quote-body\">\\n<div class=\"bb-quote\"><b>Maisa schreef:</b><br /><blockquote class=\"bb-quote-body\">Wat erg, Mariahelena  :cry: , om zo snel na je behandelingen alweer met borstkanker geconfronteerd te worden... En dan ook nog met uitzaaiingen naar de longen  :? . Er zijn in ieder geval twee andere Amazones met uitzaaiingen naar de longen (Mirenstijn en Angel70), misschien kun je met hen ervaringen uitwisselen? \\n<p>Voor nu wens ik je heel veel sterkte en ik hoop dat je steun hebt aan ervaringen van anderen.</p></blockquote>\\n</div>\\n</blockquote>\\n</div>\\n\\n<p>Dat was ff slikken, mijn naam naast die van Angel.... Maar ok, i\\'m still standing! Alive and kicking! <br />\\nMariahelena, je mag me altijd een prive berichtje sturen hoor als je vragen hebt. Sterkte meid!</p>\\n')\n",
      "\n",
      "(u'1098', u\"<p>Hoi allemaal</p>\\n<p>Vorig jaar is er bij mij een aangetaste supraclaviculaire klier gevonden. Ik heb daarvoor 6 chemo's gehad en 33 bestralingen. Nu.. nog geen jaar later vind de internist bij de 3-maandelijkse controle weer een opgezette klier in het supracl. gebied. Wie heeft hier ervaring mee en wie weet hoe dat zou kunnen zo kort na een flinke dosis bestraling?</p>\\n\")\n",
      "\n",
      "(u'1403', u'<p>Erug mooie gezegd allemaal! [ok] <br />\\nHeb dit hoekje net gevonden kom zeker vaker terug hier.</p>\\n<p>Jeske.</p>\\n')\n",
      "\n",
      "(u'1786', u\"<p>Had me voorgenomen om na m'n vakantie zonder muts door het leven te gaan. Begin al een behoorlijk koppie haar te hebben en het is blijkbaar lekker zacht, want alle vier de kinderen komen er af en toe eens over strelen. Leuk, zo , die kleine kinderhandjes op je hoofd ...</p>\\n\")\n",
      "\n",
      "(u'1069', u'<p>thanks ga allebeiproberen!<br />\\nliefs Anita</p>\\n')\n",
      "\n",
      "(u'1552', u'<p>\\n</p><div class=\"bb-quote\"><b>Gab61 wrote:</b><br /><blockquote class=\"bb-quote-body\">Sjakkie, wat gaaf dat je dat deel alvast voor elkaar hebt. En relax! Als je inschrijving wordt toegekend, dan heb je nog een jaar de tijd om te trainen.<br />\\n [kiss] Gab61</blockquote>\\n</div>\\n\\n<p>Nou daar beginnen we dan maar mee, met het trainen...  :roll: </p>\\n<p><span style=\"font-size: 48px\"><span style=\"color:red\">WANT </span></span></p>\\n<p><span style=\"color:red\"><span style=\"font-style:italic\">Hoi \\'Sjakkie\\'</span></span></p>\\n<p>Wat een verhaal! Het is toch ongelooflijk dat je met dit evenement in je hoofd zelf getroffen wordt door borstkanker! Goed te horen dat je inmiddels door de molen gegaan bent en naar ik aanneem weer goed hersteld bent.</p>\\n<p>Natuiurlijk gaan we door volgend jaar en gaan er een nog groter spectakel van maken waarbij nog meer fantastische mensen betrokken zijn en deelnemen aan onze gezamenlijke strijd tegen kanker.</p>\\n<p>De details van de opzet voor 2008 worden na 7 juli op de site gezet. Meer teams en meer individuele deelnemers zal het gaan worden. Vooral de estfetteteams waren geweldig dus daar gaan er veel meer van komen. Maak bedrijven dus alvast gek want <span style=\"font-weight:bold\">deelname is zeker</span> (ruimte genoeg!). Wat betreft de voorwaarden en wat sponsoren terugkrijgen kun je op de site kijken bij sponsoren. Daar staan in grote lijnen wat je een sponsor kunt aanbieden als houvast.</p>\\n<p>Hou de site in de gaten want daar verschijnt snel meer info!</p>\\n<p>Tot gauw<br />\\nCoen</p>\\n<p> [dans]  [dans]  [dans]  [dans]</p>\\n<p>Ennuh Gab... je bent nog steeds meer dan welkom mocht het echt gaan kriebelen  [kiss]</p>\\n')\n",
      "\n",
      "(u'1554', u\"<p>Gister heb ik mijn eerste bestraling gehad in de serie van 10 van mijn bekken. De uitzaaiing is daar nl. het meest actief en belemmert mij in het lopen. Maar nu heb ik vannacht geen oog dichtgedaan van de pijn  :( . Ik heb niet eerder zo'n pijn gehad in mijn bekken en pijnstilling helpt niet echt. Kan deze pijn een reactie zijn op de bestraling?  Al na \\xe9\\xe9n keer?</p>\\n\")\n",
      "\n",
      "(u'1825', u'<p>Nieuw onderzoek toont aan dat vrouwen die via voedsel cadmium binnenkrijgen een groter risico lopen om borstkanker te ontwikkelen dan degenen die minder van deze industri\\xeble chemische stof binnenkrijgen via hun voedsel. <a href=\"http://www.latimes.com/health/la-he-cadmium-breast-cancer-20120315,0,4351883.story\" rel=\"nofollow\">http://www.latimes.com/health/la-he-cadmium-breast-cancer-20120315,0,4351883.story</a></p>\\n<p>Nu is het gebruik van cadmium in speelgoed, sieraden en kunstsoffen sinds december 2011 verboden in de EU:<br /><a href=\"http://europa.eu/rapid/pressReleasesAction.do?reference=IP/11/620&amp;format=HTML&amp;aged=0&amp;language=NL&amp;guiLanguage=en\" rel=\"nofollow\">http://europa.eu/rapid/pressReleasesAction.do?reference=IP/11/620&amp;format=HTML&amp;aged=0&amp;language=NL&amp;guiLanguage=en</a></p>\\n')\n",
      "\n",
      "(u'3247', u\"<p>Hoi Annie<br />\\nIk deed het ook al. Houd het wel kort en overzichtelijk! Hierboven is zo'n lap tekst dat je alsnog moet spitten... Ik hoop dat meer amazones volgen. X</p>\\n\")\n",
      "\n",
      "(u'929', u'<p>Hoi Sawadee,<br />\\nHeb je als het goed is een pbtje gestuurd.Met mij gaat het redelijk naar omstandigheden.Moet wel een stukje rustiger aan doen. Bij teveel inspanning heb ik het gevoel of mijn longen uit elkaar willen klappen.Heb momenteel gordelroos ook weer zo iets van die stomme dingen erbij.<br />\\nBen je al thuis?</p>\\n')\n",
      "\n"
     ]
    },
    {
     "name": "stdout",
     "output_type": "stream",
     "text": [
      "(u'2413', u\"<p>Hoi Annie,</p>\\n<p>Goed dat je hier nog even aan de bel trekt.. Tijdens mijn second opinion in het AVL heb ik inderdaad te horen gekregen dat ik aanmerking kom voor een T-MD1 behandeling. Dit zal echter pas zijn wanneer blijkt dat de Xeloda/herceptin waarmee ik nu behandeld wordt niet meer zijn werk doet. Het ziet er naar uit dat de T-MD1 behandeling wel binnenkort, dit jaar en anders volgend jaar, ook zijn weg vindt naar Nederland. Het AVL adviseerde mij, mocht ik voor die tijd hervallen, anders contact op te nemen met het buitenland. In Belgie en/of Duitsland. In mijn geval Leuven, aangezien ik daar dichterbij woon. Heb verder ook niet helemaal geinformeerd naar hoe dit er dan precies uit gaat zien. Mocht dit nodig zijn, is het nodige zo geregeld. Ook sprak de arts die ik daar sprak over een nieuw broertje van de Herceptin waar op dit adjuvant mee behandeld wordt en het een kwestie van tijd is voordat dat dit ook palliatief beschikbaar is. Nu is de naam 'pertuzumab' bij mij blijven hangen. Maar dat kan het niet zijn. Aangezien dat lapatinib is en dat volgens de arts geen grote meerwaarde bij mij zou hebben (zoals al eerder besloten is hier in NL). Heb het hierover ook gehad in mijn plaatselijk ZKH, zij wisten hier ook al vanaf, dit middel moest nog in verdere trails (palliatief) gevolgd worden. Zal hier ook nog achteraan, om verwarring te voorkomen. Ik dacht het toen even helemaal te snappen. Maar nu niet meer. Weet niet of iemand anders hier meer van weet?</p>\\n\")\n",
      "\n",
      "(u'4487', u'<p>Ridoux, ik heb het verhaal van Zeilertje gelezen. Bedankt voor de tip.</p>\\n<p>De situatie is hier weer veranderd sinds gisteravond. Ik ben gevallen in de konijnenwei tijdens het voeren van de konijnen :-( Ik ging door mijn linker been en plofte met de bibs op de grond.<br />\\nNu heb ik een incomplete dwarslaesie en ben een stuk minder mobiel dan daar voor. Het is steeds een beetje inleveren\\u2026 Ik verplaats mij door het huis met een hippe(!) basketbal rolstoel met oranje wielen. Dan kan ik tenminste niet meer omvallen\\u2026 :-)</p>\\n')\n",
      "\n",
      "(u'3844', u'<p>Gelukkig maar Libelle dat het een beginnende longontsteking blijkt te zijn.</p>\\n<p>Lieve groet Mariama</p>\\n')\n",
      "\n",
      "(u'926', u'<p>Hoi Nanny2. Een groot deel van mijn verhaal staat niet beschreven bij de Amazones. Maar kern van mijn verhaal was dat ik niet meer kon lopen agv alle uitzaaiingen in mijn bekken en heupen. Dat is anders dan een dreigende of inmiddels incomplete dwarslaesie. Shit dat je gevallen bent, ik hoop dat je toch nog het eea kunt en kunt genieten af en toe.</p>\\n')\n",
      "\n",
      "(u'1821', u\"<p>Ja, er zijn mensen die kiezen voor geen behandeling. Dat lezen we hier ook op het forum. Wat beweegt iemand om tot zo'n moeilijke maar moedige beslissing te komen. Als het uitzicht op herstel klein is kan dat misschien 'n overweging zijn. Of misschien bang voor het onbekende behandel traject met alle ups en downs.<br />\\nIk noem zo maar een aantal overwegingen die bij me boven komen. Er zullen er ongetwijfeld nog veel meer zijn. Hoe ga je met dit alles om, voor je zelf, met je partner, kinderen en je omgeving. Hoe staat je omgeving tegenover je beslissing. Ben er eigenlijk benieuwd naar. <br />\\nPhineke.</p>\\n\")\n",
      "\n",
      "(u'987', u\"<p>Ik ben erg benieuwd of fysio helpt!! Ik hoop het voor je. Ja, dat tintelende heb ik ook, tot onder mijn armen, soms ook richting schouderblad. Waar ik vorig jaar van schrok was het gebrek aan gevoel in de huid van de borst. Het leek wel dood, gelukkig is ook dat aanzienlijk verbeterd!!  :lol: </p>\\n<p>Een okselkliertoilet heb ik dus wel gehad vorig jaar, maar als ik nu mijn andere borst vergelijk, kan ik niet zeggen dat het vocht sneller afgevoerd wordt dan vorig jaar. Geduld is een schone zaak, niet mijn sterkste punt, maar het word wel al beter!! En 'schoon' is mijn linkerborst wel geworden, dus ik ga ervan uit dat rechts ook zo mooi wordt!</p>\\n<p>Sterkte,<br />\\nMoos</p>\\n\")\n",
      "\n",
      "(u'2777', u\"<p>Ai, net anderhalve week geleden de diagnose borstkanker gekregen, en nu sta ik al voor een groot dilemma: WAAR ga ik mijn behandelingen volgen?</p>\\n<p>Ik woon in Leiden, en ben gediagnostiseerd in het Diaconessenhuis in Leiden (ging razendsnel, ben ik heel tevreden over!). Ik heb een tumor van meer dan 5 cm, met daaromheen nog DCIS-weefsel. Het Diaconessenhuis wil me al op 9 april (dus over krap 2 weken) een borstamputatie en okselkliertoilet laten ondergaan, en drie weken daarna aan de chemo hebben (welke precies, dat hangt af van hoe de patholoog-anatoom het weggehaalde weefsel aantreft). De chirurg is een oude rot in het vak, dicht bij zijn pensioen, en het Diaconessenhuis doet 200 borstoperatie per jaar en schijnt prima te scoren als het gaat om achterblijvend tumorweefsel.</p>\\n<p>Maar... ik ben nog geen 40, ben hoogstwaarschijnlijk erfelijk belast (hele lijn van moeders kant allemaal borstkanker), en ik heb een lieve vriend die ik het niet wil aandoen om mij misschien te moeten missen - ik ben zelf mijn vorige partner verloren aan kanker, dus ik weet hoe erg dat is. Daarom wil ik het beste van het beste qua operatie en behandeling(en), en wil ik graag een second opinion van het Antoni van Leeuwenhoek. Dat heb ik in gang gezet, en ik verwacht morgen een telefoontje voor een oproep voor een 1e consult. Daar zijn de wachtlijsten natuurlijk wel langer; nu kan ik snel terecht in Leiden, en van A'dam moet ik het maar afwachten.</p>\\n<p>En nu is het grote dubben begonnen: waar doe ik goed aan?? Ik heb nu al een goed gevoel bij het AvL, o.a. doordat ik het fijne en heldere boek 'Het Borstkankerboek' heb gelezen dat twee vrouwelijke chirurgen uit het AvL hebben geschreven, en nu verwacht ik dat zij - als vrouwen zijnde - meer 'menselijk' met mijn amputatie en de cosmetische ascpecten ervan zullen omgaan ipv de vrij gehaaste manier waarop mijn mannelijk Diaconessenhuis-chirurg me te woord staat. Terwijl hij misschien net zo netjes werkt... Nog een twijfel: het AvL werkt naar mijn verwachting met geavanceerdere methodieken (of dat klopt, weet ik natuurlijk niet zeker), en in mijn ogen is dat een aanrader.<br />\\nAan de andere kant: voor eventuele complicaties na de operatie en voor de chemo lijkt het me veel prettiger om niet helemaal naar Amsterdam te hoeven reizen maar gewoon in Leiden terecht te kunnen. Al heeft het AvL me al wel verteld dat zij ook regelmatig 'werken' met mensen die de operatie in Amsterdam laten doen, en dan de chemo in hun eigen woonplaats.</p>\\n<p>Zucht... waar doe ik goed aan? Wat zijn jullie ervaringen?</p>\\n\")\n",
      "\n",
      "(u'6141', u'<p>\\n</p><div class=\"bb-quote\"><b>jertam schreef:</b><br /><blockquote class=\"bb-quote-body\">sorry heb ik in mijn haast niet gelezen.<br />\\nMaar ik heb het al van de oplettende amazones gehad\\n<p>Heeft iemand al toevallig gegoogled op SIRS waar carla het over heb gehad ik kan er namelijk niets op vinden.</p>\\n<p>Bedankt meiden</p>\\n<p>Liefs Jertam</p></blockquote>\\n</div>\\n\\n<p>Systemic inflammatory response syndrome op google S.I.R.S.</p>\\n')\n",
      "\n",
      "(u'1923', u'<p>mijn arts raad mij, na mijn borstamputatie, aan om zowel chemo als bestraling te doen, maar ik weet niet of ik dat wel wil!</p>\\n')\n",
      "\n",
      "(u'6147', u'<p>\\n</p><div class=\"bb-quote\">Quote:<br /><blockquote class=\"bb-quote-body\">In Amerika heet het Tykerb en in Nederland (Europa) gaat het Tyverb heten. De stofnaam is inderdaad Lapatinib.\\n</blockquote>\\n</div>\\n<p> Dit is mij ook verteld door mijn oncoloog en deze naam wordt ook in ons ziekenhuis gebruikt, tykerb dus.</p>\\n')\n",
      "\n",
      "(u'6145', u'<p>Lieve allemaal, ik ben aan het zoeken geweest op het forum maar kan weinig info over de Petscan vinden.<br />\\nA.s woensdag krijg ik een Petscan, wil heel graag weten hoe anderen het ervaren hebben.<br />\\nAlle info is welkom.</p>\\n<p>Liefs, Peet</p>\\n')\n",
      "\n",
      "(u'6144', u'<p>Madeliefje,</p>\\n<p>Ja, het is voor mij heel herkenbaar dat je je borst mist. Ik mis 2 borsten sinds oktober vorig jaar en voel dat als een groot gemis en verlies. <br />\\nIk vond eerst dat ik er maar tegen moest kunnen om zonder borsten door het leven te gaan. Zo werkt het dus niet. Ik moest eerst het verdriet om het verlies voelen voordat ik kan accepteren dat de opoffering van mijn borsten nodig was voor mijn gezondheid. </p>\\n<p>heel veel sterkte <br />\\nMarinka</p>\\n')\n",
      "\n",
      "(u'3672', u'<p>Het goede gaat vooruit als een slak, het kwaad heeft vleugels.</p>\\n<p>( Gandhi )</p>\\n')\n",
      "\n",
      "(u'4800', u'<p>Hi reislustige dames,<br />\\nIk heb het een jaar geleden uitgezocht bij onze doorlopende ing reis en anuleringsverzekering. Omdat we deze aL lang voor mijn ziekte is afgesloten is het geen probleem. Heb mijn oncoloog een engelse brief gevraagd te schrijven dat ik uitgezaaid borstkanker had en chemo daarvoor kreeg. Op dit moment was mijn gezondheid stabiel en geen reden om niet te reizen. Geen gebruik van hoeven maken, maar was een geruststelling</p>\\n')\n",
      "\n",
      "(u'1711', u'<p>Bij mij is het een tumor die nogal wat druk uitoefent, ik heb last van hoesten en door het hoesten heb ik zelfs last van urineverlies!</p>\\n<p>Soms voel ik wat pijnscheuten, maar dat gaat erg snel en is (nog) niet intens...</p>\\n<p>Ik heb moeite met ademhalen....</p>\\n<p> :cry:</p>\\n')\n",
      "\n",
      "(u'1710', u'<p>Weet \\xe9\\xe9n van jullie ook of dit middel ook getest/gebruikt wordt door mensen die geen HER1+ of HER2+ hebben?</p>\\n')\n",
      "\n",
      "(u'1527', u'<p>Ik stop de mijne met bh en al netjes terug in de doos.<br />\\nWeet ik altijd waar ik hem heb liggen.</p>\\n')\n",
      "\n",
      "(u'2389', u'<p>Ik zal deze vraag vast verkeerd plaatsen maar weet zo gauw niet waar hij goed staat.</p>\\n<p>Drie weken geleden heb ik weer een bloedonderzoek gehad en toen bleek dat er \\xe9\\xe9n tumormarker belachelijk hoog was. Geen idee welke want ik was alleen en nogal geschrokken.<br />\\nHet vreemde is dat ik nog nooit verhoogde markers gehad heb en mijn oncoloog denkt dat het een fout is geweest.<br />\\nGisteren heb ik weer bloed laten prikken en maandag moet ik weer naar mijn oncoloog.<br />\\nZij gaat er dus vanuit dat het fout was. Kan zoiets? Of kan alleen maar \\xe9\\xe9n marker verhoogd zijn?<br />\\nHij was echt belachelijk hoog zei ze.<br />\\nIk hoor het natuurlijk volgende week, maar misschien heeft iemand een antwoord voor me? Eerlijk gezegd loopt het me dun door de broek  :?</p>\\n')\n",
      "\n",
      "(u'940', u'<p>Op maandag 20 augustus 2007 wordt de documentaire <span style=\"font-weight:bold\">\\'Verdriet door je hoofd\\' </span>uitgezonden op Nederland 2 omstreeks 22.40 uur. <br />\\nDe documentaire is in 2001 gemaakt onder de redactie van Nel Kleverlaan. <br />\\nEr worden zes kinderen gevolgd uit vier gezinnen. Zij laten zien wat het voor hen betekent om een vader of moeder met kanker te hebben. </p>\\n<p><a href=\"http://omroep.nl/human/docsonline/2.htm\" class=\"bb-url\" rel=\"nofollow\"><span style=\"font-style:italic\"><span style=\"font-weight:bold\">klik hier</span></span></a> (<span style=\"font-size: 48px\">deze link is niet actueel, maar geeft wel een stukje inzicht</span>). </p>\\n<p><span style=\"font-style:italic\"><span style=\"color:green\">Nel Kleverlaan is geboren in 1954, heeft twee kinderen en is psycholoog. Nel werkt in de gezondheidszorg, waar ze kinderen en volwassenen begeleidt en voorlichting geeft aan hulpverleners en pati\\xebnten. Daarnaast is Nel eindredacteur van een tijdschrift. Ze heeft diverse boeken op haar naam staan, (tv-)documentaires en een website. De website <a href=\"http://www.kankerspoken.nl\" rel=\"nofollow\">http://www.kankerspoken.nl</a> werd in 2001 genomineerd voor de Gouden Apenstaart.</span> </span></p>\\n<p>De tweede documentaire heet <span style=\"font-weight:bold\">\\'Kun je ooit nog gelukkig zijn?\\' </span>en is dit jaar afgerond. <br />\\nDeze wordt uitgezonden op maandag 27 augustus 2007 op Nederland 2 omstreeks 22.40 uur. </p>\\n<p>De eerste documentaire gaat over kinderen met een vader of moeder met kanker die er middenin zitten en de tweede is een terugblik. </p>\\n<p><span style=\"color:green\">Nel is benieuwd naar de reacties ...</span></p>\\n')\n",
      "\n",
      "(u'917', u'<p>Ik ben vanwege groei in mijn lever door mijn oncoloog voor een orienterend gesprek verwezen naar het Radboudziekenhuis in nijmegen waar de volgende studie loopt voor vrouwen met her2 neu+ solide tumoren. \\xa0</p>\\n<p>De studie heet :\\xa0<br /><a href=\"https://clinicaltrials.gov/ct2/show/NCT02277717\" rel=\"nofollow\">https://clinicaltrials.gov/ct2/show/NCT02277717</a></p>\\n<p>De studie coordinator is heel, heel , heel enthousiast over het gebruikte middel SYD985 in deze studie . De werking zou vergelijkbaar zijn met , en bij sommige tumoren zelfs nog beter werken dan T- DM1. En elke lijn van behandeling bij uitgezaaide BK mag meedoen, mits je door de screening van inclusie en exclusiecriteria komt. Ook vrouwen zoals ik die al ook al t-dm1 gehad hebben en daarna taxol en nu voor de zesde lijn van behandeling staan! </p>\\n<p>Het middel wat in de studie gebruikt wordt heet dus SYD985. Net als bij t-dm1 wordt een ander soort chemo gekoppeld aan herceptin . De herceptin wordt als vervoermiddel voor de chemo gebruikt . Het middel wordt daardoor als DOELGERICHTE THERAPIE rechtstreeks naar de eiwitgevoelige celkernen van de tumoren gevoerd. Mijn oncoloog verwees me dus om me  te orienteren op deze studie omdat hij denkt dat dit middel in deze fase van mijn behandeling, je zesde lijn, veel voor mij kan betekenen.\\xa0</p>\\n<p>De studie is wel een fase 1 studie.\\xa0</p>\\n<p>En dat maakte mij meteen minder enthousiast. \\xa0\\xa0Want als ik eerlijk ben ben ik eigenlijk een beetje bang voor eerste fase studies. Daar moet nog zoveel in uitgezocht worden, er zijn vaak nog zoveel onduidelijkheden, zoals de dosishoogte, ook over het te verwachten klachtenpatroon en de tolereerbare grenzen . Kijk, ik ben geen wanhopige patient die maar de gekste dingen wil doen om , tegen beter weten in, te willen blijven leven. Dus ik zal zeer kritisch kijken en luisteren naar de studieinformatie </p>\\n<p>Maar misschien ligt dat bij deze \\' doelgerichte therapie\\' studie wel allemaal minder zwaar dan in sommige andere eerste fase studies.\\xa0</p>\\n<p>Ik zal hier , evenals in \\' mijn eigen verhaal \\' , waar ik vanmiddag al verslag deed van mijn scanuitslagen en consultgesprek, ook schrijven over de uitkomst van het orienterende gesprek. En ik ben benieuwd of iemand anders die hier leest al meedoet aan deze studie en wat haar ervaringen ermee zijn. </p>\\n<p>Wordt dus vervolgd</p>\\n')\n",
      "\n",
      "(u'2287', u\"<p>Huh?? Dat is raar!! Belachelijk gewoon. Ik kreeg er in mijn ziekenhuis zelf nog een bh bij! <br />\\nIk dacht dat de insteek van de ziekenhuizen was dat je na zo'n operatie 'gevuld' het ziekenhuis weer verlaat. <br />\\nKaat</p>\\n\")\n",
      "\n",
      "(u'3263', u'<p>@judith: de rugpijn herken ik zelf niet, wel het idee van \"niet zeuren\". Je zeurt niet!!!!! Bij pijn of twijfel: bellen. Net zo lang totdat het naar jouw zin goed is opgelost.  Doen hoor! We denken veel te gauw dat we een belasting zijn of zo, voor anderen. De dames op onco verpleeg doen hun werk, de nurse practitioner ook. Ze zijn er voor jou, om jou te helpen!<br />\\nSucces</p>\\n')\n",
      "\n",
      "(u'2830', u'<p>Hoihoi,</p>\\n<p>Sinds bijna 2 weken heb ik een 3maanden voorraad Zoladex ingespoten gekregen, ik gebruik al Aromasin. Van de Zoladex heb ik even wat hoofdpijn en een kolerehumeur gehad maar nu gaat het wel weer. Alleen heb ik een wat genante bijwerking: bij niezen, hoesten en pogo-en heb ik urineverlies.  :oops:  Ik doorweek niet meteen alles maar ik moet soms wel rennen.... :-w <br />\\nZou dat een tijdelijke bijwerking kunnen zijn, dat ik icm het hoesten van een ordinaire verkoudheid wat zwakkere bekkenbodemspieren heb? Of ga ik de Tena Lady maar permanent toevoegen aan het boodschappenlijstje #-o <br />\\nVoor de zekerheid maar wat bekkenbodemspieroefeningen googlen :roll:</p>\\n')\n",
      "\n"
     ]
    },
    {
     "name": "stdout",
     "output_type": "stream",
     "text": [
      "(u'902', u'<p>Op de  :arrow: <a href=\"http://www.borstkanker.nl/bvn_nieuws&amp;iid=8298\" class=\"bb-url\" rel=\"nofollow\">=site van de BorstkankerVereniging</a> is het verslag geplaatst van het Europees oncologiecongres ESMO (26-29 september 2014). Het gaat over nieuwe ontwikkelingen in de behandeling van borstkanker en over specifieke groepen (jong, zwanger, oud of man).</p>\\n')\n",
      "\n",
      "(u'904', u\"<p>Mijn vorige botscan was in september 2010 en de volgende is pas in juli en de laatste dagen loop ik wat te denken doorover.Voel me niet geheel gerustgesteld helemaal omdat de Faslodex niet werkte bij mij en die tumormarkers alweer verdubbeld waren...Heb ook geen idee of het nu alweer nut heeft zo'n scan te laten maken en hoevaak men zoiets mag doen per jaar als ik denk aan normen/afspraken bij een verzekeringsmaatschappij.</p>\\n\")\n",
      "\n",
      "(u'905', u'<p>\\n</p><div class=\"bb-quote\"><b><a href=\"http://www.nu.nl\" rel=\"nofollow\">www.nu.nl</a> wrote:</b><br /><blockquote class=\"bb-quote-body\">De kwaliteit van kankerbehandelingen verschilt per ziekenhuis. In het ene ziekenhuis hebben pati\\xebnten een grotere kans op overlijden dan in het andere.<br />\\n\\xa9 Gezondheidsnet\\n<p>Dat blijkt uit een rapport van KWF Kankerbestrijding, waarover het televisieprogramma Zembla zondagavond bericht. </p></blockquote>\\n</div>\\n\\n<p>klik <a href=\"http://www.nu.nl/binnenland/2243536/veel-verschil-kwaliteit-kankerbehandelingen.html\" class=\"bb-url\" rel=\"nofollow\"><span style=\"font-weight:bold\">hier</span></a> om naar het artikel toe te gaan.</p>\\n<p>\\n</p><div class=\"bb-quote\">Quote:<br /><blockquote class=\"bb-quote-body\">Oudminister Els borst noemt het onacceptabel dat artsen weigeren openheid te geven over hun prestaties. Ze constateert dat kankerpati\\xebnten vaak angstig zijn en zich mentaal afhankelijk voelen van de eerste de beste arts bij wie ze zich melden. Pati\\xebnten moeten volgens haar mondiger worden.</blockquote>\\n</div>\\n\\n<p><span style=\"color:indigo\">Dit onderzoek bevestigt wat we eigenlijk allang wisten.<br />\\nDat er veel verschil zit tussen de verschillende ziekenhuizen.</span></p>\\n<p>Als het aan mij ligt worden Amazones inderdaad mondig. </p>\\n<p>Maar wat mij betreft bevestigt het vooral dat als je een bijzondere vorm van kanker hebt of een andere reden waarom de behandeling bijzonder is, dat je dan beter af bent in een gespecialiseerd ziekenhuis waar ze vaker met pati\\xebnten in die situatie te maken hebben.<br /></p>\\n')\n",
      "\n",
      "(u'1845', u'<p>ik heb dus zitten spitten en dit niet gevonden, maar vraag het me wel af.<br />\\nomdat je er niet ziek uitziet, probeert gewoon te functioneren dus je leventje leidt.<br />\\nde mensen om me heen, familie bekenden etc, ze zwijgen de kanker dood. sorry dat ik dit weer zo oneerbiedig neerzet, maar zo voelt het.<br />\\nzijn ze bang voor het onbekende, bang voor mij? voor wat de toekomst brengt? waar zijn ze nu bang voor?<br />\\nde enige plaats waar ik een beetje mijn vragen kan stellen is hier.<br />\\nbinnen de familiekring moet ik me dus steeds al kranige meid voordoen en dat wordt steeds moeilijker. ik weet niet meer hoe ik dit moet handelen.</p>\\n<p>nachtvlinder</p>\\n')\n",
      "\n",
      "(u'2672', u\"<p>SarahB......ik kan je wel geruststellen hoor!</p>\\n<p>Toen ik mijn PAC heb gekregen heeft tie daarna 3 keer bloed terug gegeven en daarna niks meer. Er is de 1e keer een foto gemaakt om te kijken of tie nog goed zat en dat was gelukkig zo. Daarna zijn mijn chemo's er gewoon doorheen gelopen, alleen moest ik na het aanprikken even 10 minuten op volle snelheid doorspoelen. Vorige week dinsdag gaf de Port a Cath ineens wel weer bloed terug! Hoe bestaat het! Dat scheelde me weer 10 minuten.......</p>\\n\")\n",
      "\n",
      "(u'1004', u'<p>Kan iemand mij vertellen hoe ik die kan aanvragen? Moet dat via de eigen specialist, of via de huisarts? In het laatste geval: hoe komt de 2e specialist dan aan mijn gegevens? Stel dat de second opinion mij WEL een bepaalde behandeling adviseert? Moet ik die behandeling dan in het betreffende zh ondergaan, of toch weer in overleg met mijn eigen behandelend specialist? <br />\\ngr gerda</p>\\n')\n",
      "\n",
      "(u'3808', u'<p>Ik wil je heel veel sterkte toewensen!<br />\\nIk hoop dat je moeder op gaat knappen, ik duim voor jullie</p>\\n')\n",
      "\n",
      "(u'1870', u'<p>Hallo,<br />\\nVanaf begin januari heb ik pijnklachten aan schouders en nek. Niet aan mijn arm. In het begin weet ik het zelf aan de \"naweeen\" van chemo en bestraling (laatste bestraling eind nov \\'07) Ik ben 1 x naar een masseur geweest (zit bij de fysio-fitness in zelfde gebouw), dat hielp iets.<br />\\nVandaag ben ik 1 + 1 bijelkaar opgaan tellen en besefte opeens, dat het wel eens een frozen shoulder kan zijn. Ik ben na de chemo 1 x naar een oedeemtherapeute geweest ter advies. Toen was alles o.k. met mijn arm. Haar gebelt en mijn klachten uitgelegd:<br />\\n- pijnlijke nek en schouders (ook \\'s nachts)<br />\\n- vanaf het weekend functievermindering van mijn arm (kan hem niet meer goed omhoog krijgen) en flinke verergering van de pijn in de nek. Ik kan hierdoor weinig op het moment. Pijn trekt halverwege de dag naar mijn hoofd. Dat geeft dan ook nog concentratieproblemen.<br />\\nGelukkig kan ik morgen terrecht ter verder advies.<br />\\nWie herkent dit? Hoe lang gaat zo iets duren, als het echt een frozen shoulder is? Had ik dit kunnen voorkomen? (Ik beweeg volop met 2 kids...!)</p>\\n')\n",
      "\n",
      "(u'1986', u\"<p>Dit is een onderwerp die me al jaren bezig heeft gehouden, maar nu nog veel meer . Ik heb er lang over nagedacht of ik dit hier zou vermelden en vooral hoe en waar dat te doen?  Reden voor het toch lang erover nadenken is de volgende: Ik wil geen dingen promoten/zeggen die onrust of iets dergelijks kunnen veroorzaken. Vooral omdat ik gewoon geen arts of wetenschapper ben! Toch gekozen om dit topic te plaatsen omdat ik toch denk dat het belangrijk genoeg is om aan te geven en er ieder voor zich een eigen conclusie aan te laten verbinden. </p>\\n<p>Ook heb ik het vertrouwen dat als dit echt niet kan dat diegenen die erover beslissen op dit forum dit bericht weg kunnen en zullen halen. </p>\\n<p>Afijn, waar het om gaat is dus het volgende:</p>\\n<p>Elke dag wordt weer gesproken over hoe gezond melk (koemelk) is.  Er zijn ondertussen honderden soorten zuivelproducten  waarvan beweerd wordt dat het onze gezondheid bevordert en ondersteunt.</p>\\n<p>Door de voedingsallergie van mijn kinderen ben ik me gaan verdiepen in voeding en onder andere koemelk, dit omdat ik het veel dronk, zeker tijdens mijn zwangerschap en toch bleek mijn baby allergisch ervoor te zijn. Ik begreep er niks van en afijn, een lange studie volgde. </p>\\n<p>Melk zou eiwitten, kalk en nog meer nuttige voedingsstoffen bevatten. Er zijn in de laatste jaren echter veel onafhankelijke onderzoeken geweest (meer dan 1.500) die dat in twijfel trekken. De conclusie was dat melk niet zo goed is als wij denken. Er is ontdekt dat koemelk hoogstwaarschijnlijk een rol speelt bij een enorm scala aan ziekten, waaronder de verbazingwekkendste was:  botontkalking. Daarnaast bij bijvoorbeeld aderverkalking, suikerziekte, bloedarmoede, leukemie, chronische vermoeidheid, astma, allergie, darmstoornissen, eczeem, chronische sinusitis en oorontsteking. Het opzienbarendste was de publicatie in het tijdschrift 'American Journal of Clinical Nutrition', die duidelijk aangaf dat mensen die veel melk drinken veel meer last hebben van botontkalking dan 'geheelonthouders'</p>\\n<p>Melk bevat inderdaad veel calcium, maar het is anorganische calcium, dat veel moeilijker wordt opgenomen dan men denkt. Voor het opnemen van calcium is magnesium nodig en dat zit niet voldoende in melk. Finland bijvoorbeeld, waar de meeste zuivel ter wereld wordt gebruikt, heeft het hoogste percentage hartinfarcten. Uit een publicatie van de Finse biochemicus dr. Corran McLachiam blijkt dat in melk een eiwit zit dat de oorzaak zou zijn van aderverkalking.</p>\\n<p>Maar waar het mij in deze eigenlijk vooral om draait is het volgende:</p>\\n<p>De koe van 50 jaar geleden is niet meer dezelfde. Tegenwoordig worden koeien enorme hoeveelheden hormonen toegediend zodat de uiers groter en groter worden. Zodat de melkproductie op zijn hoogst is, want koemelk is voorlopig nog steeds een mega industrie. Deze hormonen veroorzaken veel gezondheidsproblemen bij de dieren. Ontstekingen staat op nummer 1, maar ook de levensduur van de koeien is ernstig korter geworden. Ze krijgen gewoon een hoop zooi binnen die niet al te gezond is. Maar waar het dus omgaat is dat wij dat dus ook binnen krijgen. Ik las een aantal jaar geleden  in een wetenschappelijk artikel dat duidelijk is dat meisjes al veel eerder borsten krijgen, en dat de voornaamste reden hiervoor de hormonen in de koemelk is. In melk zitten oestrogenen en deze kunnen vooral borstkanker stimuleren, net zoals de pil dit kan doen. Publicaties in de Lancet  wijzen op de relatie tussen het groeihormoon (GH), insulin-like growth factor (IGF-1)in melk en kanker.</p>\\n<p>Deze hormonen krijgen wij dus binnen en ondanks dat ik al jaren geen koemelk meer drink, omdat ik voor mij persoonlijk de conclusie heb getrokken dat het juist h\\xe9\\xe9l erg ongezond is, laat ik iedereen zijn eigen ding doen. Wat ik belangrijk vind of doe in mijn huis hoeft niet pers\\xe9 iets te zijn wat een ander ook moet doen\\u2026</p>\\n<p>Maar die hormonen laten me de laatste tijd niet echt meer los. Hormoongevoelige borstkanker. Er wordt voor gezorgt dat we geen hormonen meer produceren zodat de kanker geen kans meer krijgt, of althans een stuk minder de kans krijgt om schade aan te richten. We letten zelfs op welke huidverzorging we gebruiken, hormoonvrij natuurlijk\\u2026maar hoe zit het dan met de melk? </p>\\n<p>Lieve Amazones, ik ga hier verder niet mijn eigen mening meer aan toevoegen. Ik vind dat die er niet toe doet. Wel laat ik dit gewoon als informatie achter. Gewoon omdat ik vind dat ik dit niet hoor te verzwijgen\\u2026</p>\\n<p>Als dit nodig mocht zijn wil ik wel wat extra info/namen vermelden van artsen en wetenschappers die hiermee bezig zijn geweest e.d.\\u2026maar ik laat dit voor nu zo want ik weet niet of het plaatsen van deze topic toegestaan is\\u2026</p>\\n<p>Liefs,<br />\\nMoon.</p>\\n\")\n",
      "\n",
      "(u'3519', u'<p>oh en eh Ellen....dat over het onderzoek is INFORMATIE   dat wat jij wilde toch op dit forum?</p>\\n')\n",
      "\n",
      "(u'3211', u'<p>Ik kreeg gisteren van iemand een link naar essiac. Een goedje dat uit 4 kruiden bestaat.<br />\\nIk ben dan eens gaan googelen en toen kwam ik er achter dat ze daar bij kanker-actueel.nl een heel artikel over hebben geschreven en dat die essiac dus niet goed is maar flor essance dus wel ( 8 kruiden).</p>\\n<p>Maar nergens staat er iets beschreven of je dat kan nemen in samenwerking met chemo en zo.</p>\\n<p>Nu vroeg ik me af, kent iemand dit goedje? En wat weet je er over? Is het weer een bedrog ding zoals vele andere dingen zoals zuurzak en zo?</p>\\n<p>Uiteraard ga ik het volgende week eens aan mijn prof oncoloog vragen, maar ik wil ook jullie mening eens horen want dat is net zo belangrijk.</p>\\n')\n",
      "\n",
      "(u'2208', u'<p>Hallo,</p>\\n<p>Bedankt voor het omhoog halen. Ondanks alles weet ik dat ik niet aan mijn einde zit. Ik zal er voor vechten. Ik wil mijn kinderen zo graag op zien groeien. Het lijkt wel een nachtmerrie waar ik in zit. <br />\\nIk zal hier heel veel gaan lezen. Ben benieuwd wat ze maandag gaan zeggen.</p>\\n')\n",
      "\n",
      "(u'3458', u\"<p>net vorige week m'n derde taxotere gehad. nog eentje te gaan (16 februari, m'n laatste chemo joepie tien zijn er wel genoeg!).<br />\\nnu wou ik vragen of er nog meiden zijn die zo'n last hebben/hadden van hoofdpijn?<br />\\nik heb ook al de rest hoor, spierpijn en keelpijn enzo.. maar die hoofdpijn heb ik pas deze keer zo erg, niet te doen! begin me dan natuurlijk al zorgen te maken dat het wat anders aan de hand is in m'n hoofd.. nu heb ik wel gelezen dat het een bijwerking is van taxotere maar ZO erg heb ik nog nergens gelezen. echt kei harde steken..<br />\\nanyone?</p>\\n\")\n",
      "\n",
      "(u'1737', u'<p>Ik moet dit evenkwijt, wat een rot ziekte, maar dat weten jullie allemaal wel.<br />\\nIn oktober 2006 borstamputatie met gelijktijdige reconstrucie, 5 FEC kuren. In maart 2007 bortsreconstructie met gelijktijdige borstverkleining, alles prima gegaan, niet ziek geweest, al die tijd gewerkt (wel minder uren). Toen dachten he, we kunnen weer, wel 5 jaar hormoontherapie, overgang, opvliegers, maar ja dat komt toch een keer.<br />\\nEind december zag ik ineens lichtflitsen in mijn hoofd. Naar de oncoloog en neuroloog, misschien migraine voor de zekerheid een scan. En afgelopen dinsdag stort je wereld in, 2 uitzaaingen in het hoofd. Woensdag een MRI-scab gehad het bleef gelukking bij 2 uitzaaingen. Omdat ze klein zijn kom ik in aanmerking voor een gamma-knife bestraling. Wanneer weten we nog niet. Maandag nog een botscan en een scan van de longen en de lever. De oncoloog heeft aangegeven dat er grote kans is dat hier ook uitzaaingen zitten, alleen voel ik mij prima, wat verradelijk is het toch allemaal. We moeten positief blijven, maar soms is dit wel heel erg moeilijk, want hoeveel tijd krijg je nog??</p>\\n')\n",
      "\n",
      "(u'2114', u'<p>Ha Dames,<br />\\nHet is mij nog niet eerder gebeurd, maar mijn operatie staat gepland terwijl ik ongesteld zal zijn. Hoe doe ik/doen zij dat dan? mag je bijvoorbeeld tampons gebruiken? Zou het per ziekenhuis verschillen hoe ze ermee omgaan?<br />\\nesmuis</p>\\n')\n",
      "\n"
     ]
    },
    {
     "name": "stdout",
     "output_type": "stream",
     "text": [
      "(u'1034', u'<p>\\n</p><div class=\"bb-quote\">Quote:<br /><blockquote class=\"bb-quote-body\">Kan me voorstellen dat maandag, niet echt een geschikte dag is om te stoppen</blockquote>\\n</div>\\n\\n<p>Elke dag is een prima dag om te stoppen...want er is altijd wel een reden om het niet te doen... :wink:</p>\\n')\n",
      "\n",
      "(u'1609', u'<p>Hallo allemaal,<br />\\nNa 3 jaar geleden borstkanker, heb ik nu uitzaaiingen in heup, rug en enkele ribben. Heb hier een aantal bestralingen voor gehad en hormoontabletten Arimisin. De dokter wil de chemo bewaren voor als het evt. in de organen zit. Zelf heb ik zoiets van: \"beter voorkomen dan genezen\". Heeft iemand hier ervaring mee :?: <br />\\nIk vind het zo\\'n akelig idee dat de tumor nu gewoon alle kans heeft om door te gaan :!: </p>\\n<p>groetjes,<br />\\nozi</p>\\n')\n",
      "\n",
      "(u'1215', u\"<p>Ik herken een en ander ten dele. Toen ik borstkanker kreeg in 2005 heb ik me in het begin wel gesteund gevoeld door mijn vriend, de zorg was wel een stuk minder, maar zodra de chemo voorbij was, was het echt helemaal over. Ik was nu toch beter? Ik moest niet meer zeuren over die kanker, die was weg.</p>\\n<p>Echter toen ik in 2007 werd geconfronteerd met uitzaaiingen, reageerde mijn vriend heel anders, hij heeft in eerste instantie nl nooit gedacht dat ik dood zou kunnen gaan en dus nam hij het allemaal niet zo serieus, maar nu lag de zaak ineens heel anders en dat zette hem met beide benen op de grond en ik heb nu de meest lieve, zorgzame en begripvolle vriend die ik me maar wensen kan.</p>\\n<p>Misschien dat jouw man ook zo denkt, zo van 'wat zeur je nou, het is toch over nu?'. Mannen zitten soms heel apart in elkaar en als je de gebruiksaanwijzing kwijt bent, is het heel moeilijk ze te begrijpen soms....</p>\\n\")\n",
      "\n",
      "(u'4278', u'<p>Ik kreeg vorige week te horen dat ik uitzaaiingen heb in mijn botten en lever en ga nu enkel nog chemo krijgen. Er raast zoveel door mijn hoofd nu, maar vooral de vragen : wat kan ik verwachten, welke klachten zijn hier vooral bij, hoelang heb ik ongeveer nog...? <br />\\nGraag een eerlijk antwoordje dames, ik weet liever een beetje op voorhand wat er allemaal \"op het programma staat\" dan lelijke verrassingen nadien... <br />\\nVeel liefs, <br />\\nValerie</p>\\n')\n",
      "\n",
      "(u'1354', u'<p>\\n</p><div class=\"bb-quote\"><b>lina schreef:</b><br /><blockquote class=\"bb-quote-body\">\\nEen lang sjaaltje 55 cm breed 1.80 lang is een mooie maat.(Dun materiaal) Bovenop naar achterlangs in je nek een keer strikken. Linkerkant rond het hoofd een beetje gedraaid naar rechteroor brengen. Rechterkant naar rechteroor en tesamen vastknopen. Je hebt dan twee slierten stof langs je rechterschouder, je kunt dit los laten hangen, of er een soort strengel met knopen in maken.Het hele hoofd is bedekt, met een extra rand bovenop. Beetje flower power idee. :wink: Sjaaltjes zijn er te kust en tekeur gelukkig. Ook leuk als de kleur in je kleding weer terug komt.\\n</blockquote>\\n</div>\\n\\n<p>Wat leuk deze tip, uit 2005 alweer. Kwam dit tegen bij het zoeken naar oplossingen naast Buff met pet en pruik en had toevallig precies zo\\'n maat sjaal liggen. Staat echt erg leuk!  Het is al wel lang geleden, maar toch nog bedankt voor deze prima tip, ik had ruzie met alle sjaaltjes. Verlies binnenkort mijn haar, pruik is dan nog niet klaar waarschijnlijk  en zat me helemaal in het zweet te werken met alle knoopdingen, maar deze is simpel en zit prima vast.</p>\\n<p>Anne</p>\\n')\n",
      "\n",
      "(u'2333', u'<p>Yes ik mag ook weer mee, heb er helemaal zin in.</p>\\n')\n",
      "\n",
      "(u'2184', u'<p>Onze dochter is nu 10 jaar en vanmorgen hebben we haar het een en ander uitgelegd. Xe wist al een beetje, maar omdat we zelf nog niet wisten wat er allemaal ging gebeuren hebben we haar nog wat ontzien. Afgelopen dinsdag zijn we bij de oncoloog geweest, maar we hebben haar bewust nog niets verteld. Woensdag is ze met school op kamp geweest en we wilden haar dit nog zorgeloos laten meemaken.</p>\\n<p>Ze heeft een geweldige drie dagen gehad en die neemt niemand haar meer af  :D </p>\\n<p>Vanmorgen tijdens onze uitleg barste ze in tranen uit, mijn hart brak. Dit is iets wat je, je kind niet wilt aandoen. Ik vind het heel moeilijk om haar hiermee te belasten. Hoe leg je het uit? We hebben ons best gedaan en na een flinke huilbui kwam ze weer tot zichzelf. </p>\\n<p>Heeft iemand nog tips, het boekje knobbelmonsters en ander gespuis is al besteld, samen met het andere boekje van deze vrouw.</p>\\n<p>Monica xxx</p>\\n')\n",
      "\n",
      "(u'1911', u'<p>ik krijg vandaag de laatste!!! Eindelijk!!!</p>\\n<p>Bedankt aan alle amazones om me te steunen  [kiss] .</p>\\n<p>liefs Evelyn  [kiss]</p>\\n')\n",
      "\n",
      "(u'1912', u'<p>Weet zo snel niet, hoe deze vorm heet, maar het is geen tumor, maar kankercellen die vrij door je borst heen groeien, zo legde de onco het uit.</p>\\n')\n",
      "\n",
      "(u'966', u'<p>Tumormarkers geven eigenlijk aan of er tumor activiteit is of niet! Bij borstkanker zijn ze er geloof ik niet nee! maar als je uitzaaiingen hebt dan zijn ze er! Net als bij mij nu helaas!</p>\\n<p>Dus als er ergens in je lichaam een uitzaaing zit dan verhogen de tumormarkers!</p>\\n<p>ASMAS</p>\\n')\n",
      "\n",
      "(u'962', u'<p>Hallo iedereen,</p>\\n<p>Ik heb een rare vraag aan jullie,en dan aan degenen die ook leveruitzaaiingen hebben.</p>\\n<p>Ik zit nu in mijn chemovrije week,en ik heb weer een uitstralende pijn in mijn lever,die doorgaat richting mijn maag en zelfs naar achteren in mijn rechterzijde doorloopt.</p>\\n<p>Het beangstigd mij erg,ook omdat mijn leverwaarden heel erg stegen in de vorige stopweek van de chemo.</p>\\n<p>Ik heb nu dinsdag alleen herceptin toegediend gekregen,daarna begon het weer pijn te doen in de lever,zelfs als ik wandel geven mijn  stappen een pijnlijk gevoel.</p>\\n<p>Ik heb het zieknhuis al gebeld en ik word teruggebeld door mijn oncoloog,en zit nu te stressen,ben bang dat de tumoren vreselijk zitten te groeien!!</p>\\n<p>Grtz Monique :(  :(</p>\\n')\n",
      "\n",
      "(u'968', u'<p>Ik krijg vanaf augustus 2005 3wekelijks Herceptin. Ik verdraag dat goed. Nu is mijn bloeddruk iedere keer (vanaf februari) lager geworden. Ze controleren dat altijd als ik Herceptin toegediend krijg. De laatste keer was mijn bloeddruk nog lager ( 85/60) Misschien niet schrikbarend laag maar echt goed is tie ook niet. Ik ben wel heel vaak duizelig en voel me raar. Ik heb een paar weken geleden vanwege die klachten een echo van het hart laten maken en die was goed.  Ik heb toch het idee dat het van de Herceptin komt. Een lage bloeddruk is toch ook een symptoom van hartfalen?  Ik heb nog nooit een lage bloeddruk gehad, was altijd rond 120/75.  Kan het ondanks een mooie echo van het hart toch zijn dat je hartje het minder goed doet door de Herceptin? En wat gebeurt er als je toch Herceptin geeft terwijl je hart het niet aankan?  Shock ofzo?</p>\\n')\n",
      "\n",
      "(u'1748', u\"<p>Sorry, ik had me voor het plaatsen van m'n bericht eerst netjes geregistreerd en heb vervolgens niet eerst ingelogd.</p>\\n<p>Bovenstaand berichtje is dus van mij  :-w</p>\\n\")\n",
      "\n",
      "(u'1452', u'<p>Dat was ik dus, niet ingelogt!<br />\\nIneke</p>\\n')\n",
      "\n",
      "(u'1101', u'<p>Hoi Chantal,</p>\\n<p>Ongeveer anderhalf jaar geleden hebben ze bij mij uitzaaiingen geconstateerd in mijn botten en later in mijn longen. <br />\\nAfgelopen dinsdag heb ik voorlopig mijn laatste taxotere chemokuur gehad en maandag krijg ik een CT-scan om te kijken of deze chemo nut heeft gehad. Afhankelijk daarvan wordt bepaald wat de vervolgbehandeling wordt. Het is dus weer afwachten....<br />\\nVoor de uitzaaiingen in mijn botten krijg ik APD. Van mijn longen heb ik gelukkig niet zoveel last. Ik hoest wel, maar dat is meer het gevolg van alles bij mekaar; de chemo, verminderde weerstand en de uitzaaiingen in mijn longen.</p>\\n<p>Ik wens je heel veel sterkte....<br />\\nFiona</p>\\n')\n",
      "\n",
      "(u'2103', u'<p>weet je erica</p>\\n<p>ook ik heb regelmatig gehoord   je zult je wel in je vrouw zijn aangetast voelen waarop ik dan antwoorde<br />\\nnou     ik heb nog geen neiging om staand te plassen........(met een lach want ach ze weten niet beter.....)</p>\\n')\n",
      "\n",
      "(u'1514', u'<p>Hallo,<br />\\nIk heb een mastitus carcinomatosa. En ben bezig met de chemo.<br />\\nIk heb nu 4 van de 6 TAC kuren gehad.<br />\\nMijn tumor was gagantisch groot. 15 X 13 X 7 CM<br />\\nNa 3 kuren was hij al veel kleiner 5 X 5.5 X 5 CM<br />\\nNu willen ze na de laatste kuur, mijn borst aputeren, maar ik twijfel. Van anderen hoor ik dat het juist bij deze vorm geen meerwaarde heeft om te amputeren.  Mij vraag is nu wat ik moet doen.<br />\\nSecond opinion?<br />\\nWaar dan?<br />\\nWeet het even niet meer.</p>\\n<p>Groetjes Dieke</p>\\n')\n",
      "\n",
      "(u'1161', u\"<p>Hoi allemaal,</p>\\n<p>Heb m'n laatste chemokuur (FAC) gisteren gehad. :D <br />\\nNu twee en een half jaar Tamoxifen, daarna twee en een half jaar Femara.</p>\\n<p>Over de laatste (Femara) wat zijn daar de bijverschijselen van in de praktijk, oftewel wat zijn jullie ervaringen hiermee?</p>\\n<p>Vriendelijke groet Lina. :wink:</p>\\n\")\n",
      "\n",
      "(u'1204', u'<p>ik deed er zelf een zakje rijst in, je moet inderdaad niet teveel evenwicht zien te verliezen</p>\\n')\n",
      "\n",
      "(u'2636', u\"<p>Ik lees hier zo weinig over het gebruik van een bolus (soort matje op m'n niettiet om ook de huid goed te raken) bij bestralingen. Als ik het goed heb alleen bij Karin en Mop. Wordt dit zo weinig gebruikt?</p>\\n\")\n",
      "\n",
      "(u'4456', u'<p>Wat naar Libelle... bij mij is er ook een operatie misgegaan terwijl ik dit voordat het gebeurde een paar keer aangegeven heb dat ik voelde dat er iets mis was.... <br />\\nMen luisterde gewoon niet...<br />\\nIk werd wakker uit de narcose en ja hoor...sorry mevrouw er is iets misgegaan!</p>\\n<p>Ik heb uiteindelijk geen klacht ingediend omdat ik er simpelweg de energie er niet voor had!<br />\\nHeb er emotioneel wel een klap door gehad!<br />\\nIk snap dat dit heel erg frustrerend voor je is... ik hoop dat je eruit kunt komen met de mensen die niet genoeg aandacht hebben gegeven.</p>\\n')\n",
      "\n",
      "(u'1814', u'<p>Sinds een week weet ik dat ik uitzaaiingen heb in mijn botten, massaal verbreid.<br />\\nDit nav de eerder doorgemaakte borstkanker uit mrt 2007. Bizar na 6 1/2 jaat, was vorig jaar \"klaar\" met de tamoxifen.<br />\\nVoorstel is nu ivm de snelle groei om mee te gaan doen met de Stop &amp; Go studie van de Boog Studiegroep.<br />\\nDrie maanden de tijd nemen om hormoontherapie aan te kijken durft de arts niet aan, te weid verbreid en te snel gegroeid na stoppen tamoxifen,<br />\\nVan diverse kanten hoor ik echter dat het middel Bevacizumab (Avastin) wat onderdeel uitmaakt van deze chemo al eerder is teruggestrokken in de VS en nu ook onlangs in Belgie is teruggetrokken (<a href=\"https://kce.fgov.be/nl/publication/report/borstkanker-bij-vrouwen-diagnose-behandeling-en-follow-up\" rel=\"nofollow\">https://kce.fgov.be/nl/publication/report/borstkanker-bij-vrouwen-diagnose-behandeling-en-follow-up</a>)<br />\\nMijn arts is echter een voorstander van deze chemo omdat hij zegt dat ik de paclitaxel (taxol) dan elke week krijg en niet een keer per drie weken.<br />\\nHij kleineert de bijwerkingen van de bevacizumab en zegt dat ik het als het ware \"gratis\" bij krijg,<br />\\nWat me ook al duidelijk is geworden is dat deze studie openstaat voor 420 mensen maar er pas 187 aan meedoenen ze nu ziekenhuizen die nog niet meedoen aan het benaderen zijn om de studie maat vol te krijgen.<br />\\nDaarbij is een van de hoofdbehandelaars van het ziekenhuis waar ik behandeld wordt een van de twee trekkende artsen van deze studie.<br />\\nHeb dus erg het gevoel dat ik er ingeluld wordt.<br />\\nSecond opinion is tot nu toe niet gelukt (ben nu wel weer in een ander ziekenhuis bezig) en MOET volgende week beslissen.</p>\\n<p>Vraag aan jullie: wie heeft ervaringen met deze studie en wat zijn de ervaringen<br />\\nWat is de reguliere hormoonbehandeling, her2neg, hormoongevoelig, pre menopauzaal</p>\\n<p>Ik heb eerder fec gehad, okselkliertoiket, borstbesparend geopereerd, bestraald met extra boost vanwege dcis, 3 jaar zoladex en 5 jaar tamoxifen.</p>\\n')\n",
      "\n",
      "(u'2228', u'<p>\\n</p><div class=\"bb-quote\"><b>Papillon schreef:</b><br /><blockquote class=\"bb-quote-body\">Denk je serieus dat ik de enige ben? Of ben ik de enige die toegeeft op zoek te zijn geweest naar zo\\'n app? Als ik al de enige ben hoeven we ons ook geen zorgen te maken dat het vercommercialiseerd wordt.  :wink:</blockquote>\\n</div>\\n<p>\\nVercommercialiseren doe je met deze app bij doorontwikkelen voor doelgroep met een andere levensbedreigende ziekte die ook behoefte heeft aan psychosociale (na)zorg en bewegen. Je maakt de app met PR geld en daarna kunnen anderen hem gebruiken.</p>\\n<p>Als je er behoefte aan hebt, kun je zo\\'n app  bij een sportschool laten inrichten. Ze zijn al beschikbaar, er is content voor motivatie-apps en die pas je aan op jouw specifieke situatie als dat om sporten gaat zoals gewicht, afstanden, vormen van sport etc. Je kunt zelfs een hartslagmeter erbij doen als je op hartslag wil sporten. Google op motivatie apps en je vindt een gigahoeveelheid informatie hierover. Ook Ipso\\'s en H&amp;B die in feite aangewezen zijn om deze app (als daar voldoende behoefte aan is) in te richten. Ik denk zeker dat een sportschool het machtig interessant zal vinden om samen met jou zo\\'n app in te richten! Dat is voor hen business die over een \\'nieuw\\' (in de zin van toegevoegd) kanaal geleverd kan worden.</p>\\n')\n",
      "\n",
      "(u'951', u'<p>Hoi Marja,</p>\\n<p>Gos wat heb jij in korte tijd veel te behappen zeg. Het is allemaal zo snel gegaan.</p>\\n<p>Je vroeg naar mensen met uitzaaiingen. Ik heb uitzaaiing in botten sinds juli 2004. Was toen heel erg pessimistisch maar wordt vanlieverlee weer veel optimistischer.</p>\\n<p>Ik zit ook als  jij in Daniel en heb daar veel vertrouwen in de behandelingen.</p>\\n<p>Ik leerde daar iemand kennen met ook uitzaaiing in lever en botten;  longen weet ik eigenlijk niet. We hebben iedere keer bij infuus veel zitten kletsen en door haar ben ik erg positief geworden. Zij kreeg chemo en net als bij jou slaat die goed aan en is ze al heel lange tijd verder. Wel even gestopt met werken maar kan weer ontzettend genieten van kinderen en alles.</p>\\n<p>Het was in ieder geval fijn te  lezen dat ook bij jou de chemo goed aanslaat. Hoop dus dat ook jij straks weer kunt genieten van alles om je heen</p>\\n<p>voor nu: heel veel sterkte en heel veel succes bij de behandelingen! En heel veel sterkte om dit alles nu te verwerken!</p>\\n<p>Groetjes<br />\\nkarin</p>\\n')\n",
      "\n",
      "(u'1617', u'<p><span style=\"color:green\"><span style=\"font-style:italic\"><span style=\"font-weight:bold\">Ik wil de poppen zo graag hebben, maar op de \\xe9\\xe9n of andere manier kan dat alleen via de oncopleeg.... Iemand andere idee\\xebn?</span></span></span></p>\\n')\n",
      "\n",
      "(u'1564', u'<p>Ik heb 22 dec wat geld over gemaakt voor Amazones4kids 2012 maar ik zie het nergens.<br />\\nBij ons is het eraf maar....... is het bij jullie erbij ????</p>\\n')\n",
      "\n",
      "(u'2345', u'<p>Goh wat een moeilijke situatie zit je in zeg!!<br />\\nHet liefst kies je voor jezelf en geef je ze een schop onder hun gat, maar ja het blijft toch de familie van je mannetje...Hoe staat je man hierin?? wat vind hij van de reactie van zijn familie??<br />\\nAls je man volledig achter jou staat zou ik hem het gesprek aan laten gaan met zijn ouders.. </p>\\n<p>Dit is zo zonde van jou energie die je nu moet steken in je eigen herstel! Bah bah bah, wat jammer dat schoonfamilie niet altijd de meest schone opmerkingen maakt!</p>\\n<p>Sterkte met alles<br />\\n [kiss]</p>\\n')\n",
      "\n",
      "(u'2877', u'<p><a href=\"http://www.borstkanker.nl/themadag_hoop_vrees_2013\" class=\"bb-url\" rel=\"nofollow\">http://www.borstkanker.nl/themadag_hoop_vrees_2013</a></p>\\n<p>Gaat hier iemand naartoe? Ik wil eigenlijk wel gaan, hoewel het inhoudelijk wat tegenviel vorig jaar. Met name de workshops vond ik toch wel de moeite waard en ik het lijkt me leuk om een aantal van jullie (weer) te ontmoeten.</p>\\n')\n",
      "\n",
      "(u'1172', u'<p>Dank u, dat doet deugt zie. Ik hoop dat ik over enkele maanden kan neerschrijven dat het allemaal succesvol was en zo een hele hoop vrouwen kan stimuleren erop aan te dringen bij hun arts om het alsnog te krijgen.</p>\\n')\n",
      "\n"
     ]
    },
    {
     "name": "stdout",
     "output_type": "stream",
     "text": [
      "(u'1179', u'<p>Dank voor je bericht Linnie. Alle hormoontherapien nu volledig opgebruikt. Taxol wil ik<br />\\nniet , dus alleen vinorelbine voor mij nog optie, daarna zeer waarschijnlijk geen behandelingen meer ( lever te slecht). <br />\\nBlijft bizar hoe snel het ineens kan gaan...</p>\\n')\n",
      "\n",
      "(u'4714', u'<p>Hoi Gast,</p>\\n<p>Ik krijg ook APD, om de drie weken. Ze laten het in 2 uur inlopen met een zij-infuus, dan wordt het dus verdunt. Ik was er de eerste keer ook erg ziek van, maar dit helpt. Ze prikken in de binnenkant van mijn elleboog omdat de ader in mijn hand ontstoken raakte.</p>\\n<p>Succes!</p>\\n<p>Jette</p>\\n')\n",
      "\n",
      "(u'2332', u'<p>Ik schreef het al even in mijn eigen hoekje maar op verzoek nog even hier!</p>\\n<p>Via mijn oncologisch maatschappelijk werkster heb ik nu al 2 keer hulp gekregen , de eerste keer was in begin 2009 toen ik nog in het begin van mijn traject zat, hormoon therapie kreeg en dus gewoon met het OV naar het ziekenhuis op en neer ging.<br />\\nSinds ik weet dat ik ziek ben heb ik geen baan meer en een schrale UWV uitkering , door haar is er toen een aanvraag gedaan bij het KWF voor een tegemoetkoming voor mijn reiskosten.<br />\\nHet schijnt dat het KWF hier een potje voor heeft, door een situatie in het verleden bij mijn neefje van toen een half jaar wist ik dat het er was maar niet hoe ik er aan kon komen? Het schijnt wel zo te zijn dat het via een instantie of maatschappelijk werk aangevraagd moet worden.</p>\\n<p>Afgelopen maanden vroeg mijn maatschappelijk werkster herhaaldelijk red je het allemaal wel, want ik heb nog wel wat opties die ik aan kan schrijven alleen helpen die stichtingen vaak met goederen.<br />\\nHeel lang heb ik het afgehouden, te trots? schaamte ? het niet nodig vinden het ging toch allemaal nog.<br />\\nTotdat ik een keer vertelde (met geen bijbedoeling) dat mijn computer wel heel vervelend deed en dat ie aan vervanging toe was.<br />\\nDaar heeft ze toen op ingehaakt en vandaar uit gevraagd wat ik nog meer \"nodig\" had.<br />\\nIk kon heel lang niks bedenken totdat ze een lijstje met me af ging waarbij ik toch nog op iets anders ja zei... en daarna kon ik zowaar nog iets bedenken wat ik wel heel fijn zou vinden.</p>\\n<p>Het enige wat ik heb moeten doen is een overzicht geven van al mijn vaste/noodzakelijke lasten zoals huur/hypotheek gas/water/licht en verzekeringen (geen abo\\'s van tel of internet) en mijn inkomsten<br />\\nVorige week ontving ik een briefje van \"de stichting\" dat mijn verzoek ingewilligd gaat worden.</p>\\n<p>Ik weet via mijn maatschapplijk werkster dat er heel weinig beroep op wordt gedaan en dat veel van haar collega\\'s het laten liggen. Misschien dat het zo wel wat meer onder de aandacht komt ?<br />\\nNou denk ik dat het niet voor iedere kankerpatient beschikbaar is maar dat is mijn eigen invulling</p>\\n')\n",
      "\n",
      "(u'2089', u'<p>Omdat ik enorme leveruitzaaiingen heb en er behalve zeer traaggroeiende botuitzaaiingen verder gelukkig nergens wat te vinden is, heb ik - vooral omdat de familie er niet over ophield - toch eens gevraagd of een levertransplantie geen optie is. Daar zit immers het grootste probleem, en toen er dan ook maar even een kink in de kabel was in de vervolgbehandeling (uitstel Herceptin ivm dalende ejectiefractie) groeide het binnen no-time allemaal weer zo hard dat we weer helemaal terug bij af waren. </p>\\n<p>Vond het al met al best een logische vraag, hoewel ik al wel had bedacht dat ze waarschijnlijk geen kostbare lever zouden verspillen om mijn leven - als het al lukt - een paar maanden te rekken, terwijl er andere mensen al jaren aan het wachten zijn op een lever die hun leven drastisch gaat verbeteren. </p>\\n<p>En dat is ook precies wat de oncoloog zei. </p>\\n<p>En toen was er vandaag ineens nieuws op de radio: apple-topman Steve Jobs heeft een nieuwe lever gekregen. De journalist speculeerde dat hij wellicht leveruitzaaiingen had gehad!! Ik liep heel suf in de Zeeman en kon daarna gewoon de uitgang niet meer vinden, was zooo van het padje!</p>\\n<p>Hij wel!?!?!?</p>\\n<p>Is hij rijk en machtig genoeg om toch gewoon een nieuwe lever te krijgen!?!? En <span style=\"font-style:italic\">had</span> hij uberhaupt wel leveruitzaaiingen...(van welke oorsprong dan ook)....of is dit (alweer) zo\\'n domme uitspraak van een journalist?!?!</p>\\n<p>Ben er echt helemaal van in de war.</p>\\n')\n",
      "\n",
      "(u'1047', u'<p>Mijn naam is Marja en weet sinds kort dat ik borstkanker met uitzaaiingen in longen, lever en botten heb. Ik ben 41, getrouwd en moeder van een dochter van bijna 14 en een zoon van bijna 11. Alles is bij mij mij in een razend snel tempo verlopen en ik heb het gevoel dat ik nog steeds in een nachtmerrie verkeer die maar door blijft razen. Ik zit boordevol woede, boosheid, verdriet en ben bang voor wat allemaal komen gaat. Ik heb grote behoefte om gedachten uit te wisselen met vrouwen die in een vergelijkbare situatie verkeren en misschien wat verder in het proces zijn? Hoe gaan jullie om met die angsten, hoe breng je de dag door enz.<br />\\nHeel graag hoor ik reacties op mijn oproep,<br />\\nliefs,<br />\\nMarja</p>\\n')\n",
      "\n",
      "(u'1801', u'<p>Is er al een topic over baarmoeder- en eierstokverwijdering???<br />\\nIk kan het niet vinden. Wel eea over eierstokverwijdering, maar niet over baarmoeder? Ik wil me langzaamaan gaan verdiepen in ervaringen.</p>\\n<p>Ivonne</p>\\n')\n",
      "\n",
      "(u'2126', u'<p>By Julie Steenhuysen<br />\\nCHICAGO | Tue Nov 15, 2011 10:20am EST<br />\\n(Reuters) - Women who survive breast cancer after undergoing chemotherapy may also have to contend with impairments in attention, memory and planning skills, U.S. researchers said on Monday.</p>\\n<p>They said women who had undergone chemotherapy for breast cancer had significantly less activity in parts of the brain responsible for executive functioning tasks compared with breast cancer patients who were not treated with chemotherapy.</p>\\n<p>Among those treated with chemotherapy, the study also found a strong correlation between women who complained they were having trouble with memory and thinking skills and actual deficits in these regions of the brain.<br />\\nThe study may help explain why many breast cancer patients complain of \"chemo brain\" -- a term used to describe foggy thinking and memory lapses following treatment with chemotherapy.</p>\\n<p>\"This is a huge validation for these women who are telling their doctors \\'something is wrong with me\\',\" said Shelli Kesler of Stanford University School of Medicine in California, whose study appears in the Archives of Neurology.</p>\\n<p>Kesler said the conventional thinking is that chemotherapy drugs cannot cross a protective membrane called the blood-brain barrier that protects the brain from toxins.</p>\\n<p><span style=\"font-weight:bold\">And doctors have dismissed women\\'s complaints of brain deficits after chemotherapy, chalking them up to exaggeration and stress related to the cancer.</span></p>\\n<p>\"This shows that when a patient reports she\\'s struggling with these types of problems, there\\'s a good chance there has been a brain change,\" Kesler said.<br /></p>\\n<p>Her study involved 25 breast cancer patients who had been treated with chemotherapy, 19 breast cancer patients who had surgery and other treatments, and 18 healthy women.</p>\\n<p>All were asked to perform a card-sorting task that involves problem-solving skills while their brain activity was monitored through functional magnetic resonance imaging or fMRI.</p>\\n<p>The women also completed questionnaires to assess their own cognitive abilities.</p>\\n<p>As in prior studies of cancer patients, the team saw significant reductions in activity in two parts of the prefrontal cortex, including one used for working memory, cognitive control and monitoring.</p>\\n<p>But they also found significantly reduced activation of an additional region of the prefrontal cortex linked with executive function -- the area of the brain needed for planning.</p>\\n<p>lees verder: <br /><a href=\"http://www.reuters.com/article/2011/11/15/us-brain-scan-idUSTRE7AE1EQ20111115\" rel=\"nofollow\">http://www.reuters.com/article/2011/11/15/us-brain-scan-idUSTRE7AE1EQ20111115</a></p>\\n<p><a href=\"http://archneur.ama-assn.org/cgi/content/abstract/68/11/1447\" rel=\"nofollow\">http://archneur.ama-assn.org/cgi/content/abstract/68/11/1447</a></p>\\n')\n",
      "\n",
      "(u'3224', u'<p>Ik lees dat ik niet de enige ben.... ik heb in april 2010 borstkanker gekregen.. operatie, chemo, bestralingen, herceptin... en ik dacht dat alles goed was... tot ik in december geel werd... uitzaaiingen in de lever.. de dokters staan er van te kijken dat ik er nog ben.. hadden gedacht dat ik in januari al zou sterven... nu heb ik een palliatieve behandeling en hang steeds aan de chemo.... (waar ik dan wer minstens 10 dagen van plat lig)..... Half maart vertelde mijn man (waar ik 17 jaar mee samen ben en 2 prachtige dochters mee heb), me doodleuk dat ie een ander had... hij heeft meteen zn spullen gepakt en is gegaan..... nou moet ik het in mn eentje doen.... godzijdank wel met hulp van super ouders, fijne familie en geweldige vrienden... maar als je zo ziek bent hoop je toch dat je nog kan genieten van de tijd die je nog hebt... ik zit nu midden in een scheiding.. dit geeft me wel alle wilskracht van de wereld om keihard (nog harder) te vechten.... voor mezelf en voor mn kindertjes!!!!</p>\\n<p>Grtz Esther</p>\\n')\n",
      "\n",
      "(u'2080', u'<p>Heel erg balen dat ik er niet bij kon zijn, maaar juli hebben de honneurs god waargenomen.<br />\\nBen ook heel benieuw naar het boekje.<br />\\nMisschien kunnen je er een voor me meenemen naar het pinck ribbon , ik hoop nog steed te kunnen gaan.  [-o\\n</p>')\n",
      "\n",
      "(u'1605', u'<p>In augustus 2004 gaf mijn homeopaat (<span style=\"color:red\">dr. X</span> te Overdinkel) mij het volgende voedingsadvies:</p>\\n<p>Wel bakken in olijfolie en roomboter op je brood.<br />\\nGeen margarine gebruiken ivm transvet en dat is kankerverwekkend.</p>\\n<p>Wel eten van 1. vis, 2. kip, 3. rundvlees/lam en niet eten: varkensvlees.</p>\\n<p>Wel veel groentes waaronder broccoli e.d. zie site <a href=\"http://www.kanker-actueel.nl\" rel=\"nofollow\">http://www.kanker-actueel.nl</a> en kijk dan naar bijv. moermandieet en houtsmullersdieet.</p>\\n<p>G\\xe9\\xe9n suiker.</p>\\n<p>Bij vruchtensappen de helft aanlengen met water.<br />\\nHet suiker wordt nl. opgeslagen in de lever en op een later tijdstip aan de cellen aangeboden waaronder ook de kankercellen die daardoor extra snel groeien.</p>\\n<p><span style=\"color:red\">[Naam van homeopaat bewerkt door moderator Maisa. Naam is op te vragen bij Erna]</span></p>\\n')\n",
      "\n"
     ]
    },
    {
     "name": "stdout",
     "output_type": "stream",
     "text": [
      "(u'6134', u'<p>Ik denk dat na het bericht van Nana hier weer eens bij stil gestaan kan worden over het leven in twee werelden...................</p>\\n<p>Als ik nana haar verhaal hoor dat het zomaar kan gebeuren dat een van je ouders komt te overlijden terwijl er ruzie is in de familie. Je hebt geen keuze meer om afscheid te kunnen nemen. Nooit meer iets kunnen zeggen. Hoe afschuwelijk is dit allemaal.</p>\\n<p>Ikzelf zit in een soortgelijke situatie, behalve dat mijn zusje ook geen contact meer heeft met mijn vader, dus van wie moet ik het horen? Ik zou het niet weten. Als hij de wens naar zijn vriendin uitspreekt dat zij ons niets mag laten weten, wat hij al eerder bij een ziekenhuisopname heeft gedaan. Zij heeft ons dus ook echt niet gebeld..............we waren toen nog een klein beetje op redelijke voet met elkaar en daarna hoorde ik dat. </p>\\n<p>Ik vond het al een bezopen gedachten dat zij dit zomaar van hem aannam en het dus ook werkelijk niet gedaan heeft. Heb dit ook tegen hen gezegd. </p>\\n<p>Ik heb toevallig vandeweek nadat ik een gevoel had van jemig, die man is van 1927, dus aardige leeftijd wel, zonder nummermelder gebeld in de hoop dat ik toch nog zijn stem zou horen en zo zou weten of hij nog leefde, maar helaas nam zij op. Dus ik zit nog steeds met vraagtekens.</p>\\n<p>Broers en zus van mijn vader hebben we geen contact mee, dus de enige die ik heb is mijn zusje (waar ook het contact heel minimaal is). Ik weet dat hij als hij komt te overlijden bijgezet wordt in het familiegraf van die vriendin haar familie, ik weet ook waar het is. </p>\\n<p>Heb zelfs zitten twijfelen of ik die begraafplaats eens zou bezoeken of bellen................ook of ik de gemeente Den Haag zou bellen om dit te vragen. Alleen de vraag is of ze deze antwoorden ook geven.</p>\\n<p>Misschien leeft ie nog in blakende gezondheid maar hij heeft een keuze gemaakt in zijn leven en dat is dat hij gekozen heeft voor zijn vriendin en heeft ons duidelijk gemaakt dat hij geen contact meer met ons wilt zolang wij zijn vriendin niet accepteren. Wij hebben haar geaccepteerd, maar zij voelen er iets anders bij dan wij. Het bekende verhaal over mijn diagnose en de daarop volgende reacties of NIET reacties eigenlijk zeggen mij genoeg.</p>\\n<p>Waarom het toch iedere dag weer door mijn kop spookt is me een raadsel, ik vraag het me af hoe het met hem zou gaan (moeder is er al 13 jaar niet meer) en als ik me dan bedenk wat Nana nu is overkomen dan bekruipen mij de rillingen en ik denk dat die mensen zelf niet beseffen wat ze voor gevoel geven naar de kinderen toe. </p>\\n<p>Het blijft toch je vader, hoe en wat er ook gebeurt is.<br />\\nIk zou het ontzettend gemeen vinden en heel laag als die vriendin ons niet zou inlichten ook al is het zijn wens. <br />\\nIk weet niet of dit nu onder de noemer: moeten respecteren valt. </p>\\n<p>Het is toch bijna onmenselijk te noemen dat je via via moet horen dat een van je ouders is overleden en inmiddels al begraven of gecremeerd is. Ik kan er gewoon niet over uit. Nana gaat straks als het bezonken is een stapje verder om toch nog te kijken of ze contact kan krijgen las ik in haar weblog. Ik vind dat super moedig, geloof niet dat ik dit zou kunnen eerlijk gezegd.</p>\\n<p>In wat voor een wereld leven we eigenlijk, ik kan het soms niet meer behappen en kan me als moeder niet voorstellen dat je totaal geen contact meer met je kind/kinderen zou willen. Wat er ook ooit gebeurd is, dit kan en mag niet in mijn ogen.</p>\\n<p>Als kind heb je toch recht om te weten en de vrije keuze hebben of je wel of niet afscheid van iemand mag nemen?</p>\\n<p>ONBEGRIJPELIJK :cry:</p>\\n')\n",
      "\n",
      "(u'1683', u'<p>ik moet mij helaas afmelden. Ik heb maandag mijn voet gebroken en zit in het gips.<br />\\nHeel jammer, had er graag bij willen zijn.<br />\\ngroetjes, Marimke</p>\\n')\n",
      "\n",
      "(u'1479', u'<p>Ik zit met een vraag. Regelmatig lees ik hier over onbegrip wat jullie ervaren en tegenkomen uit je omgeving. Daar verbaas ik me al heel erg over en word er ook kwaad om. Toch vraag ik me daarnaast af in hoeverre jullie steun <span style=\"text-decoration:underline\">toelaten</span> van mensen die zelf geen borstkanker hebben gehad. Is er niet ook een stemmetje bij wat ze ook ze ook zeggen of doen: \"jij hebt het nooit gehad, wat klets je nou?\"</p>\\n<p>(Dit is absoluut niet beschuldigend of wat dan ook bedoeld, echt als iets wat ik me zo afvraag  :oops:)[/b]</p>\\n')\n",
      "\n",
      "(u'3199', u'<p>Amen! Mooi<br />\\nNelies</p>\\n')\n",
      "\n"
     ]
    }
   ],
   "source": [
    "for user in authortexts:\n",
    "    if len(authortexts[user])>0:\n",
    "        print(user, authortexts[user][1])\n",
    "        print"
   ]
  },
  {
   "cell_type": "code",
   "execution_count": 75,
   "metadata": {
    "collapsed": true
   },
   "outputs": [],
   "source": [
    "userdeaths_df = pd.read_csv('user-deaths.csv', delimiter = ';')"
   ]
  },
  {
   "cell_type": "code",
   "execution_count": 89,
   "metadata": {},
   "outputs": [
    {
     "name": "stdout",
     "output_type": "stream",
     "text": [
      "0 1143 <type 'str'>\n",
      "1 1140 <type 'str'>\n",
      "2 1146 <type 'str'>\n",
      "3 1147 <type 'str'>\n",
      "4 3040 <type 'str'>\n",
      "5 2717 <type 'str'>\n",
      "6 1774 <type 'str'>\n",
      "7 3124 <type 'str'>\n",
      "8 933 <type 'str'>\n",
      "9 2464 <type 'str'>\n",
      "10 2998 <type 'str'>\n",
      "11 1090 <type 'str'>\n",
      "12 1098 <type 'str'>\n",
      "13 1403 <type 'str'>\n",
      "14 4037 <type 'str'>\n",
      "15 1069 <type 'str'>\n",
      "16 1552 <type 'str'>\n",
      "17 1554 <type 'str'>\n",
      "18 3247 <type 'str'>\n",
      "19 929 <type 'str'>\n",
      "20 2413 <type 'str'>\n",
      "21 4487 <type 'str'>\n",
      "22 3844 <type 'str'>\n",
      "23 926 <type 'str'>\n",
      "24 1821 <type 'str'>\n",
      "25 987 <type 'str'>\n",
      "26 2777 <type 'str'>\n",
      "27 1923 <type 'str'>\n",
      "28 3672 <type 'str'>\n",
      "29 4800 <type 'str'>\n",
      "30 1711 <type 'str'>\n",
      "31 1527 <type 'str'>\n",
      "32 2389 <type 'str'>\n",
      "33 940 <type 'str'>\n",
      "34 917 <type 'str'>\n",
      "35 1131 <type 'str'>\n",
      "36 3263 <type 'str'>\n",
      "37 2830 <type 'str'>\n",
      "38 902 <type 'str'>\n",
      "39 904 <type 'str'>\n",
      "40 905 <type 'str'>\n",
      "41 1745 <type 'str'>\n",
      "42 2672 <type 'str'>\n",
      "43 1004 <type 'str'>\n",
      "44 3808 <type 'str'>\n",
      "45 1870 <type 'str'>\n",
      "46 3211 <type 'str'>\n",
      "47 2208 <type 'str'>\n",
      "48 3458 <type 'str'>\n",
      "49 1737 <type 'str'>\n",
      "50 2114 <type 'str'>\n",
      "51 1034 <type 'str'>\n",
      "52 1609 <type 'str'>\n",
      "53 1215 <type 'str'>\n",
      "54 4278 <type 'str'>\n",
      "55 1354 <type 'str'>\n",
      "56 2333 <type 'str'>\n",
      "57 2184 <type 'str'>\n",
      "58 1911 <type 'str'>\n",
      "59 1912 <type 'str'>\n",
      "60 966 <type 'str'>\n",
      "61 962 <type 'str'>\n",
      "62 968 <type 'str'>\n",
      "63 1748 <type 'str'>\n",
      "64 1452 <type 'str'>\n",
      "65 1101 <type 'str'>\n",
      "66 2103 <type 'str'>\n",
      "67 1514 <type 'str'>\n",
      "68 1204 <type 'str'>\n",
      "69 2636 <type 'str'>\n",
      "70 4456 <type 'str'>\n",
      "71 1814 <type 'str'>\n",
      "72 951 <type 'str'>\n",
      "73 1617 <type 'str'>\n",
      "74 1564 <type 'str'>\n",
      "75 2877 <type 'str'>\n",
      "76 1179 <type 'str'>\n",
      "77 2332 <type 'str'>\n",
      "78 2089 <type 'str'>\n",
      "79 1047 <type 'str'>\n",
      "80 2126 <type 'str'>\n",
      "81 3224 <type 'str'>\n",
      "82 2080 <type 'str'>\n",
      "83 1683 <type 'str'>\n",
      "84 3199 <type 'str'>\n"
     ]
    }
   ],
   "source": [
    "for i, user in enumerate(userdeaths_df['uid']):\n",
    "    print i, user, type(userdeaths_df['death'][i])"
   ]
  }
 ],
 "metadata": {
  "kernelspec": {
   "display_name": "Python 2",
   "language": "python",
   "name": "python2"
  },
  "language_info": {
   "codemirror_mode": {
    "name": "ipython",
    "version": 2
   },
   "file_extension": ".py",
   "mimetype": "text/x-python",
   "name": "python",
   "nbconvert_exporter": "python",
   "pygments_lexer": "ipython2",
   "version": "2.7.14"
  }
 },
 "nbformat": 4,
 "nbformat_minor": 2
}
