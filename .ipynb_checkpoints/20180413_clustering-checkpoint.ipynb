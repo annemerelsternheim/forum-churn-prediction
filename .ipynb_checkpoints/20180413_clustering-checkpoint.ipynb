{
 "cells": [
  {
   "cell_type": "code",
   "execution_count": 71,
   "metadata": {
    "collapsed": true
   },
   "outputs": [],
   "source": [
    "# imports\n",
    "import json, re, time, unicodedata, unidecode, itertools, os\n",
    "from collections import defaultdict\n",
    "from datetime import date, datetime, timedelta\n",
    "import numpy as np\n",
    "from nltk.tokenize import sent_tokenize, word_tokenize\n",
    "from pattern.nl import sentiment, parse, split\n",
    "import pandas as pd\n",
    "from tqdm import tqdm_notebook as tqdm\n",
    "from pprint import pprint\n",
    "from sklearn.cluster import KMeans\n",
    "import matplotlib.pyplot as plt"
   ]
  },
  {
   "cell_type": "code",
   "execution_count": 2,
   "metadata": {
    "collapsed": true
   },
   "outputs": [],
   "source": [
    "# files\n",
    "#MWE\n",
    "#topics = json.load(open('D:\\\\4. Data\\\\Amazones_Forum_Export_JSON\\\\MWE_topic.json'))\n",
    "#posts = json.load(open('D:\\\\4. Data\\\\Amazones_Forum_Export_JSON\\\\MWE.json'))\n",
    "#regular\n",
    "forums = json.load(open('D:\\\\4. Data\\\\Amazones_Forum_Export_JSON\\\\2017-12-07T13-35-45 _amazones_forums_export.json'))\n",
    "# zorg voor een nieuwe versie van dit bestand; verkeerd opgeslagen dus je mist het kontje!\n",
    "topics = json.load(open('D:\\\\4. Data\\\\Amazones_Forum_Export_JSON\\\\2017-12-07T13-36-51_amazones_forum_topics_export.json'))\n",
    "posts = json.load(open('D:\\\\4. Data\\\\Amazones_Forum_Export_JSON\\\\2017-12-07T13-39-20_amazones_forum_posts_export.json'))\n",
    "users = json.load(open('D:\\\\4. Data\\\\Amazones_Forum_Export_JSON\\\\2017-12-07T13-39-20_amazones_users_export.json'))"
   ]
  },
  {
   "cell_type": "code",
   "execution_count": 4,
   "metadata": {
    "collapsed": true
   },
   "outputs": [],
   "source": [
    "def remove_non_ascii(text):\n",
    "    \"\"\" this function expects a string, and removes non-ascii characters from it \"\"\"\n",
    "    return unidecode.unidecode(text)"
   ]
  },
  {
   "cell_type": "code",
   "execution_count": 3,
   "metadata": {
    "collapsed": true
   },
   "outputs": [],
   "source": [
    "def cleanup(text):\n",
    "    \"\"\" this function expects a string (post from the BVN/Amazones forum), and returns a cleaner version of it \"\"\"\n",
    "    # remove all links, images, quotes, and emailaddresses\n",
    "    text=re.sub('<a.*?>(.*?)</a>','',text) #remove links\n",
    "    text=re.sub('(http:|www)\\S*','',text) #remove links without markup\n",
    "    text=re.sub('\\[\\\\\\/url\\]','',text)\n",
    "    text=re.sub('<img.*?/>', '',text) #remove images\n",
    "    text=re.sub('<div class=\"bb-quote\">((\\s|\\S)*?)</div>','',text) #remove quotes\n",
    "    text=re.sub('<script.*?>([\\S\\s]*?)</script>','',text) #remove emailaddresses\n",
    "\n",
    "    # replace all emoticon-icons\n",
    "    text=re.sub('<img.*?title=\"(.*?)\".*?/>', '(EMO:\\\\1)',text) #replace emoticons by textual indicators \n",
    "\n",
    "    # replace (most) sideways latin emoticons\n",
    "    text=re.sub('[^>]:-?(\\)|\\])','(EMO:smiley)',text)\n",
    "    text=re.sub(u'☺️','(EMO:smiley)',text)\n",
    "    text=re.sub('[^>]:-?(\\(|\\[)','(EMO:sad)',text)\n",
    "    text=re.sub(';-?(\\)|\\])','(EMO:wink)',text)\n",
    "    text=re.sub(r'(:|;|x|X)-?(D)+\\b','(EMO:laugh)',text)\n",
    "    text=re.sub(':-?(/|\\\\\\|\\|)','(EMO:frown)',text)\n",
    "    text=re.sub(r'(:|;)-?(p|P)+\\b','(EMO:cheeky)',text)\n",
    "    text=re.sub('(:|;)(\\'|\\\")-?(\\(|\\[)','(EMO:cry)',text)\n",
    "    text=re.sub('\\<3+','(EMO:heart)',text)\n",
    "    text=re.sub(u'❤️','(EMO:heart)',text)\n",
    "    text=re.sub('((\\>:-?(\\(|\\]))|(\\>?:-?@))','(EMO:angry)',text)\n",
    "    text=re.sub('\\>:-?(\\)|\\])','(EMO:evil)',text)\n",
    "    text=re.sub(r'(:|;)-?(O|o|0)+\\b','(EMO:shock)',text)\n",
    "    text=re.sub('(:|;)-?(K|k|x|X)','(EMO:kiss)',text)\n",
    "    # :s\n",
    "    # :x is eigenlijk geen kus, geloof ik...\n",
    "\n",
    "    #other important adjustments:\n",
    "    text=re.sub('m\\'?n\\s','mijn ',text) # replacing m'n and mn with mijn, so it gets parsed correctly.\n",
    "    text=re.sub('z\\'?n\\s','zijn ',text) #replacing z'n and zn with zijn\n",
    "    text=re.sub('d\\'?r\\s','haar ',text) #replacing d'r and dr with zijn (only if followed by space, so dr. stays dr.)\n",
    "\n",
    "    # replace all emoticons (and other things) written between double colons\n",
    "    text=re.sub(':([a-zA-Z]+):','(EMO:\\\\1)',text)\n",
    "\n",
    "    # remove remaining markup\n",
    "    text=re.sub('</?(ol|style|b|p|em|u|i|strong|br|span|div|blockquote|li)(.*?)/?>','',text)\n",
    "    text=re.sub('(\\[|\\]|\\{|\\})', '',text)\n",
    "\n",
    "    # separate text from punctuation (may cause double/triple spaces - does not matter at this point)\n",
    "    text = re.sub('(\\.{2,}|/|\\)|,|!|\\?)','\\\\1 ',text) # space behind\n",
    "    text=re.sub('(/|\\()',' \\\\1',text) # space in front\n",
    "    text=re.sub('(\\w{2,})(\\.|,)','\\\\1 \\\\2 ',text) #space 'between'\n",
    "\n",
    "    return(remove_non_ascii(text))"
   ]
  },
  {
   "cell_type": "code",
   "execution_count": 5,
   "metadata": {
    "collapsed": true
   },
   "outputs": [],
   "source": [
    "def make_P_T_and_D(topics,posts):\n",
    "    \"\"\" this function takes the .json files containing the thread starts and responses, and returns three things:\n",
    "    [0]: a dictionary with the user-ID as key, and the post as value;\n",
    "    [1]: a dictionary with the user-ID as key, and the time of posting as a value;\n",
    "    [2]: a list of all datetimes present in the data (sorted by date, because the .json was already sorted) \"\"\"\n",
    "    P = defaultdict(list)\n",
    "    T = defaultdict(list)\n",
    "    D = []\n",
    "\n",
    "    with tqdm(total=len(topics)) as pbar:\n",
    "        for t in reversed(topics):\n",
    "            pbar.update(1)\n",
    "            P[t['Author uid']].append((cleanup(t[\"Body\"]),1))\n",
    "            T[t['Author uid']].append(t['Post date'])\n",
    "            D.append(datetime.strptime(t['Post date'], '%d/%m/%Y - %H:%M'))\n",
    "\n",
    "    with tqdm(total=len(posts)) as pbar:\n",
    "        for p in reversed(posts):\n",
    "            pbar.update(1)\n",
    "            P[p['Auteur-uid']].append((cleanup(p[\"Body\"]),0))\n",
    "            T[p['Auteur-uid']].append(p['Datum van inzending'])\n",
    "            D.append(datetime.strptime(p['Datum van inzending'], '%d/%m/%Y - %H:%M'))\n",
    "\n",
    "    return (P,T,D)"
   ]
  },
  {
   "cell_type": "code",
   "execution_count": 7,
   "metadata": {
    "collapsed": true
   },
   "outputs": [],
   "source": [
    "def determine_active_users(include_only = []):\n",
    "    global over_treshold\n",
    "    \n",
    "    if include_only == []:\n",
    "        userlist = T\n",
    "    else:\n",
    "        userlist = include_only\n",
    "    for user in userlist:\n",
    "        if len(T[user])<30:\n",
    "            pass\n",
    "        else:\n",
    "            over_treshold.append(user)"
   ]
  },
  {
   "cell_type": "code",
   "execution_count": 15,
   "metadata": {
    "collapsed": true
   },
   "outputs": [],
   "source": [
    "def make_binlist(D,timetick=1):\n",
    "    \"\"\" this function takes a list of dates (D), and generates a new list of dates,\n",
    "    starting at 4:00 AM just before the earliest date in D, and ending at 4:00 just after the latest date in D,\n",
    "    with fixed timeticks between all dates in the list.\n",
    "    Optionally, the length of the timetick may be specified (in hours).\n",
    "    \"\"\"\n",
    "    lower = min(D)\n",
    "    upper = max(D)\n",
    "\n",
    "    if lower.time()>=datetime.strptime('4:00','%H:%M').time():\n",
    "        lower = lower.replace(hour = 4, minute = 0)\n",
    "    else:\n",
    "        lower = (lower+timedelta(days = -1)).replace(hour=4,minute=0)\n",
    "\n",
    "    if upper.time()<datetime.strptime('12:00','%H:%M').time():\n",
    "        upper = upper.replace(hour = 4, minute = 0)\n",
    "    else:\n",
    "        upper = (upper+timedelta(days=1)).replace(hour=4,minute=0)\n",
    "\n",
    "    return([lower + timedelta(days=x) for x in range(0, (upper-lower).days, timetick)])"
   ]
  },
  {
   "cell_type": "code",
   "execution_count": 9,
   "metadata": {
    "collapsed": true
   },
   "outputs": [],
   "source": [
    "# these bodies contain (EMO:...). Many emoticons are actually analysed by pattern's sentiment miner, so see which can be reverted (within-sentence) \n",
    "def determine_questionmarks(body, Q=0):\n",
    "    \"\"\" This function counts and returns the number of sentences in the provided input string\n",
    "    that ends in at least one question mark \"\"\"\n",
    "    for sentence in sent_tokenize(body):\n",
    "        if re.search('\\?+', sentence):\n",
    "            Q+=1\n",
    "    if len(sent_tokenize(body))!=0:\n",
    "        return float(Q)/float(len(sent_tokenize(body)))\n",
    "    else:\n",
    "        return 0\n",
    "\n",
    "def determine_sentiment(body):\n",
    "    \"\"\" this funciton determines and returns the average sentiment of sentences in the provided input string.\n",
    "    It uses the pattern module to do so. Sentiment values may range from -1 to 1. \"\"\"\n",
    "    return np.mean([sentiment(sentence)[0] for sentence in sent_tokenize(body)]) \n",
    "\n",
    "def determine_subjectivity(body):\n",
    "    \"\"\" This function determines and returns the average subjectivity of sentences in the provided input string.\n",
    "    It uses the pattern module to do so. Subjectivity values may range from 0 to 1. \"\"\"\n",
    "    return np.mean([sentiment(sentence)[1] for sentence in sent_tokenize(body)]) \n",
    "\n",
    "def determine_post_length(body):\n",
    "    \"\"\" This function determines and returns the length of the provided input string in sentences.\n",
    "    It uses the nltk sent_tokenize function to do so. \"\"\"\n",
    "    return(len(sent_tokenize(body)))\n",
    "\n",
    "def determine_sentence_length(body):\n",
    "    \"\"\" This function determines and returns the average length of the sentences in the provided input string in words.\n",
    "    It uses the nltk word_tokenize function to do so. \"\"\"\n",
    "    #word_tokenize also considers interpunction a word\n",
    "    return np.mean([len(word_tokenize(sentence)) for sentence in sent_tokenize(body)])\n",
    "\n",
    "def determine_PRoPortion(body,prp = ['PRP','PRP$'],firstperson = ['ik', 'me', 'mij', 'mijn', 'we', 'wij', 'ons', 'onze']):\n",
    "    \"\"\" This function determines and returns the percentage of personal and possessive pronouns\n",
    "    that occurs in first person (e.g., 'ik', 'wij', 'onze'). It uses pattern's split and parse functions to do so \"\"\"\n",
    "    personalpronouns = []\n",
    "    firstpersonalpronouns = []\n",
    "\n",
    "    for sentence in split(parse(body)):\n",
    "        for word in sentence:\n",
    "            if word.tag in prp:\n",
    "                personalpronouns.append(word.string)\n",
    "\n",
    "    for word in personalpronouns:\n",
    "        if word.lower() in firstperson:\n",
    "            firstpersonalpronouns.append(word)\n",
    "    if len(personalpronouns)==0:\n",
    "        return 0\n",
    "    else:\n",
    "        return float(len(firstpersonalpronouns))/float(len(personalpronouns))\n",
    "    \n",
    "def determine_death(user,lower):\n",
    "    if user in deathdict:\n",
    "        return (deathdict[user]-lower).days\n",
    "    else:\n",
    "        return float('nan')"
   ]
  },
  {
   "cell_type": "code",
   "execution_count": 10,
   "metadata": {
    "collapsed": true
   },
   "outputs": [],
   "source": [
    "def determine_week_activity(first_date,last_date,bindict):\n",
    "    \"\"\" This function returns a dictionary that has kept track of the activity in week-bins, instead of day-bins.\n",
    "    It expects two dates, to indicate in between which dates the dictionary should be built,\n",
    "    and expects a dictionary in which all the user's active times are already stored\"\"\"\n",
    "    for d in range(0, (last_date-first_date).days,7):\n",
    "        week_start = first_date+timedelta(days=d)\n",
    "        week_end = first_date+timedelta(days=d+7)\n",
    "        for date in list(itertools.chain.from_iterable(bindict.values())):\n",
    "            if week_start<=datetime.strptime(date, '%d/%m/%Y - %H:%M')<week_end:\n",
    "                weekcountdict[week_start,week_end].append(1)\n",
    "        if len(weekcountdict[week_start,week_end])==0:\n",
    "            weekcountdict[week_start,week_end] = []\n",
    "    return weekcountdict"
   ]
  },
  {
   "cell_type": "code",
   "execution_count": 11,
   "metadata": {
    "collapsed": true
   },
   "outputs": [],
   "source": [
    "def determine_past_activity(bindict,index,hours_back=24):\n",
    "    \"\"\" This function returns the number of times a user has been active in the last hours_back hours (default 24h).\n",
    "    The first hours_back time bins will for now have a value of 0 by default, to keep things easy.\"\"\"\n",
    "    if 0<= index-hours_back<=len(bindict):\n",
    "        past_activity = np.sum([len(bindict[binlist[index-(x+1)],binlist[index+1-(x+1)]]) for x in range(hours_back)])\n",
    "    else:\n",
    "        past_activity=0\n",
    "    return past_activity"
   ]
  },
  {
   "cell_type": "code",
   "execution_count": 12,
   "metadata": {
    "collapsed": true
   },
   "outputs": [],
   "source": [
    "def make_deathdict():\n",
    "    due_day = []\n",
    "    user_IDs = []\n",
    "\n",
    "    userdeaths_df = pd.read_csv('user-deaths.csv', delimiter = ';')\n",
    "    for i, user in enumerate(userdeaths_df['uid']):\n",
    "        due_day.append(userdeaths_df['death'][i])\n",
    "        user_IDs.append(user)\n",
    "\n",
    "    deathdict = dict()\n",
    "    for i,d in enumerate(due_day):\n",
    "         deathdict[user_IDs[i]] = datetime.strptime(d, '%d/%m/%Y')\n",
    "    return deathdict"
   ]
  },
  {
   "cell_type": "code",
   "execution_count": 13,
   "metadata": {
    "collapsed": true
   },
   "outputs": [],
   "source": [
    "def print_information(user, T, first_date,last_date,weekcount):\n",
    "    \"\"\" this function prints useful basic information on the user's activity.\n",
    "    It needs quite some input so make sure you've got them all:\n",
    "    1) user ID, 2) a dictionary containing users-IDs as key, and any activity log as value,\n",
    "    3,4) the first and last date of activity, and 5) the dictionary that kept track of the week activity. \"\"\"\n",
    "    print \"User:\", user\n",
    "    print \"posted one or more posts in\", len(T[user]), \"'bins'.\" \n",
    "    print \"The first post: \", first_date\n",
    "    print \"The last post: \", last_date\n",
    "    print \"Activity spread over: \", last_date-first_date\n",
    "    print \"The average nr of posts per week: \", np.mean([len(x) for x in weekcount.values()]), \"including long times of inactivity.\"\n",
    "    print \"The average nr of posts in non-empty weeks: \", np.mean([len(x) for x in weekcount.values() if not x==[]])\n",
    "    print \"The range of activity: \", min([len(x) for x in weekcount.values()]), \" to \", max([len(x) for x in weekcount.values()]), \" posts per week\"\n",
    "    print"
   ]
  },
  {
   "cell_type": "code",
   "execution_count": 6,
   "metadata": {
    "scrolled": false
   },
   "outputs": [
    {
     "data": {
      "application/vnd.jupyter.widget-view+json": {
       "model_id": "da6a5b6915ff482484aef0cddeeda04c",
       "version_major": 2,
       "version_minor": 0
      },
      "text/plain": [
       "A Jupyter Widget"
      ]
     },
     "metadata": {},
     "output_type": "display_data"
    },
    {
     "name": "stdout",
     "output_type": "stream",
     "text": [
      "\n"
     ]
    },
    {
     "data": {
      "application/vnd.jupyter.widget-view+json": {
       "model_id": "3a069b64ef5844059de34807ae03fc99",
       "version_major": 2,
       "version_minor": 0
      },
      "text/plain": [
       "A Jupyter Widget"
      ]
     },
     "metadata": {},
     "output_type": "display_data"
    },
    {
     "name": "stdout",
     "output_type": "stream",
     "text": [
      "\n"
     ]
    }
   ],
   "source": [
    "PTD = make_P_T_and_D(topics,posts) \n",
    "P = PTD[0]\n",
    "T = PTD[1]\n",
    "D = PTD[2]"
   ]
  },
  {
   "cell_type": "code",
   "execution_count": 31,
   "metadata": {},
   "outputs": [
    {
     "name": "stdout",
     "output_type": "stream",
     "text": [
      "days:  1623\n",
      "posts:  500\n",
      "average per week:  2.15650030807\n"
     ]
    }
   ],
   "source": [
    "posts = 500\n",
    "days = (max([datetime.strptime(time, '%d/%m/%Y - %H:%M') for time in T['1144']])- min([datetime.strptime(time, '%d/%m/%Y - %H:%M') for time in T['1144']])).days\n",
    "print \"days: \",days\n",
    "print \"posts: \", posts\n",
    "print \"average per week: \", posts/(days/7.0)"
   ]
  },
  {
   "cell_type": "code",
   "execution_count": 7,
   "metadata": {},
   "outputs": [
    {
     "data": {
      "application/vnd.jupyter.widget-view+json": {
       "model_id": "58856d59bc124fb7b016f89e506d3192",
       "version_major": 2,
       "version_minor": 0
      },
      "text/plain": [
       "A Jupyter Widget"
      ]
     },
     "metadata": {},
     "output_type": "display_data"
    },
    {
     "name": "stdout",
     "output_type": "stream",
     "text": [
      "\n",
      " _ \n",
      "|_|\n"
     ]
    }
   ],
   "source": [
    "users = []\n",
    "data = []\n",
    "with tqdm(total=len(T)) as processbar:\n",
    "    for user in T:\n",
    "        nrOfPosts = len(T[user]) # nr of posts from user\n",
    "        activeDays = (max([datetime.strptime(time, '%d/%m/%Y - %H:%M') for time in T[user]])- min([datetime.strptime(time, '%d/%m/%Y - %H:%M') for time in T[user]])).days\n",
    "        if activeDays == 0:\n",
    "            activityPerWeek = 0\n",
    "        else:\n",
    "            activityPerWeek = nrOfPosts/(activeDays/7.0)\n",
    "        users.append(user)\n",
    "        data.append([nrOfPosts,activeDays,activityPerWeek])\n",
    "        processbar.update(1)"
   ]
  },
  {
   "cell_type": "code",
   "execution_count": 8,
   "metadata": {
    "scrolled": true
   },
   "outputs": [
    {
     "name": "stdout",
     "output_type": "stream",
     "text": [
      "4024 [1, 0, 0]\n",
      "4022 [25, 1336, 0.1309880239520958]\n",
      "4029 [2, 0, 0]\n",
      "5988 [4, 153, 0.1830065359477124]\n",
      "5986 [3, 22, 0.9545454545454546]\n",
      "5984 [1, 0, 0]\n",
      "5985 [9, 209, 0.3014354066985646]\n",
      "3997 [2, 8, 1.75]\n",
      "3995 [1, 0, 0]\n",
      "3993 [20, 175, 0.8]\n",
      "4930 [7, 41, 1.1951219512195124]\n",
      "4687 [24, 315, 0.5333333333333333]\n",
      "4684 [3, 1, 21.0]\n",
      "6150 [9, 807, 0.07806691449814127]\n",
      "6151 [1, 0, 0]\n",
      "6152 [3, 0, 0]\n",
      "4933 [4, 27, 1.037037037037037]\n",
      "4934 [3, 4, 5.25]\n",
      "4731 [13, 20, 4.55]\n",
      "4737 [15, 540, 0.19444444444444445]\n",
      "2319 [13, 317, 0.2870662460567823]\n",
      "2317 [39, 1935, 0.14108527131782944]\n",
      "2314 [152, 1132, 0.939929328621908]\n",
      "4739 [11, 266, 0.2894736842105263]\n",
      "2313 [8, 772, 0.07253886010362694]\n",
      "2310 [55, 341, 1.129032258064516]\n",
      "5854 [1, 0, 0]\n",
      "5852 [1, 0, 0]\n",
      "5859 [1, 0, 0]\n",
      "3772 [17, 526, 0.22623574144486694]\n",
      "3771 [1, 0, 0]\n",
      "3776 [1, 0, 0]\n",
      "3775 [16, 1105, 0.10135746606334842]\n",
      "3774 [19, 82, 1.6219512195121952]\n",
      "3779 [61, 1083, 0.39427516158818093]\n",
      "4834 [4, 52, 0.5384615384615384]\n",
      "4655 [3, 1274, 0.016483516483516484]\n",
      "4656 [1, 0, 0]\n",
      "4652 [1, 0, 0]\n",
      "18184 [6, 2, 21.0]\n",
      "2262 [4, 3, 9.333333333333334]\n",
      "2263 [8, 182, 0.3076923076923077]\n",
      "5487 [3, 36, 0.5833333333333333]\n",
      "2267 [10, 663, 0.10558069381598795]\n",
      "2264 [4, 9, 3.1111111111111107]\n",
      "2440 [52, 224, 1.625]\n",
      "2441 [1, 0, 0]\n",
      "2448 [112, 1154, 0.6793760831889081]\n",
      "2449 [1, 0, 0]\n",
      "18180 [2, 0, 0]\n",
      "6055 [2, 0, 0]\n",
      "2102 [2, 0, 0]\n",
      "2044 [4, 12, 2.3333333333333335]\n",
      "2045 [297, 2082, 0.9985590778097982]\n",
      "4817 [9, 145, 0.43448275862068964]\n",
      "2040 [1, 0, 0]\n",
      "2041 [156, 1159, 0.9421915444348575]\n",
      "3155 [25, 212, 0.8254716981132075]\n",
      "2838 [1, 0, 0]\n",
      "3159 [13, 1216, 0.07483552631578946]\n",
      "3519 [270, 172, 10.988372093023255]\n",
      "3517 [1, 0, 0]\n",
      "3515 [12, 6, 14.0]\n",
      "3514 [2, 0, 0]\n",
      "2689 [1, 0, 0]\n",
      "2830 [6, 654, 0.06422018348623854]\n",
      "2683 [13, 90, 1.011111111111111]\n",
      "5407 [77, 904, 0.5962389380530974]\n",
      "5406 [5, 227, 0.1541850220264317]\n",
      "5118 [3, 5, 4.2]\n",
      "1433 [452, 3092, 1.0232858990944373]\n",
      "3207 [7, 1152, 0.04253472222222222]\n",
      "1622 [1, 0, 0]\n",
      "3205 [9, 70, 0.9]\n",
      "1992 [14, 14, 7.0]\n",
      "5186 [2, 0, 0]\n",
      "3202 [11, 450, 0.1711111111111111]\n",
      "1625 [5, 143, 0.24475524475524477]\n",
      "1624 [1, 0, 0]\n",
      "1998 [78, 2892, 0.1887966804979253]\n",
      "3209 [4, 82, 0.34146341463414637]\n",
      "5058 [4, 203, 0.13793103448275862]\n",
      "2861 [3, 0, 0]\n",
      "2869 [6, 118, 0.3559322033898305]\n",
      "17826 [37, 26, 9.961538461538462]\n",
      "17825 [1, 0, 0]\n",
      "5408 [2, 0, 0]\n",
      "3349 [46, 1752, 0.18378995433789955]\n",
      "1191 [368, 2094, 1.2301814708691499]\n",
      "1190 [1, 0, 0]\n",
      "1193 [90, 215, 2.9302325581395348]\n",
      "1192 [15, 5, 21.0]\n",
      "3346 [23, 558, 0.2885304659498208]\n",
      "1194 [17, 408, 0.2916666666666667]\n",
      "1196 [3, 0, 0]\n",
      "1757 [5, 23, 1.5217391304347827]\n",
      "1756 [30, 2104, 0.09980988593155894]\n",
      "1755 [2, 2, 7.0]\n",
      "1754 [18, 129, 0.9767441860465117]\n",
      "1753 [45, 2295, 0.13725490196078433]\n",
      "1752 [1, 0, 0]\n",
      "1750 [50, 688, 0.5087209302325582]\n",
      "4259 [6, 228, 0.1842105263157895]\n",
      "4258 [19, 696, 0.1910919540229885]\n",
      "1172 [24, 483, 0.34782608695652173]\n",
      "1171 [13, 184, 0.4945652173913044]\n",
      "1170 [2, 138, 0.10144927536231883]\n",
      "4251 [2, 168, 0.08333333333333333]\n",
      "4255 [7, 86, 0.5697674418604651]\n",
      "4254 [4, 35, 0.8]\n",
      "1179 [20, 3378, 0.04144464179988159]\n",
      "4256 [120, 1669, 0.5032953864589574]\n",
      "18148 [1, 0, 0]\n",
      "5530 [2, 245, 0.05714285714285714]\n",
      "5536 [3, 311, 0.067524115755627]\n",
      "5534 [1, 0, 0]\n",
      "5539 [8, 32, 1.75]\n",
      "1285 [1, 0, 0]\n",
      "1287 [7, 21, 2.3333333333333335]\n",
      "1286 [1, 0, 0]\n",
      "1281 [5, 267, 0.13108614232209737]\n",
      "1282 [77, 774, 0.6963824289405685]\n",
      "1288 [1, 0, 0]\n",
      "1572 [55, 424, 0.9080188679245284]\n",
      "1571 [1, 0, 0]\n",
      "1570 [60, 1701, 0.24691358024691357]\n",
      "1577 [2, 0, 0]\n",
      "1576 [1, 0, 0]\n",
      "1575 [3, 1, 21.0]\n",
      "1574 [126, 1993, 0.44254892122428496]\n",
      "4260 [1, 0, 0]\n",
      "6016 [1, 0, 0]\n",
      "3435 [2, 0, 0]\n",
      "4263 [2, 1, 14.0]\n",
      "4388 [3, 0, 0]\n",
      "5629 [17, 215, 0.5534883720930233]\n",
      "2036 [1, 0, 0]\n",
      "4383 [14, 1500, 0.06533333333333334]\n",
      "4380 [1, 0, 0]\n",
      "4387 [240, 1217, 1.380443714050945]\n",
      "5622 [3, 4, 5.25]\n",
      "4385 [12, 394, 0.2131979695431472]\n",
      "5620 [1, 0, 0]\n",
      "1370 [3716, 4347, 5.9838969404186795]\n",
      "1372 [5, 142, 0.24647887323943662]\n",
      "1377 [505, 4287, 0.8245859575460694]\n",
      "4269 [3, 21, 1.0]\n",
      "1378 [129, 1995, 0.45263157894736844]\n",
      "3832 [1, 0, 0]\n",
      "3833 [13, 166, 0.5481927710843373]\n",
      "2746 [1, 0, 0]\n",
      "3839 [141, 290, 3.4034482758620688]\n",
      "4030 [1, 0, 0]\n",
      "4033 [1, 0, 0]\n",
      "4035 [1, 0, 0]\n",
      "5990 [1, 0, 0]\n",
      "4037 [1, 0, 0]\n",
      "4845 [1, 0, 0]\n",
      "4039 [2, 0, 0]\n",
      "4038 [4, 0, 0]\n",
      "4186 [2, 0, 0]\n",
      "4738 [9, 142, 0.44366197183098594]\n",
      "6142 [42, 3121, 0.09420057673822493]\n",
      "6141 [148, 288, 3.597222222222222]\n",
      "6140 [9, 544, 0.11580882352941177]\n",
      "6147 [9, 14, 4.5]\n",
      "6145 [183, 720, 1.7791666666666666]\n",
      "6144 [4, 128, 0.21875]\n",
      "6148 [43, 1254, 0.24003189792663476]\n",
      "2309 [35, 146, 1.678082191780822]\n",
      "2308 [4, 383, 0.0731070496083551]\n",
      "4729 [11, 110, 0.7000000000000001]\n",
      "2301 [3, 1, 21.0]\n",
      "2303 [2, 0, 0]\n",
      "2305 [32, 724, 0.30939226519337015]\n",
      "4720 [1, 0, 0]\n",
      "4723 [10, 44, 1.590909090909091]\n",
      "5844 [22, 262, 0.5877862595419847]\n",
      "5843 [6, 35, 1.2]\n",
      "5841 [7, 2, 24.5]\n",
      "3747 [1, 0, 0]\n",
      "3745 [1, 0, 0]\n",
      "3742 [3, 3, 7.0]\n",
      "3740 [1, 0, 0]\n",
      "4620 [1, 0, 0]\n",
      "4623 [1, 0, 0]\n",
      "4627 [3, 7, 3.0]\n",
      "2271 [18, 53, 2.3773584905660377]\n",
      "2279 [9, 100, 0.63]\n",
      "2278 [72, 405, 1.2444444444444445]\n",
      "4981 [3, 8, 2.625]\n",
      "2459 [1, 0, 0]\n",
      "2458 [13, 260, 0.35]\n",
      "2455 [69, 994, 0.4859154929577465]\n",
      "2457 [29, 88, 2.3068181818181817]\n",
      "2451 [1, 0, 0]\n",
      "3699 [1, 0, 0]\n",
      "2053 [42, 1399, 0.21015010721944247]\n",
      "4828 [2, 0, 0]\n",
      "3690 [2, 0, 0]\n",
      "4827 [16, 1445, 0.07750865051903115]\n",
      "4824 [4, 90, 0.3111111111111111]\n",
      "4537 [1, 0, 0]\n",
      "4822 [4, 143, 0.1958041958041958]\n",
      "4531 [6, 1329, 0.03160270880361174]\n",
      "3696 [1, 0, 0]\n",
      "4983 [3, 13, 1.6153846153846154]\n",
      "4633 [1, 0, 0]\n",
      "17758 [5, 91, 0.38461538461538464]\n",
      "3522 [2, 0, 0]\n",
      "3529 [1, 0, 0]\n",
      "1364 [23, 309, 0.5210355987055015]\n",
      "2699 [366, 640, 4.003125]\n",
      "2696 [1, 0, 0]\n",
      "2694 [2, 63, 0.2222222222222222]\n",
      "2693 [165, 2735, 0.4223034734917733]\n",
      "3227 [1, 0, 0]\n",
      "2691 [15, 142, 0.7394366197183099]\n",
      "2690 [1, 0, 0]\n",
      "1971 [26, 1564, 0.11636828644501279]\n",
      "3232 [10, 336, 0.20833333333333334]\n",
      "3233 [5, 198, 0.17676767676767677]\n"
     ]
    },
    {
     "ename": "KeyboardInterrupt",
     "evalue": "",
     "output_type": "error",
     "traceback": [
      "\u001b[1;31m---------------------------------------------------------------------------\u001b[0m",
      "\u001b[1;31mKeyboardInterrupt\u001b[0m                         Traceback (most recent call last)",
      "\u001b[1;32m<ipython-input-8-44ab03efefe8>\u001b[0m in \u001b[0;36m<module>\u001b[1;34m()\u001b[0m\n\u001b[0;32m      1\u001b[0m \u001b[1;32mfor\u001b[0m \u001b[0mi\u001b[0m\u001b[1;33m,\u001b[0m\u001b[0mu\u001b[0m \u001b[1;32min\u001b[0m \u001b[0menumerate\u001b[0m\u001b[1;33m(\u001b[0m\u001b[0musers\u001b[0m\u001b[1;33m)\u001b[0m\u001b[1;33m:\u001b[0m\u001b[1;33m\u001b[0m\u001b[0m\n\u001b[1;32m----> 2\u001b[1;33m     \u001b[1;32mprint\u001b[0m \u001b[0musers\u001b[0m\u001b[1;33m[\u001b[0m\u001b[0mi\u001b[0m\u001b[1;33m]\u001b[0m\u001b[1;33m,\u001b[0m\u001b[0mdata\u001b[0m\u001b[1;33m[\u001b[0m\u001b[0mi\u001b[0m\u001b[1;33m]\u001b[0m\u001b[1;33m\u001b[0m\u001b[0m\n\u001b[0m",
      "\u001b[1;32mC:\\Users\\sternheimam\\AppData\\Local\\Continuum\\anaconda2\\lib\\site-packages\\colorama\\ansitowin32.pyc\u001b[0m in \u001b[0;36mwrite\u001b[1;34m(self, text)\u001b[0m\n\u001b[0;32m     38\u001b[0m \u001b[1;33m\u001b[0m\u001b[0m\n\u001b[0;32m     39\u001b[0m     \u001b[1;32mdef\u001b[0m \u001b[0mwrite\u001b[0m\u001b[1;33m(\u001b[0m\u001b[0mself\u001b[0m\u001b[1;33m,\u001b[0m \u001b[0mtext\u001b[0m\u001b[1;33m)\u001b[0m\u001b[1;33m:\u001b[0m\u001b[1;33m\u001b[0m\u001b[0m\n\u001b[1;32m---> 40\u001b[1;33m         \u001b[0mself\u001b[0m\u001b[1;33m.\u001b[0m\u001b[0m__convertor\u001b[0m\u001b[1;33m.\u001b[0m\u001b[0mwrite\u001b[0m\u001b[1;33m(\u001b[0m\u001b[0mtext\u001b[0m\u001b[1;33m)\u001b[0m\u001b[1;33m\u001b[0m\u001b[0m\n\u001b[0m\u001b[0;32m     41\u001b[0m \u001b[1;33m\u001b[0m\u001b[0m\n\u001b[0;32m     42\u001b[0m \u001b[1;33m\u001b[0m\u001b[0m\n",
      "\u001b[1;32mC:\\Users\\sternheimam\\AppData\\Local\\Continuum\\anaconda2\\lib\\site-packages\\colorama\\ansitowin32.pyc\u001b[0m in \u001b[0;36mwrite\u001b[1;34m(self, text)\u001b[0m\n\u001b[0;32m    139\u001b[0m     \u001b[1;32mdef\u001b[0m \u001b[0mwrite\u001b[0m\u001b[1;33m(\u001b[0m\u001b[0mself\u001b[0m\u001b[1;33m,\u001b[0m \u001b[0mtext\u001b[0m\u001b[1;33m)\u001b[0m\u001b[1;33m:\u001b[0m\u001b[1;33m\u001b[0m\u001b[0m\n\u001b[0;32m    140\u001b[0m         \u001b[1;32mif\u001b[0m \u001b[0mself\u001b[0m\u001b[1;33m.\u001b[0m\u001b[0mstrip\u001b[0m \u001b[1;32mor\u001b[0m \u001b[0mself\u001b[0m\u001b[1;33m.\u001b[0m\u001b[0mconvert\u001b[0m\u001b[1;33m:\u001b[0m\u001b[1;33m\u001b[0m\u001b[0m\n\u001b[1;32m--> 141\u001b[1;33m             \u001b[0mself\u001b[0m\u001b[1;33m.\u001b[0m\u001b[0mwrite_and_convert\u001b[0m\u001b[1;33m(\u001b[0m\u001b[0mtext\u001b[0m\u001b[1;33m)\u001b[0m\u001b[1;33m\u001b[0m\u001b[0m\n\u001b[0m\u001b[0;32m    142\u001b[0m         \u001b[1;32melse\u001b[0m\u001b[1;33m:\u001b[0m\u001b[1;33m\u001b[0m\u001b[0m\n\u001b[0;32m    143\u001b[0m             \u001b[0mself\u001b[0m\u001b[1;33m.\u001b[0m\u001b[0mwrapped\u001b[0m\u001b[1;33m.\u001b[0m\u001b[0mwrite\u001b[0m\u001b[1;33m(\u001b[0m\u001b[0mtext\u001b[0m\u001b[1;33m)\u001b[0m\u001b[1;33m\u001b[0m\u001b[0m\n",
      "\u001b[1;32mC:\\Users\\sternheimam\\AppData\\Local\\Continuum\\anaconda2\\lib\\site-packages\\colorama\\ansitowin32.pyc\u001b[0m in \u001b[0;36mwrite_and_convert\u001b[1;34m(self, text)\u001b[0m\n\u001b[0;32m    167\u001b[0m             \u001b[0mself\u001b[0m\u001b[1;33m.\u001b[0m\u001b[0mconvert_ansi\u001b[0m\u001b[1;33m(\u001b[0m\u001b[1;33m*\u001b[0m\u001b[0mmatch\u001b[0m\u001b[1;33m.\u001b[0m\u001b[0mgroups\u001b[0m\u001b[1;33m(\u001b[0m\u001b[1;33m)\u001b[0m\u001b[1;33m)\u001b[0m\u001b[1;33m\u001b[0m\u001b[0m\n\u001b[0;32m    168\u001b[0m             \u001b[0mcursor\u001b[0m \u001b[1;33m=\u001b[0m \u001b[0mend\u001b[0m\u001b[1;33m\u001b[0m\u001b[0m\n\u001b[1;32m--> 169\u001b[1;33m         \u001b[0mself\u001b[0m\u001b[1;33m.\u001b[0m\u001b[0mwrite_plain_text\u001b[0m\u001b[1;33m(\u001b[0m\u001b[0mtext\u001b[0m\u001b[1;33m,\u001b[0m \u001b[0mcursor\u001b[0m\u001b[1;33m,\u001b[0m \u001b[0mlen\u001b[0m\u001b[1;33m(\u001b[0m\u001b[0mtext\u001b[0m\u001b[1;33m)\u001b[0m\u001b[1;33m)\u001b[0m\u001b[1;33m\u001b[0m\u001b[0m\n\u001b[0m\u001b[0;32m    170\u001b[0m \u001b[1;33m\u001b[0m\u001b[0m\n\u001b[0;32m    171\u001b[0m \u001b[1;33m\u001b[0m\u001b[0m\n",
      "\u001b[1;32mC:\\Users\\sternheimam\\AppData\\Local\\Continuum\\anaconda2\\lib\\site-packages\\colorama\\ansitowin32.pyc\u001b[0m in \u001b[0;36mwrite_plain_text\u001b[1;34m(self, text, start, end)\u001b[0m\n\u001b[0;32m    172\u001b[0m     \u001b[1;32mdef\u001b[0m \u001b[0mwrite_plain_text\u001b[0m\u001b[1;33m(\u001b[0m\u001b[0mself\u001b[0m\u001b[1;33m,\u001b[0m \u001b[0mtext\u001b[0m\u001b[1;33m,\u001b[0m \u001b[0mstart\u001b[0m\u001b[1;33m,\u001b[0m \u001b[0mend\u001b[0m\u001b[1;33m)\u001b[0m\u001b[1;33m:\u001b[0m\u001b[1;33m\u001b[0m\u001b[0m\n\u001b[0;32m    173\u001b[0m         \u001b[1;32mif\u001b[0m \u001b[0mstart\u001b[0m \u001b[1;33m<\u001b[0m \u001b[0mend\u001b[0m\u001b[1;33m:\u001b[0m\u001b[1;33m\u001b[0m\u001b[0m\n\u001b[1;32m--> 174\u001b[1;33m             \u001b[0mself\u001b[0m\u001b[1;33m.\u001b[0m\u001b[0mwrapped\u001b[0m\u001b[1;33m.\u001b[0m\u001b[0mwrite\u001b[0m\u001b[1;33m(\u001b[0m\u001b[0mtext\u001b[0m\u001b[1;33m[\u001b[0m\u001b[0mstart\u001b[0m\u001b[1;33m:\u001b[0m\u001b[0mend\u001b[0m\u001b[1;33m]\u001b[0m\u001b[1;33m)\u001b[0m\u001b[1;33m\u001b[0m\u001b[0m\n\u001b[0m\u001b[0;32m    175\u001b[0m             \u001b[0mself\u001b[0m\u001b[1;33m.\u001b[0m\u001b[0mwrapped\u001b[0m\u001b[1;33m.\u001b[0m\u001b[0mflush\u001b[0m\u001b[1;33m(\u001b[0m\u001b[1;33m)\u001b[0m\u001b[1;33m\u001b[0m\u001b[0m\n\u001b[0;32m    176\u001b[0m \u001b[1;33m\u001b[0m\u001b[0m\n",
      "\u001b[1;32mC:\\Users\\sternheimam\\AppData\\Local\\Continuum\\anaconda2\\lib\\site-packages\\ipykernel\\iostream.pyc\u001b[0m in \u001b[0;36mwrite\u001b[1;34m(self, string)\u001b[0m\n\u001b[0;32m    350\u001b[0m             \u001b[0mis_child\u001b[0m \u001b[1;33m=\u001b[0m \u001b[1;33m(\u001b[0m\u001b[1;32mnot\u001b[0m \u001b[0mself\u001b[0m\u001b[1;33m.\u001b[0m\u001b[0m_is_master_process\u001b[0m\u001b[1;33m(\u001b[0m\u001b[1;33m)\u001b[0m\u001b[1;33m)\u001b[0m\u001b[1;33m\u001b[0m\u001b[0m\n\u001b[0;32m    351\u001b[0m             \u001b[1;31m# only touch the buffer in the IO thread to avoid races\u001b[0m\u001b[1;33m\u001b[0m\u001b[1;33m\u001b[0m\u001b[0m\n\u001b[1;32m--> 352\u001b[1;33m             \u001b[0mself\u001b[0m\u001b[1;33m.\u001b[0m\u001b[0mpub_thread\u001b[0m\u001b[1;33m.\u001b[0m\u001b[0mschedule\u001b[0m\u001b[1;33m(\u001b[0m\u001b[1;32mlambda\u001b[0m \u001b[1;33m:\u001b[0m \u001b[0mself\u001b[0m\u001b[1;33m.\u001b[0m\u001b[0m_buffer\u001b[0m\u001b[1;33m.\u001b[0m\u001b[0mwrite\u001b[0m\u001b[1;33m(\u001b[0m\u001b[0mstring\u001b[0m\u001b[1;33m)\u001b[0m\u001b[1;33m)\u001b[0m\u001b[1;33m\u001b[0m\u001b[0m\n\u001b[0m\u001b[0;32m    353\u001b[0m             \u001b[1;32mif\u001b[0m \u001b[0mis_child\u001b[0m\u001b[1;33m:\u001b[0m\u001b[1;33m\u001b[0m\u001b[0m\n\u001b[0;32m    354\u001b[0m                 \u001b[1;31m# newlines imply flush in subprocesses\u001b[0m\u001b[1;33m\u001b[0m\u001b[1;33m\u001b[0m\u001b[0m\n",
      "\u001b[1;32mC:\\Users\\sternheimam\\AppData\\Local\\Continuum\\anaconda2\\lib\\site-packages\\ipykernel\\iostream.pyc\u001b[0m in \u001b[0;36mschedule\u001b[1;34m(self, f)\u001b[0m\n\u001b[0;32m    188\u001b[0m                 \u001b[0mevent_id\u001b[0m \u001b[1;33m=\u001b[0m \u001b[0mos\u001b[0m\u001b[1;33m.\u001b[0m\u001b[0murandom\u001b[0m\u001b[1;33m(\u001b[0m\u001b[1;36m16\u001b[0m\u001b[1;33m)\u001b[0m\u001b[1;33m\u001b[0m\u001b[0m\n\u001b[0;32m    189\u001b[0m             \u001b[0mself\u001b[0m\u001b[1;33m.\u001b[0m\u001b[0m_events\u001b[0m\u001b[1;33m[\u001b[0m\u001b[0mevent_id\u001b[0m\u001b[1;33m]\u001b[0m \u001b[1;33m=\u001b[0m \u001b[0mf\u001b[0m\u001b[1;33m\u001b[0m\u001b[0m\n\u001b[1;32m--> 190\u001b[1;33m             \u001b[0mself\u001b[0m\u001b[1;33m.\u001b[0m\u001b[0m_event_pipe\u001b[0m\u001b[1;33m.\u001b[0m\u001b[0msend\u001b[0m\u001b[1;33m(\u001b[0m\u001b[0mevent_id\u001b[0m\u001b[1;33m)\u001b[0m\u001b[1;33m\u001b[0m\u001b[0m\n\u001b[0m\u001b[0;32m    191\u001b[0m         \u001b[1;32melse\u001b[0m\u001b[1;33m:\u001b[0m\u001b[1;33m\u001b[0m\u001b[0m\n\u001b[0;32m    192\u001b[0m             \u001b[0mf\u001b[0m\u001b[1;33m(\u001b[0m\u001b[1;33m)\u001b[0m\u001b[1;33m\u001b[0m\u001b[0m\n",
      "\u001b[1;32mzmq/backend/cython/socket.pyx\u001b[0m in \u001b[0;36mzmq.backend.cython.socket.Socket.send (zmq\\backend\\cython\\socket.c:7305)\u001b[1;34m()\u001b[0m\n",
      "\u001b[1;32mzmq/backend/cython/socket.pyx\u001b[0m in \u001b[0;36mzmq.backend.cython.socket.Socket.send (zmq\\backend\\cython\\socket.c:7048)\u001b[1;34m()\u001b[0m\n",
      "\u001b[1;32mzmq/backend/cython/socket.pyx\u001b[0m in \u001b[0;36mzmq.backend.cython.socket._send_copy (zmq\\backend\\cython\\socket.c:2920)\u001b[1;34m()\u001b[0m\n",
      "\u001b[1;32mC:\\Users\\sternheimam\\AppData\\Local\\Continuum\\anaconda2\\lib\\site-packages\\zmq\\backend\\cython\\checkrc.pxd\u001b[0m in \u001b[0;36mzmq.backend.cython.checkrc._check_rc (zmq\\backend\\cython\\socket.c:9621)\u001b[1;34m()\u001b[0m\n\u001b[0;32m     10\u001b[0m     \"\"\"\n\u001b[0;32m     11\u001b[0m     \u001b[0mcdef\u001b[0m \u001b[0mint\u001b[0m \u001b[0merrno\u001b[0m \u001b[1;33m=\u001b[0m \u001b[0mzmq_errno\u001b[0m\u001b[1;33m(\u001b[0m\u001b[1;33m)\u001b[0m\u001b[1;33m\u001b[0m\u001b[0m\n\u001b[1;32m---> 12\u001b[1;33m     \u001b[0mPyErr_CheckSignals\u001b[0m\u001b[1;33m(\u001b[0m\u001b[1;33m)\u001b[0m\u001b[1;33m\u001b[0m\u001b[0m\n\u001b[0m\u001b[0;32m     13\u001b[0m     \u001b[1;32mif\u001b[0m \u001b[0mrc\u001b[0m \u001b[1;33m==\u001b[0m \u001b[1;33m-\u001b[0m\u001b[1;36m1\u001b[0m\u001b[1;33m:\u001b[0m \u001b[1;31m# if rc < -1, it's a bug in libzmq. Should we warn?\u001b[0m\u001b[1;33m\u001b[0m\u001b[0m\n\u001b[0;32m     14\u001b[0m         \u001b[1;32mif\u001b[0m \u001b[0merrno\u001b[0m \u001b[1;33m==\u001b[0m \u001b[0mEINTR\u001b[0m\u001b[1;33m:\u001b[0m\u001b[1;33m\u001b[0m\u001b[0m\n",
      "\u001b[1;31mKeyboardInterrupt\u001b[0m: "
     ]
    }
   ],
   "source": [
    "for i,u in enumerate(users):\n",
    "    print users[i],data[i]"
   ]
  },
  {
   "cell_type": "code",
   "execution_count": 142,
   "metadata": {},
   "outputs": [],
   "source": [
    "kmeans = KMeans(n_clusters=5, random_state=0)\n",
    "clusters = kmeans.fit_predict(data)\n",
    "label = kmeans.labels_"
   ]
  },
  {
   "cell_type": "code",
   "execution_count": 49,
   "metadata": {},
   "outputs": [
    {
     "name": "stdout",
     "output_type": "stream",
     "text": [
      "[0 2 0 ... 0 2 0]\n"
     ]
    }
   ],
   "source": [
    "print label"
   ]
  },
  {
   "cell_type": "code",
   "execution_count": 42,
   "metadata": {},
   "outputs": [
    {
     "name": "stdout",
     "output_type": "stream",
     "text": [
      "[[12.45393258427017, 114.71910112360206, 2.047320049429237], [592.8842105263165, 3209.957894736837, 1.2700908875044705], [116.6280991735537, 1372.1432506887043, 0.5746144127874504]]\n"
     ]
    }
   ],
   "source": [
    "print [list(x) for x in kmeans.cluster_centers_]\n",
    "# remember: [nrOfPosts,activeDays,activityPerWeek]"
   ]
  },
  {
   "cell_type": "code",
   "execution_count": 75,
   "metadata": {},
   "outputs": [],
   "source": [
    "xAxis = []\n",
    "yAxis = []\n",
    "for n in [1,2,3,4,5,6,7]:\n",
    "    kmeans = KMeans(n_clusters=n, random_state=0)\n",
    "    clusters = kmeans.fit_predict(data)\n",
    "    label = kmeans.labels_\n",
    "\n",
    "    score = 0\n",
    "    # for all users determine distance to nearest center (just sum the distances ig guess?)\n",
    "    for j,uservalues in enumerate(data):\n",
    "        centervalues = [list(x) for x in kmeans.cluster_centers_][label[j]]\n",
    "        diff = 0\n",
    "        for i,x in enumerate(uservalues):\n",
    "            diff += (centervalues[i]-x) **2\n",
    "        score += diff\n",
    "    xAxis.append(n)\n",
    "    yAxis.append(score)"
   ]
  },
  {
   "cell_type": "code",
   "execution_count": 72,
   "metadata": {},
   "outputs": [
    {
     "data": {
      "image/png": "[encoded data removed]",
      "text/plain": [
       "<matplotlib.figure.Figure at 0x340ac1d0>"
      ]
     },
     "metadata": {},
     "output_type": "display_data"
    }
   ],
   "source": [
    "plt.close()\n",
    "plt.plot(xAxis,yAxis)\n",
    "plt.show()"
   ]
  },
  {
   "cell_type": "code",
   "execution_count": 74,
   "metadata": {},
   "outputs": [
    {
     "data": {
      "image/png": "[encoded data removed]",
      "text/plain": [
       "<matplotlib.figure.Figure at 0x3422dc18>"
      ]
     },
     "metadata": {},
     "output_type": "display_data"
    }
   ],
   "source": [
    "plt.close()\n",
    "plt.plot(xAxis,yAxis)\n",
    "plt.show()"
   ]
  },
  {
   "cell_type": "code",
   "execution_count": 76,
   "metadata": {},
   "outputs": [
    {
     "data": {
      "image/png": "[encoded data removed]",
      "text/plain": [
       "<matplotlib.figure.Figure at 0x33fda9b0>"
      ]
     },
     "metadata": {},
     "output_type": "display_data"
    }
   ],
   "source": [
    "plt.close()\n",
    "plt.plot(xAxis,yAxis)\n",
    "plt.show()"
   ]
  },
  {
   "cell_type": "code",
   "execution_count": 85,
   "metadata": {},
   "outputs": [
    {
     "name": "stdout",
     "output_type": "stream",
     "text": [
      "1780\n",
      "95\n",
      "363\n"
     ]
    }
   ],
   "source": [
    "for n in range(3):\n",
    "    print label.tolist().count(n)"
   ]
  },
  {
   "cell_type": "code",
   "execution_count": 87,
   "metadata": {
    "collapsed": true
   },
   "outputs": [],
   "source": [
    "from mpl_toolkits import mplot3d"
   ]
  },
  {
   "cell_type": "code",
   "execution_count": 144,
   "metadata": {},
   "outputs": [
    {
     "data": {
      "image/png": "[encoded data removed]",
      "text/plain": [
       "<matplotlib.figure.Figure at 0x35a14400>"
      ]
     },
     "metadata": {},
     "output_type": "display_data"
    }
   ],
   "source": [
    "#[nrOfPosts,activeDays,activityPerWeek]\n",
    "# voegt 3d wel iets toe, oftewel; voegt dat gemiddelde wel iets toe??\n",
    "plt.close()\n",
    "ax = plt.axes(projection='3d')\n",
    "posts = [z[0] for z in data] #x\n",
    "active = [y[1] for y in data] #y\n",
    "weekactivity = [z[2] for z in data] #z\n",
    "ax.scatter3D(posts, active, weekactivity, c=label);\n",
    "ax.set_xlabel('sum of posts')\n",
    "ax.set_ylabel('sum of days active')\n",
    "ax.set_zlabel('average posts per week');\n",
    "ax.view_init(30, 150)\n",
    "plt.show()"
   ]
  },
  {
   "cell_type": "code",
   "execution_count": 143,
   "metadata": {},
   "outputs": [
    {
     "data": {
      "image/png": "[encoded data removed]",
      "text/plain": [
       "<matplotlib.figure.Figure at 0x388a7e10>"
      ]
     },
     "metadata": {},
     "output_type": "display_data"
    }
   ],
   "source": [
    "plt.close()\n",
    "plt.scatter(posts,active, c = label)\n",
    "plt.show()"
   ]
  }
 ],
 "metadata": {
  "kernelspec": {
   "display_name": "Python 2",
   "language": "python",
   "name": "python2"
  },
  "language_info": {
   "codemirror_mode": {
    "name": "ipython",
    "version": 2
   },
   "file_extension": ".py",
   "mimetype": "text/x-python",
   "name": "python",
   "nbconvert_exporter": "python",
   "pygments_lexer": "ipython2",
   "version": "2.7.14"
  }
 },
 "nbformat": 4,
 "nbformat_minor": 2
}
