{
 "cells": [
  {
   "cell_type": "code",
   "execution_count": 1,
   "metadata": {
    "collapsed": true
   },
   "outputs": [],
   "source": [
    "def swap_to_front(header, dependent_variable):\n",
    "    header.remove(dependent_variable)\n",
    "    header.insert(1,dependent_variable)\n",
    "    return header\n",
    "\n",
    "def reindex_dataframe(df,dependent_variable):\n",
    "    header = df.columns.tolist()\n",
    "    header = swap_to_front(header,dependent_variable) # kan gemaakt worden met command line trucje\n",
    "    new_df = df.reindex(columns = header)\n",
    "    return new_df"
   ]
  },
  {
   "cell_type": "code",
   "execution_count": null,
   "metadata": {
    "collapsed": true
   },
   "outputs": [],
   "source": [
    "df = reindex_dataframe(df,\"var2\")\n",
    "# give this function a dataframe, and the name of one of its columns, which will be the dependent variable (colun 1)"
   ]
  }
 ],
 "metadata": {
  "kernelspec": {
   "display_name": "Python 2",
   "language": "python",
   "name": "python2"
  },
  "language_info": {
   "codemirror_mode": {
    "name": "ipython",
    "version": 2
   },
   "file_extension": ".py",
   "mimetype": "text/x-python",
   "name": "python",
   "nbconvert_exporter": "python",
   "pygments_lexer": "ipython2",
   "version": "2.7.14"
  }
 },
 "nbformat": 4,
 "nbformat_minor": 2
}
