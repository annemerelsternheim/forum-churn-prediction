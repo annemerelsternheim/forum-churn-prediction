{
 "cells": [
  {
   "cell_type": "raw",
   "metadata": {},
   "source": [
    "maak een dead en alive variabele voor twee groepen gebruikers: die dood zijn gegaan en die dat nog niet zijn.\n",
    "sla ze op zoals helemaal onder in deze notebook\n",
    "laad ze in zoals ergens halverwege in dit notebook\n",
    "maak een plot, zodat je kan zien hoe het gedrag verschilt van de twee groepen\n",
    "doe er statistiek op of zo\n",
    "hartstikke leuk!"
   ]
  },
  {
   "cell_type": "code",
   "execution_count": 1,
   "metadata": {
    "collapsed": true
   },
   "outputs": [],
   "source": [
    "# imports\n",
    "import json, re, time, unicodedata, unidecode, itertools, os\n",
    "from collections import defaultdict\n",
    "from datetime import date, datetime, timedelta\n",
    "import numpy as np\n",
    "from nltk.tokenize import sent_tokenize, word_tokenize\n",
    "from pattern.nl import sentiment, parse, split\n",
    "import pandas as pd\n",
    "from tqdm import tqdm_notebook as tqdm\n",
    "from pprint import pprint\n",
    "import matplotlib.pyplot as plt"
   ]
  },
  {
   "cell_type": "code",
   "execution_count": 2,
   "metadata": {
    "collapsed": true
   },
   "outputs": [],
   "source": [
    "# files\n",
    "#MWE\n",
    "#topics = json.load(open('D:\\\\4. Data\\\\Amazones_Forum_Export_JSON\\\\MWE_topic.json'))\n",
    "#posts = json.load(open('D:\\\\4. Data\\\\Amazones_Forum_Export_JSON\\\\MWE.json'))\n",
    "#regular\n",
    "forums = json.load(open('D:\\\\4. Data\\\\Amazones_Forum_Export_JSON\\\\2017-12-07T13-35-45 _amazones_forums_export.json'))\n",
    "# zorg voor een nieuwe versie van dit bestand; verkeerd opgeslagen dus je mist het kontje!\n",
    "topics = json.load(open('D:\\\\4. Data\\\\Amazones_Forum_Export_JSON\\\\2017-12-07T13-36-51_amazones_forum_topics_export.json'))\n",
    "posts = json.load(open('D:\\\\4. Data\\\\Amazones_Forum_Export_JSON\\\\2017-12-07T13-39-20_amazones_forum_posts_export.json'))\n",
    "users = json.load(open('D:\\\\4. Data\\\\Amazones_Forum_Export_JSON\\\\2017-12-07T13-39-20_amazones_users_export.json'))"
   ]
  },
  {
   "cell_type": "code",
   "execution_count": 3,
   "metadata": {
    "collapsed": true
   },
   "outputs": [],
   "source": [
    "def remove_non_ascii(text):\n",
    "    \"\"\" this function expects a string, and removes non-ascii characters from it \"\"\"\n",
    "    return unidecode.unidecode(text)"
   ]
  },
  {
   "cell_type": "code",
   "execution_count": 4,
   "metadata": {
    "collapsed": true
   },
   "outputs": [],
   "source": [
    "def cleanup(text):\n",
    "    \"\"\" this function expects a string (post from the BVN/Amazones forum), and returns a cleaner version of it \"\"\"\n",
    "    # remove all links, images, quotes, and emailaddresses\n",
    "    text=re.sub('<a.*?>(.*?)</a>','',text) #remove links\n",
    "    text=re.sub('(http:|www)\\S*','',text) #remove links without markup\n",
    "    text=re.sub('\\[\\\\\\/url\\]','',text)\n",
    "    text=re.sub('<img.*?/>', '',text) #remove images\n",
    "    text=re.sub('<div class=\"bb-quote\">((\\s|\\S)*?)</div>','',text) #remove quotes\n",
    "    text=re.sub('<script.*?>([\\S\\s]*?)</script>','',text) #remove emailaddresses\n",
    "\n",
    "    # replace all emoticon-icons\n",
    "    text=re.sub('<img.*?title=\"(.*?)\".*?/>', '(EMO:\\\\1)',text) #replace emoticons by textual indicators \n",
    "\n",
    "    # replace (most) sideways latin emoticons\n",
    "    text=re.sub('[^>]:-?(\\)|\\])','(EMO:smiley)',text)\n",
    "    text=re.sub(u'☺️','(EMO:smiley)',text)\n",
    "    text=re.sub('[^>]:-?(\\(|\\[)','(EMO:sad)',text)\n",
    "    text=re.sub(';-?(\\)|\\])','(EMO:wink)',text)\n",
    "    text=re.sub(r'(:|;|x|X)-?(D)+\\b','(EMO:laugh)',text)\n",
    "    text=re.sub(':-?(/|\\\\\\|\\|)','(EMO:frown)',text)\n",
    "    text=re.sub(r'(:|;)-?(p|P)+\\b','(EMO:cheeky)',text)\n",
    "    text=re.sub('(:|;)(\\'|\\\")-?(\\(|\\[)','(EMO:cry)',text)\n",
    "    text=re.sub('\\<3+','(EMO:heart)',text)\n",
    "    text=re.sub(u'❤️','(EMO:heart)',text)\n",
    "    text=re.sub('((\\>:-?(\\(|\\]))|(\\>?:-?@))','(EMO:angry)',text)\n",
    "    text=re.sub('\\>:-?(\\)|\\])','(EMO:evil)',text)\n",
    "    text=re.sub(r'(:|;)-?(O|o|0)+\\b','(EMO:shock)',text)\n",
    "    text=re.sub('(:|;)-?(K|k|x|X)','(EMO:kiss)',text)\n",
    "    # :s\n",
    "    # :x is eigenlijk geen kus, geloof ik...\n",
    "\n",
    "    #other important adjustments:\n",
    "    text=re.sub('m\\'?n\\s','mijn ',text) # replacing m'n and mn with mijn, so it gets parsed correctly.\n",
    "    text=re.sub('z\\'?n\\s','zijn ',text) #replacing z'n and zn with zijn\n",
    "    text=re.sub('d\\'?r\\s','haar ',text) #replacing d'r and dr with zijn (only if followed by space, so dr. stays dr.)\n",
    "\n",
    "    # replace all emoticons (and other things) written between double colons\n",
    "    text=re.sub(':([a-zA-Z]+):','(EMO:\\\\1)',text)\n",
    "\n",
    "    # remove remaining markup\n",
    "    text=re.sub('</?(ol|style|b|p|em|u|i|strong|br|span|div|blockquote|li)(.*?)/?>','',text)\n",
    "    text=re.sub('(\\[|\\]|\\{|\\})', '',text)\n",
    "\n",
    "    # separate text from punctuation (may cause double/triple spaces - does not matter at this point)\n",
    "    text = re.sub('(\\.{2,}|/|\\)|,|!|\\?)','\\\\1 ',text) # space behind\n",
    "    text=re.sub('(/|\\()',' \\\\1',text) # space in front\n",
    "    text=re.sub('(\\w{2,})(\\.|,)','\\\\1 \\\\2 ',text) #space 'between'\n",
    "\n",
    "    return(remove_non_ascii(text))"
   ]
  },
  {
   "cell_type": "code",
   "execution_count": 5,
   "metadata": {
    "collapsed": true
   },
   "outputs": [],
   "source": [
    "def make_P_T_and_D(topics,posts):\n",
    "    \"\"\" this function takes the .json files containing the thread starts and responses, and returns three things:\n",
    "    [0]: a dictionary with the user-ID as key, and the post as value;\n",
    "    [1]: a dictionary with the user-ID as key, and the time of posting as a value;\n",
    "    [2]: a list of all datetimes present in the data (sorted by date, because the .json was already sorted) \"\"\"\n",
    "    P = defaultdict(list)\n",
    "    T = defaultdict(list)\n",
    "    D = []\n",
    "\n",
    "    with tqdm(total=len(topics)) as pbar:\n",
    "        for t in reversed(topics):\n",
    "            pbar.update(1)\n",
    "            P[t['Author uid']].append((cleanup(t[\"Body\"]),1))\n",
    "            T[t['Author uid']].append(t['Post date'])\n",
    "            D.append(datetime.strptime(t['Post date'], '%d/%m/%Y - %H:%M'))\n",
    "\n",
    "    with tqdm(total=len(posts)) as pbar:\n",
    "        for p in reversed(posts):\n",
    "            pbar.update(1)\n",
    "            P[p['Auteur-uid']].append((cleanup(p[\"Body\"]),0))\n",
    "            T[p['Auteur-uid']].append(p['Datum van inzending'])\n",
    "            D.append(datetime.strptime(p['Datum van inzending'], '%d/%m/%Y - %H:%M'))\n",
    "\n",
    "    return (P,T,D)"
   ]
  },
  {
   "cell_type": "code",
   "execution_count": 6,
   "metadata": {
    "collapsed": true
   },
   "outputs": [],
   "source": [
    "def determine_active_users(include_only = []):\n",
    "    global over_treshold\n",
    "    \n",
    "    if include_only == []:\n",
    "        print 'include all'\n",
    "        userlist = T\n",
    "    else:\n",
    "        userlist = include_only\n",
    "        print 'userlist is what is specified between the brackets'\n",
    "    \n",
    "    for user in userlist:\n",
    "        if len(T[user])<30: # picks users with more than 30 posts, not time bins!\n",
    "            pass\n",
    "        else:\n",
    "            over_treshold.append(user)"
   ]
  },
  {
   "cell_type": "code",
   "execution_count": 7,
   "metadata": {
    "collapsed": true
   },
   "outputs": [],
   "source": [
    "def make_binlist(D,timetick=1):\n",
    "    \"\"\" this function takes a list of dates (D), and generates a new list of dates,\n",
    "    starting at 4:00 AM just before the earliest date in D, and ending at 4:00 just after the latest date in D,\n",
    "    with fixed timeticks between all dates in the list.\n",
    "    Optionally, the length of the timetick may be specified (in hours).\n",
    "    \"\"\"\n",
    "    lower = min(D)\n",
    "    upper = max(D)\n",
    "\n",
    "    if lower.time()>=datetime.strptime('4:00','%H:%M').time():\n",
    "        lower = lower.replace(hour = 4, minute = 0)\n",
    "    else:\n",
    "        lower = (lower+timedelta(days = -1)).replace(hour=4,minute=0)\n",
    "\n",
    "    if upper.time()<datetime.strptime('12:00','%H:%M').time():\n",
    "        upper = upper.replace(hour = 4, minute = 0)\n",
    "    else:\n",
    "        upper = (upper+timedelta(days=1)).replace(hour=4,minute=0)\n",
    "\n",
    "    return([lower + timedelta(hours=x) for x in range(0, 24*(upper-lower).days, timetick)])"
   ]
  },
  {
   "cell_type": "code",
   "execution_count": 133,
   "metadata": {
    "collapsed": true
   },
   "outputs": [],
   "source": [
    "# these bodies contain (EMO:...). Many emoticons are actually analysed by pattern's sentiment miner, so see which can be reverted (within-sentence) \n",
    "def determine_questionmarks(body, Q=0):\n",
    "    \"\"\" This function counts and returns the number of sentences in the provided input string\n",
    "    that ends in at least one question mark \"\"\"\n",
    "    for sentence in sent_tokenize(body):\n",
    "        if re.search('\\?+', sentence):\n",
    "            Q+=1\n",
    "    if len(sent_tokenize(body))!=0:\n",
    "        return float(Q)/float(len(sent_tokenize(body)))\n",
    "    else:\n",
    "        return 0\n",
    "\n",
    "def determine_sentiment(body):\n",
    "    \"\"\" this funciton determines and returns the average sentiment of sentences in the provided input string.\n",
    "    It uses the pattern module to do so. Sentiment values may range from -1 to 1. \"\"\"\n",
    "    return np.mean([sentiment(sentence)[0] for sentence in sent_tokenize(body)]) \n",
    "\n",
    "def determine_subjectivity(body):\n",
    "    \"\"\" This function determines and returns the average subjectivity of sentences in the provided input string.\n",
    "    It uses the pattern module to do so. Subjectivity values may range from 0 to 1. \"\"\"\n",
    "    return np.mean([sentiment(sentence)[1] for sentence in sent_tokenize(body)]) \n",
    "\n",
    "def determine_post_length(body):\n",
    "    \"\"\" This function determines and returns the length of the provided input string in sentences.\n",
    "    It uses the nltk sent_tokenize function to do so. \"\"\"\n",
    "    return(len(sent_tokenize(body)))\n",
    "\n",
    "def determine_sentence_length(body):\n",
    "    \"\"\" This function determines and returns the average length of the sentences in the provided input string in words.\n",
    "    It uses the nltk word_tokenize function to do so. \"\"\"\n",
    "    #word_tokenize also considers interpunction a word\n",
    "    return np.mean([len(word_tokenize(sentence)) for sentence in sent_tokenize(body)])\n",
    "\n",
    "def determine_PRoPortion(body,prp = ['PRP','PRP$'],firstperson = ['ik', 'me', 'mij', 'mijn', 'we', 'wij', 'ons', 'onze']):\n",
    "    \"\"\" This function determines and returns the percentage of personal and possessive pronouns\n",
    "    that occurs in first person (e.g., 'ik', 'wij', 'onze'). It uses pattern's split and parse functions to do so \"\"\"\n",
    "    personalpronouns = []\n",
    "    firstpersonalpronouns = []\n",
    "\n",
    "    for sentence in split(parse(body)):\n",
    "        for word in sentence:\n",
    "            if word.tag in prp:\n",
    "                personalpronouns.append(word.string)\n",
    "\n",
    "    for word in personalpronouns:\n",
    "        if word.lower() in firstperson:\n",
    "            firstpersonalpronouns.append(word)\n",
    "    if len(personalpronouns)==0:\n",
    "        return 0\n",
    "    else:\n",
    "        return float(len(firstpersonalpronouns))/float(len(personalpronouns))\n",
    "    \n",
    "def determine_death(user,lower):\n",
    "    if user in deathdict:\n",
    "        return (deathdict[user]-lower).days\n",
    "    if user in livingdict:\n",
    "        return (datetime.strptime(''.join(livingdict[user]),'%d/%m/%Y - %H:%M')-lower).days\n",
    "    else:\n",
    "        return float('nan')"
   ]
  },
  {
   "cell_type": "code",
   "execution_count": 71,
   "metadata": {},
   "outputs": [],
   "source": [
    "def make_deathdict():\n",
    "    due_day = []\n",
    "    user_IDs = []\n",
    "\n",
    "    userdeaths_df = pd.read_csv('user-deaths.csv', delimiter = ';')\n",
    "    for i, user in enumerate(userdeaths_df['uid']):\n",
    "        due_day.append(userdeaths_df['death'][i])\n",
    "        user_IDs.append(str(user))\n",
    "\n",
    "    deathdict = dict()\n",
    "    for i,d in enumerate(due_day):\n",
    "         deathdict[user_IDs[i]] = datetime.strptime(d, '%d/%m/%Y')\n",
    "    return deathdict"
   ]
  },
  {
   "cell_type": "code",
   "execution_count": 10,
   "metadata": {
    "scrolled": true
   },
   "outputs": [
    {
     "data": {
      "application/vnd.jupyter.widget-view+json": {
       "model_id": "47af9a74f284410db95a53fdd1ba3044",
       "version_major": 2,
       "version_minor": 0
      },
      "text/plain": [
       "A Jupyter Widget"
      ]
     },
     "metadata": {},
     "output_type": "display_data"
    },
    {
     "name": "stdout",
     "output_type": "stream",
     "text": [
      "\n"
     ]
    },
    {
     "data": {
      "application/vnd.jupyter.widget-view+json": {
       "model_id": "11651e1b4ff644f6ac3d3e606e6fa1b9",
       "version_major": 2,
       "version_minor": 0
      },
      "text/plain": [
       "A Jupyter Widget"
      ]
     },
     "metadata": {},
     "output_type": "display_data"
    },
    {
     "name": "stdout",
     "output_type": "stream",
     "text": [
      "\n"
     ]
    }
   ],
   "source": [
    "PTD = make_P_T_and_D(topics,posts) \n",
    "P = PTD[0]\n",
    "T = PTD[1]\n",
    "D = PTD[2]"
   ]
  },
  {
   "cell_type": "code",
   "execution_count": 31,
   "metadata": {
    "collapsed": true
   },
   "outputs": [],
   "source": [
    "def compare_variables(user,x,y,colour):\n",
    "    fig = plt.figure(1)\n",
    "    plt.plot(x,y,colour, label = 'sentiment',alpha = 0.5) #magenta\n",
    "    plt.title(user)\n",
    "    plt.xlabel('days until churn')\n",
    "    plt.ylabel('sentiment value')\n",
    "    #plt.show()"
   ]
  },
  {
   "cell_type": "code",
   "execution_count": 41,
   "metadata": {},
   "outputs": [
    {
     "data": {
      "image/png": "[encoded data removed]",
      "text/plain": [
       "<matplotlib.figure.Figure at 0x3a225be0>"
      ]
     },
     "metadata": {},
     "output_type": "display_data"
    }
   ],
   "source": [
    "plt.close()\n",
    "compare_variables('marie',[14,13,12,11,10,9,8,7,6,5,4,3,2,1],[0.4,float('nan'),0.6,0.2,float('nan'),0.8,float('nan'),float('nan'),0.6,float('nan'),0.9,float('nan'),float('nan'),float('nan')], 'g.')\n",
    "compare_variables('marie',[20,19,18,17,16,15,14,13,12,11,10,9,8,7,6,5,4,3,2,1],[0.4,0.2,float('nan'),0.4,float('nan'),0.6,0.2,float('nan'),float('nan'),0.6,0.2,0.8,float('nan'),float('nan'),0.6,float('nan'),float('nan'),float('nan'),0.9,float('nan')], 'b.')\n",
    "plt.gca().invert_xaxis()\n",
    "plt.show()"
   ]
  },
  {
   "cell_type": "code",
   "execution_count": 132,
   "metadata": {},
   "outputs": [
    {
     "data": {
      "text/plain": [
       "'08/05/2014 - 19:23'"
      ]
     },
     "execution_count": 132,
     "metadata": {},
     "output_type": "execute_result"
    },
    {
     "name": "stdout",
     "output_type": "stream",
     "text": [
      "\n"
     ]
    }
   ],
   "source": [
    "max([datetime.strptime(x,'%d/%m/%Y - %H:%M') for x in T['2317']]).strftime('%d/%m/%Y - %H:%M')"
   ]
  },
  {
   "cell_type": "code",
   "execution_count": 134,
   "metadata": {
    "collapsed": true
   },
   "outputs": [],
   "source": [
    "# ik wil de activiteit van 'de doden' vergelijken met die van 'de levenden'\n",
    "deathdict = make_deathdict()\n",
    "\n",
    "userlist = []\n",
    "i = 88\n",
    "for user in T:\n",
    "    if i <=0:\n",
    "        break\n",
    "    else:\n",
    "        if user not in deathdict:\n",
    "            userlist.append(user)\n",
    "            i-=1\n",
    "\n",
    "livingdict = defaultdict(list)\n",
    "for z in users:\n",
    "    if z['Uid'] in userlist:\n",
    "        livingdict[z['Uid']].append(max([datetime.strptime(x,'%d/%m/%Y - %H:%M') for x in T['2317']]).strftime('%d/%m/%Y - %H:%M')) # last login is inaccurate as fuck... (e.g., user 2317 is active for more than a year after 'last login'... yeah sure.)\n",
    "\n",
    "# this livingdict is made of 88 still-living users, with their 'death date' on the date of their last activity.\n",
    "# I have seen that is is possible to have this value empty. Decide what to do with those!\n",
    "\n",
    "# now you could compare the behaviour of these two groups to each other:\n",
    "# - maybe make a variable for the living that is similar to the variable for the death; how many days until quitting?\n",
    "# - then you can map those values onto each other, and compare the two groups through time"
   ]
  },
  {
   "cell_type": "code",
   "execution_count": 75,
   "metadata": {},
   "outputs": [
    {
     "name": "stdout",
     "output_type": "stream",
     "text": [
      "1143 2016-05-11 00:00:00 76\n",
      "1140 2007-07-17 00:00:00 40\n",
      "1146 2010-06-19 00:00:00 19\n",
      "2717 2014-06-14 00:00:00 2\n",
      "3040 2013-09-03 00:00:00 27\n",
      "1147 2007-04-30 00:00:00 38\n",
      "1774 2009-12-14 00:00:00 276\n",
      "3124 2016-11-27 00:00:00 88\n",
      "933 2015-04-06 00:00:00 354\n",
      "2464 2011-05-30 00:00:00 44\n",
      "1069 2012-04-10 00:00:00 212\n",
      "1090 2009-08-28 00:00:00 146\n",
      "1098 2007-02-15 00:00:00 36\n",
      "1403 2006-07-29 00:00:00 2\n",
      "4037 2014-02-26 00:00:00 1\n",
      "2998 2015-11-30 00:00:00 302\n",
      "1552 2014-04-10 00:00:00 877\n",
      "1554 2017-02-18 00:00:00 68\n",
      "1821 2009-09-09 00:00:00 218\n",
      "929 2008-12-23 00:00:00 12\n",
      "2413 2013-02-19 00:00:00 111\n",
      "4487 2016-10-12 00:00:00 21\n",
      "3844 2012-11-03 00:00:00 27\n",
      "926 2016-06-27 00:00:00 43\n",
      "3247 2014-07-03 00:00:00 181\n",
      "987 2009-12-22 00:00:00 7\n",
      "2777 2011-05-10 00:00:00 10\n",
      "1923 2008-12-23 00:00:00 172\n",
      "3672 2012-06-02 00:00:00 4\n",
      "4800 2015-12-30 00:00:00 44\n",
      "1711 2009-11-15 00:00:00 7\n",
      "1527 2009-04-11 00:00:00 395\n",
      "2389 2014-07-27 00:00:00 546\n",
      "917 2016-03-01 00:00:00 884\n",
      "1131 2008-04-27 00:00:00 1\n",
      "2287 2013-07-02 00:00:00 145\n",
      "3263 2012-10-25 00:00:00 184\n",
      "1745 2008-01-02 00:00:00 2\n",
      "2830 2012-04-07 00:00:00 6\n",
      "902 2015-03-05 00:00:00 3765\n",
      "904 2014-07-26 00:00:00 64\n",
      "905 2015-02-28 00:00:00 3575\n",
      "5572 2018-01-18 00:00:00 2\n",
      "1845 2018-01-02 00:00:00 304\n",
      "2672 2015-12-23 00:00:00 39\n",
      "1004 2007-11-22 00:00:00 136\n",
      "3808 2012-12-28 00:00:00 149\n",
      "1870 2013-05-02 00:00:00 114\n",
      "3211 2014-04-08 00:00:00 68\n",
      "2208 2009-02-18 00:00:00 3\n",
      "3458 2011-05-10 00:00:00 17\n",
      "1737 2010-01-01 00:00:00 9\n",
      "2114 2011-12-08 00:00:00 931\n",
      "1034 2006-06-18 00:00:00 133\n",
      "1215 2008-04-17 00:00:00 51\n",
      "4278 2014-09-06 00:00:00 18\n",
      "1354 2009-07-09 00:00:00 41\n",
      "2333 2015-04-17 00:00:00 96\n",
      "2184 2011-12-07 00:00:00 29\n",
      "1911 2011-12-20 00:00:00 33\n",
      "1912 2011-06-13 00:00:00 22\n",
      "966 2005-03-12 00:00:00 118\n",
      "962 2007-05-03 00:00:00 55\n",
      "968 2009-10-16 00:00:00 372\n",
      "1748 2007-12-11 00:00:00 3\n",
      "1452 2007-03-31 00:00:00 13\n",
      "1101 2006-12-23 00:00:00 9\n",
      "2103 2012-01-05 00:00:00 8\n",
      "1514 2010-02-27 00:00:00 233\n",
      "1204 2006-02-10 00:00:00 16\n",
      "2636 2011-07-13 00:00:00 153\n",
      "4456 2013-06-14 00:00:00 4\n",
      "1814 2010-04-20 00:00:00 64\n",
      "951 2004-10-08 00:00:00 34\n",
      "1617 2007-04-19 00:00:00 74\n",
      "1564 2012-02-09 00:00:00 125\n",
      "2877 2013-11-29 00:00:00 407\n",
      "1179 2016-03-04 00:00:00 20\n",
      "1609 2008-03-16 00:00:00 11\n",
      "2332 2010-10-08 00:00:00 33\n",
      "2089 2009-11-01 00:00:00 112\n",
      "1047 2016-10-21 00:00:00 33\n",
      "2126 2016-04-26 00:00:00 1444\n",
      "3224 2012-06-10 00:00:00 8\n",
      "2080 2008-10-28 00:00:00 68\n",
      "940 2009-11-09 00:00:00 400\n",
      "1683 2012-03-09 00:00:00 266\n",
      "3199 2014-04-12 00:00:00 108\n"
     ]
    }
   ],
   "source": [
    "for user in deathdict:\n",
    "    print user,deathdict[user], len(T[user])"
   ]
  },
  {
   "cell_type": "code",
   "execution_count": 139,
   "metadata": {},
   "outputs": [],
   "source": [
    "DEAD = pd.read_csv('deaduser.csv')\n",
    "ALIVE = pd.read_csv('livinguser.csv')"
   ]
  },
  {
   "cell_type": "code",
   "execution_count": 140,
   "metadata": {},
   "outputs": [
    {
     "name": "stdout",
     "output_type": "stream",
     "text": [
      "   index             DateTime    ETD  Sentiment\n",
      "0   7594  2005-07-14 14:00:00  654.0  -0.200000\n",
      "1   7639  2005-07-16 11:00:00  652.0   0.000000\n",
      "2   7665  2005-07-17 13:00:00  651.0   0.050000\n",
      "3   7795  2005-07-22 23:00:00  646.0   0.102778\n",
      "4   7796  2005-07-23 00:00:00  646.0   0.000000\n",
      "   index             DateTime     ETD  Sentiment\n",
      "0  38418  2009-01-18 22:00:00  1935.0     0.0000\n",
      "1  38745  2009-02-01 13:00:00  1922.0     0.0000\n",
      "2  41275  2009-05-17 23:00:00  1816.0     0.1375\n",
      "3  43065  2009-07-31 13:00:00  1742.0     0.0000\n",
      "4  43265  2009-08-08 21:00:00  1733.0     0.0000\n"
     ]
    }
   ],
   "source": [
    "DEAD.columns = ['index', 'DateTime', 'ETD', 'Sentiment']\n",
    "print DEAD.head()\n",
    "ALIVE.columns = ['index', 'DateTime', 'ETD', 'Sentiment']\n",
    "print ALIVE.head()"
   ]
  },
  {
   "cell_type": "code",
   "execution_count": 141,
   "metadata": {
    "scrolled": true
   },
   "outputs": [
    {
     "name": "stdout",
     "output_type": "stream",
     "text": [
      "ETD\n",
      "124.0   -0.014291\n",
      "177.0   -0.011364\n",
      "210.0    0.183333\n",
      "244.0    0.030000\n",
      "269.0   -0.100000\n",
      "Name: Sentiment, dtype: float64\n",
      "ETD\n",
      "0.0      0.316667\n",
      "143.0    0.000000\n",
      "249.0    0.250000\n",
      "340.0    0.000000\n",
      "382.0    0.000000\n",
      "Name: Sentiment, dtype: float64\n"
     ]
    }
   ],
   "source": [
    "s_d = DEAD.groupby(['ETD'])['Sentiment'].mean() # this is the method i want to use, though perhaps concatenate some values\n",
    "print s_d.head()\n",
    "s_a = ALIVE.groupby(['ETD'])['Sentiment'].mean()\n",
    "print s_a.head()"
   ]
  },
  {
   "cell_type": "code",
   "execution_count": 167,
   "metadata": {},
   "outputs": [
    {
     "data": {
      "image/png": "[encoded data removed]",
      "text/plain": [
       "<matplotlib.figure.Figure at 0x3fe5eb00>"
      ]
     },
     "metadata": {},
     "output_type": "display_data"
    }
   ],
   "source": [
    "# op dit moment maar één gebruiker.\n",
    "# eigenlijk wil je natuurlijk een scatter, maar dat kan alleen op dataframes.\n",
    "plt.close()\n",
    "A = s_a.plot(color = 'g')\n",
    "D = s_d.plot(color = 'r')\n",
    "plt.gca().invert_xaxis()\n",
    "plt.xlabel('days until churn/death')\n",
    "plt.ylabel('sentiment value')\n",
    "plt.xlim(750,0)\n",
    "plt.show()"
   ]
  },
  {
   "cell_type": "code",
   "execution_count": 135,
   "metadata": {},
   "outputs": [
    {
     "name": "stdout",
     "output_type": "stream",
     "text": [
      "userlist is what is specified between the brackets\n"
     ]
    },
    {
     "data": {
      "application/vnd.jupyter.widget-view+json": {
       "model_id": "e53bfad6a6654d959dbcf3b33e8fffed",
       "version_major": 2,
       "version_minor": 0
      },
      "text/plain": [
       "A Jupyter Widget"
      ]
     },
     "metadata": {},
     "output_type": "display_data"
    },
    {
     "name": "stdout",
     "output_type": "stream",
     "text": [
      "2317"
     ]
    },
    {
     "data": {
      "application/vnd.jupyter.widget-view+json": {
       "model_id": "0256aad7faa4476aa5b55f067c661cbe",
       "version_major": 2,
       "version_minor": 0
      },
      "text/plain": [
       "A Jupyter Widget"
      ]
     },
     "metadata": {},
     "output_type": "display_data"
    },
    {
     "name": "stdout",
     "output_type": "stream",
     "text": [
      "\n",
      " Done with all users. now generate a figure!\n"
     ]
    }
   ],
   "source": [
    "### path for saving csv files\n",
    "path = r\"C:\\Users\\sternheimam\\Desktop\\my-notebook\\user-csvs-deathtest\" \n",
    "\n",
    "#---------------------------\n",
    "# global variables\n",
    "#---------------------------\n",
    "# chronological list of (lower) bin boundaries (default time tick = 1 hour)\n",
    "binlist = make_binlist(D)\n",
    "deathdict = make_deathdict()\n",
    "all_dfs = []\n",
    "# determine the negative difference for measuring the 'backtrack' feature\n",
    "neg_diff = 24\n",
    "\n",
    "\n",
    "#---------------------------\n",
    "# determine 'relevant' users\n",
    "#---------------------------\n",
    "# initiate empty list of users relevant to measure\n",
    "over_treshold = []\n",
    "#deathdict.keys()+livingdict.keys() #2317 = alive, 1147 = dead\n",
    "determine_active_users(['2317']) # for practical reasons, right now only user 1144 is selected. If more users desired, simply enter them in list form.\n",
    "# now, only users with more than 30 posts are selected. Later, users are evaluated again, to see if these posts are in at least 30 bins\n",
    "#---------------------------\n",
    "# go through all users in over_treshold, and do stuff..\n",
    "#---------------------------\n",
    "# show the progress, while going through the active users\n",
    "with tqdm(total=len(over_treshold)) as processbar:\n",
    "    for user in over_treshold:\n",
    "        print user,\n",
    "        processbar.update(1)\n",
    "        \n",
    "        #---------------------------\n",
    "        # initiate some user-specific variables\n",
    "        #---------------------------\n",
    "        first_date = 0\n",
    "        last_date = 0\n",
    "        inactivity = 0\n",
    "        \n",
    "        # all lists starting with csv_ are lists that will eventually contain all values that end up in the csv file\n",
    "        csv_date = []            #datetime\n",
    "        csv_sentiment = []       #sentiment value (-1 to 1)\n",
    "        #csv_questionmarks = []   #question mark-ending sentences (float)\n",
    "        #csv_subjectivity = []    #subjectivity value (0 to 1)\n",
    "        #csv_sentencelength = []  #length of sentence in words (float)\n",
    "        #csv_postlength = []      #length of post in sentences (float)\n",
    "        #csv_startposts = []      #1 for a thread start, 0 for a response (float) \n",
    "        #csv_inactivity = []      #hours passed since last activity (int)\n",
    "        #csv_backtrack = []       #posts posted in last x hours (x = neg_diff; default 24h)\n",
    "        #csv_firstpersonalpronouns = [] #first-person personal or possessive pronouns (float)\n",
    "        csv_death_in_x_days = []\n",
    "        \n",
    "        # dictionaries to keep track of activity within certain time bins\n",
    "        bindict = defaultdict(list)        #bins with size 'timetick' (default 1h), values = post-times \n",
    "        postdict = defaultdict(list)       #bins with size 'timetick' (default 1h), values = posts\n",
    "        #metadict = defaultdict(list)       #bins with size 'timetick' (default 1h), values = 1 or 0 (start or response)\n",
    "        #weekcountdict = defaultdict(list)  #bins with size = 7 days, values = '1' for every post\n",
    "        #backtrackdict = defaultdict(list)  #bins with size = neg_diff (default 24h), values = nr of posts in last neg_diff hours\n",
    "\n",
    "        # emoticons should be part of sentiment miner\n",
    "        # TO DO: linguistic markers, like adjectives / pronouns, and the diversity of topics / vocabulary\n",
    "        \n",
    "        \n",
    "        #---------------------------\n",
    "        # loop through the (sorted) list of datetimes, and do stuff..\n",
    "        #---------------------------\n",
    "        for index,boundary in enumerate(tqdm(binlist)):\n",
    "            # determine time bin boundaries for dictionaries\n",
    "            if index+1>=len(binlist):\n",
    "                break\n",
    "            else:\n",
    "                lower = binlist[index]\n",
    "                upper = binlist[index+1]\n",
    "                \n",
    "                #---------------------------\n",
    "                # Loop through T, collecting all activity for the selected user\n",
    "                #---------------------------\n",
    "                # determine in which time bin the user's activity belongs\n",
    "                for time in T[user]:\n",
    "                    if lower<=datetime.strptime(time, '%d/%m/%Y - %H:%M')<upper:\n",
    "                        bindict[lower,upper].append(time)\n",
    "                        \n",
    "                        # and determine how active the user has been in past neg_diff hours\n",
    "                        #past_activity = determine_past_activity(bindict,index,neg_diff)\n",
    "                        #backtrackdict[lower,upper].append(past_activity)\n",
    "                        \n",
    "                        # determine the first and last active dates\n",
    "                        if first_date == 0:\n",
    "                            first_date = datetime.strptime(time, '%d/%m/%Y - %H:%M')\n",
    "                            last_date = datetime.strptime(time, '%d/%m/%Y - %H:%M')\n",
    "                        else:\n",
    "                            last_date = datetime.strptime(time, '%d/%m/%Y - %H:%M')\n",
    "                        \n",
    "                        # split the text in P from the start/response-information\n",
    "                        body = P[user][T[user].index(time)][0]\n",
    "                        #meta = P[user][T[user].index(time)][1]                        \n",
    "                        postdict[lower,upper].append(body) \n",
    "                        #metadict[lower,upper].append(meta)\n",
    "\n",
    "                # fill up the still-empty places in the dictionary\n",
    "                if len(bindict[lower,upper])==0:\n",
    "                    bindict[lower,upper]=[]\n",
    "                    postdict[lower,upper]=[]\n",
    "                    #metadict[lower,upper]=[]\n",
    "                    #backtrackdict[lower,upper]=[]\n",
    "                \n",
    "                #---------------------------\n",
    "                # Fill csv_feature-lists with values \n",
    "                #---------------------------                \n",
    "                # Treat different posts within same bin 'as one' (concatenate them)\n",
    "                body = '. '.join(postdict[lower,upper]) #can be empty!\n",
    "                \n",
    "                # when then bin is empty, only add 1 to the inactivity feature\n",
    "                if len(body) == 0:\n",
    "                    #inactivity+=1\n",
    "                    csv_date.append(float('nan'))\n",
    "                    csv_death_in_x_days.append(float('nan'))\n",
    "                    csv_sentiment.append(float('nan'))\n",
    "                # when the bin is not empty, append a value to all csv_feature-lists (and reset 'inactivity')\n",
    "                else:    \n",
    "                    csv_date.append(lower)\n",
    "                    csv_sentiment.append(determine_sentiment(body))\n",
    "                    #csv_questionmarks.append(determine_questionmarks(body))\n",
    "                    #csv_subjectivity.append(determine_subjectivity(body))\n",
    "                    #csv_sentencelength.append(determine_sentence_length(body))\n",
    "                    #csv_postlength.append(np.mean([determine_post_length(x) for x in postdict[lower,upper]]))\n",
    "                    #csv_startposts.append(np.mean(metadict[lower,upper]))\n",
    "                    #csv_inactivity.append(inactivity)\n",
    "                    #csv_backtrack.append(np.sum(backtrackdict[lower,upper][-1]))\n",
    "                    #csv_firstpersonalpronouns.append(determine_PRoPortion(body))\n",
    "                    csv_death_in_x_days.append(determine_death(user,lower)) \n",
    "                    #inactivity = 0\n",
    "\n",
    "        if len(csv_date) < 5:\n",
    "            pass\n",
    "        else: # only print results for users active in at least 30 time bins\n",
    "            #---------------------------\n",
    "            # Report the results for this user\n",
    "            #--------------------------- \n",
    "            # determine average activity: over active period, and over only-active weeks \n",
    "            #weekcount = determine_week_activity(first_date,last_date,bindict)   \n",
    "            #print_information(user, T, first_date,last_date,weekcount)            \n",
    "\n",
    "\n",
    "            # put all csv_features into a dataframe\n",
    "            df = pd.DataFrame({\"Date & Time\": csv_date, \"Sentiment\": csv_sentiment,# \"Questions\": csv_questionmarks, \n",
    "                               #\"Subjectivity\": csv_subjectivity, \"Words/Sentence\": csv_sentencelength, \n",
    "                               #\"Sentences/Post\": csv_postlength, \"First posts\": csv_startposts,\n",
    "                               #\"Inactivity\": csv_inactivity, \"Posts in last 24H\": csv_backtrack,\n",
    "                              #\"PRP1\": csv_firstpersonalpronouns, \n",
    "                               \"ETD\": csv_death_in_x_days}).dropna()\n",
    "            #compare_variables(user, csv_sentiment, csv_death_in_x_days)\n",
    "            all_dfs.append(df)\n",
    "            #name = \"death_user_\"+str(user)+\".csv\"       \n",
    "            #df.to_csv(os.path.join(path,name),index=False)\n",
    "print \"Done with all users. now generate a figure!\""
   ]
  },
  {
   "cell_type": "code",
   "execution_count": 190,
   "metadata": {},
   "outputs": [
    {
     "data": {
      "image/png": "[encoded data removed]",
      "text/plain": [
       "<matplotlib.figure.Figure at 0x3c433780>"
      ]
     },
     "metadata": {},
     "output_type": "display_data"
    }
   ],
   "source": [
    "#dit is hoe je een dataframe maakt. beetje omslachtige shit, dus verander het eerder in de lijn ergens.\n",
    "plt.close()\n",
    "plt.scatter(result.groupby('ETD')['Sentiment'].mean().reset_index()['ETD'],result.groupby('ETD')['Sentiment'].mean().reset_index()['Sentiment'])\n",
    "plt.show()"
   ]
  },
  {
   "cell_type": "code",
   "execution_count": 107,
   "metadata": {
    "collapsed": true
   },
   "outputs": [],
   "source": [
    "DEAD = all_dfs #1147\n",
    "result = pd.concat(all_dfs)\n",
    "result.to_csv('deaduser.csv', index = True)"
   ]
  },
  {
   "cell_type": "code",
   "execution_count": 138,
   "metadata": {
    "collapsed": true
   },
   "outputs": [],
   "source": [
    "ALIVE = all_dfs #2317\n",
    "result = pd.concat(all_dfs)\n",
    "result.to_csv('livinguser.csv', index = True)"
   ]
  },
  {
   "cell_type": "code",
   "execution_count": 81,
   "metadata": {
    "collapsed": true,
    "scrolled": true
   },
   "outputs": [],
   "source": [
    "result = pd.concat(all_dfs, keys = ['1147']+['2317'])\n",
    "result.to_csv('mini_df.csv', index = True)"
   ]
  }
 ],
 "metadata": {
  "kernelspec": {
   "display_name": "Python 2",
   "language": "python",
   "name": "python2"
  },
  "language_info": {
   "codemirror_mode": {
    "name": "ipython",
    "version": 2
   },
   "file_extension": ".py",
   "mimetype": "text/x-python",
   "name": "python",
   "nbconvert_exporter": "python",
   "pygments_lexer": "ipython2",
   "version": "2.7.14"
  }
 },
 "nbformat": 4,
 "nbformat_minor": 2
}
