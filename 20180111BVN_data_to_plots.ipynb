{
 "cells": [
  {
   "cell_type": "code",
   "execution_count": 1,
   "metadata": {},
   "outputs": [],
   "source": [
    "#----------IMPORTS------------\n",
    "import json, re\n",
    "from pprint import pprint\n",
    "from lxml import etree\n",
    "import itertools\n",
    "from pattern.nl import sentiment\n",
    "import numpy as np\n",
    "from nltk.tokenize import sent_tokenize\n",
    "from collections import defaultdict\n",
    "from matplotlib.backends.backend_pdf import PdfPages\n",
    "import matplotlib.pyplot as plt\n"
   ]
  },
  {
   "cell_type": "code",
   "execution_count": 2,
   "metadata": {
    "collapsed": true
   },
   "outputs": [],
   "source": [
    "# files\n",
    "#MWE\n",
    "#topics = json.load(open('D:\\\\4. Data\\\\Amazones_Forum_Export_JSON\\\\MWE_topic.json'))\n",
    "#posts = json.load(open('D:\\\\4. Data\\\\Amazones_Forum_Export_JSON\\\\MWE.json'))\n",
    "#regular\n",
    "forums = json.load(open('D:\\\\4. Data\\\\Amazones_Forum_Export_JSON\\\\2017-12-07T13-35-45 _amazones_forums_export.json'))\n",
    "topics = json.load(open('D:\\\\4. Data\\\\Amazones_Forum_Export_JSON\\\\2017-12-07T13-36-51_amazones_forum_topics_export.json'))\n",
    "posts = json.load(open('D:\\\\4. Data\\\\Amazones_Forum_Export_JSON\\\\2017-12-07T13-39-20_amazones_forum_posts_export.json'))\n",
    "users = json.load(open('D:\\\\4. Data\\\\Amazones_Forum_Export_JSON\\\\2017-12-07T13-39-20_amazones_users_export.json'))"
   ]
  },
  {
   "cell_type": "code",
   "execution_count": 2,
   "metadata": {
    "collapsed": true
   },
   "outputs": [],
   "source": [
    "# this function replaces ugly links and images by simple, short and readable indicators. It also removes redundant markup from the file (bold, italics, etc).\n",
    "def cleanup(text):\n",
    "    text=re.sub('<a.*?>(.*?)</a>','\\\\1 (LINK)',text)\n",
    "    text=re.sub('<img.*?title=\"(.*?)\".*?/>', '(EMO:\\\\1)',text) # sommige emoticons worden ook geschreven als ':shock:', of gewoon als ':)'\n",
    "    text=re.sub('<img.*?/>', '(IMG)',text)\n",
    "    return(re.sub('</?(b|p|em|u|i|strong|br|span|div|blockquote|li)(.*?)/?>','',text)) # quotes worden vaak geforumuleerd als <bold>an schreef:</bold> TEXT. geen duidelijk einde van de quote. externe quotes zijn virtueel onherkenbaar."
   ]
  },
  {
   "cell_type": "code",
   "execution_count": 3,
   "metadata": {
    "collapsed": true
   },
   "outputs": [],
   "source": [
    "def header(line):\n",
    "    if 'Name' in line:\n",
    "        print(line['Name'])\n",
    "    if 'Title' in line:\n",
    "        print(line['Title'])\n",
    "    if 'Post date' in line:\n",
    "        print(line['Post date'])\n",
    "    if 'Datum van inzending' in line:\n",
    "        print(line['Datum van inzending'])"
   ]
  },
  {
   "cell_type": "code",
   "execution_count": 126,
   "metadata": {
    "collapsed": true
   },
   "outputs": [],
   "source": [
    "# hier wordt AUTHORLIST gemaakt\n",
    "def annotated_data(topics,posts):\n",
    "    count=0\n",
    "    questionmarks=0\n",
    "    sentiment_list=0\n",
    "    authorlist=[] # this will contain (author name, question marks, sentiment) for every bit of text ('topic' or 'post')\n",
    "\n",
    "    #----------------------------------\n",
    "\n",
    "    for x in topics:\n",
    "        questionmarks=0\n",
    "        sentiment_list=[]\n",
    "        #header(x)\n",
    "        clean_post=cleanup(x['Body'])\n",
    "        #print(clean_post)\n",
    "\n",
    "        for questionmark in re.findall('\\?+',clean_post): \n",
    "            questionmarks+=1\n",
    "        for sentence in sent_tokenize(clean_post):\n",
    "            sentiment_list.append(sentiment(sentence)[0])\n",
    "        authorlist.append((x['Author uid'],np.mean(sentiment_list),questionmarks))\n",
    "\n",
    "        #print('Question marks:', questionmarks)\n",
    "        #print('Sentiment:', sentiment_list) # the list is printed\n",
    "        #print('\\n')\n",
    "\n",
    "        for y in reversed(posts): # need reversed to sort posts correctly\n",
    "            if y['Forum Topic ID'] == x['Nid']:\n",
    "                questionmarks=0\n",
    "                sentiment_list=[]\n",
    "                #header(y)\n",
    "                clean_post=cleanup(y['Body'])\n",
    "                #print(clean_post)\n",
    "\n",
    "                for questionmark in re.findall('\\?+',clean_post):\n",
    "                        questionmarks+=1\n",
    "                for sentence in sent_tokenize(clean_post):\n",
    "                    sentiment_list.append(sentiment(sentence)[0])\n",
    "                authorlist.append((y['Auteur-uid'],np.mean(sentiment_list),questionmarks))\n",
    "\n",
    "                #print('Question marks:', questionmarks)\n",
    "                #print('Sentiment:', sentiment_list)\n",
    "\n",
    "                #print('\\n')\n",
    "\n",
    "        #print('\\n------------- Einde topic -------------\\n')\n",
    "\n",
    "    #----------------------------------    \n",
    "        count+=1 # makes output manageable\n",
    "        if count>100:\n",
    "            break\n",
    "    return(authorlist)\n"
   ]
  },
  {
   "cell_type": "code",
   "execution_count": 3,
   "metadata": {},
   "outputs": [
    {
     "data": {
      "text/plain": [
       "(0.55, 0.9)"
      ]
     },
     "execution_count": 3,
     "metadata": {},
     "output_type": "execute_result"
    }
   ],
   "source": [
    "sentiment('goed')"
   ]
  },
  {
   "cell_type": "code",
   "execution_count": 87,
   "metadata": {
    "collapsed": true
   },
   "outputs": [],
   "source": [
    "# I do not know how to make the list of triples into a dictionary containing two lists as value in ONE step,\n",
    "# so I make two dictionaries and combine those into one..\n",
    "\n",
    "def make_dictionary(authorlist):\n",
    "    author_sent = defaultdict(list)\n",
    "    author_ques = defaultdict(list)\n",
    "    for name, s_val, q_val in authorlist:\n",
    "        author_sent[name].append(s_val) \n",
    "        author_ques[name].append(q_val)\n",
    "    print('dictionaries generated')\n",
    "\n",
    "    all_dict = defaultdict(list)\n",
    "    for key in author_sent.keys():\n",
    "        all_dict[key].append((author_sent[key]))\n",
    "    for key in author_ques.keys():\n",
    "        all_dict[key].append(author_ques[key])\n",
    "    print('dictionaries combined')\n",
    "    return(all_dict)"
   ]
  },
  {
   "cell_type": "code",
   "execution_count": 124,
   "metadata": {
    "collapsed": true
   },
   "outputs": [],
   "source": [
    "# Present the data. Here, I make a plot for every user, over time.\n",
    "# also save to pdf\n",
    "def plots_by_author(all_dict):\n",
    "    pp = PdfPages(\"plots-author-BVN.pdf\")\n",
    "    for name in all_dict.keys():\n",
    "        if len(all_dict[name][0]) > 15:\n",
    "            fig, ax1 = plt.subplots()\n",
    "            ax2 = ax1.twinx()\n",
    "\n",
    "            ax1.plot(all_dict[name][0], 'g-', alpha=0.5) # green = sentiment\n",
    "            ax2.plot(all_dict[name][1], 'r-', alpha=0.5) # red = question marks\n",
    "            ax1.set_ylabel('Sentiment', color='g')\n",
    "            ax2.set_ylabel('Question Marks', color='r')\n",
    "\n",
    "            ax1.set_ylim(-1,1)\n",
    "            ax2.set_ylim(-5,5)\n",
    "            plt.title(name)\n",
    "\n",
    "            figur=plt.figure(1)\n",
    "            plt.show()\n",
    "            pp.savefig(figur, dpi = 300, transparent = True)\n",
    "    pp.close()"
   ]
  },
  {
   "cell_type": "code",
   "execution_count": 143,
   "metadata": {
    "collapsed": true
   },
   "outputs": [],
   "source": [
    "# Present the data differently: Here I make a plot for every variable.\n",
    "# I doubt whether it provides a lot of insight, as I expect that every patient needs different amounts of time to get empowered by the forum\n",
    "# therefore, empowered and disempowered patients probably level each other out.\n",
    "# In any case I got to experiment with line plots and scatter plots and trend lines.\n",
    "\n",
    "def scatter_plots_by_variable(all_dict):\n",
    "    pp = PdfPages(\"plots-variable-BVN.pdf\")\n",
    "    j=0\n",
    "    for j in range(len(all_dict.values()[0])):\n",
    "\n",
    "        plotlist=[]\n",
    "        lenlist=[]\n",
    "        listlist=[]\n",
    "        \n",
    "        i=0\n",
    "        while i>=0:\n",
    "            somelist=[]\n",
    "\n",
    "            for name in all_dict:\n",
    "                if len(all_dict[name][j])>i:\n",
    "                    somelist.append(all_dict[name][j][i])\n",
    "                    #print(somelist)\n",
    "                else:\n",
    "                    #print(len(all_dict[name][j]),'<',i)\n",
    "                    pass\n",
    "            if len(somelist) == 0:\n",
    "                break\n",
    "            else:\n",
    "                listlist.append(somelist)\n",
    "                plotlist.append(np.mean(somelist))\n",
    "                lenlist.append(len(somelist))\n",
    "                i+=1\n",
    "\n",
    "    # plots showing means per post and trend lines  \n",
    "        plt.close()        \n",
    "        fig, ax1 = plt.subplots()\n",
    "        ax2 = ax1.twinx()\n",
    "\n",
    "        x = np.array([i for i in range(len(plotlist))])\n",
    "        y = plotlist\n",
    "\n",
    "        ax1.scatter(x,y,s=5, color='green',alpha=0.6) # green = sentiment\n",
    "        ax2.plot(lenlist, 'r-', alpha=0.2) # red = question marks\n",
    "\n",
    "        #fit = np.polyfit(x-np.mean(x), y,1)\n",
    "        #ax1.plot(x, fit[0] * x + fit[1], 'b-', alpha=0.8)\n",
    "\n",
    "        ax1.set_ylabel('Mean', color='g')\n",
    "        ax2.set_ylabel('Frequency', color='r')\n",
    "        ax1.set_xlim(0,)\n",
    "\n",
    "        if j==0:\n",
    "            ax1.set_ylim(0,1)\n",
    "            ax2.set_ylim(0,15)\n",
    "            plt.title('Mean sentiment per post')\n",
    "        else:\n",
    "            ax1.set_ylim(0,6)\n",
    "            ax2.set_ylim(0,15)\n",
    "            plt.title('Mean nr of question marks per post')\n",
    "        j+=1\n",
    "        \n",
    "    # scatter plot of all measured values\n",
    "        #n=0\n",
    "        #for lists in listlist:\n",
    "        #    for elements in lists:\n",
    "        #        ax1.scatter(n,elements, color='blue', s=3, alpha=0.4) # adjusting s to s=len(lists) changes the size of the dots respective to the nr of measurements. would be cool to do with means\n",
    "        #    n+=1\n",
    "        figur=plt.figure(1)\n",
    "        plt.show()\n",
    "        pp.savefig(figur, dpi = 300, transparent = True)\n",
    "    pp.close()"
   ]
  },
  {
   "cell_type": "code",
   "execution_count": 144,
   "metadata": {
    "scrolled": false
   },
   "outputs": [
    {
     "name": "stdout",
     "output_type": "stream",
     "text": [
      "plots closed\n",
      "dictionaries generated\n",
      "dictionaries combined\n"
     ]
    },
    {
     "data": {
      "image/png": "[encoded data removed]",
      "text/plain": [
       "<matplotlib.figure.Figure at 0x18e4cb38>"
      ]
     },
     "metadata": {},
     "output_type": "display_data"
    },
    {
     "data": {
      "image/png": "[encoded data removed]",
      "text/plain": [
       "<matplotlib.figure.Figure at 0x41f285f8>"
      ]
     },
     "metadata": {},
     "output_type": "display_data"
    }
   ],
   "source": [
    "plt.close()\n",
    "print('plots closed')\n",
    "\n",
    "authorlist=annotated_data(topics, posts)\n",
    "#pprint(authorlist)\n",
    "all_dict=make_dictionary(authorlist)\n",
    "#pprint(all_dict.items())\n",
    "#plots_by_author(all_dict)\n",
    "scatter_plots_by_variable(all_dict)"
   ]
  }
 ],
 "metadata": {
  "kernelspec": {
   "display_name": "Python 2",
   "language": "python",
   "name": "python2"
  },
  "language_info": {
   "codemirror_mode": {
    "name": "ipython",
    "version": 2
   },
   "file_extension": ".py",
   "mimetype": "text/x-python",
   "name": "python",
   "nbconvert_exporter": "python",
   "pygments_lexer": "ipython2",
   "version": "2.7.14"
  }
 },
 "nbformat": 4,
 "nbformat_minor": 2
}
