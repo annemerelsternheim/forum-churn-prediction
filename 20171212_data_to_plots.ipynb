{
 "cells": [
  {
   "cell_type": "code",
   "execution_count": 3,
   "metadata": {},
   "outputs": [
    {
     "name": "stdout",
     "output_type": "stream",
     "text": [
      "plots closed\n",
      "file loaded\n"
     ]
    }
   ],
   "source": [
    "#----------IMPORTS------------\n",
    "import json, re\n",
    "import numpy as np\n",
    "import matplotlib.pyplot as plt\n",
    "from pprint import pprint\n",
    "from pattern.nl import sentiment\n",
    "from collections import defaultdict\n",
    "from matplotlib.backends.backend_pdf import PdfPages\n",
    "\n",
    "#-----UNBOUND VARIABLES-------\n",
    "\n",
    "#----------CODE---------------\n",
    "\n",
    "plt.close()\n",
    "print('plots closed')\n",
    "\n",
    "file = json.load(open('C:\\\\Users\\\\sternheimam\\\\Dropbox\\\\TNO\\\\Scriptie\\\\4. Data\\\\viva_forum_latest_summarized.json'))\n",
    "testsent=(file[0:1000])\n",
    "print('file loaded')"
   ]
  },
  {
   "cell_type": "code",
   "execution_count": 4,
   "metadata": {
    "collapsed": true
   },
   "outputs": [],
   "source": [
    "#make list of triples (author, sentiment, questionmarks) for each line of text\n",
    "def annotated_data(data):\n",
    "    # bound variables\n",
    "    name = ''\n",
    "    sentim = 0\n",
    "    polarity = 0\n",
    "    polcount = 0\n",
    "    questionmark = 0\n",
    "    authorlist = []\n",
    "\n",
    "    for line in data:\n",
    "        name=line['author']\n",
    "        if isinstance(line['text'],unicode):\n",
    "            polarity += sentiment(line['text'])[0]\n",
    "            polcount+=1\n",
    "            if re.search('\\?',line['text']): \n",
    "                    questionmark+=1\n",
    "        elif isinstance(line['text'],list):\n",
    "            for textfeatures in line['text']:\n",
    "                polarity += sentiment(textfeatures['sentence'])[0]\n",
    "                polcount+=1\n",
    "                if re.search('\\?',textfeatures['sentence']): \n",
    "                    questionmark+=1\n",
    "        sentim = polarity/polcount\n",
    "        authorlist.append((name,sentim,questionmark))\n",
    "        questionmark=0\n",
    "        polarity=0\n",
    "        polcount=0\n",
    "    print('authorlist generated')\n",
    "    return(authorlist)"
   ]
  },
  {
   "cell_type": "code",
   "execution_count": 5,
   "metadata": {
    "collapsed": true
   },
   "outputs": [],
   "source": [
    "# I do not know how to make the list of triples into a dictionary containing two lists as value in ONE step,\n",
    "# so I make two dictionaries and combine those into one..\n",
    "\n",
    "def make_dictionary(authorlist):\n",
    "    author_sent = defaultdict(list)\n",
    "    author_ques = defaultdict(list)\n",
    "    for name, s_val, q_val in authorlist:\n",
    "        author_sent[name].append(s_val) \n",
    "        author_ques[name].append(q_val)\n",
    "    print('dictionaries generated')\n",
    "\n",
    "    all_dict = defaultdict(list)\n",
    "    for key in author_sent.keys():\n",
    "        all_dict[key].append((author_sent[key]))\n",
    "    for key in author_ques.keys():\n",
    "        all_dict[key].append(author_ques[key])\n",
    "    print('dictionaries combined')\n",
    "    return(all_dict)"
   ]
  },
  {
   "cell_type": "code",
   "execution_count": 6,
   "metadata": {
    "collapsed": true
   },
   "outputs": [],
   "source": [
    "# Present the data. Here, I make a plot for every user, over time.\n",
    "# also save to pdf\n",
    "def plots_by_author(all_dict):\n",
    "    pp = PdfPages(\"plots-author.pdf\")\n",
    "    for name in all_dict.keys():\n",
    "        fig, ax1 = plt.subplots()\n",
    "        ax2 = ax1.twinx()\n",
    "\n",
    "        ax1.plot(all_dict[name][0], 'g-', alpha=0.5) # green = sentiment\n",
    "        ax2.plot(all_dict[name][1], 'r-', alpha=0.5) # red = question marks\n",
    "        ax1.set_ylabel('Sentiment', color='g')\n",
    "        ax2.set_ylabel('Question Marks', color='r')\n",
    "\n",
    "        ax1.set_ylim(-1,1)\n",
    "        ax2.set_ylim(-5,5)\n",
    "        plt.title(name)\n",
    "        \n",
    "        figur=plt.figure(1)\n",
    "        plt.show()\n",
    "        pp.savefig(figur, dpi = 300, transparent = True)\n",
    "    pp.close()"
   ]
  },
  {
   "cell_type": "code",
   "execution_count": 7,
   "metadata": {
    "collapsed": true
   },
   "outputs": [],
   "source": [
    "# Present the data differently: Here I make a plot for every variable.\n",
    "# I doubt whether it provides a lot of insight, as I expect that every patient needs different amounts of time to get empowered by the forum\n",
    "# therefore, empowered and disempowered patients probably level each other out.\n",
    "# In any case I got to experiment with line plots and scatter plots and trend lines.\n",
    "\n",
    "def scatter_plots_by_variable(all_dict):\n",
    "    pp = PdfPages(\"plots-variable.pdf\")\n",
    "    j=0\n",
    "    for j in range(len(all_dict.values()[0])):\n",
    "\n",
    "        plotlist=[]\n",
    "        lenlist=[]\n",
    "        listlist=[]\n",
    "        \n",
    "        i=0\n",
    "        while i>=0:\n",
    "            somelist=[]\n",
    "\n",
    "            for name in all_dict:\n",
    "                if len(all_dict[name][j])>i:\n",
    "                    somelist.append(all_dict[name][j][i])\n",
    "                    #print(somelist)\n",
    "                else:\n",
    "                    #print(len(all_dict[name][j]),'<',i)\n",
    "                    pass\n",
    "            if len(somelist) == 0:\n",
    "                break\n",
    "            else:\n",
    "                listlist.append(somelist)\n",
    "                plotlist.append(np.mean(somelist))\n",
    "                lenlist.append(len(somelist))\n",
    "                i+=1\n",
    "\n",
    "    # plots showing means per post and trend lines  \n",
    "        plt.close()        \n",
    "        fig, ax1 = plt.subplots()\n",
    "        ax2 = ax1.twinx()\n",
    "\n",
    "        x = np.array([i for i in range(len(plotlist))])\n",
    "        y = plotlist\n",
    "\n",
    "        ax1.scatter(x,y,s=5, color='green',alpha=0.6) # green = sentiment\n",
    "        ax2.plot(lenlist, 'r-', alpha=0.2) # red = question marks\n",
    "\n",
    "        #fit = np.polyfit(x, y, deg=1)\n",
    "        #ax1.plot(x, fit[0] * x + fit[1], 'b-', alpha=0.8)\n",
    "\n",
    "        ax1.set_ylabel('Mean', color='g')\n",
    "        ax2.set_ylabel('Frequency', color='r')\n",
    "        ax1.set_xlim(0,)\n",
    "\n",
    "        if j==0:\n",
    "            ax1.set_ylim(0,1)\n",
    "            ax2.set_ylim(0,15)\n",
    "            plt.title('Mean sentiment per post')\n",
    "        else:\n",
    "            ax1.set_ylim(0,6)\n",
    "            ax2.set_ylim(0,15)\n",
    "            plt.title('Mean nr of question marks per post')\n",
    "        j+=1\n",
    "        \n",
    "    # scatter plot of all measured values\n",
    "        #n=0\n",
    "        #for lists in listlist:\n",
    "        #    for elements in lists:\n",
    "        #        ax1.scatter(n,elements, color='blue', s=3, alpha=0.4) # adjusting s to s=len(lists) changes the size of the dots respective to the nr of measurements. would be cool to do with means\n",
    "        #    n+=1\n",
    "        figur=plt.figure(1)\n",
    "        plt.show()\n",
    "        pp.savefig(figur, dpi = 300, transparent = True)\n",
    "    pp.close()"
   ]
  },
  {
   "cell_type": "code",
   "execution_count": 8,
   "metadata": {
    "scrolled": false
   },
   "outputs": [
    {
     "name": "stdout",
     "output_type": "stream",
     "text": [
      "authorlist generated\n",
      "dictionaries generated\n",
      "dictionaries combined\n"
     ]
    },
    {
     "data": {
      "image/png": "[encoded data removed]",
      "text/plain": [
       "<matplotlib.figure.Figure at 0x9a4ce80>"
      ]
     },
     "metadata": {},
     "output_type": "display_data"
    },
    {
     "data": {
      "image/png": "[encoded data removed]",
      "text/plain": [
       "<matplotlib.figure.Figure at 0x98bd780>"
      ]
     },
     "metadata": {},
     "output_type": "display_data"
    }
   ],
   "source": [
    "authorlist=annotated_data(testsent)\n",
    "all_dict=make_dictionary(authorlist)\n",
    "#plots_by_author(all_dict)\n",
    "scatter_plots_by_variable(all_dict)"
   ]
  }
 ],
 "metadata": {
  "kernelspec": {
   "display_name": "Python 2",
   "language": "python",
   "name": "python2"
  },
  "language_info": {
   "codemirror_mode": {
    "name": "ipython",
    "version": 2
   },
   "file_extension": ".py",
   "mimetype": "text/x-python",
   "name": "python",
   "nbconvert_exporter": "python",
   "pygments_lexer": "ipython2",
   "version": "2.7.14"
  }
 },
 "nbformat": 4,
 "nbformat_minor": 2
}
