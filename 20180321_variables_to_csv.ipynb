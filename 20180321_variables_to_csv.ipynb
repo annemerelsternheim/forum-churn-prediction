{
 "cells": [
  {
   "cell_type": "code",
   "execution_count": 1,
   "metadata": {
    "collapsed": true
   },
   "outputs": [],
   "source": [
    "# imports\n",
    "import json, re, time, unicodedata, unidecode, itertools, os, random\n",
    "from collections import defaultdict\n",
    "from datetime import date, datetime, timedelta\n",
    "import numpy as np\n",
    "from nltk.tokenize import sent_tokenize, word_tokenize\n",
    "from pattern.nl import sentiment\n",
    "import pandas as pd\n",
    "from tqdm import tqdm_notebook as tqdm\n",
    "from dateutil.relativedelta import relativedelta\n",
    "\n",
    "import matplotlib.pyplot as plt\n",
    "from scipy.stats import kurtosis, skew\n"
   ]
  },
  {
   "cell_type": "code",
   "execution_count": 58,
   "metadata": {
    "collapsed": true
   },
   "outputs": [],
   "source": []
  },
  {
   "cell_type": "code",
   "execution_count": 59,
   "metadata": {
    "collapsed": true
   },
   "outputs": [],
   "source": []
  },
  {
   "cell_type": "code",
   "execution_count": 61,
   "metadata": {},
   "outputs": [
    {
     "data": {
      "text/html": [
       "\n",
       "                <audio controls=\"controls\" autoplay=\"autoplay\">\n",
       "                    <source src=\"https://sound.peal.io/ps/audios/000/000/537/original/woo_vu_luvub_dub_dub.wav\" type=\"audio/wav\" />\n",
       "                    Your browser does not support the audio element.\n",
       "                </audio>\n",
       "              "
      ],
      "text/plain": [
       "<IPython.lib.display.Audio object>"
      ]
     },
     "metadata": {},
     "output_type": "display_data"
    }
   ],
   "source": [
    "allDone()"
   ]
  },
  {
   "cell_type": "code",
   "execution_count": 2,
   "metadata": {
    "collapsed": true
   },
   "outputs": [],
   "source": [
    "# files\n",
    "#MWE\n",
    "#topics = json.load(open('D:\\\\4. Data\\\\Amazones_Forum_Export_JSON\\\\MWE_topic.json'))\n",
    "#posts = json.load(open('D:\\\\4. Data\\\\Amazones_Forum_Export_JSON\\\\MWE.json'))\n",
    "#regular\n",
    "#forums1 = json.load(open('D:\\\\4. Data\\\\Amazones\\\\oud_forums.json'))\n",
    "#forums2 = json.load(open('D:\\\\4. Data\\\\Amazones\\\\nieuw_forums.json'))\n",
    "topics1 = json.load(open('D:\\\\4. Data\\\\Amazones\\\\oud_topics.json'))\n",
    "topics2 = json.load(open('D:\\\\4. Data\\\\Amazones\\\\nieuw_topics.json'))\n",
    "posts1 = json.load(open('D:\\\\4. Data\\\\Amazones\\\\oud_posts.json'))\n",
    "posts2 = json.load(open('D:\\\\4. Data\\\\Amazones\\\\nieuw_posts.json'))\n",
    "users1 = json.load(open('D:\\\\4. Data\\\\Amazones\\\\oud_users.json'))\n",
    "users2 = json.load(open('D:\\\\4. Data\\\\Amazones\\\\nieuw_users.json'))\n",
    "userstatus = json.load(open('D:\\\\4. Data\\\\Amazones\\\\nieuw_users_status.json'))"
   ]
  },
  {
   "cell_type": "code",
   "execution_count": 14,
   "metadata": {},
   "outputs": [
    {
     "name": "stdout",
     "output_type": "stream",
     "text": [
      "2437\n",
      "92\n",
      "118391\n",
      "1778\n",
      "9177\n",
      "457\n",
      "5690\n"
     ]
    }
   ],
   "source": [
    "files = [topics1,topics2,posts1,posts2,users1,users2,userstatus]\n",
    "for f in files:\n",
    "    print len(f)\n",
    "# from the length of these files, we know that the new file is indeed only the addition of new posts. Not a new dataset including old posts\n",
    "# we also know that the 'complete' user list is not by far complete. This is weird. Or are they only the users that have posted?"
   ]
  },
  {
   "cell_type": "code",
   "execution_count": 379,
   "metadata": {},
   "outputs": [
    {
     "name": "stdout",
     "output_type": "stream",
     "text": [
      "\n"
     ]
    }
   ],
   "source": [
    "blocklist = set()\n",
    "activelist = set()\n",
    "timedict = dict()\n",
    "for f in userstatus:\n",
    "    timedict[f['user_id']] = (f['created_date'],f['last_access'])\n",
    "    if f['status']=='Geblokkeerd':\n",
    "        blocklist.add(f['user_id'])\n",
    "    if f['status']=='Actief':\n",
    "        activelist.add(f['user_id'])\n",
    "# notitie: er zijn 30 gebruikers die dubbel in de data staan."
   ]
  },
  {
   "cell_type": "code",
   "execution_count": 381,
   "metadata": {},
   "outputs": [
    {
     "name": "stdout",
     "output_type": "stream",
     "text": [
      "259\n",
      "5371\n",
      "5630\n",
      "5630\n",
      "set([])\n"
     ]
    }
   ],
   "source": [
    "print len(blocklist)\n",
    "print len(activelist)\n",
    "print len(timedict)\n",
    "print len(set().union(blocklist,activelist))"
   ]
  },
  {
   "cell_type": "code",
   "execution_count": 254,
   "metadata": {
    "collapsed": true
   },
   "outputs": [],
   "source": [
    "#363 (Active) + 65 (Blocked) = 428 users"
   ]
  },
  {
   "cell_type": "code",
   "execution_count": 409,
   "metadata": {},
   "outputs": [
    {
     "name": "stdout",
     "output_type": "stream",
     "text": [
      "428\n",
      "65\n",
      "363\n"
     ]
    }
   ],
   "source": [
    "over_treshold = []\n",
    "determine_active_users(timedict.keys())\n",
    "print len(over_treshold)"
   ]
  },
  {
   "cell_type": "code",
   "execution_count": 440,
   "metadata": {
    "scrolled": false
   },
   "outputs": [
    {
     "name": "stdout",
     "output_type": "stream",
     "text": [
      "min: 44 mean: 2026.67217630854 median: 1885.0 max: 4971 standard deviation: 1226.0366187856107\n",
      "skew: 0.39222661279 kurtosis: -0.778171838912 n:  363\n",
      "min: 125 mean: 1522.8923076923077 median: 1166.0 max: 4296 standard deviation: 1116.9449834681539\n",
      "skew: 1.03617428058 kurtosis: 0.0887835283614 n:  65\n"
     ]
    },
    {
     "data": {
      "image/png": "[encoded data removed]",
      "text/plain": [
       "<matplotlib.figure.Figure at 0x1bd85cc0>"
      ]
     },
     "metadata": {},
     "output_type": "display_data"
    }
   ],
   "source": [
    "over_treshold = []\n",
    "determine_active_users(activelist)\n",
    "\n",
    "beenherelist = []\n",
    "#over_treshold = random.sample(over_treshold, 65)\n",
    "for user in over_treshold:\n",
    "    created = datetime.strptime(timedict[user][0], '%d/%m/%Y - %H:%M')\n",
    "    last_seen = datetime.strptime(timedict[user][1], '%d/%m/%Y - %H:%M')\n",
    "    been_here = last_seen-created\n",
    "    beenherelist.append(been_here.days)\n",
    "print \"min:\", np.min(beenherelist),\n",
    "print \"mean:\", np.mean(beenherelist),\n",
    "print \"median:\", np.median(beenherelist),\n",
    "print \"max:\", np.max(beenherelist),\n",
    "print \"standard deviation:\", np.std(beenherelist)\n",
    "print \"skew:\", skew(beenherelist), #negative skew\n",
    "print \"kurtosis:\", kurtosis(beenherelist), # mesokurtic (normal, but irrelevant because the distribution is already non-normal because of the skew)\n",
    "print \"n: \", len(beenherelist)\n",
    "plt.close()\n",
    "plt.hist(beenherelist,bins = 50, color = 'purple', alpha = 0.4)\n",
    "plt.plot([np.mean(beenherelist)-(2*np.std(beenherelist)),np.mean(beenherelist)-np.std(beenherelist),np.mean(beenherelist)+np.std(beenherelist),np.mean(beenherelist)+(2*np.std(beenherelist))],[7,7,7,7],'r-', linewidth = 1)\n",
    "plt.plot([np.mean(beenherelist)-(2*np.std(beenherelist)),np.mean(beenherelist)-np.std(beenherelist),np.mean(beenherelist)+np.std(beenherelist),np.mean(beenherelist)+(2*np.std(beenherelist))],[7,7,7,7],'r|')\n",
    "plt.axvline(x=np.mean(beenherelist), color = 'r')\n",
    "plt.axvline(x=np.median(beenherelist), color = 'r', ls = '--')\n",
    "plt.title('Median (green) and Mean with standard deviation (red) of days subsribed on the forum')\n",
    "#plt.show()\n",
    "#bepaal gemiddelde actieve periode, en stdev.\n",
    "\n",
    "over_treshold = []\n",
    "determine_active_users(blocklist)\n",
    "\n",
    "beenherelist = []\n",
    "#over_treshold = random.sample(over_treshold, 65)\n",
    "for user in over_treshold:\n",
    "    created = datetime.strptime(timedict[user][0], '%d/%m/%Y - %H:%M')\n",
    "    last_seen = datetime.strptime(timedict[user][1], '%d/%m/%Y - %H:%M')\n",
    "    been_here = last_seen-created\n",
    "    beenherelist.append(been_here.days)\n",
    "print \"min:\", np.min(beenherelist),\n",
    "print \"mean:\", np.mean(beenherelist),\n",
    "print \"median:\", np.median(beenherelist),\n",
    "print \"max:\", np.max(beenherelist),\n",
    "print \"standard deviation:\", np.std(beenherelist)\n",
    "print \"skew:\", skew(beenherelist), #negative skew\n",
    "print \"kurtosis:\", kurtosis(beenherelist), # mesokurtic (normal, but irrelevant because the distribution is already non-normal because of the skew)\n",
    "print \"n: \", len(beenherelist)\n",
    "#plt.close()\n",
    "plt.hist(beenherelist,bins = 50, color = 'green', alpha = 0.4)\n",
    "plt.plot([np.mean(beenherelist)-(2*np.std(beenherelist)),np.mean(beenherelist)-np.std(beenherelist),np.mean(beenherelist)+np.std(beenherelist),np.mean(beenherelist)+(2*np.std(beenherelist))],[6,6,6,6],'c-', linewidth = 1)\n",
    "plt.plot([np.mean(beenherelist)-(2*np.std(beenherelist)),np.mean(beenherelist)-np.std(beenherelist),np.mean(beenherelist)+np.std(beenherelist),np.mean(beenherelist)+(2*np.std(beenherelist))],[6,6,6,6],'c|')\n",
    "plt.axvline(x=np.mean(beenherelist), color = 'c')\n",
    "plt.axvline(x=np.median(beenherelist), color = 'c', ls = '--')\n",
    "plt.title('A comparison of the total number of active days\\n of blocked (green/blue) and active (purple/red) users.\\n Median (dashed) and Mean with standard deviation (solid)')\n",
    "plt.show()\n",
    "# die paarse plot zegt eigenlijk iets over de huidige samenstelling van het forum: is die normaal? zijn er van alle dagen van het jaar evenveel aanmeldingen? ja wel redelijk dus, want weinig skew (hoewel wel wat platykurtosis in de verdeling.)"
   ]
  },
  {
   "cell_type": "code",
   "execution_count": 7,
   "metadata": {},
   "outputs": [
    {
     "ename": "NameError",
     "evalue": "name 'T' is not defined",
     "output_type": "error",
     "traceback": [
      "\u001b[1;31m---------------------------------------------------------------------------\u001b[0m",
      "\u001b[1;31mNameError\u001b[0m                                 Traceback (most recent call last)",
      "\u001b[1;32m<ipython-input-7-3cbdf530c9bf>\u001b[0m in \u001b[0;36m<module>\u001b[1;34m()\u001b[0m\n\u001b[0;32m      1\u001b[0m \u001b[0mfirstpost\u001b[0m \u001b[1;33m=\u001b[0m \u001b[0mdict\u001b[0m\u001b[1;33m(\u001b[0m\u001b[1;33m)\u001b[0m\u001b[1;33m\u001b[0m\u001b[0m\n\u001b[1;32m----> 2\u001b[1;33m \u001b[1;32mfor\u001b[0m \u001b[0muser\u001b[0m \u001b[1;32min\u001b[0m \u001b[0mT\u001b[0m\u001b[1;33m:\u001b[0m\u001b[1;33m\u001b[0m\u001b[0m\n\u001b[0m\u001b[0;32m      3\u001b[0m     \u001b[1;32mif\u001b[0m \u001b[0mlen\u001b[0m\u001b[1;33m(\u001b[0m\u001b[0mT\u001b[0m\u001b[1;33m[\u001b[0m\u001b[0muser\u001b[0m\u001b[1;33m]\u001b[0m\u001b[1;33m)\u001b[0m\u001b[1;33m>\u001b[0m\u001b[1;36m0\u001b[0m\u001b[1;33m:\u001b[0m\u001b[1;33m\u001b[0m\u001b[0m\n\u001b[0;32m      4\u001b[0m         \u001b[0mfirstpost\u001b[0m\u001b[1;33m[\u001b[0m\u001b[0muser\u001b[0m\u001b[1;33m]\u001b[0m \u001b[1;33m=\u001b[0m \u001b[0mmin\u001b[0m\u001b[1;33m(\u001b[0m\u001b[1;33m[\u001b[0m\u001b[0mdatetime\u001b[0m\u001b[1;33m.\u001b[0m\u001b[0mstrptime\u001b[0m\u001b[1;33m(\u001b[0m\u001b[0mx\u001b[0m\u001b[1;33m,\u001b[0m\u001b[1;34m'%d/%m/%Y - %H:%M'\u001b[0m\u001b[1;33m)\u001b[0m \u001b[1;32mfor\u001b[0m \u001b[0mx\u001b[0m \u001b[1;32min\u001b[0m \u001b[0mT\u001b[0m\u001b[1;33m[\u001b[0m\u001b[0muser\u001b[0m\u001b[1;33m]\u001b[0m\u001b[1;33m]\u001b[0m\u001b[1;33m)\u001b[0m\u001b[1;33m\u001b[0m\u001b[0m\n",
      "\u001b[1;31mNameError\u001b[0m: name 'T' is not defined"
     ]
    }
   ],
   "source": [
    "firstpost = dict()\n",
    "for user in T:\n",
    "    if len(T[user])>0:\n",
    "        firstpost[user] = min([datetime.strptime(x,'%d/%m/%Y - %H:%M') for x in T[user]])"
   ]
  },
  {
   "cell_type": "code",
   "execution_count": 4,
   "metadata": {
    "collapsed": true
   },
   "outputs": [],
   "source": [
    "def make_last_access_dict(last_access_dict = dict()):\n",
    "\tfor u in userstatus:\n",
    "\t\tlast_access_dict[u['user_id']] = u['last_access']\n",
    "\treturn last_access_dict"
   ]
  },
  {
   "cell_type": "code",
   "execution_count": 5,
   "metadata": {
    "collapsed": true
   },
   "outputs": [],
   "source": [
    "first_access_dict = make_first_access_dict()\n",
    "last_access_dict = make_last_access_dict()"
   ]
  },
  {
   "cell_type": "code",
   "execution_count": 443,
   "metadata": {
    "collapsed": true,
    "scrolled": false
   },
   "outputs": [],
   "source": [
    "no_posts = []\n",
    "data = open('exclude.txt', 'r')\n",
    "lines = data.readlines()\n",
    "exclude = [l.rstrip() for l in lines]\n",
    "\n",
    "for user in first_access_dict:\n",
    "    if user in firstpost and user not in exclude:\n",
    "        if (datetime.strptime(first_acces_dict[user],'%d/%m/%Y - %H:%M')-firstpost[user]).days>0:\n",
    "            print user,\" access:\", datetime.strptime(first_acces_dict[user],'%d/%m/%Y - %H:%M'), \" posts:\", firstpost[user]\n",
    "    else:\n",
    "        no_posts.append(user) #34 who post nothing"
   ]
  },
  {
   "cell_type": "code",
   "execution_count": 13,
   "metadata": {},
   "outputs": [
    {
     "name": "stdout",
     "output_type": "stream",
     "text": [
      "2015-03-26 09:56:00\n"
     ]
    },
    {
     "ename": "KeyError",
     "evalue": "'76'",
     "output_type": "error",
     "traceback": [
      "\u001b[1;31m---------------------------------------------------------------------------\u001b[0m",
      "\u001b[1;31mKeyError\u001b[0m                                  Traceback (most recent call last)",
      "\u001b[1;32m<ipython-input-13-65a923d9d969>\u001b[0m in \u001b[0;36m<module>\u001b[1;34m()\u001b[0m\n\u001b[0;32m      1\u001b[0m \u001b[0mu\u001b[0m \u001b[1;33m=\u001b[0m \u001b[1;34m'76'\u001b[0m\u001b[1;33m\u001b[0m\u001b[0m\n\u001b[0;32m      2\u001b[0m \u001b[1;32mprint\u001b[0m \u001b[0mdatetime\u001b[0m\u001b[1;33m.\u001b[0m\u001b[0mstrptime\u001b[0m\u001b[1;33m(\u001b[0m\u001b[0mfirst_access_dict\u001b[0m\u001b[1;33m[\u001b[0m\u001b[0mu\u001b[0m\u001b[1;33m]\u001b[0m\u001b[1;33m,\u001b[0m\u001b[1;34m'%d/%m/%Y - %H:%M'\u001b[0m\u001b[1;33m)\u001b[0m\u001b[1;33m\u001b[0m\u001b[0m\n\u001b[1;32m----> 3\u001b[1;33m \u001b[1;32mprint\u001b[0m \u001b[0mfirstpost\u001b[0m\u001b[1;33m[\u001b[0m\u001b[0mu\u001b[0m\u001b[1;33m]\u001b[0m\u001b[1;33m\u001b[0m\u001b[0m\n\u001b[0m\u001b[0;32m      4\u001b[0m \u001b[1;32mprint\u001b[0m \u001b[1;33m(\u001b[0m\u001b[0mdatetime\u001b[0m\u001b[1;33m.\u001b[0m\u001b[0mstrptime\u001b[0m\u001b[1;33m(\u001b[0m\u001b[0mfirst_access_dict\u001b[0m\u001b[1;33m[\u001b[0m\u001b[0mu\u001b[0m\u001b[1;33m]\u001b[0m\u001b[1;33m,\u001b[0m\u001b[1;34m'%d/%m/%Y - %H:%M'\u001b[0m\u001b[1;33m)\u001b[0m\u001b[1;33m-\u001b[0m\u001b[0mfirstpost\u001b[0m\u001b[1;33m[\u001b[0m\u001b[0mu\u001b[0m\u001b[1;33m]\u001b[0m\u001b[1;33m)\u001b[0m\u001b[1;33m.\u001b[0m\u001b[0mdays\u001b[0m\u001b[1;33m\u001b[0m\u001b[0m\n\u001b[0;32m      5\u001b[0m \u001b[1;32mprint\u001b[0m \u001b[0mdatetime\u001b[0m\u001b[1;33m.\u001b[0m\u001b[0mstrptime\u001b[0m\u001b[1;33m(\u001b[0m\u001b[0mlast_access_dict\u001b[0m\u001b[1;33m[\u001b[0m\u001b[0mu\u001b[0m\u001b[1;33m]\u001b[0m\u001b[1;33m,\u001b[0m\u001b[1;34m'%d/%m/%Y - %H:%M'\u001b[0m\u001b[1;33m)\u001b[0m\u001b[1;33m\u001b[0m\u001b[0m\n",
      "\u001b[1;31mKeyError\u001b[0m: '76'"
     ]
    }
   ],
   "source": [
    "u = '76'\n",
    "print datetime.strptime(first_access_dict[u],'%d/%m/%Y - %H:%M')\n",
    "print firstpost[u]\n",
    "print (datetime.strptime(first_access_dict[u],'%d/%m/%Y - %H:%M')-firstpost[u]).days\n",
    "print datetime.strptime(last_access_dict[u],'%d/%m/%Y - %H:%M')"
   ]
  },
  {
   "cell_type": "code",
   "execution_count": 16,
   "metadata": {},
   "outputs": [
    {
     "data": {
      "text/plain": [
       "-8736"
      ]
     },
     "execution_count": 16,
     "metadata": {},
     "output_type": "execute_result"
    }
   ],
   "source": [
    "(datetime.strptime(\"26/03/2015 - 09:56\",'%d/%m/%Y - %H:%M')-datetime.strptime(\"24/03/2016 - 04:00\",'%d/%m/%Y - %H:%M')).days*24"
   ]
  },
  {
   "cell_type": "code",
   "execution_count": 17,
   "metadata": {},
   "outputs": [
    {
     "data": {
      "text/plain": [
       "175"
      ]
     },
     "execution_count": 17,
     "metadata": {},
     "output_type": "execute_result"
    }
   ],
   "source": [
    "4222/24\n"
   ]
  },
  {
   "cell_type": "code",
   "execution_count": 52,
   "metadata": {},
   "outputs": [],
   "source": [
    "def factorial(x,y):\n",
    "    if y ==1:\n",
    "        return  x\n",
    "    else:\n",
    "        return x+factorial(x-1,y-1) if x>1 else 1"
   ]
  },
  {
   "cell_type": "code",
   "execution_count": 57,
   "metadata": {},
   "outputs": [
    {
     "name": "stdout",
     "output_type": "stream",
     "text": [
      "122032\n"
     ]
    }
   ],
   "source": [
    "print factorial(4222,29) # 0 does x, 1 does x*x-1,"
   ]
  },
  {
   "cell_type": "code",
   "execution_count": 265,
   "metadata": {},
   "outputs": [
    {
     "name": "stdout",
     "output_type": "stream",
     "text": [
      "['926']\n",
      "{}\n"
     ]
    }
   ],
   "source": [
    "over_treshold = []\n",
    "first_accessdict = dict()\n",
    "determine_active_users(['926'])\n",
    "print over_treshold\n",
    "print first_accessdict"
   ]
  },
  {
   "cell_type": "code",
   "execution_count": 11,
   "metadata": {
    "collapsed": true
   },
   "outputs": [],
   "source": [
    "def remove_non_ascii(text):\n",
    "    \"\"\" this function expects a string, and removes non-ascii characters from it \"\"\"\n",
    "    return unidecode.unidecode(text)"
   ]
  },
  {
   "cell_type": "code",
   "execution_count": 10,
   "metadata": {
    "collapsed": true
   },
   "outputs": [],
   "source": [
    "def cleanup(text):\n",
    "    \"\"\" this function expects a string (post from the BVN/Amazones forum), and returns a cleaner version of it \"\"\"\n",
    "    # remove all links, images, quotes, and emailaddresses\n",
    "    text=re.sub('<a.*?>(.*?)</a>','',text) #remove links\n",
    "    text=re.sub('(http:|www)\\S*','',text) #remove links without markup\n",
    "    text=re.sub('\\[\\\\\\/url\\]','',text)\n",
    "    text=re.sub('<img.*?/>', '',text) #remove images\n",
    "    text=re.sub('<div class=\"bb-quote\">((\\s|\\S)*?)</div>','',text) #remove quotes\n",
    "    text=re.sub('<script.*?>([\\S\\s]*?)</script>','',text) #remove emailaddresses\n",
    "\n",
    "    # replace all emoticon-icons\n",
    "    text=re.sub('<img.*?title=\"(.*?)\".*?/>', '(EMO:\\\\1)',text) #replace emoticons by textual indicators \n",
    "\n",
    "    # replace (most) sideways latin emoticons\n",
    "    text=re.sub('[^>]:-?(\\)|\\])','(EMO:smiley)',text)\n",
    "    text=re.sub(u'☺️','(EMO:smiley)',text)\n",
    "    text=re.sub('[^>]:-?(\\(|\\[)','(EMO:sad)',text)\n",
    "    text=re.sub(';-?(\\)|\\])','(EMO:wink)',text)\n",
    "    text=re.sub(r'(:|;|x|X)-?(D)+\\b','(EMO:laugh)',text)\n",
    "    text=re.sub(':-?(/|\\\\\\|\\|)','(EMO:frown)',text)\n",
    "    text=re.sub(r'(:|;)-?(p|P)+\\b','(EMO:cheeky)',text)\n",
    "    text=re.sub('(:|;)(\\'|\\\")-?(\\(|\\[)','(EMO:cry)',text)\n",
    "    text=re.sub('\\<3+','(EMO:heart)',text)\n",
    "    text=re.sub(u'❤️','(EMO:heart)',text)\n",
    "    text=re.sub('((\\>:-?(\\(|\\]))|(\\>?:-?@))','(EMO:angry)',text)\n",
    "    text=re.sub('\\>:-?(\\)|\\])','(EMO:evil)',text)\n",
    "    text=re.sub(r'(:|;)-?(O|o|0)+\\b','(EMO:shock)',text)\n",
    "    text=re.sub('(:|;)-?(K|k|x|X)','(EMO:kiss)',text)\n",
    "    # :s\n",
    "    # :x is eigenlijk geen kus, geloof ik...\n",
    "\n",
    "    #other important adjustments:\n",
    "    text=re.sub('m\\'?n\\s','mijn ',text) # replacing m'n and mn with mijn, so it gets parsed correctly.\n",
    "    text=re.sub('z\\'?n\\s','zijn ',text) #replacing z'n and zn with zijn\n",
    "    text=re.sub('d\\'?r\\s','haar ',text) #replacing d'r and dr with zijn (only if followed by space, so dr. stays dr.)\n",
    "\n",
    "    # replace all emoticons (and other things) written between double colons\n",
    "    text=re.sub(':([a-zA-Z]+):','(EMO:\\\\1)',text)\n",
    "\n",
    "    # remove remaining markup\n",
    "    text=re.sub('</?(ol|style|b|p|em|u|i|strong|br|span|div|blockquote|li)(.*?)/?>','',text)\n",
    "    text=re.sub('(\\[|\\]|\\{|\\})', '',text)\n",
    "\n",
    "    # separate text from punctuation (may cause double/triple spaces - does not matter at this point)\n",
    "    text = re.sub('(\\.{2,}|/|\\)|,|!|\\?)','\\\\1 ',text) # space behind\n",
    "    text=re.sub('(/|\\()',' \\\\1',text) # space in front\n",
    "    text=re.sub('(\\w{2,})(\\.|,)','\\\\1 \\\\2 ',text) #space 'between'\n",
    "\n",
    "    return(remove_non_ascii(text))"
   ]
  },
  {
   "cell_type": "code",
   "execution_count": 8,
   "metadata": {
    "collapsed": true
   },
   "outputs": [],
   "source": [
    "def make_P_T_and_D(topics1,topics2,posts1,posts2):\n",
    "    \"\"\" this function takes the .json files containing the thread starts and responses, and returns three things:\n",
    "    [0]: a dictionary with the user-ID as key, and the post as value;\n",
    "    [1]: a dictionary with the user-ID as key, and the time of posting as a value;\n",
    "    [2]: a list of all datetimes present in the data (sorted by date, because the .json was already sorted) \"\"\"\n",
    "    P = defaultdict(list)\n",
    "    T = defaultdict(list)\n",
    "    D = []\n",
    "\n",
    "    with tqdm(total=len(topics1)) as pbar:\n",
    "        for t1 in reversed(topics1):\n",
    "            pbar.update(1)\n",
    "            P[t1['Author uid']].append((cleanup(t1[\"Body\"]),1))\n",
    "            T[t1['Author uid']].append(t1['Post date'])\n",
    "            D.append(datetime.strptime(t1['Post date'], '%d/%m/%Y - %H:%M'))\n",
    "            \n",
    "    with tqdm(total=len(topics2)) as pbar:\n",
    "        for t2 in reversed(topics2):\n",
    "            pbar.update(1)\n",
    "            P[t2['user_id']].append((cleanup(t2[\"body\"]),1))\n",
    "            T[t2['user_id']].append(t2['post_date'])\n",
    "            D.append(datetime.strptime(t2['post_date'], '%d/%m/%Y - %H:%M'))\n",
    "\n",
    "    with tqdm(total=len(posts1)) as pbar:\n",
    "        for p1 in reversed(posts1):\n",
    "            pbar.update(1)\n",
    "            P[p1['Auteur-uid']].append((cleanup(p1[\"Body\"]),0))\n",
    "            T[p1['Auteur-uid']].append(p1['Datum van inzending'])\n",
    "            D.append(datetime.strptime(p1['Datum van inzending'], '%d/%m/%Y - %H:%M'))\n",
    "    \n",
    "    with tqdm(total=len(posts2)) as pbar:\n",
    "        for p2 in reversed(posts2):\n",
    "            pbar.update(1)\n",
    "            P[p2['user_id']].append((cleanup(p2[\"body\"]),0))\n",
    "            T[p2['user_id']].append(p2['post_date'])\n",
    "            D.append(datetime.strptime(p2['post_date'], '%d/%m/%Y - %H:%M'))\n",
    "\n",
    "    return (P,T,D)"
   ]
  },
  {
   "cell_type": "code",
   "execution_count": 3,
   "metadata": {
    "collapsed": true
   },
   "outputs": [],
   "source": [
    "def make_first_access_dict(first_accessdict = dict()):\n",
    "    for u in userstatus:\n",
    "        first_accessdict[u['user_id']] = u['created_date']\n",
    "    return first_accessdict\n",
    "\n",
    "\n",
    "def determine_active_users(include_only = []):\n",
    "    global over_treshold\n",
    "    \n",
    "    data = open('exclude.txt', 'r')\n",
    "    lines = data.readlines()\n",
    "    exclude = [l.rstrip() for l in lines]\n",
    "    \n",
    "    if include_only == []:\n",
    "        userlist = [u['user_id'] for u in userstatus]\n",
    "    else:\n",
    "        userlist = include_only\n",
    "    for user in userlist:\n",
    "        if len(T[user])<30:\n",
    "            pass\n",
    "        elif user in exclude:\n",
    "            pass\n",
    "        else:\n",
    "            over_treshold.append(user)"
   ]
  },
  {
   "cell_type": "code",
   "execution_count": 277,
   "metadata": {},
   "outputs": [
    {
     "name": "stdout",
     "output_type": "stream",
     "text": [
      "['926']\n",
      "13/09/2004 - 18:30\n"
     ]
    }
   ],
   "source": [
    "over_treshold = []\n",
    "determine_active_users(['926'])\n",
    "print over_treshold\n",
    "print make_first_access_dict()['926']"
   ]
  },
  {
   "cell_type": "code",
   "execution_count": null,
   "metadata": {
    "collapsed": true
   },
   "outputs": [],
   "source": [
    "for user in make_first_access_dict():\n",
    "    if\n",
    "    min([len(x) for x in weekcount.values()])"
   ]
  },
  {
   "cell_type": "code",
   "execution_count": 85,
   "metadata": {
    "collapsed": true
   },
   "outputs": [],
   "source": [
    "def make_binlist(D,hours = None, days = None, months = None):\n",
    "    \"\"\" this function takes a list of dates (D), and generates a new list of dates,\n",
    "    starting at 4:00 AM just before the earliest date in D, and ending at 4:00 just after the latest date in D,\n",
    "    with fixed timeticks between all dates in the list. The length of the timetick may be specified by the user,\n",
    "    through either one of the arguments \"hours\", \"days\", or \"months\".\n",
    "    If more than one argument is specified, only the smallest entity will be considered (hours<days<months)\n",
    "    \"\"\"\n",
    "    #set lower and upper boundaries of a user's activity\n",
    "    lower = min(D)\n",
    "    upper = max(D)\n",
    "    \n",
    "    if lower.time()>=datetime.strptime('4:00','%H:%M').time():\n",
    "        lower = lower.replace(hour = 4, minute = 0)\n",
    "    else:\n",
    "        lower = (lower+timedelta(days = -1)).replace(hour=4,minute=0)\n",
    "\n",
    "    if upper.time()<datetime.strptime('12:00','%H:%M').time():\n",
    "        upper = upper.replace(hour = 4, minute = 0)\n",
    "    else:\n",
    "        upper = (upper+timedelta(days=1)).replace(hour=4,minute=0)\n",
    "\n",
    "    # als er uren ingegeven zijn, neem dan een zoveel-uur-bin\n",
    "    if hours != None:\n",
    "        return([lower + timedelta(hours=x) for x in range(0, (24*((upper-lower).days))+hours, hours)])\n",
    "    # als er dagen ingegeven zijn, neem dan een zoveel-dag-bin\n",
    "    elif days != None:\n",
    "        return([lower + timedelta(days=x) for x in range(0, ((upper-lower).days)+days, days)])\n",
    "    # als er maanden ingegeven zijn, neem dan een zoveel-maand-bin\n",
    "    elif months != None:\n",
    "        return([lower + relativedelta(months=x) for x in range(0, (((upper-lower).days)/30)+months, months)])\n",
    "    else:\n",
    "        print \"please specify the size of the bins in hours, days or months\"\n",
    "        return []"
   ]
  },
  {
   "cell_type": "code",
   "execution_count": 15,
   "metadata": {
    "collapsed": true
   },
   "outputs": [],
   "source": [
    "def determine_questionmarks(body, Q=0):\n",
    "    \"\"\" This function counts and returns the number of sentences in the provided input string\n",
    "    that ends in at least one question mark \"\"\"\n",
    "    for sentence in sent_tokenize(body):\n",
    "        if re.search('\\?+', sentence):\n",
    "            Q+=1\n",
    "    if len(sent_tokenize(body))!=0:\n",
    "        return float(Q)/float(len(sent_tokenize(body)))\n",
    "    else:\n",
    "        return 0\n",
    "\n",
    "def determine_sentiment(body):\n",
    "    \"\"\" this funciton determines and returns the average sentiment of sentences in the provided input string.\n",
    "    It uses the pattern module to do so. Sentiment values may range from -1 to 1. \"\"\"\n",
    "    return np.mean([sentiment(sentence)[0] for sentence in sent_tokenize(body)]) \n",
    "\n",
    "def determine_subjectivity(body):\n",
    "    \"\"\" This function determines and returns the average subjectivity of sentences in the provided input string.\n",
    "    It uses the pattern module to do so. Subjectivity values may range from 0 to 1. \"\"\"\n",
    "    return np.mean([sentiment(sentence)[1] for sentence in sent_tokenize(body)]) \n",
    "\n",
    "def determine_post_length(body):\n",
    "    \"\"\" This function determines and returns the length of the provided input string in sentences.\n",
    "    It uses the nltk sent_tokenize function to do so. \"\"\"\n",
    "    return(len(sent_tokenize(body)))\n",
    "\n",
    "def determine_sentence_length(body):\n",
    "    \"\"\" This function determines and returns the average length of the sentences in the provided input string in words.\n",
    "    It uses the nltk word_tokenize function to do so. \"\"\"\n",
    "    #word_tokenize also considers interpunction a word\n",
    "    return np.mean([len(word_tokenize(sentence)) for sentence in sent_tokenize(body)])"
   ]
  },
  {
   "cell_type": "code",
   "execution_count": 9,
   "metadata": {
    "collapsed": true
   },
   "outputs": [],
   "source": [
    "def determine_week_activity(first_date,last_date,bindict):\n",
    "    \"\"\" This function returns a dictionary that has kept track of the activity in week-bins, instead of day-bins.\n",
    "    It expects two dates, to indicate in between which dates the dictionary should be built,\n",
    "    and expects a dictionary in which all the user's active times are already stored\"\"\"\n",
    "    for d in range(0, (last_date-first_date).days,7):\n",
    "        week_start = first_date+timedelta(days=d)\n",
    "        week_end = first_date+timedelta(days=d+7)\n",
    "        for date in list(itertools.chain.from_iterable(bindict.values())):\n",
    "            if week_start<=datetime.strptime(date, '%d/%m/%Y - %H:%M')<week_end:\n",
    "                weekcountdict[week_start,week_end].append(1)\n",
    "        if len(weekcountdict[week_start,week_end])==0:\n",
    "            weekcountdict[week_start,week_end] = []\n",
    "    return weekcountdict"
   ]
  },
  {
   "cell_type": "code",
   "execution_count": 10,
   "metadata": {
    "collapsed": true
   },
   "outputs": [],
   "source": [
    "def determine_past_activity(bindict,index,hours_back=24):\n",
    "    \"\"\" This function returns the number of times a user has been active in the last hours_back hours (default 24h).\n",
    "    The first hours_back time bins will for now have a value of 0 by default, to keep things easy.\"\"\"\n",
    "    if 0<= index-hours_back<=len(bindict):\n",
    "        past_activity = np.sum([len(bindict[binlist[index-(x+1)],binlist[index+1-(x+1)]]) for x in range(hours_back)])\n",
    "    else:\n",
    "        past_activity=0\n",
    "    return past_activity"
   ]
  },
  {
   "cell_type": "code",
   "execution_count": 11,
   "metadata": {
    "collapsed": true
   },
   "outputs": [],
   "source": [
    "def print_information(user, T, first_date,last_date,weekcount):\n",
    "    \"\"\" this function prints useful basic information on the user's activity.\n",
    "    It needs quite some input so make sure you've got them all:\n",
    "    1) user ID, 2) a dictionary containing users-IDs as key, and any activity log as value,\n",
    "    3,4) the first and last date of activity, and 5) the dictionary that kept track of the week activity. \"\"\"\n",
    "    print \"User:\", user\n",
    "    print \"posted one or more posts in\", len(T[user]), \"'bins'.\" \n",
    "    print \"The first post: \", first_date\n",
    "    print \"The last post: \", last_date\n",
    "    print \"Activity spread over: \", last_date-first_date\n",
    "    print \"The average nr of posts per week: \", np.mean([len(x) for x in weekcount.values()]), \"including long times of inactivity.\"\n",
    "    print \"The average nr of posts in non-empty weeks: \", np.mean([len(x) for x in weekcount.values() if not x==[]])\n",
    "    print \"The range of activity: \", min([len(x) for x in weekcount.values()]), \" to \", max([len(x) for x in weekcount.values()]), \" posts per week\"\n",
    "    print"
   ]
  },
  {
   "cell_type": "code",
   "execution_count": null,
   "metadata": {
    "collapsed": true
   },
   "outputs": [],
   "source": [
    "# add ETD to files\n",
    "\n",
    "path = \"C:\\Users\\sternheimam\\Desktop\\my-notebook\\user-csvs\"\n",
    "\n",
    "for filename in os.listdir(path):\n",
    "    ETDlist = []\n",
    "    user = re.search(r'[0-9]+',filename).group(0)\n",
    "    lastPost = datetime.strptime(''.join(deathdict[user]), '%d/%m/%Y - %H:%M')\n",
    "    data = pd.read_csv(os.path.join(path, filename))\n",
    "    for timeStamp in data['Date & Time']:\n",
    "        ETDlist.append((lastPost - (datetime.strptime(timeStamp, '%Y-%m-%d %H:%M:%S'))).days)\n",
    "    data['ETD'] = ETDlist\n",
    "    data.to_csv(os.path.join(path,filename),index=False)\n",
    "    \n",
    "# add churn_in_year to files\n",
    "\n",
    "for filename in os.listdir(path):\n",
    "    boolean_churn_list = []\n",
    "    user = re.search(r'[0-9]+',filename).group(0)\n",
    "\n",
    "    else:\n",
    "        last_access = churndate[user]\n",
    "        data = pd.read_csv(os.path.join(path, filename))\n",
    "        for timeStamp in data['Date & Time']:\n",
    "            future_churn = 1 if ((datetime.strptime(timeStamp, '%Y-%m-%d %H:%M:%S')) +\n",
    "                timedelta(days = 7)) > last_access else 0\n",
    "            boolean_churn_list.append(future_churn)\n",
    "        data['churnThisYear'] = boolean_churn_list\n",
    "        data.to_csv(os.path.join(path,filename),index=False)"
   ]
  },
  {
   "cell_type": "code",
   "execution_count": 12,
   "metadata": {
    "scrolled": true
   },
   "outputs": [
    {
     "data": {
      "application/vnd.jupyter.widget-view+json": {
       "model_id": "1425aa9204824afdaf7f1b249870bb21",
       "version_major": 2,
       "version_minor": 0
      },
      "text/plain": [
       "A Jupyter Widget"
      ]
     },
     "metadata": {},
     "output_type": "display_data"
    },
    {
     "name": "stdout",
     "output_type": "stream",
     "text": [
      "\n"
     ]
    },
    {
     "data": {
      "application/vnd.jupyter.widget-view+json": {
       "model_id": "18cee6b8376b4112a132cd5defef07fb",
       "version_major": 2,
       "version_minor": 0
      },
      "text/plain": [
       "A Jupyter Widget"
      ]
     },
     "metadata": {},
     "output_type": "display_data"
    },
    {
     "name": "stdout",
     "output_type": "stream",
     "text": [
      "\n"
     ]
    },
    {
     "data": {
      "application/vnd.jupyter.widget-view+json": {
       "model_id": "524c8ac782c0470eae234314cab6a59f",
       "version_major": 2,
       "version_minor": 0
      },
      "text/plain": [
       "A Jupyter Widget"
      ]
     },
     "metadata": {},
     "output_type": "display_data"
    },
    {
     "name": "stdout",
     "output_type": "stream",
     "text": [
      "\n"
     ]
    },
    {
     "data": {
      "application/vnd.jupyter.widget-view+json": {
       "model_id": "97cf552ab6034105bd641ac251e5a24a",
       "version_major": 2,
       "version_minor": 0
      },
      "text/plain": [
       "A Jupyter Widget"
      ]
     },
     "metadata": {},
     "output_type": "display_data"
    },
    {
     "name": "stdout",
     "output_type": "stream",
     "text": [
      "\n"
     ]
    }
   ],
   "source": [
    "PTD = make_P_T_and_D(topics1,topics2,posts1,posts2) \n",
    "P = PTD[0]\n",
    "T = PTD[1]\n",
    "D = PTD[2]"
   ]
  },
  {
   "cell_type": "code",
   "execution_count": 143,
   "metadata": {
    "collapsed": true
   },
   "outputs": [],
   "source": [
    "exclude = open('exclude.txt', 'r')\n",
    "lines = exclude.readlines()\n",
    "exclude = [l.rstrip() for l in lines]"
   ]
  },
  {
   "cell_type": "code",
   "execution_count": 145,
   "metadata": {},
   "outputs": [
    {
     "name": "stdout",
     "output_type": "stream",
     "text": [
      "441\n"
     ]
    }
   ],
   "source": [
    "over_treshold = []\n",
    "determine_active_users() # for practical reasons, right now only user 1144 is selected. If more users desired, simply enter them in list form.\n",
    "print len(over_treshold)"
   ]
  },
  {
   "cell_type": "code",
   "execution_count": 16,
   "metadata": {
    "scrolled": false
   },
   "outputs": [
    {
     "data": {
      "application/vnd.jupyter.widget-view+json": {
       "model_id": "e9c686dabb90499a9493d82cc5f0b219",
       "version_major": 2,
       "version_minor": 0
      },
      "text/plain": [
       "A Jupyter Widget"
      ]
     },
     "metadata": {},
     "output_type": "display_data"
    },
    {
     "name": "stdout",
     "output_type": "stream",
     "text": [
      "1144"
     ]
    },
    {
     "data": {
      "application/vnd.jupyter.widget-view+json": {
       "model_id": "2f0b4359b7f14b4fa59360545b13821c",
       "version_major": 2,
       "version_minor": 0
      },
      "text/plain": [
       "A Jupyter Widget"
      ]
     },
     "metadata": {},
     "output_type": "display_data"
    },
    {
     "name": "stdout",
     "output_type": "stream",
     "text": [
      " User: 1144\n",
      "posted one or more posts in 30 'bins'.\n",
      "The first post:  2005-06-21 11:44:00\n",
      "The last post:  2009-11-30 22:24:00\n",
      "Activity spread over:  1623 days, 10:40:00\n",
      "The average nr of posts per week:  0.12931034482758622 including long times of inactivity.\n",
      "The average nr of posts in non-empty weeks:  1.3636363636363635\n",
      "The range of activity:  0  to  3  posts per week\n",
      "\n",
      "\n",
      " _ \n",
      "|_|\n"
     ]
    }
   ],
   "source": [
    "# path for saving csv files\n",
    "path = r\"C:\\Users\\sternheimam\\Desktop\\my-notebook\\user-csvs\" \n",
    "\n",
    "#---------------------------\n",
    "# global variables\n",
    "#---------------------------\n",
    "# chronological list of (lower) bin boundaries. Bin size specified in hours, days or months\n",
    "binlist = make_binlist(D,months=1)\n",
    "\n",
    "# determine the negative difference for measuring the 'backtrack' feature\n",
    "neg_diff = 24\n",
    "\n",
    "\n",
    "#---------------------------\n",
    "# determine 'relevant' users\n",
    "#---------------------------\n",
    "# initiate empty list of users relevant to measure\n",
    "over_treshold = []\n",
    "determine_active_users() # for practical reasons, right now only user 1144 is selected. If more users desired, simply enter them in list form.\n",
    "\n",
    "\n",
    "# now, generate three different bin-kinds of files for all users\n",
    "# add variables for ETD, departure-in-month/6months/year, activity-last-month, etc\n",
    "# make a .py\n",
    "\n",
    "#---------------------------\n",
    "# go through all users in over_treshold, and do stuff..\n",
    "#---------------------------\n",
    "# show the progress, while going through the active users\n",
    "with tqdm(total=len(over_treshold)) as processbar:\n",
    "    for user in over_treshold:\n",
    "        print user,\n",
    "        processbar.update(1)\n",
    "        \n",
    "        #---------------------------\n",
    "        # initiate some user-specific variables\n",
    "        #---------------------------\n",
    "        first_date = 0\n",
    "        last_date = 0\n",
    "        inactivity = 0\n",
    "        \n",
    "        # all lists starting with csv_ are lists that will eventually contain all values that end up in the csv file\n",
    "        csv_date = []            #datetime\n",
    "        csv_sentiment = []       #sentiment value (-1 to 1)\n",
    "        csv_questionmarks = []   #question mark-ending sentences (float)\n",
    "        csv_subjectivity = []    #subjectivity value (0 to 1)\n",
    "        csv_sentencelength = []  #length of sentence in words (float)\n",
    "        csv_postlength = []      #length of post in sentences (float)\n",
    "        csv_startposts = []      #1 for a thread start, 0 for a response (float) \n",
    "        csv_inactivity = []      #hours passed since last activity (int)\n",
    "        csv_backtrack = []       #posts posted in last x hours (x = neg_diff; default 24h)\n",
    "        \n",
    "        # dictionaries to keep track of activity within certain time bins\n",
    "        bindict = defaultdict(list)        #bins with size 'timetick' (default 1h), values = post-times \n",
    "        postdict = defaultdict(list)       #bins with size 'timetick' (default 1h), values = posts\n",
    "        metadict = defaultdict(list)       #bins with size 'timetick' (default 1h), values = 1 or 0 (start or response)\n",
    "        weekcountdict = defaultdict(list)  #bins with size = 7 days, values = '1' for every post\n",
    "        backtrackdict = defaultdict(list)  #bins with size = neg_diff (default 24h), values = nr of posts in last neg_diff hours\n",
    "        # TO DO: linguistic markers, like adjectives / pronouns / emoticons, and the diversity of topics / vocabulary\n",
    "        \n",
    "        \n",
    "        #---------------------------\n",
    "        # loop through the (sorted) list of datetimes, and do stuff..\n",
    "        #---------------------------\n",
    "        for index,boundary in enumerate(tqdm(binlist)):\n",
    "            # determine time bin boundaries for dictionaries\n",
    "            if index+1>=len(binlist):\n",
    "                break\n",
    "            else:\n",
    "                lower = binlist[index]\n",
    "                upper = binlist[index+1]\n",
    "                \n",
    "                #---------------------------\n",
    "                # Loop through T, collecting all activity for the selected user\n",
    "                #---------------------------\n",
    "                # determine in which time bin the user's activity belongs\n",
    "                for time in T[user]:\n",
    "                    if lower<=datetime.strptime(time, '%d/%m/%Y - %H:%M')<upper:\n",
    "                        bindict[lower,upper].append(time)\n",
    "                        \n",
    "                        # and determine how active the user has been in past neg_diff hours\n",
    "                        past_activity = determine_past_activity(bindict,index,neg_diff)\n",
    "                        backtrackdict[lower,upper].append(past_activity)\n",
    "                        \n",
    "                        # determine the first and last active dates\n",
    "                        if first_date == 0:\n",
    "                            first_date = datetime.strptime(time, '%d/%m/%Y - %H:%M')\n",
    "                            last_date = datetime.strptime(time, '%d/%m/%Y - %H:%M')\n",
    "                        else:\n",
    "                            last_date = datetime.strptime(time, '%d/%m/%Y - %H:%M')\n",
    "                        \n",
    "                        # split the text in P from the start/response-information\n",
    "                        body = P[user][T[user].index(time)][0]\n",
    "                        meta = P[user][T[user].index(time)][1]                        \n",
    "                        postdict[lower,upper].append(body) \n",
    "                        metadict[lower,upper].append(meta)\n",
    "\n",
    "                # fill up the still-empty places in the dictionary\n",
    "                if len(bindict[lower,upper])==0:\n",
    "                    bindict[lower,upper]=[]\n",
    "                    postdict[lower,upper]=[]\n",
    "                    metadict[lower,upper]=[]\n",
    "                    backtrackdict[lower,upper]=[]\n",
    "                \n",
    "                #---------------------------\n",
    "                # Fill csv_feature-lists with values \n",
    "                #---------------------------                \n",
    "                # Treat different posts within same bin 'as one' (concatenate them)\n",
    "                body = '. '.join(postdict[lower,upper]) #can be empty!\n",
    "            \n",
    "                # when then bin is empty, only add 1 to the inactivity feature\n",
    "                if len(body) == 0:\n",
    "                    inactivity+=1\n",
    "                # when the bin is not empty, append a value to all csv_feature-lists (and reset 'inactivity')\n",
    "                else:    \n",
    "                    csv_date.append(lower)\n",
    "                    csv_sentiment.append(determine_sentiment(body))\n",
    "                    csv_questionmarks.append(determine_questionmarks(body))\n",
    "                    csv_subjectivity.append(determine_subjectivity(body))\n",
    "                    csv_sentencelength.append(determine_sentence_length(body))\n",
    "                    csv_postlength.append(np.mean([determine_post_length(x) for x in postdict[lower,upper]]))\n",
    "                    csv_startposts.append(np.mean(metadict[lower,upper]))\n",
    "                    csv_inactivity.append(inactivity)\n",
    "                    csv_backtrack.append(np.sum(backtrackdict[lower,upper][-1]))\n",
    "                    inactivity = 0\n",
    "\n",
    "        #---------------------------\n",
    "        # Report the results for this user\n",
    "        #--------------------------- \n",
    "        # determine average activity: over active period, and over only-active weeks \n",
    "        weekcount = determine_week_activity(first_date,last_date,bindict)   \n",
    "        print_information(user, T, first_date,last_date,weekcount)            \n",
    "                \n",
    "        # put all csv_features into a dataframe\n",
    "        df = pd.DataFrame({\"Date & Time\": csv_date, \"Sentiment\": csv_sentiment, \"Questions\": csv_questionmarks, \n",
    "                           \"Subjectivity\": csv_subjectivity, \"Words/Sentence\": csv_sentencelength, \n",
    "                           \"Sentences/Post\": csv_postlength, \"First posts\": csv_startposts,\n",
    "                           \"Inactivity\": csv_inactivity, \"Posts in last 24H\": csv_backtrack}).dropna()\n",
    "        name = \"features_user_\"+str(user)+\".csv\"       \n",
    "        df.to_csv(os.path.join(path,name),index=False)\n",
    "print \" _ \"\n",
    "print \"|_|\""
   ]
  }
 ],
 "metadata": {
  "kernelspec": {
   "display_name": "Python 2",
   "language": "python",
   "name": "python2"
  },
  "language_info": {
   "codemirror_mode": {
    "name": "ipython",
    "version": 2
   },
   "file_extension": ".py",
   "mimetype": "text/x-python",
   "name": "python",
   "nbconvert_exporter": "python",
   "pygments_lexer": "ipython2",
   "version": "2.7.14"
  }
 },
 "nbformat": 4,
 "nbformat_minor": 2
}
