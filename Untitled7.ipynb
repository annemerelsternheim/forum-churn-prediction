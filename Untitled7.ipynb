{
 "cells": [
  {
   "cell_type": "markdown",
   "metadata": {},
   "source": [
    "# Trying to calculate average nr of posts per week, month, or day..."
   ]
  },
  {
   "cell_type": "code",
   "execution_count": 121,
   "metadata": {},
   "outputs": [
    {
     "name": "stdout",
     "output_type": "stream",
     "text": [
      "file loaded\n"
     ]
    }
   ],
   "source": [
    "#----------IMPORTS------------\n",
    "import json, re\n",
    "import numpy as np\n",
    "import matplotlib.pyplot as plt\n",
    "from pprint import pprint\n",
    "from pattern.nl import sentiment\n",
    "from collections import defaultdict\n",
    "from matplotlib.backends.backend_pdf import PdfPages\n",
    "import matplotlib.dates as dts\n",
    "import datetime\n",
    "\n",
    "#-----UNBOUND VARIABLES-------\n",
    "\n",
    "#----------CODE---------------\n",
    "\n",
    "file = json.load(open('C:\\\\Users\\\\sternheimam\\\\Dropbox\\\\TNO\\\\Scriptie\\\\4. Data\\\\viva_forum_latest_summarized.json'))\n",
    "testsent=(file[0:100])\n",
    "print('file loaded')"
   ]
  },
  {
   "cell_type": "code",
   "execution_count": 123,
   "metadata": {},
   "outputs": [
    {
     "name": "stdout",
     "output_type": "stream",
     "text": [
      "plots closed\n",
      "0.824746623557\n"
     ]
    }
   ],
   "source": [
    "plt.close()\n",
    "print('plots closed')\n",
    "\n",
    "timelist = []\n",
    "author_time=defaultdict(list)\n",
    "\n",
    "for line in testsent:\n",
    "    name = line['author']\n",
    "    time = line['time']\n",
    "    timelist.append((name,time,dts.datestr2num(time)))\n",
    "\n",
    "for name,time,numtime in timelist:\n",
    "    author_time[name].append((time,numtime))\n",
    "\n",
    "#pprint(author_time.items())\n",
    "\n",
    "averages=[]\n",
    "\n",
    "# for every author individually, make a plot that shows the nr of posts every day\n",
    "for key in author_time.keys():\n",
    "    #print(key)\n",
    "    datecount=[]\n",
    "    for (date,numdate) in author_time[key]:\n",
    "        datecount.append((date,numdate))\n",
    "    #pprint(datecount)\n",
    "    posts_per_day=defaultdict(list)\n",
    "    i=0\n",
    "    for date,numdate in datecount:\n",
    "        day=re.search('(.*)\\s(.*)',datecount[i][0]).group(1)\n",
    "        posts_per_day[day].append(numdate)\n",
    "        i+=1\n",
    "    #pprint(posts_per_day)\n",
    "    frequencies_day=[]\n",
    "    for x in range(len(posts_per_day.values())):\n",
    "        frequencies_day.append(len(posts_per_day.values()[x]))\n",
    "    #pprint(frequencies_day)\n",
    "\n",
    "    # sort dates so they are presented in chronological order on the x axis\n",
    "    dates = [datetime.datetime.strptime(ts, \"%d-%m-%Y\") for ts in posts_per_day.keys()]\n",
    "    dates.sort()\n",
    "    sorteddates = [datetime.datetime.strftime(ts, \"%Y-%m-%d\") for ts in dates]\n",
    "    \n",
    "    # duplicate this list, but make dates numerical\n",
    "    numdates_list=[dts.datestr2num(date) for date in sorteddates]\n",
    "\n",
    "    #print \"%s posts in %d days\" % (sum(frequencies_day), (numdates_list[len(numdates_list)-1]-numdates_list[0])+1)\n",
    "    #print \"On  average %s posts per day\" % (sum(frequencies_day) / ((numdates_list[len(numdates_list)-1]-numdates_list[0])+1))\n",
    "    averages.append(sum(frequencies_day) / ((numdates_list[len(numdates_list)-1]-numdates_list[0])+1))\n",
    "    #fig, ax = plt.subplots()\n",
    "    #plt.scatter(numdates_list,frequencies_day)\n",
    "    #ax.set_xticklabels(sorteddates_list) # AAAARGGGHHHH dit werkt niet potdorie\n",
    "    #well, at least the plot shows numbers which quite easily show how any days the data spread...\n",
    "    #plt.show()\n",
    "print(np.mean(averages))"
   ]
  },
  {
   "cell_type": "code",
   "execution_count": 79,
   "metadata": {},
   "outputs": [
    {
     "name": "stdout",
     "output_type": "stream",
     "text": [
      "Let's talk about Zed A. Shaw.\n",
      "He's 74 inches tall.\n",
      "He's 180 pounds heavy.\n",
      "Actually that's not too heavy.\n",
      "He's got Blue eyes and Brown hair.\n",
      "His teeth are usually White depending on the coffee.\n",
      "If I add 35, 74, and 180 I get 289.\n"
     ]
    }
   ],
   "source": [
    "\n",
    "my_age = 35 # not a lie\n",
    "my_height = 74 # inches\n",
    "my_weight = 180 # lbs\n",
    "my_eyes = 'Blue'\n",
    "my_teeth = 'White'\n",
    "my_hair = 'Brown'\n",
    "\n",
    "print \n",
    "print \"He's %d inches tall.\" % my_height\n",
    "print \"He's %d pounds heavy.\" % my_weight\n",
    "print \"Actually that's not too heavy.\"\n",
    "print \"He's got %s eyes and %s hair.\" % (my_eyes, my_hair)\n",
    "print \"His teeth are usually %s depending on the coffee.\" % my_teeth\n",
    "\n",
    "# this line is tricky, try to get it exactly right\n",
    "print \"If I add %d, %d, and %d I get %d.\" % (\n",
    "    my_age, my_height, my_weight, my_age + my_height + my_weight)\n"
   ]
  },
  {
   "cell_type": "code",
   "execution_count": 4,
   "metadata": {},
   "outputs": [
    {
     "name": "stdout",
     "output_type": "stream",
     "text": [
      "['2011-01-04']\n"
     ]
    }
   ],
   "source": [
    "dates = [datetime.datetime.strptime(ts, \"%d-%m-%Y\") for ts in posts_per_day.keys()]\n",
    "dates.sort()\n",
    "sorteddates = [datetime.datetime.strftime(ts, \"%Y-%m-%d\") for ts in dates]\n",
    "print sorteddates"
   ]
  },
  {
   "cell_type": "code",
   "execution_count": 58,
   "metadata": {},
   "outputs": [
    {
     "data": {
      "image/png": "[encoded data removed]",
      "text/plain": [
       "<matplotlib.figure.Figure at 0x91fbba8>"
      ]
     },
     "metadata": {},
     "output_type": "display_data"
    }
   ],
   "source": [
    "# make plot using numerical dates for ticks and spread(?)\n",
    "# use regular dates for labels\n",
    "# use frequency list for y axis\n",
    "plt.close()\n",
    "\n",
    "# make list of sorted dates\n",
    "data= ['01-02-2010','06-02-2010','01-03-2010']\n",
    "dates = [datetime.datetime.strptime(ts, \"%d-%m-%Y\") for ts in data]\n",
    "dates.sort()\n",
    "sorteddates_list = [datetime.datetime.strftime(ts, \"%Y-%m-%d\") for ts in dates]\n",
    "\n",
    "# duplicate this list, but make dates numerical\n",
    "numdates_list=[dts.datestr2num(date) for date in sorteddates_list]\n",
    "\n",
    "# make list for frequencies per date\n",
    "frequency_list=[2,1,6]\n",
    "\n",
    "fig, ax = plt.subplots()\n",
    "plt.scatter(numdates_list,frequency_list)\n",
    "#ax.set_xticklabels(sorteddates_list) # AAAARGGGHHHH dit werkt niet potdorie\n",
    "#well, at least the plot shows numbers which quite easily show how any days the data spread...\n",
    "plt.show()"
   ]
  }
 ],
 "metadata": {
  "kernelspec": {
   "display_name": "Python 2",
   "language": "python",
   "name": "python2"
  },
  "language_info": {
   "codemirror_mode": {
    "name": "ipython",
    "version": 2
   },
   "file_extension": ".py",
   "mimetype": "text/x-python",
   "name": "python",
   "nbconvert_exporter": "python",
   "pygments_lexer": "ipython2",
   "version": "2.7.14"
  }
 },
 "nbformat": 4,
 "nbformat_minor": 2
}
