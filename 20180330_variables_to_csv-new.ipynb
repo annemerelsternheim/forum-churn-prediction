{
 "cells": [
  {
   "cell_type": "code",
   "execution_count": 1,
   "metadata": {
    "collapsed": true
   },
   "outputs": [],
   "source": [
    "# imports\n",
    "import json, re, time, unicodedata, unidecode, itertools, os\n",
    "from collections import defaultdict\n",
    "from datetime import date, datetime, timedelta\n",
    "import numpy as np\n",
    "from nltk.tokenize import sent_tokenize, word_tokenize\n",
    "from pattern.nl import sentiment, parse, split\n",
    "import pandas as pd\n",
    "from tqdm import tqdm_notebook as tqdm\n",
    "from pprint import pprint"
   ]
  },
  {
   "cell_type": "code",
   "execution_count": 2,
   "metadata": {
    "collapsed": true
   },
   "outputs": [],
   "source": [
    "# files\n",
    "#MWE\n",
    "#topics = json.load(open('D:\\\\4. Data\\\\Amazones_Forum_Export_JSON\\\\MWE_topic.json'))\n",
    "#posts = json.load(open('D:\\\\4. Data\\\\Amazones_Forum_Export_JSON\\\\MWE.json'))\n",
    "#regular\n",
    "forums = json.load(open('D:\\\\4. Data\\\\Amazones_Forum_Export_JSON\\\\2017-12-07T13-35-45 _amazones_forums_export.json'))\n",
    "# zorg voor een nieuwe versie van dit bestand; verkeerd opgeslagen dus je mist het kontje!\n",
    "topics = json.load(open('D:\\\\4. Data\\\\Amazones_Forum_Export_JSON\\\\2017-12-07T13-36-51_amazones_forum_topics_export.json'))\n",
    "posts = json.load(open('D:\\\\4. Data\\\\Amazones_Forum_Export_JSON\\\\2017-12-07T13-39-20_amazones_forum_posts_export.json'))\n",
    "users = json.load(open('D:\\\\4. Data\\\\Amazones_Forum_Export_JSON\\\\2017-12-07T13-39-20_amazones_users_export.json'))"
   ]
  },
  {
   "cell_type": "code",
   "execution_count": 3,
   "metadata": {
    "collapsed": true
   },
   "outputs": [],
   "source": [
    "def remove_non_ascii(text):\n",
    "    \"\"\" this function expects a string, and removes non-ascii characters from it \"\"\"\n",
    "    return unidecode.unidecode(text)"
   ]
  },
  {
   "cell_type": "code",
   "execution_count": 4,
   "metadata": {
    "collapsed": true
   },
   "outputs": [],
   "source": [
    "def cleanup(text):\n",
    "    \"\"\" this function expects a string (post from the BVN/Amazones forum), and returns a cleaner version of it \"\"\"\n",
    "    # remove all links, images, quotes, and emailaddresses\n",
    "    text=re.sub('<a.*?>(.*?)</a>','',text) #remove links\n",
    "    text=re.sub('(http:|www)\\S*','',text) #remove links without markup\n",
    "    text=re.sub('\\[\\\\\\/url\\]','',text)\n",
    "    text=re.sub('<img.*?/>', '',text) #remove images\n",
    "    text=re.sub('<div class=\"bb-quote\">((\\s|\\S)*?)</div>','',text) #remove quotes\n",
    "    text=re.sub('<script.*?>([\\S\\s]*?)</script>','',text) #remove emailaddresses\n",
    "\n",
    "    # replace all emoticon-icons\n",
    "    text=re.sub('<img.*?title=\"(.*?)\".*?/>', '(EMO:\\\\1)',text) #replace emoticons by textual indicators \n",
    "\n",
    "    # replace (most) sideways latin emoticons\n",
    "    text=re.sub('[^>]:-?(\\)|\\])','(EMO:smiley)',text)\n",
    "    text=re.sub(u'☺️','(EMO:smiley)',text)\n",
    "    text=re.sub('[^>]:-?(\\(|\\[)','(EMO:sad)',text)\n",
    "    text=re.sub(';-?(\\)|\\])','(EMO:wink)',text)\n",
    "    text=re.sub(r'(:|;|x|X)-?(D)+\\b','(EMO:laugh)',text)\n",
    "    text=re.sub(':-?(/|\\\\\\|\\|)','(EMO:frown)',text)\n",
    "    text=re.sub(r'(:|;)-?(p|P)+\\b','(EMO:cheeky)',text)\n",
    "    text=re.sub('(:|;)(\\'|\\\")-?(\\(|\\[)','(EMO:cry)',text)\n",
    "    text=re.sub('\\<3+','(EMO:heart)',text)\n",
    "    text=re.sub(u'❤️','(EMO:heart)',text)\n",
    "    text=re.sub('((\\>:-?(\\(|\\]))|(\\>?:-?@))','(EMO:angry)',text)\n",
    "    text=re.sub('\\>:-?(\\)|\\])','(EMO:evil)',text)\n",
    "    text=re.sub(r'(:|;)-?(O|o|0)+\\b','(EMO:shock)',text)\n",
    "    text=re.sub('(:|;)-?(K|k|x|X)','(EMO:kiss)',text)\n",
    "    # :s\n",
    "    # :x is eigenlijk geen kus, geloof ik...\n",
    "\n",
    "    #other important adjustments:\n",
    "    text=re.sub('m\\'?n\\s','mijn ',text) # replacing m'n and mn with mijn, so it gets parsed correctly.\n",
    "    text=re.sub('z\\'?n\\s','zijn ',text) #replacing z'n and zn with zijn\n",
    "    text=re.sub('d\\'?r\\s','haar ',text) #replacing d'r and dr with zijn (only if followed by space, so dr. stays dr.)\n",
    "\n",
    "    # replace all emoticons (and other things) written between double colons\n",
    "    text=re.sub(':([a-zA-Z]+):','(EMO:\\\\1)',text)\n",
    "\n",
    "    # remove remaining markup\n",
    "    text=re.sub('</?(ol|style|b|p|em|u|i|strong|br|span|div|blockquote|li)(.*?)/?>','',text)\n",
    "    text=re.sub('(\\[|\\]|\\{|\\})', '',text)\n",
    "\n",
    "    # separate text from punctuation (may cause double/triple spaces - does not matter at this point)\n",
    "    text = re.sub('(\\.{2,}|/|\\)|,|!|\\?)','\\\\1 ',text) # space behind\n",
    "    text=re.sub('(/|\\()',' \\\\1',text) # space in front\n",
    "    text=re.sub('(\\w{2,})(\\.|,)','\\\\1 \\\\2 ',text) #space 'between'\n",
    "\n",
    "    return(remove_non_ascii(text))"
   ]
  },
  {
   "cell_type": "code",
   "execution_count": 5,
   "metadata": {
    "collapsed": true
   },
   "outputs": [],
   "source": [
    "def make_P_T_and_D(topics,posts):\n",
    "    \"\"\" this function takes the .json files containing the thread starts and responses, and returns three things:\n",
    "    [0]: a dictionary with the user-ID as key, and the post as value;\n",
    "    [1]: a dictionary with the user-ID as key, and the time of posting as a value;\n",
    "    [2]: a list of all datetimes present in the data (sorted by date, because the .json was already sorted) \"\"\"\n",
    "    P = defaultdict(list)\n",
    "    T = defaultdict(list)\n",
    "    D = []\n",
    "\n",
    "    with tqdm(total=len(topics)) as pbar:\n",
    "        for t in reversed(topics):\n",
    "            pbar.update(1)\n",
    "            P[t['Author uid']].append((cleanup(t[\"Body\"]),1))\n",
    "            T[t['Author uid']].append(t['Post date'])\n",
    "            D.append(datetime.strptime(t['Post date'], '%d/%m/%Y - %H:%M'))\n",
    "\n",
    "    with tqdm(total=len(posts)) as pbar:\n",
    "        for p in reversed(posts):\n",
    "            pbar.update(1)\n",
    "            P[p['Auteur-uid']].append((cleanup(p[\"Body\"]),0))\n",
    "            T[p['Auteur-uid']].append(p['Datum van inzending'])\n",
    "            D.append(datetime.strptime(p['Datum van inzending'], '%d/%m/%Y - %H:%M'))\n",
    "\n",
    "    return (P,T,D)"
   ]
  },
  {
   "cell_type": "code",
   "execution_count": 6,
   "metadata": {
    "collapsed": true
   },
   "outputs": [],
   "source": [
    "def determine_active_users(include_only = []):\n",
    "    global over_treshold\n",
    "    \n",
    "    if include_only == []:\n",
    "        userlist = T\n",
    "    else:\n",
    "        userlist = include_only\n",
    "    for user in userlist:\n",
    "        if len(T[user])<30:\n",
    "            pass\n",
    "        else:\n",
    "            over_treshold.append(user)"
   ]
  },
  {
   "cell_type": "code",
   "execution_count": 7,
   "metadata": {
    "collapsed": true
   },
   "outputs": [],
   "source": [
    "def make_binlist(D,timetick=1):\n",
    "    \"\"\" this function takes a list of dates (D), and generates a new list of dates,\n",
    "    starting at 4:00 AM just before the earliest date in D, and ending at 4:00 just after the latest date in D,\n",
    "    with fixed timeticks between all dates in the list.\n",
    "    Optionally, the length of the timetick may be specified (in hours).\n",
    "    \"\"\"\n",
    "    lower = min(D)\n",
    "    upper = max(D)\n",
    "\n",
    "    if lower.time()>=datetime.strptime('4:00','%H:%M').time():\n",
    "        lower = lower.replace(hour = 4, minute = 0)\n",
    "    else:\n",
    "        lower = (lower+timedelta(days = -1)).replace(hour=4,minute=0)\n",
    "\n",
    "    if upper.time()<datetime.strptime('12:00','%H:%M').time():\n",
    "        upper = upper.replace(hour = 4, minute = 0)\n",
    "    else:\n",
    "        upper = (upper+timedelta(days=1)).replace(hour=4,minute=0)\n",
    "\n",
    "    return([lower + timedelta(hours=x) for x in range(0, 24*(upper-lower).days, timetick)])"
   ]
  },
  {
   "cell_type": "code",
   "execution_count": 8,
   "metadata": {
    "collapsed": true
   },
   "outputs": [],
   "source": [
    "# these bodies contain (EMO:...). Many emoticons are actually analysed by pattern's sentiment miner, so see which can be reverted (within-sentence) \n",
    "def determine_questionmarks(body, Q=0):\n",
    "    \"\"\" This function counts and returns the number of sentences in the provided input string\n",
    "    that ends in at least one question mark \"\"\"\n",
    "    for sentence in sent_tokenize(body):\n",
    "        if re.search('\\?+', sentence):\n",
    "            Q+=1\n",
    "    if len(sent_tokenize(body))!=0:\n",
    "        return float(Q)/float(len(sent_tokenize(body)))\n",
    "    else:\n",
    "        return 0\n",
    "\n",
    "def determine_sentiment(body):\n",
    "    \"\"\" this funciton determines and returns the average sentiment of sentences in the provided input string.\n",
    "    It uses the pattern module to do so. Sentiment values may range from -1 to 1. \"\"\"\n",
    "    return np.mean([sentiment(sentence)[0] for sentence in sent_tokenize(body)]) \n",
    "\n",
    "def determine_subjectivity(body):\n",
    "    \"\"\" This function determines and returns the average subjectivity of sentences in the provided input string.\n",
    "    It uses the pattern module to do so. Subjectivity values may range from 0 to 1. \"\"\"\n",
    "    return np.mean([sentiment(sentence)[1] for sentence in sent_tokenize(body)]) \n",
    "\n",
    "def determine_post_length(body):\n",
    "    \"\"\" This function determines and returns the length of the provided input string in sentences.\n",
    "    It uses the nltk sent_tokenize function to do so. \"\"\"\n",
    "    return(len(sent_tokenize(body)))\n",
    "\n",
    "def determine_sentence_length(body):\n",
    "    \"\"\" This function determines and returns the average length of the sentences in the provided input string in words.\n",
    "    It uses the nltk word_tokenize function to do so. \"\"\"\n",
    "    #word_tokenize also considers interpunction a word\n",
    "    return np.mean([len(word_tokenize(sentence)) for sentence in sent_tokenize(body)])\n",
    "\n",
    "def determine_PRoPortion(body,prp = ['PRP','PRP$'],firstperson = ['ik', 'me', 'mij', 'mijn', 'we', 'wij', 'ons', 'onze']):\n",
    "    \"\"\" This function determines and returns the percentage of personal and possessive pronouns\n",
    "    that occurs in first person (e.g., 'ik', 'wij', 'onze'). It uses pattern's split and parse functions to do so \"\"\"\n",
    "    personalpronouns = []\n",
    "    firstpersonalpronouns = []\n",
    "\n",
    "    for sentence in split(parse(body)):\n",
    "        for word in sentence:\n",
    "            if word.tag in prp:\n",
    "                personalpronouns.append(word.string)\n",
    "\n",
    "    for word in personalpronouns:\n",
    "        if word.lower() in firstperson:\n",
    "            firstpersonalpronouns.append(word)\n",
    "    if len(personalpronouns)==0:\n",
    "        return 0\n",
    "    else:\n",
    "        return float(len(firstpersonalpronouns))/float(len(personalpronouns))\n",
    "    \n",
    "def determine_death(user,lower):\n",
    "    if user in deathdict:\n",
    "        return (deathdict[user]-lower).days\n",
    "    else:\n",
    "        return float('nan')"
   ]
  },
  {
   "cell_type": "code",
   "execution_count": 9,
   "metadata": {
    "collapsed": true
   },
   "outputs": [],
   "source": [
    "def determine_week_activity(first_date,last_date,bindict):\n",
    "    \"\"\" This function returns a dictionary that has kept track of the activity in week-bins, instead of day-bins.\n",
    "    It expects two dates, to indicate in between which dates the dictionary should be built,\n",
    "    and expects a dictionary in which all the user's active times are already stored\"\"\"\n",
    "    for d in range(0, (last_date-first_date).days,7):\n",
    "        week_start = first_date+timedelta(days=d)\n",
    "        week_end = first_date+timedelta(days=d+7)\n",
    "        for date in list(itertools.chain.from_iterable(bindict.values())):\n",
    "            if week_start<=datetime.strptime(date, '%d/%m/%Y - %H:%M')<week_end:\n",
    "                weekcountdict[week_start,week_end].append(1)\n",
    "        if len(weekcountdict[week_start,week_end])==0:\n",
    "            weekcountdict[week_start,week_end] = []\n",
    "    return weekcountdict"
   ]
  },
  {
   "cell_type": "code",
   "execution_count": 10,
   "metadata": {
    "collapsed": true
   },
   "outputs": [],
   "source": [
    "def determine_past_activity(bindict,index,hours_back=24):\n",
    "    \"\"\" This function returns the number of times a user has been active in the last hours_back hours (default 24h).\n",
    "    The first hours_back time bins will for now have a value of 0 by default, to keep things easy.\"\"\"\n",
    "    if 0<= index-hours_back<=len(bindict):\n",
    "        past_activity = np.sum([len(bindict[binlist[index-(x+1)],binlist[index+1-(x+1)]]) for x in range(hours_back)])\n",
    "    else:\n",
    "        past_activity=0\n",
    "    return past_activity"
   ]
  },
  {
   "cell_type": "code",
   "execution_count": 21,
   "metadata": {},
   "outputs": [],
   "source": [
    "def make_deathdict():\n",
    "    deathdict = dict()\n",
    "    due_day = [\"2/1/2018\", \"1/3/2016\", \"5/3/2015\", \"29/11/2013\", \"18/01/2018\", \"12/10/2016\", \"27/11/2016\", \"28/2/2015\", \"9/3/2012\", \"11/5/2016\", \"26/4/2016\", \"12/3/2004\", \"16/10/2009\", \"9/11/2009\", \"6/4/2015\", \"28/12/2012\", \"10/04/2014\", \"27/07/2014\", \"19/02/2013\", \"8/5/2014\", \"2/10/2013\", \"2/7/2013\"]\n",
    "    user_IDs = [\"1845\",\"917\",\"902\",\"2877\",\"5572\",\"4487\",\"3124\",\"905\",\"1683\",\"1143\",\"2126\",\"966\",\"968\",\"940\",\"933\",\"3808\",\"1552\",\"2389\",\"2413\",\"3211\",\"1870\",\"2287\"]\n",
    "    for i,d in enumerate(due_day):\n",
    "         deathdict[user_IDs[i]] = datetime.strptime(d, '%d/%m/%Y')\n",
    "    return deathdict"
   ]
  },
  {
   "cell_type": "code",
   "execution_count": 11,
   "metadata": {
    "collapsed": true
   },
   "outputs": [],
   "source": [
    "def print_information(user, T, first_date,last_date,weekcount):\n",
    "    \"\"\" this function prints useful basic information on the user's activity.\n",
    "    It needs quite some input so make sure you've got them all:\n",
    "    1) user ID, 2) a dictionary containing users-IDs as key, and any activity log as value,\n",
    "    3,4) the first and last date of activity, and 5) the dictionary that kept track of the week activity. \"\"\"\n",
    "    print \"User:\", user\n",
    "    print \"posted one or more posts in\", len(T[user]), \"'bins'.\" \n",
    "    print \"The first post: \", first_date\n",
    "    print \"The last post: \", last_date\n",
    "    print \"Activity spread over: \", last_date-first_date\n",
    "    print \"The average nr of posts per week: \", np.mean([len(x) for x in weekcount.values()]), \"including long times of inactivity.\"\n",
    "    print \"The average nr of posts in non-empty weeks: \", np.mean([len(x) for x in weekcount.values() if not x==[]])\n",
    "    print \"The range of activity: \", min([len(x) for x in weekcount.values()]), \" to \", max([len(x) for x in weekcount.values()]), \" posts per week\"\n",
    "    print"
   ]
  },
  {
   "cell_type": "code",
   "execution_count": 12,
   "metadata": {
    "scrolled": true
   },
   "outputs": [
    {
     "data": {
      "application/vnd.jupyter.widget-view+json": {
       "model_id": "f90c53b1c6634a79a49647caec73dad6",
       "version_major": 2,
       "version_minor": 0
      },
      "text/plain": [
       "A Jupyter Widget"
      ]
     },
     "metadata": {},
     "output_type": "display_data"
    },
    {
     "name": "stdout",
     "output_type": "stream",
     "text": [
      "\n"
     ]
    },
    {
     "data": {
      "application/vnd.jupyter.widget-view+json": {
       "model_id": "a1469d23aab74c78a8fffa25d604016d",
       "version_major": 2,
       "version_minor": 0
      },
      "text/plain": [
       "A Jupyter Widget"
      ]
     },
     "metadata": {},
     "output_type": "display_data"
    },
    {
     "name": "stdout",
     "output_type": "stream",
     "text": [
      "\n"
     ]
    }
   ],
   "source": [
    "PTD = make_P_T_and_D(topics,posts) \n",
    "P = PTD[0]\n",
    "T = PTD[1]\n",
    "D = PTD[2]"
   ]
  },
  {
   "cell_type": "code",
   "execution_count": 22,
   "metadata": {
    "collapsed": true
   },
   "outputs": [
    {
     "data": {
      "application/vnd.jupyter.widget-view+json": {
       "model_id": "c081dfbcf2b3471394e81e255ba4ca0e",
       "version_major": 2,
       "version_minor": 0
      },
      "text/plain": [
       "A Jupyter Widget"
      ]
     },
     "metadata": {},
     "output_type": "display_data"
    },
    {
     "name": "stdout",
     "output_type": "stream",
     "text": [
      "1143"
     ]
    },
    {
     "data": {
      "application/vnd.jupyter.widget-view+json": {
       "model_id": "8068a7d7284745f28e8484e06a595dbb",
       "version_major": 2,
       "version_minor": 0
      },
      "text/plain": [
       "A Jupyter Widget"
      ]
     },
     "metadata": {},
     "output_type": "display_data"
    },
    {
     "name": "stderr",
     "output_type": "stream",
     "text": [
      "Exception in thread Thread-9:\n",
      "Traceback (most recent call last):\n",
      "  File \"C:\\Users\\sternheimam\\AppData\\Local\\Continuum\\anaconda2\\lib\\threading.py\", line 801, in __bootstrap_inner\n",
      "    self.run()\n",
      "  File \"C:\\Users\\sternheimam\\AppData\\Local\\Continuum\\anaconda2\\lib\\site-packages\\tqdm\\_monitor.py\", line 62, in run\n",
      "    for instance in self.tqdm_cls._instances:\n",
      "  File \"C:\\Users\\sternheimam\\AppData\\Local\\Continuum\\anaconda2\\lib\\_weakrefset.py\", line 60, in __iter__\n",
      "    for itemref in self.data:\n",
      "RuntimeError: Set changed size during iteration\n",
      "\n"
     ]
    },
    {
     "name": "stdout",
     "output_type": "stream",
     "text": [
      " User: 1143\n",
      "posted one or more posts in 76 'bins'.\n",
      "The first post:  2005-08-13 11:40:00\n",
      "The last post:  2015-03-30 09:41:00\n",
      "Activity spread over:  3515 days, 22:01:00\n",
      "The average nr of posts per week:  0.15109343936381708 including long times of inactivity.\n",
      "The average nr of posts in non-empty weeks:  1.4074074074074074\n",
      "The range of activity:  0  to  4  posts per week\n",
      "\n",
      "3808"
     ]
    },
    {
     "data": {
      "application/vnd.jupyter.widget-view+json": {
       "model_id": "c14fdfc1639549da993d4647a4815c62",
       "version_major": 2,
       "version_minor": 0
      },
      "text/plain": [
       "A Jupyter Widget"
      ]
     },
     "metadata": {},
     "output_type": "display_data"
    },
    {
     "name": "stdout",
     "output_type": "stream",
     "text": [
      " User: 3808\n",
      "posted one or more posts in 149 'bins'.\n",
      "The first post:  2012-04-05 17:37:00\n",
      "The last post:  2012-11-07 12:30:00\n",
      "Activity spread over:  215 days, 18:53:00\n",
      "The average nr of posts per week:  4.806451612903226 including long times of inactivity.\n",
      "The average nr of posts in non-empty weeks:  6.478260869565218\n",
      "The range of activity:  0  to  17  posts per week\n",
      "\n",
      "940"
     ]
    },
    {
     "data": {
      "application/vnd.jupyter.widget-view+json": {
       "model_id": "4b47d8f04c1947bf8b00215afa2040db",
       "version_major": 2,
       "version_minor": 0
      },
      "text/plain": [
       "A Jupyter Widget"
      ]
     },
     "metadata": {},
     "output_type": "display_data"
    },
    {
     "name": "stderr",
     "output_type": "stream",
     "text": [
      "C:\\Users\\sternheimam\\AppData\\Local\\Continuum\\anaconda2\\lib\\site-packages\\numpy\\core\\fromnumeric.py:2957: RuntimeWarning: Mean of empty slice.\n",
      "  out=out, **kwargs)\n",
      "C:\\Users\\sternheimam\\AppData\\Local\\Continuum\\anaconda2\\lib\\site-packages\\numpy\\core\\_methods.py:80: RuntimeWarning: invalid value encountered in double_scalars\n",
      "  ret = ret.dtype.type(ret / rcount)\n"
     ]
    },
    {
     "name": "stdout",
     "output_type": "stream",
     "text": [
      " User: 940\n",
      "posted one or more posts in 400 'bins'.\n",
      "The first post:  2004-10-02 16:44:00\n",
      "The last post:  2009-04-15 19:15:00\n",
      "Activity spread over:  1656 days, 2:31:00\n",
      "The average nr of posts per week:  1.6877637130801688 including long times of inactivity.\n",
      "The average nr of posts in non-empty weeks:  2.8776978417266186\n",
      "The range of activity:  0  to  13  posts per week\n",
      "\n",
      "1870"
     ]
    },
    {
     "data": {
      "application/vnd.jupyter.widget-view+json": {
       "model_id": "fa54b11e646442dbb38529ab56c0c8dc",
       "version_major": 2,
       "version_minor": 0
      },
      "text/plain": [
       "A Jupyter Widget"
      ]
     },
     "metadata": {},
     "output_type": "display_data"
    },
    {
     "name": "stdout",
     "output_type": "stream",
     "text": [
      " User: 1870\n",
      "posted one or more posts in 114 'bins'.\n",
      "The first post:  2007-05-29 23:34:00\n",
      "The last post:  2011-12-21 17:35:00\n",
      "Activity spread over:  1666 days, 18:01:00\n",
      "The average nr of posts per week:  0.47478991596638653 including long times of inactivity.\n",
      "The average nr of posts in non-empty weeks:  2.26\n",
      "The range of activity:  0  to  7  posts per week\n",
      "\n",
      "3211"
     ]
    },
    {
     "data": {
      "application/vnd.jupyter.widget-view+json": {
       "model_id": "79cc894d2d0d4251ae130790d836a5f0",
       "version_major": 2,
       "version_minor": 0
      },
      "text/plain": [
       "A Jupyter Widget"
      ]
     },
     "metadata": {},
     "output_type": "display_data"
    },
    {
     "name": "stdout",
     "output_type": "stream",
     "text": [
      " User: 3211\n",
      "posted one or more posts in 68 'bins'.\n",
      "The first post:  2011-04-19 22:09:00\n",
      "The last post:  2014-04-15 08:45:00\n",
      "Activity spread over:  1091 days, 10:36:00\n",
      "The average nr of posts per week:  0.4358974358974359 including long times of inactivity.\n",
      "The average nr of posts in non-empty weeks:  1.6585365853658536\n",
      "The range of activity:  0  to  6  posts per week\n",
      "\n",
      "2413"
     ]
    },
    {
     "data": {
      "application/vnd.jupyter.widget-view+json": {
       "model_id": "d1cbb014bcbd4dfea6bdcb933d1533c1",
       "version_major": 2,
       "version_minor": 0
      },
      "text/plain": [
       "A Jupyter Widget"
      ]
     },
     "metadata": {},
     "output_type": "display_data"
    },
    {
     "name": "stdout",
     "output_type": "stream",
     "text": [
      " User: 2413\n",
      "posted one or more posts in 111 'bins'.\n",
      "The first post:  2009-03-18 15:38:00\n",
      "The last post:  2012-09-18 16:35:00\n",
      "Activity spread over:  1280 days, 0:57:00\n",
      "The average nr of posts per week:  0.6065573770491803 including long times of inactivity.\n",
      "The average nr of posts in non-empty weeks:  2.1346153846153846\n",
      "The range of activity:  0  to  14  posts per week\n",
      "\n",
      "3124"
     ]
    },
    {
     "data": {
      "application/vnd.jupyter.widget-view+json": {
       "model_id": "3f075d709e2b46eea317fa63097dca07",
       "version_major": 2,
       "version_minor": 0
      },
      "text/plain": [
       "A Jupyter Widget"
      ]
     },
     "metadata": {},
     "output_type": "display_data"
    },
    {
     "name": "stdout",
     "output_type": "stream",
     "text": [
      " User: 3124\n",
      "posted one or more posts in 88 'bins'.\n",
      "The first post:  2011-02-20 16:39:00\n",
      "The last post:  2016-04-30 11:21:00\n",
      "Activity spread over:  1895 days, 18:42:00\n",
      "The average nr of posts per week:  0.3247232472324723 including long times of inactivity.\n",
      "The average nr of posts in non-empty weeks:  1.5714285714285714\n",
      "The range of activity:  0  to  5  posts per week\n",
      "\n",
      "2389"
     ]
    },
    {
     "data": {
      "application/vnd.jupyter.widget-view+json": {
       "model_id": "54ea621c929d4323b7eaad4cb059f07a",
       "version_major": 2,
       "version_minor": 0
      },
      "text/plain": [
       "A Jupyter Widget"
      ]
     },
     "metadata": {},
     "output_type": "display_data"
    },
    {
     "name": "stdout",
     "output_type": "stream",
     "text": [
      " User: 2389\n",
      "posted one or more posts in 546 'bins'.\n",
      "The first post:  2009-02-16 16:41:00\n",
      "The last post:  2014-06-22 14:12:00\n",
      "Activity spread over:  1951 days, 21:31:00\n",
      "The average nr of posts per week:  1.956989247311828 including long times of inactivity.\n",
      "The average nr of posts in non-empty weeks:  4.368\n",
      "The range of activity:  0  to  21  posts per week\n",
      "\n",
      "917"
     ]
    },
    {
     "data": {
      "application/vnd.jupyter.widget-view+json": {
       "model_id": "a49e234906fa447ea5a1b6ace476cd9b",
       "version_major": 2,
       "version_minor": 0
      },
      "text/plain": [
       "A Jupyter Widget"
      ]
     },
     "metadata": {},
     "output_type": "display_data"
    },
    {
     "name": "stdout",
     "output_type": "stream",
     "text": [
      " User: 917\n",
      "posted one or more posts in 884 'bins'.\n",
      "The first post:  2004-09-05 13:49:00\n",
      "The last post:  2016-02-11 12:56:00\n",
      "Activity spread over:  4175 days, 23:07:00\n",
      "The average nr of posts per week:  1.4807370184254607 including long times of inactivity.\n",
      "The average nr of posts in non-empty weeks:  3.4\n",
      "The range of activity:  0  to  19  posts per week\n",
      "\n",
      "2877"
     ]
    },
    {
     "data": {
      "application/vnd.jupyter.widget-view+json": {
       "model_id": "acb61d5689034d5a86849d510cbdbc7f",
       "version_major": 2,
       "version_minor": 0
      },
      "text/plain": [
       "A Jupyter Widget"
      ]
     },
     "metadata": {},
     "output_type": "display_data"
    },
    {
     "name": "stdout",
     "output_type": "stream",
     "text": [
      " User: 2877\n",
      "posted one or more posts in 407 'bins'.\n",
      "The first post:  2010-10-09 21:11:00\n",
      "The last post:  2013-10-29 10:50:00\n",
      "Activity spread over:  1115 days, 13:39:00\n",
      "The average nr of posts per week:  2.54375 including long times of inactivity.\n",
      "The average nr of posts in non-empty weeks:  3.803738317757009\n",
      "The range of activity:  0  to  19  posts per week\n",
      "\n",
      "2287"
     ]
    },
    {
     "data": {
      "application/vnd.jupyter.widget-view+json": {
       "model_id": "998c750fdb834418b5ab1265bac6d3d1",
       "version_major": 2,
       "version_minor": 0
      },
      "text/plain": [
       "A Jupyter Widget"
      ]
     },
     "metadata": {},
     "output_type": "display_data"
    },
    {
     "name": "stdout",
     "output_type": "stream",
     "text": [
      " User: 2287\n",
      "posted one or more posts in 145 'bins'.\n",
      "The first post:  2008-10-29 12:23:00\n",
      "The last post:  2012-03-25 10:16:00\n",
      "Activity spread over:  1242 days, 21:53:00\n",
      "The average nr of posts per week:  0.8146067415730337 including long times of inactivity.\n",
      "The average nr of posts in non-empty weeks:  2.3015873015873014\n",
      "The range of activity:  0  to  8  posts per week\n",
      "\n",
      "933"
     ]
    },
    {
     "data": {
      "application/vnd.jupyter.widget-view+json": {
       "model_id": "239013ad38f547deac0eb6588747acb5",
       "version_major": 2,
       "version_minor": 0
      },
      "text/plain": [
       "A Jupyter Widget"
      ]
     },
     "metadata": {},
     "output_type": "display_data"
    },
    {
     "name": "stdout",
     "output_type": "stream",
     "text": [
      " User: 933\n",
      "posted one or more posts in 354 'bins'.\n",
      "The first post:  2004-09-24 17:09:00\n",
      "The last post:  2015-03-29 19:32:00\n",
      "Activity spread over:  3838 days, 2:23:00\n",
      "The average nr of posts per week:  0.644808743169399 including long times of inactivity.\n",
      "The average nr of posts in non-empty weeks:  2.269230769230769\n",
      "The range of activity:  0  to  12  posts per week\n",
      "\n",
      "902"
     ]
    },
    {
     "data": {
      "application/vnd.jupyter.widget-view+json": {
       "model_id": "7c0b843656334b78ae1ec5c70f297f4f",
       "version_major": 2,
       "version_minor": 0
      },
      "text/plain": [
       "A Jupyter Widget"
      ]
     },
     "metadata": {},
     "output_type": "display_data"
    },
    {
     "name": "stdout",
     "output_type": "stream",
     "text": [
      " User: 902\n",
      "posted one or more posts in 3765 'bins'.\n",
      "The first post:  2004-09-02 20:16:00\n",
      "The last post:  2015-01-25 21:07:00\n",
      "Activity spread over:  3797 days, 0:51:00\n",
      "The average nr of posts per week:  6.933701657458563 including long times of inactivity.\n",
      "The average nr of posts in non-empty weeks:  7.5\n",
      "The range of activity:  0  to  33  posts per week\n",
      "\n",
      "966"
     ]
    },
    {
     "data": {
      "application/vnd.jupyter.widget-view+json": {
       "model_id": "c903b1ba5b894ea6b13b0ec5d387f277",
       "version_major": 2,
       "version_minor": 0
      },
      "text/plain": [
       "A Jupyter Widget"
      ]
     },
     "metadata": {},
     "output_type": "display_data"
    },
    {
     "name": "stdout",
     "output_type": "stream",
     "text": [
      " User: 966\n",
      "posted one or more posts in 118 'bins'.\n",
      "The first post:  2004-10-27 22:51:00\n",
      "The last post:  2005-02-14 10:28:00\n",
      "Activity spread over:  109 days, 11:37:00\n",
      "The average nr of posts per week:  7.375 including long times of inactivity.\n",
      "The average nr of posts in non-empty weeks:  7.375\n",
      "The range of activity:  1  to  27  posts per week\n",
      "\n",
      "1552"
     ]
    },
    {
     "data": {
      "application/vnd.jupyter.widget-view+json": {
       "model_id": "373e39cbaf9844dea8af526c88fb9a9b",
       "version_major": 2,
       "version_minor": 0
      },
      "text/plain": [
       "A Jupyter Widget"
      ]
     },
     "metadata": {},
     "output_type": "display_data"
    },
    {
     "name": "stdout",
     "output_type": "stream",
     "text": [
      " User: 1552\n",
      "posted one or more posts in 877 'bins'.\n",
      "The first post:  2006-07-11 12:39:00\n",
      "The last post:  2014-02-12 12:49:00\n",
      "Activity spread over:  2773 days, 0:10:00\n",
      "The average nr of posts per week:  2.209068010075567 including long times of inactivity.\n",
      "The average nr of posts in non-empty weeks:  3.334600760456274\n",
      "The range of activity:  0  to  17  posts per week\n",
      "\n",
      "905"
     ]
    },
    {
     "data": {
      "application/vnd.jupyter.widget-view+json": {
       "model_id": "d9703c1111694214af4ae23d14ce9fda",
       "version_major": 2,
       "version_minor": 0
      },
      "text/plain": [
       "A Jupyter Widget"
      ]
     },
     "metadata": {},
     "output_type": "display_data"
    },
    {
     "name": "stdout",
     "output_type": "stream",
     "text": [
      "\n"
     ]
    },
    {
     "ename": "KeyboardInterrupt",
     "evalue": "",
     "output_type": "error",
     "traceback": [
      "\u001b[1;31m---------------------------------------------------------------------------\u001b[0m",
      "\u001b[1;31mKeyboardInterrupt\u001b[0m                         Traceback (most recent call last)",
      "\u001b[1;32m<ipython-input-22-bd9744f12c40>\u001b[0m in \u001b[0;36m<module>\u001b[1;34m()\u001b[0m\n\u001b[0;32m     76\u001b[0m                 \u001b[1;31m# determine in which time bin the user's activity belongs\u001b[0m\u001b[1;33m\u001b[0m\u001b[1;33m\u001b[0m\u001b[0m\n\u001b[0;32m     77\u001b[0m                 \u001b[1;32mfor\u001b[0m \u001b[0mtime\u001b[0m \u001b[1;32min\u001b[0m \u001b[0mT\u001b[0m\u001b[1;33m[\u001b[0m\u001b[0muser\u001b[0m\u001b[1;33m]\u001b[0m\u001b[1;33m:\u001b[0m\u001b[1;33m\u001b[0m\u001b[0m\n\u001b[1;32m---> 78\u001b[1;33m                     \u001b[1;32mif\u001b[0m \u001b[0mlower\u001b[0m\u001b[1;33m<=\u001b[0m\u001b[0mdatetime\u001b[0m\u001b[1;33m.\u001b[0m\u001b[0mstrptime\u001b[0m\u001b[1;33m(\u001b[0m\u001b[0mtime\u001b[0m\u001b[1;33m,\u001b[0m \u001b[1;34m'%d/%m/%Y - %H:%M'\u001b[0m\u001b[1;33m)\u001b[0m\u001b[1;33m<\u001b[0m\u001b[0mupper\u001b[0m\u001b[1;33m:\u001b[0m\u001b[1;33m\u001b[0m\u001b[0m\n\u001b[0m\u001b[0;32m     79\u001b[0m                         \u001b[0mbindict\u001b[0m\u001b[1;33m[\u001b[0m\u001b[0mlower\u001b[0m\u001b[1;33m,\u001b[0m\u001b[0mupper\u001b[0m\u001b[1;33m]\u001b[0m\u001b[1;33m.\u001b[0m\u001b[0mappend\u001b[0m\u001b[1;33m(\u001b[0m\u001b[0mtime\u001b[0m\u001b[1;33m)\u001b[0m\u001b[1;33m\u001b[0m\u001b[0m\n\u001b[0;32m     80\u001b[0m \u001b[1;33m\u001b[0m\u001b[0m\n",
      "\u001b[1;32mC:\\Users\\sternheimam\\AppData\\Local\\Continuum\\anaconda2\\lib\\_strptime.pyc\u001b[0m in \u001b[0;36m_strptime\u001b[1;34m(data_string, format)\u001b[0m\n\u001b[0;32m    300\u001b[0m     \u001b[1;34m\"\"\"Return a time struct based on the input string and the format string.\"\"\"\u001b[0m\u001b[1;33m\u001b[0m\u001b[0m\n\u001b[0;32m    301\u001b[0m     \u001b[1;32mglobal\u001b[0m \u001b[0m_TimeRE_cache\u001b[0m\u001b[1;33m,\u001b[0m \u001b[0m_regex_cache\u001b[0m\u001b[1;33m\u001b[0m\u001b[0m\n\u001b[1;32m--> 302\u001b[1;33m     \u001b[1;32mwith\u001b[0m \u001b[0m_cache_lock\u001b[0m\u001b[1;33m:\u001b[0m\u001b[1;33m\u001b[0m\u001b[0m\n\u001b[0m\u001b[0;32m    303\u001b[0m         \u001b[0mlocale_time\u001b[0m \u001b[1;33m=\u001b[0m \u001b[0m_TimeRE_cache\u001b[0m\u001b[1;33m.\u001b[0m\u001b[0mlocale_time\u001b[0m\u001b[1;33m\u001b[0m\u001b[0m\n\u001b[0;32m    304\u001b[0m         if (_getlang() != locale_time.lang or\n",
      "\u001b[1;31mKeyboardInterrupt\u001b[0m: "
     ]
    }
   ],
   "source": [
    "# path for saving csv files\n",
    "path = r\"C:\\Users\\sternheimam\\Desktop\\my-notebook\\user-csvs\" \n",
    "\n",
    "#---------------------------\n",
    "# global variables\n",
    "#---------------------------\n",
    "# chronological list of (lower) bin boundaries (default time tick = 1 hour)\n",
    "binlist = make_binlist(D)\n",
    "deathdict = make_deathdict()\n",
    "\n",
    "# determine the negative difference for measuring the 'backtrack' feature\n",
    "neg_diff = 24\n",
    "\n",
    "\n",
    "#---------------------------\n",
    "# determine 'relevant' users\n",
    "#---------------------------\n",
    "# initiate empty list of users relevant to measure\n",
    "over_treshold = []\n",
    "determine_active_users(deathdict) # for practical reasons, right now only user 1144 is selected. If more users desired, simply enter them in list form.\n",
    "\n",
    "#---------------------------\n",
    "# go through all users in over_treshold, and do stuff..\n",
    "#---------------------------\n",
    "# show the progress, while going through the active users\n",
    "with tqdm(total=len(over_treshold)) as processbar:\n",
    "    for user in over_treshold:\n",
    "        print user,\n",
    "        processbar.update(1)\n",
    "        \n",
    "        #---------------------------\n",
    "        # initiate some user-specific variables\n",
    "        #---------------------------\n",
    "        first_date = 0\n",
    "        last_date = 0\n",
    "        inactivity = 0\n",
    "        \n",
    "        # all lists starting with csv_ are lists that will eventually contain all values that end up in the csv file\n",
    "        csv_date = []            #datetime\n",
    "        csv_sentiment = []       #sentiment value (-1 to 1)\n",
    "        csv_questionmarks = []   #question mark-ending sentences (float)\n",
    "        csv_subjectivity = []    #subjectivity value (0 to 1)\n",
    "        csv_sentencelength = []  #length of sentence in words (float)\n",
    "        csv_postlength = []      #length of post in sentences (float)\n",
    "        csv_startposts = []      #1 for a thread start, 0 for a response (float) \n",
    "        csv_inactivity = []      #hours passed since last activity (int)\n",
    "        csv_backtrack = []       #posts posted in last x hours (x = neg_diff; default 24h)\n",
    "        csv_firstpersonalpronouns = [] #first-person personal or possessive pronouns (float)\n",
    "        csv_death_in_x_days = []\n",
    "        \n",
    "        # dictionaries to keep track of activity within certain time bins\n",
    "        bindict = defaultdict(list)        #bins with size 'timetick' (default 1h), values = post-times \n",
    "        postdict = defaultdict(list)       #bins with size 'timetick' (default 1h), values = posts\n",
    "        metadict = defaultdict(list)       #bins with size 'timetick' (default 1h), values = 1 or 0 (start or response)\n",
    "        weekcountdict = defaultdict(list)  #bins with size = 7 days, values = '1' for every post\n",
    "        backtrackdict = defaultdict(list)  #bins with size = neg_diff (default 24h), values = nr of posts in last neg_diff hours\n",
    "\n",
    "        # emoticons should be part of sentiment miner\n",
    "        # TO DO: linguistic markers, like adjectives / pronouns, and the diversity of topics / vocabulary\n",
    "        \n",
    "        \n",
    "        #---------------------------\n",
    "        # loop through the (sorted) list of datetimes, and do stuff..\n",
    "        #---------------------------\n",
    "        for index,boundary in enumerate(tqdm(binlist)):\n",
    "            # determine time bin boundaries for dictionaries\n",
    "            if index+1>=len(binlist):\n",
    "                break\n",
    "            else:\n",
    "                lower = binlist[index]\n",
    "                upper = binlist[index+1]\n",
    "                \n",
    "                #---------------------------\n",
    "                # Loop through T, collecting all activity for the selected user\n",
    "                #---------------------------\n",
    "                # determine in which time bin the user's activity belongs\n",
    "                for time in T[user]:\n",
    "                    if lower<=datetime.strptime(time, '%d/%m/%Y - %H:%M')<upper:\n",
    "                        bindict[lower,upper].append(time)\n",
    "                        \n",
    "                        # and determine how active the user has been in past neg_diff hours\n",
    "                        past_activity = determine_past_activity(bindict,index,neg_diff)\n",
    "                        backtrackdict[lower,upper].append(past_activity)\n",
    "                        \n",
    "                        # determine the first and last active dates\n",
    "                        if first_date == 0:\n",
    "                            first_date = datetime.strptime(time, '%d/%m/%Y - %H:%M')\n",
    "                            last_date = datetime.strptime(time, '%d/%m/%Y - %H:%M')\n",
    "                        else:\n",
    "                            last_date = datetime.strptime(time, '%d/%m/%Y - %H:%M')\n",
    "                        \n",
    "                        # split the text in P from the start/response-information\n",
    "                        body = P[user][T[user].index(time)][0]\n",
    "                        meta = P[user][T[user].index(time)][1]                        \n",
    "                        postdict[lower,upper].append(body) \n",
    "                        metadict[lower,upper].append(meta)\n",
    "\n",
    "                # fill up the still-empty places in the dictionary\n",
    "                if len(bindict[lower,upper])==0:\n",
    "                    bindict[lower,upper]=[]\n",
    "                    postdict[lower,upper]=[]\n",
    "                    metadict[lower,upper]=[]\n",
    "                    backtrackdict[lower,upper]=[]\n",
    "                \n",
    "                #---------------------------\n",
    "                # Fill csv_feature-lists with values \n",
    "                #---------------------------                \n",
    "                # Treat different posts within same bin 'as one' (concatenate them)\n",
    "                body = '. '.join(postdict[lower,upper]) #can be empty!\n",
    "                \n",
    "                # when then bin is empty, only add 1 to the inactivity feature\n",
    "                if len(body) == 0:\n",
    "                    inactivity+=1\n",
    "                # when the bin is not empty, append a value to all csv_feature-lists (and reset 'inactivity')\n",
    "                else:    \n",
    "                    csv_date.append(lower)\n",
    "                    csv_sentiment.append(determine_sentiment(body))\n",
    "                    csv_questionmarks.append(determine_questionmarks(body))\n",
    "                    csv_subjectivity.append(determine_subjectivity(body))\n",
    "                    csv_sentencelength.append(determine_sentence_length(body))\n",
    "                    csv_postlength.append(np.mean([determine_post_length(x) for x in postdict[lower,upper]]))\n",
    "                    csv_startposts.append(np.mean(metadict[lower,upper]))\n",
    "                    csv_inactivity.append(inactivity)\n",
    "                    csv_backtrack.append(np.sum(backtrackdict[lower,upper][-1]))\n",
    "                    csv_firstpersonalpronouns.append(determine_PRoPortion(body))\n",
    "                    csv_death_in_x_days.append(determine_death(user,lower)) \n",
    "                    # only works now because all deathlist people are passed\n",
    "                    inactivity = 0\n",
    "\n",
    "        #---------------------------\n",
    "        # Report the results for this user\n",
    "        #--------------------------- \n",
    "        # determine average activity: over active period, and over only-active weeks \n",
    "        weekcount = determine_week_activity(first_date,last_date,bindict)   \n",
    "        print_information(user, T, first_date,last_date,weekcount)            \n",
    "        \n",
    "        \n",
    "        # put all csv_features into a dataframe\n",
    "        df = pd.DataFrame({\"Date & Time\": csv_date, \"Sentiment\": csv_sentiment, \"Questions\": csv_questionmarks, \n",
    "                           \"Subjectivity\": csv_subjectivity, \"Words/Sentence\": csv_sentencelength, \n",
    "                           \"Sentences/Post\": csv_postlength, \"First posts\": csv_startposts,\n",
    "                           \"Inactivity\": csv_inactivity, \"Posts in last 24H\": csv_backtrack,\n",
    "                          \"PRP1\": csv_firstpersonalpronouns, \"ETD\": csv_death_in_x_days}).dropna()\n",
    "        \n",
    "        name = \"features_user_\"+str(user)+\".csv\"       \n",
    "        df.to_csv(os.path.join(path,name),index=False)\n",
    "print \" _ \"\n",
    "print \"|_|\""
   ]
  },
  {
   "cell_type": "code",
   "execution_count": 68,
   "metadata": {},
   "outputs": [
    {
     "data": {
      "text/plain": [
       "[((0.0, 0.0), 'hallo!'),\n",
       " ((0.7, 1.0), 'Deze tekst bevat veel mooie zinnen.'),\n",
       " ((0.25, 1.0), 'En ook smileys ;D .'),\n",
       " ((0.0, 0.0), 'Ik heb geen idee.'),\n",
       " ((1.0, 1.0), ':D We zien wel denk ik!')]"
      ]
     },
     "execution_count": 68,
     "metadata": {},
     "output_type": "execute_result"
    }
   ],
   "source": [
    "[(sentiment(x),x) for x in sent_tokenize(\"\"\"hallo!\n",
    "                                         Deze tekst bevat veel mooie zinnen.\n",
    "                                         En ook smileys ;D . Ik heb geen idee.\n",
    "                                         :D We zien wel denk ik!\"\"\")]"
   ]
  },
  {
   "cell_type": "code",
   "execution_count": 63,
   "metadata": {},
   "outputs": [
    {
     "name": "stdout",
     "output_type": "stream",
     "text": [
      "14\n"
     ]
    }
   ],
   "source": [
    "print len(word_tokenize(\"Deze zin bevat elf woorden, en een smiley aan het einde ;)\"))"
   ]
  }
 ],
 "metadata": {
  "kernelspec": {
   "display_name": "Python 2",
   "language": "python",
   "name": "python2"
  },
  "language_info": {
   "codemirror_mode": {
    "name": "ipython",
    "version": 2
   },
   "file_extension": ".py",
   "mimetype": "text/x-python",
   "name": "python",
   "nbconvert_exporter": "python",
   "pygments_lexer": "ipython2",
   "version": "2.7.14"
  }
 },
 "nbformat": 4,
 "nbformat_minor": 2
}
